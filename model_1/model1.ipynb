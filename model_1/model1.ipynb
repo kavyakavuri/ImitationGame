{
 "cells": [
  {
   "cell_type": "code",
   "execution_count": 1,
   "metadata": {},
   "outputs": [
    {
     "name": "stderr",
     "output_type": "stream",
     "text": [
      "2021-12-13 00:41:45.540444: W tensorflow/stream_executor/platform/default/dso_loader.cc:64] Could not load dynamic library 'libcudart.so.11.0'; dlerror: libcudart.so.11.0: cannot open shared object file: No such file or directory\n",
      "2021-12-13 00:41:45.540458: I tensorflow/stream_executor/cuda/cudart_stub.cc:29] Ignore above cudart dlerror if you do not have a GPU set up on your machine.\n"
     ]
    }
   ],
   "source": [
    "import tensorflow as tf\n",
    "from tensorflow import keras\n",
    "import numpy as np\n",
    "import fnmatch\n",
    "import os\n",
    "from matplotlib import colors\n",
    "import matplotlib.pyplot as plt"
   ]
  },
  {
   "cell_type": "code",
   "execution_count": 2,
   "metadata": {},
   "outputs": [],
   "source": [
    "from sklearn.model_selection import train_test_split"
   ]
  },
  {
   "cell_type": "markdown",
   "metadata": {},
   "source": [
    "## Read Input Data"
   ]
  },
  {
   "cell_type": "code",
   "execution_count": 3,
   "metadata": {},
   "outputs": [],
   "source": [
    "def load_data(path_to_file,maze_size):\n",
    "    X = []\n",
    "    y = []\n",
    "    f = open(path_to_file,'rb')\n",
    "    \n",
    "    try:\n",
    "        while True:\n",
    "            x1 = np.load(f).reshape(maze_size,maze_size)\n",
    "            y1 = np.load(f)\n",
    "            \n",
    "            if(len(y1)<4):\n",
    "                print(y1)\n",
    "                continue\n",
    "            X.append(x1)\n",
    "            y.append(y1)\n",
    "    except:\n",
    "            # print(\"eof\")\n",
    "            pass\n",
    "    return X,y\n",
    "    "
   ]
  },
  {
   "cell_type": "code",
   "execution_count": 4,
   "metadata": {},
   "outputs": [],
   "source": [
    "def read_dataset(maze_size):\n",
    "    final_X = []\n",
    "    final_y = []\n",
    "    dirs = [d for d in os.listdir(\"./\") if fnmatch.fnmatch(d,'dataset*')]\n",
    "    # print(dirs)\n",
    "    # dirs = dirs[-1:-2:-1]\n",
    "    print(dirs)\n",
    "    for directory in dirs:\n",
    "        for f in os.listdir(\"./\"+directory+\"/\"):\n",
    "            if fnmatch.fnmatch(f,'data*'):\n",
    "                X,y = load_data(\"./\"+directory+\"/\"+f,maze_size)\n",
    "                # print(y.shape,type(y))\n",
    "                if(len(X)==len(y)):\n",
    "                # print(len(X))\n",
    "                    final_X += X\n",
    "                    final_y += y\n",
    "                else:\n",
    "                    print(\"wrong inputs in :\",\"./\"+directory+\"/\"+f)\n",
    "    \n",
    "    return np.array(final_X),final_y"
   ]
  },
  {
   "cell_type": "code",
   "execution_count": 339,
   "metadata": {},
   "outputs": [
    {
     "name": "stdout",
     "output_type": "stream",
     "text": [
      "['dataset9', 'dataset3', 'dataset', 'dataset4', 'dataset0', 'dataset7', 'dataset5', 'dataset2', 'dataset8', 'dataset10', 'dataset6', 'dataset1']\n"
     ]
    }
   ],
   "source": [
    "X,y = read_dataset(4)"
   ]
  },
  {
   "cell_type": "code",
   "execution_count": 340,
   "metadata": {},
   "outputs": [],
   "source": [
    "y = np.asarray(y)"
   ]
  },
  {
   "cell_type": "code",
   "execution_count": 341,
   "metadata": {},
   "outputs": [
    {
     "data": {
      "text/plain": [
       "(1623551, 4)"
      ]
     },
     "execution_count": 341,
     "metadata": {},
     "output_type": "execute_result"
    }
   ],
   "source": [
    "y.shape"
   ]
  },
  {
   "cell_type": "code",
   "execution_count": 342,
   "metadata": {},
   "outputs": [
    {
     "data": {
      "text/plain": [
       "(1623551, 4, 4)"
      ]
     },
     "execution_count": 342,
     "metadata": {},
     "output_type": "execute_result"
    }
   ],
   "source": [
    "X.shape"
   ]
  },
  {
   "cell_type": "code",
   "execution_count": 343,
   "metadata": {},
   "outputs": [],
   "source": [
    "## Split data\n",
    "X_train, X_test, y_train, y_test = train_test_split(X, y, test_size=0.33, random_state=42)"
   ]
  },
  {
   "cell_type": "code",
   "execution_count": 344,
   "metadata": {},
   "outputs": [],
   "source": [
    "# train_in = np.reshape(X_train, (-1,4,4))\n",
    "# test_in = np.reshape(X_test, (-1,4,4))\n",
    "# train_out = np.reshape(y_train, (-1,4,1))\n",
    "# test_out = np.reshape(y_test, (-1,4,1))\n",
    "# print(train_in.shape,test_in.shape, type(train_in))"
   ]
  },
  {
   "cell_type": "markdown",
   "metadata": {},
   "source": [
    "## Display Data"
   ]
  },
  {
   "cell_type": "code",
   "execution_count": 5,
   "metadata": {},
   "outputs": [],
   "source": [
    "def display_input_map(matrix):\n",
    "    \"\"\"\n",
    "    This function is used to display maze with traversed path(highlighted)\n",
    "    trajectory_path: path traversed by the agent so far\n",
    "    matrix: maze of the problem\n",
    "    \"\"\"\n",
    "    temp = matrix.copy()\n",
    "    colormap = colors.ListedColormap([\"green\",\"black\",\"white\",\"blue\"])\n",
    "    plt.imshow(temp, cmap=colormap)\n",
    "    plt.show()"
   ]
  },
  {
   "cell_type": "code",
   "execution_count": 6,
   "metadata": {},
   "outputs": [],
   "source": [
    "def display_collected_data(X,y):\n",
    "    for i in range(len(X)):\n",
    "        display_input_map(np.asmatrix(X[i]))\n",
    "        if y[i][0]==1:\n",
    "            print(\"Up\")\n",
    "        elif y[i][1]==1:\n",
    "            print(\"down\")\n",
    "        elif y[i][2]==1:\n",
    "            print(\"left\")\n",
    "        elif y[i][3]==1:\n",
    "            print(\"right\")"
   ]
  },
  {
   "cell_type": "code",
   "execution_count": 347,
   "metadata": {},
   "outputs": [],
   "source": [
    "sample_range = 100000\n",
    "indices = list(np.random.choice(sample_range,10))\n",
    "# print(indices)\n",
    "sample_x = [X[index] for index in indices]\n",
    "sample_y = [y[index] for index in indices]"
   ]
  },
  {
   "cell_type": "code",
   "execution_count": 348,
   "metadata": {},
   "outputs": [],
   "source": [
    "# display_collected_data(sample_x,sample_y,4)"
   ]
  },
  {
   "cell_type": "markdown",
   "metadata": {},
   "source": [
    "## Build Model"
   ]
  },
  {
   "cell_type": "code",
   "execution_count": 349,
   "metadata": {},
   "outputs": [],
   "source": [
    "model = keras.models.Sequential([\n",
    "    keras.Input(shape = (4,4)),\n",
    "    keras.layers.Flatten(),\n",
    "    keras.layers.Dense(100, activation = 'relu'),\n",
    "    keras.layers.Dense(50, activation = 'relu'),\n",
    "    keras.layers.Dense(4, activation= None),\n",
    "    keras.layers.Softmax()\n",
    "])"
   ]
  },
  {
   "cell_type": "code",
   "execution_count": 350,
   "metadata": {},
   "outputs": [
    {
     "name": "stdout",
     "output_type": "stream",
     "text": [
      "Model: \"sequential_8\"\n",
      "_________________________________________________________________\n",
      " Layer (type)                Output Shape              Param #   \n",
      "=================================================================\n",
      " flatten_5 (Flatten)         (None, 16)                0         \n",
      "                                                                 \n",
      " dense_24 (Dense)            (None, 100)               1700      \n",
      "                                                                 \n",
      " dense_25 (Dense)            (None, 50)                5050      \n",
      "                                                                 \n",
      " dense_26 (Dense)            (None, 4)                 204       \n",
      "                                                                 \n",
      " softmax_1 (Softmax)         (None, 4)                 0         \n",
      "                                                                 \n",
      "=================================================================\n",
      "Total params: 6,954\n",
      "Trainable params: 6,954\n",
      "Non-trainable params: 0\n",
      "_________________________________________________________________\n"
     ]
    }
   ],
   "source": [
    "model.summary()"
   ]
  },
  {
   "cell_type": "code",
   "execution_count": 351,
   "metadata": {},
   "outputs": [],
   "source": [
    "model.compile(loss = tf.keras.losses.binary_crossentropy, optimizer = tf.optimizers.Adam(),metrics=['accuracy'])"
   ]
  },
  {
   "cell_type": "code",
   "execution_count": 352,
   "metadata": {},
   "outputs": [],
   "source": [
    "# [print(i.shape, i.dtype) for i in model.inputs]\n",
    "# [print(o.shape, o.dtype) for o in model.outputs]\n",
    "# [print(l.name, l.input_shape, l.dtype) for l in model.layers]"
   ]
  },
  {
   "cell_type": "code",
   "execution_count": 353,
   "metadata": {},
   "outputs": [
    {
     "name": "stdout",
     "output_type": "stream",
     "text": [
      "Epoch 1/25\n",
      "17405/17405 [==============================] - 51s 3ms/step - loss: 0.0194 - accuracy: 0.9859 - val_loss: 2.4102e-04 - val_accuracy: 1.0000\n",
      "Epoch 2/25\n",
      "17405/17405 [==============================] - 51s 3ms/step - loss: 4.7180e-04 - accuracy: 0.9997 - val_loss: 1.1601e-05 - val_accuracy: 1.0000\n",
      "Epoch 3/25\n",
      "17405/17405 [==============================] - 50s 3ms/step - loss: 5.7415e-04 - accuracy: 0.9997 - val_loss: 2.1055e-06 - val_accuracy: 1.0000\n",
      "Epoch 4/25\n",
      "17405/17405 [==============================] - 49s 3ms/step - loss: 8.0819e-04 - accuracy: 0.9997 - val_loss: 2.4631e-05 - val_accuracy: 1.0000\n",
      "Epoch 5/25\n",
      "17405/17405 [==============================] - 50s 3ms/step - loss: 4.0321e-04 - accuracy: 0.9998 - val_loss: 4.3672e-07 - val_accuracy: 1.0000\n",
      "Epoch 6/25\n",
      "17405/17405 [==============================] - 48s 3ms/step - loss: 1.9287e-04 - accuracy: 0.9999 - val_loss: 5.3467e-08 - val_accuracy: 1.0000\n",
      "Epoch 7/25\n",
      "17405/17405 [==============================] - 48s 3ms/step - loss: 5.3489e-04 - accuracy: 0.9998 - val_loss: 8.8373e-06 - val_accuracy: 1.0000\n",
      "Epoch 8/25\n",
      "17405/17405 [==============================] - 48s 3ms/step - loss: 3.0715e-04 - accuracy: 0.9999 - val_loss: 1.6761e-05 - val_accuracy: 1.0000\n",
      "Epoch 9/25\n",
      "17405/17405 [==============================] - 48s 3ms/step - loss: 5.4113e-05 - accuracy: 1.0000 - val_loss: 3.9247e-09 - val_accuracy: 1.0000\n",
      "Epoch 10/25\n",
      "17405/17405 [==============================] - 48s 3ms/step - loss: 3.3865e-04 - accuracy: 0.9999 - val_loss: 1.3297e-07 - val_accuracy: 1.0000\n",
      "Epoch 11/25\n",
      "17405/17405 [==============================] - 48s 3ms/step - loss: 1.4874e-04 - accuracy: 0.9999 - val_loss: 3.3667e-08 - val_accuracy: 1.0000\n",
      "Epoch 12/25\n",
      "17405/17405 [==============================] - 48s 3ms/step - loss: 1.9173e-04 - accuracy: 0.9999 - val_loss: 3.5946e-06 - val_accuracy: 1.0000\n",
      "Epoch 13/25\n",
      "17405/17405 [==============================] - 48s 3ms/step - loss: 4.5527e-07 - accuracy: 1.0000 - val_loss: 5.0891e-10 - val_accuracy: 1.0000\n",
      "Epoch 14/25\n",
      "17405/17405 [==============================] - 49s 3ms/step - loss: 3.7350e-04 - accuracy: 0.9999 - val_loss: 1.1830e-07 - val_accuracy: 1.0000\n",
      "Epoch 15/25\n",
      "17405/17405 [==============================] - 50s 3ms/step - loss: 1.7677e-08 - accuracy: 1.0000 - val_loss: 1.4521e-11 - val_accuracy: 1.0000\n",
      "Epoch 16/25\n",
      "17405/17405 [==============================] - 49s 3ms/step - loss: 4.8533e-04 - accuracy: 0.9999 - val_loss: 3.3139e-09 - val_accuracy: 1.0000\n",
      "Epoch 17/25\n",
      "17405/17405 [==============================] - 48s 3ms/step - loss: 4.1009e-10 - accuracy: 1.0000 - val_loss: 1.3699e-12 - val_accuracy: 1.0000\n",
      "Epoch 18/25\n",
      "17405/17405 [==============================] - 48s 3ms/step - loss: 5.4795e-13 - accuracy: 1.0000 - val_loss: 0.0000e+00 - val_accuracy: 1.0000\n",
      "Epoch 19/25\n",
      "17405/17405 [==============================] - 50s 3ms/step - loss: 0.0000e+00 - accuracy: 1.0000 - val_loss: 0.0000e+00 - val_accuracy: 1.0000\n",
      "Epoch 20/25\n",
      "17405/17405 [==============================] - 50s 3ms/step - loss: 0.0000e+00 - accuracy: 1.0000 - val_loss: 0.0000e+00 - val_accuracy: 1.0000\n",
      "Epoch 21/25\n",
      "17405/17405 [==============================] - 49s 3ms/step - loss: 0.0000e+00 - accuracy: 1.0000 - val_loss: 0.0000e+00 - val_accuracy: 1.0000\n",
      "Epoch 22/25\n",
      "17405/17405 [==============================] - 49s 3ms/step - loss: 0.0000e+00 - accuracy: 1.0000 - val_loss: 0.0000e+00 - val_accuracy: 1.0000\n",
      "Epoch 23/25\n",
      "17405/17405 [==============================] - 49s 3ms/step - loss: 0.0000e+00 - accuracy: 1.0000 - val_loss: 0.0000e+00 - val_accuracy: 1.0000\n",
      "Epoch 24/25\n",
      "17405/17405 [==============================] - 49s 3ms/step - loss: 0.0000e+00 - accuracy: 1.0000 - val_loss: 0.0000e+00 - val_accuracy: 1.0000\n",
      "Epoch 25/25\n",
      "17405/17405 [==============================] - 50s 3ms/step - loss: 0.0000e+00 - accuracy: 1.0000 - val_loss: 0.0000e+00 - val_accuracy: 1.0000\n"
     ]
    }
   ],
   "source": [
    "history = model.fit(X_train, y_train, epochs=25, batch_size=50,verbose=1, validation_split=0.2)"
   ]
  },
  {
   "cell_type": "code",
   "execution_count": 357,
   "metadata": {},
   "outputs": [
    {
     "name": "stdout",
     "output_type": "stream",
     "text": [
      "INFO:tensorflow:Assets written to: ./model_weights/model_1_v2.model/assets\n"
     ]
    }
   ],
   "source": [
    "model.save('./model_weights/model_1_v2.model')"
   ]
  },
  {
   "cell_type": "code",
   "execution_count": 354,
   "metadata": {},
   "outputs": [
    {
     "name": "stdout",
     "output_type": "stream",
     "text": [
      "16743/16743 - 23s - loss: 0.0000e+00 - accuracy: 1.0000 - 23s/epoch - 1ms/step\n"
     ]
    }
   ],
   "source": [
    "testing_model = model.evaluate(X_test,y_test,verbose=2)"
   ]
  },
  {
   "cell_type": "code",
   "execution_count": 355,
   "metadata": {},
   "outputs": [
    {
     "name": "stdout",
     "output_type": "stream",
     "text": [
      "Test Accuracy -  100.0 %\n"
     ]
    }
   ],
   "source": [
    "testing_acc = testing_model[1]*100\n",
    "# Printing the accuracy\n",
    "print('Test Accuracy - ', testing_acc,'%')"
   ]
  },
  {
   "cell_type": "code",
   "execution_count": 356,
   "metadata": {},
   "outputs": [
    {
     "data": {
      "text/plain": [
       "[0.0, 1.0]"
      ]
     },
     "execution_count": 356,
     "metadata": {},
     "output_type": "execute_result"
    }
   ],
   "source": [
    "testing_model"
   ]
  },
  {
   "cell_type": "code",
   "execution_count": null,
   "metadata": {},
   "outputs": [],
   "source": [
    "model.metrics_names"
   ]
  },
  {
   "cell_type": "code",
   "execution_count": 360,
   "metadata": {},
   "outputs": [],
   "source": [
    "predictions = model.predict(X_test[0:1])"
   ]
  },
  {
   "cell_type": "code",
   "execution_count": 361,
   "metadata": {},
   "outputs": [
    {
     "data": {
      "text/plain": [
       "array([[[4, 3, 3, 3],\n",
       "        [3, 3, 3, 3],\n",
       "        [3, 3, 3, 3],\n",
       "        [3, 3, 3, 3]]])"
      ]
     },
     "execution_count": 361,
     "metadata": {},
     "output_type": "execute_result"
    }
   ],
   "source": [
    "X[0:1]"
   ]
  },
  {
   "cell_type": "code",
   "execution_count": 332,
   "metadata": {},
   "outputs": [
    {
     "name": "stdout",
     "output_type": "stream",
     "text": [
      "[[0 1 0 0]\n",
      " [0 0 0 1]\n",
      " [0 0 0 1]] \n",
      " [[1.9317674e-06 9.9999583e-01 2.3033076e-06 2.2856215e-13]\n",
      " [2.8126976e-34 3.0568835e-06 3.2739661e-10 9.9999690e-01]\n",
      " [5.4714701e-31 2.7400508e-06 1.2310340e-11 9.9999726e-01]]\n"
     ]
    }
   ],
   "source": [
    "print(y_test[:3],\"\\n\",predictions)"
   ]
  },
  {
   "cell_type": "code",
   "execution_count": null,
   "metadata": {},
   "outputs": [],
   "source": [
    "tf.keras.losses.binary_crossentropy"
   ]
  },
  {
   "cell_type": "code",
   "execution_count": null,
   "metadata": {},
   "outputs": [],
   "source": [
    "import matplotlib.pyplot as plt\n",
    "plot_x = history.history['loss']\n",
    "plot_y = list(np.arange(len(x)))"
   ]
  },
  {
   "cell_type": "code",
   "execution_count": 7,
   "metadata": {},
   "outputs": [
    {
     "name": "stderr",
     "output_type": "stream",
     "text": [
      "2021-12-13 00:43:09.080194: E tensorflow/stream_executor/cuda/cuda_driver.cc:271] failed call to cuInit: CUDA_ERROR_NO_DEVICE: no CUDA-capable device is detected\n",
      "2021-12-13 00:43:09.080238: I tensorflow/stream_executor/cuda/cuda_diagnostics.cc:156] kernel driver does not appear to be running on this host (coco): /proc/driver/nvidia/version does not exist\n",
      "2021-12-13 00:43:09.080552: I tensorflow/core/platform/cpu_feature_guard.cc:151] This TensorFlow binary is optimized with oneAPI Deep Neural Network Library (oneDNN) to use the following CPU instructions in performance-critical operations:  AVX2 FMA\n",
      "To enable them in other operations, rebuild TensorFlow with the appropriate compiler flags.\n"
     ]
    }
   ],
   "source": [
    "model_test = keras.models.load_model('model_weights/model_1_accuracy_100.model')"
   ]
  },
  {
   "cell_type": "code",
   "execution_count": 10,
   "metadata": {},
   "outputs": [],
   "source": [
    "%run data_collection.ipynb"
   ]
  },
  {
   "cell_type": "code",
   "execution_count": 11,
   "metadata": {},
   "outputs": [],
   "source": [
    "initialize(4,0.3)"
   ]
  },
  {
   "cell_type": "code",
   "execution_count": 12,
   "metadata": {},
   "outputs": [],
   "source": [
    "final_grid = encode_grid(grid,[])\n",
    "final_grid[0,0] = 4"
   ]
  },
  {
   "cell_type": "code",
   "execution_count": 13,
   "metadata": {},
   "outputs": [
    {
     "data": {
      "text/plain": [
       "array([[[4, 3, 3, 3],\n",
       "        [3, 3, 3, 2],\n",
       "        [2, 3, 3, 3],\n",
       "        [3, 3, 2, 3]]])"
      ]
     },
     "execution_count": 13,
     "metadata": {},
     "output_type": "execute_result"
    }
   ],
   "source": [
    "np.asarray([final_grid.tolist()])"
   ]
  },
  {
   "cell_type": "code",
   "execution_count": 14,
   "metadata": {},
   "outputs": [
    {
     "data": {
      "text/plain": [
       "array([[0.0000000e+00, 9.9634355e-01, 2.0873466e-12, 3.6564714e-03]],\n",
       "      dtype=float32)"
      ]
     },
     "execution_count": 14,
     "metadata": {},
     "output_type": "execute_result"
    }
   ],
   "source": [
    "model_test.predict(np.asarray([final_grid.tolist()]))"
   ]
  },
  {
   "cell_type": "code",
   "execution_count": null,
   "metadata": {},
   "outputs": [],
   "source": []
  }
 ],
 "metadata": {
  "kernelspec": {
   "display_name": ".venv",
   "language": "python",
   "name": ".venv"
  },
  "language_info": {
   "codemirror_mode": {
    "name": "ipython",
    "version": 3
   },
   "file_extension": ".py",
   "mimetype": "text/x-python",
   "name": "python",
   "nbconvert_exporter": "python",
   "pygments_lexer": "ipython3",
   "version": "3.8.10"
  }
 },
 "nbformat": 4,
 "nbformat_minor": 4
}
