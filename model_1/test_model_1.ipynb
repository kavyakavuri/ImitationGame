{
 "cells": [
  {
   "cell_type": "code",
   "execution_count": 1,
   "metadata": {},
   "outputs": [
    {
     "name": "stderr",
     "output_type": "stream",
     "text": [
      "2021-12-13 17:48:00.704219: W tensorflow/stream_executor/platform/default/dso_loader.cc:64] Could not load dynamic library 'libcudart.so.11.0'; dlerror: libcudart.so.11.0: cannot open shared object file: No such file or directory\n",
      "2021-12-13 17:48:00.704234: I tensorflow/stream_executor/cuda/cudart_stub.cc:29] Ignore above cudart dlerror if you do not have a GPU set up on your machine.\n"
     ]
    }
   ],
   "source": [
    "import tensorflow as tf\n",
    "from tensorflow import keras\n",
    "import numpy as np\n",
    "import fnmatch\n",
    "import os\n",
    "from matplotlib import colors\n",
    "import matplotlib.pyplot as plt"
   ]
  },
  {
   "cell_type": "code",
   "execution_count": 2,
   "metadata": {},
   "outputs": [],
   "source": [
    "%run data_collection.ipynb"
   ]
  },
  {
   "cell_type": "code",
   "execution_count": 3,
   "metadata": {},
   "outputs": [
    {
     "name": "stderr",
     "output_type": "stream",
     "text": [
      "2021-12-13 17:48:45.395733: E tensorflow/stream_executor/cuda/cuda_driver.cc:271] failed call to cuInit: CUDA_ERROR_NO_DEVICE: no CUDA-capable device is detected\n",
      "2021-12-13 17:48:45.395783: I tensorflow/stream_executor/cuda/cuda_diagnostics.cc:156] kernel driver does not appear to be running on this host (coco): /proc/driver/nvidia/version does not exist\n",
      "2021-12-13 17:48:45.396257: I tensorflow/core/platform/cpu_feature_guard.cc:151] This TensorFlow binary is optimized with oneAPI Deep Neural Network Library (oneDNN) to use the following CPU instructions in performance-critical operations:  AVX2 FMA\n",
      "To enable them in other operations, rebuild TensorFlow with the appropriate compiler flags.\n"
     ]
    }
   ],
   "source": [
    "prod_model = keras.models.load_model('model_weights/epic_num_reader.model')"
   ]
  },
  {
   "cell_type": "code",
   "execution_count": 5,
   "metadata": {},
   "outputs": [],
   "source": [
    "initialize(3,0.3)\n",
    "final_grid = encode_grid(grid,[])\n",
    "final_grid[0,0] = 4"
   ]
  },
  {
   "cell_type": "code",
   "execution_count": 7,
   "metadata": {},
   "outputs": [
    {
     "data": {
      "text/plain": [
       "array([[1.1993588e-31, 6.6780504e-03, 3.4988502e-14, 9.9332196e-01]],\n",
       "      dtype=float32)"
      ]
     },
     "execution_count": 7,
     "metadata": {},
     "output_type": "execute_result"
    }
   ],
   "source": [
    "prod_model.predict(np.asarray([final_grid.tolist()]))"
   ]
  },
  {
   "cell_type": "code",
   "execution_count": 112,
   "metadata": {},
   "outputs": [],
   "source": [
    "initialize(10,0.2)"
   ]
  },
  {
   "cell_type": "code",
   "execution_count": 64,
   "metadata": {},
   "outputs": [],
   "source": [
    "def patch_of_grid(grid,current_position):\n",
    "    global maze_size\n",
    "    mat =  grid.copy()\n",
    "    row = current_position[0]\n",
    "    col = current_position[1]\n",
    "    \n",
    "    col_left = col- 1\n",
    "    col_right = col + 1\n",
    "    \n",
    "    row_high = row - 1\n",
    "    row_low = row + 1\n",
    "    \n",
    "    # print(\"initial cols:\",col_left,col_right,\"rows: \",row_high,row_low)\n",
    "    if(col_left<0): # workng\n",
    "        difference = 0-col_left\n",
    "        col_left = 0 \n",
    "        col_right += difference\n",
    "        \n",
    "    if(col_right>maze_size-1):\n",
    "        difference = col_right - maze_size + 1\n",
    "        col_left -= difference\n",
    "        col_right = maze_size - 1\n",
    "        \n",
    "    if(row_low>maze_size-1):\n",
    "        difference = row_low - maze_size + 1\n",
    "#         print(difference)\n",
    "        row_low = maze_size - 1 \n",
    "        row_high -= difference\n",
    "    if(row_high<0):\n",
    "        difference = 0-row_high\n",
    "        row_high = 0\n",
    "        row_low += difference\n",
    "    \n",
    "    return row-row_high,col-col_left, mat[row_high:row_low+1,col_left:col_right+1]"
   ]
  },
  {
   "cell_type": "code",
   "execution_count": 68,
   "metadata": {},
   "outputs": [],
   "source": [
    "row, col, mat = patch_of_grid(grid,(9,0))"
   ]
  },
  {
   "cell_type": "code",
   "execution_count": 100,
   "metadata": {},
   "outputs": [
    {
     "data": {
      "text/plain": [
       "matrix([[0, 0, 0, 0, 1, 0, 1, 1, 0, 1],\n",
       "        [0, 0, 0, 1, 0, 0, 1, 1, 0, 0],\n",
       "        [0, 1, 0, 0, 0, 0, 1, 1, 0, 0],\n",
       "        [0, 1, 1, 0, 0, 0, 1, 0, 0, 0],\n",
       "        [0, 0, 1, 0, 0, 0, 0, 1, 1, 1],\n",
       "        [0, 0, 1, 0, 1, 1, 0, 1, 0, 0],\n",
       "        [0, 1, 0, 1, 0, 0, 0, 0, 0, 0],\n",
       "        [0, 1, 0, 0, 1, 0, 0, 0, 1, 0],\n",
       "        [0, 0, 1, 1, 1, 1, 1, 0, 0, 0],\n",
       "        [0, 0, 0, 1, 1, 1, 1, 0, 1, 0]])"
      ]
     },
     "execution_count": 100,
     "metadata": {},
     "output_type": "execute_result"
    }
   ],
   "source": [
    "grid"
   ]
  },
  {
   "cell_type": "code",
   "execution_count": 70,
   "metadata": {},
   "outputs": [
    {
     "data": {
      "text/plain": [
       "(2,\n",
       " 0,\n",
       " matrix([[0, 0, 0],\n",
       "         [1, 1, 1],\n",
       "         [1, 0, 1]]))"
      ]
     },
     "execution_count": 70,
     "metadata": {},
     "output_type": "execute_result"
    }
   ],
   "source": [
    "row, col, mat"
   ]
  },
  {
   "cell_type": "code",
   "execution_count": 106,
   "metadata": {},
   "outputs": [],
   "source": [
    "def run_ml_1_agent_2(model,grid):\n",
    "    global maze_size\n",
    "    \n",
    "    visited = []\n",
    "    goal_reached = False\n",
    "    goal = (maze_size-1,maze_size-1)\n",
    "    counter = 0\n",
    "    agent_grid = np.asmatrix(np.zeros(maze_size*maze_size, dtype=int).reshape(maze_size,maze_size))\n",
    "    directions_dict = {0:\"Up\",1:\"Down\",2:\"Left\",3:\"Right\"}\n",
    "    \n",
    "    current_position = (0,0)\n",
    "    while not goal_reached and counter!=50:\n",
    "        print(\"initial current position: \",current_position)\n",
    "        \n",
    "        if current_position not in visited:\n",
    "            visited.append(current_position)\n",
    "            \n",
    "        # check if current_position ia the goal\n",
    "        if(current_position==goal):\n",
    "            print(\"goal reached\")\n",
    "            return True\n",
    "         \n",
    "        #else get direction\n",
    "        patch = encode_grid(agent_grid,visited)\n",
    "        row,col,patch = patch_of_grid(patch,current_position)\n",
    "        print(\"currentposition: \",row,col,\"\\npredicting for: \\n\",patch)\n",
    "#         patch = encode_grid(patch,visited)\n",
    "        patch[row,col] = 4\n",
    "#         print(\"encoded: \",patch)\n",
    "        direction = model.predict(np.asarray([patch.tolist()]))[0]\n",
    "#         print(direction)\n",
    "        direction = np.argmax(direction)\n",
    "        print(directions_dict[direction])\n",
    "        \n",
    "        #update coordinates according to direction\n",
    "        row = current_position[0]\n",
    "        col = current_position[1]\n",
    "        if(direction == 0 and row-1>=0): #Up\n",
    "            row -= 1\n",
    "        elif(direction == 1 and row+1<maze_size): #down\n",
    "            row += 1\n",
    "        elif(direction == 2 and col-1>=0): #left\n",
    "            col -=1\n",
    "        elif(col+1<maze_size): #right\n",
    "            col +=1\n",
    "            \n",
    "        # check if new current position. if yes, update agent_grid\n",
    "        # and don't update current position\n",
    "        if(grid[row,col]==1):\n",
    "#             print(row,col)\n",
    "            agent_grid[row,col]=1\n",
    "            print(\"hit block, agent_grid now:\\n\",agent_grid)\n",
    "            counter += 1\n",
    "            continue\n",
    "        #else update current position\n",
    "        current_position = (row,col)\n",
    "        \n",
    "        print(\"final current_position: \",current_position,\"\\n------------------------------\\n\")\n",
    "        counter += 1\n",
    "    return False\n",
    "    "
   ]
  },
  {
   "cell_type": "code",
   "execution_count": 113,
   "metadata": {},
   "outputs": [
    {
     "data": {
      "text/plain": [
       "<matplotlib.image.AxesImage at 0x7fa7bccf7fd0>"
      ]
     },
     "execution_count": 113,
     "metadata": {},
     "output_type": "execute_result"
    },
    {
     "data": {
      "image/png": "[encoded data removed]",
      "text/plain": [
       "<Figure size 432x288 with 1 Axes>"
      ]
     },
     "metadata": {
      "needs_background": "light"
     },
     "output_type": "display_data"
    }
   ],
   "source": [
    "plt.spy(grid)"
   ]
  },
  {
   "cell_type": "code",
   "execution_count": 114,
   "metadata": {},
   "outputs": [
    {
     "name": "stdout",
     "output_type": "stream",
     "text": [
      "initial current position:  (0, 0)\n",
      "currentposition:  0 0 \n",
      "predicting for: \n",
      " [[1 3 3]\n",
      " [3 3 3]\n",
      " [3 3 3]]\n",
      "Down\n",
      "final current_position:  (1, 0) \n",
      "------------------------------\n",
      "\n",
      "initial current position:  (1, 0)\n",
      "currentposition:  1 0 \n",
      "predicting for: \n",
      " [[1 3 3]\n",
      " [1 3 3]\n",
      " [3 3 3]]\n",
      "Down\n",
      "final current_position:  (2, 0) \n",
      "------------------------------\n",
      "\n",
      "initial current position:  (2, 0)\n",
      "currentposition:  1 0 \n",
      "predicting for: \n",
      " [[1 3 3]\n",
      " [1 3 3]\n",
      " [3 3 3]]\n",
      "Down\n",
      "hit block, agent_grid now:\n",
      " [[0 0 0 0 0 0 0 0 0 0]\n",
      " [0 0 0 0 0 0 0 0 0 0]\n",
      " [0 0 0 0 0 0 0 0 0 0]\n",
      " [1 0 0 0 0 0 0 0 0 0]\n",
      " [0 0 0 0 0 0 0 0 0 0]\n",
      " [0 0 0 0 0 0 0 0 0 0]\n",
      " [0 0 0 0 0 0 0 0 0 0]\n",
      " [0 0 0 0 0 0 0 0 0 0]\n",
      " [0 0 0 0 0 0 0 0 0 0]\n",
      " [0 0 0 0 0 0 0 0 0 0]]\n",
      "initial current position:  (2, 0)\n",
      "currentposition:  1 0 \n",
      "predicting for: \n",
      " [[1 3 3]\n",
      " [1 3 3]\n",
      " [2 3 3]]\n",
      "Right\n",
      "final current_position:  (2, 1) \n",
      "------------------------------\n",
      "\n",
      "initial current position:  (2, 1)\n",
      "currentposition:  1 1 \n",
      "predicting for: \n",
      " [[1 3 3]\n",
      " [1 1 3]\n",
      " [2 3 3]]\n",
      "Down\n",
      "final current_position:  (3, 1) \n",
      "------------------------------\n",
      "\n",
      "initial current position:  (3, 1)\n",
      "currentposition:  1 1 \n",
      "predicting for: \n",
      " [[1 1 3]\n",
      " [2 1 3]\n",
      " [3 3 3]]\n",
      "Down\n",
      "final current_position:  (4, 1) \n",
      "------------------------------\n",
      "\n",
      "initial current position:  (4, 1)\n",
      "currentposition:  1 1 \n",
      "predicting for: \n",
      " [[2 1 3]\n",
      " [3 1 3]\n",
      " [3 3 3]]\n",
      "Down\n",
      "final current_position:  (5, 1) \n",
      "------------------------------\n",
      "\n",
      "initial current position:  (5, 1)\n",
      "currentposition:  1 1 \n",
      "predicting for: \n",
      " [[3 1 3]\n",
      " [3 1 3]\n",
      " [3 3 3]]\n",
      "Down\n",
      "final current_position:  (6, 1) \n",
      "------------------------------\n",
      "\n",
      "initial current position:  (6, 1)\n",
      "currentposition:  1 1 \n",
      "predicting for: \n",
      " [[3 1 3]\n",
      " [3 1 3]\n",
      " [3 3 3]]\n",
      "Down\n",
      "final current_position:  (7, 1) \n",
      "------------------------------\n",
      "\n",
      "initial current position:  (7, 1)\n",
      "currentposition:  1 1 \n",
      "predicting for: \n",
      " [[3 1 3]\n",
      " [3 1 3]\n",
      " [3 3 3]]\n",
      "Down\n",
      "final current_position:  (8, 1) \n",
      "------------------------------\n",
      "\n",
      "initial current position:  (8, 1)\n",
      "currentposition:  1 1 \n",
      "predicting for: \n",
      " [[3 1 3]\n",
      " [3 1 3]\n",
      " [3 3 3]]\n",
      "Down\n",
      "final current_position:  (9, 1) \n",
      "------------------------------\n",
      "\n",
      "initial current position:  (9, 1)\n",
      "currentposition:  2 1 \n",
      "predicting for: \n",
      " [[3 1 3]\n",
      " [3 1 3]\n",
      " [3 1 3]]\n",
      "Right\n",
      "final current_position:  (9, 2) \n",
      "------------------------------\n",
      "\n",
      "initial current position:  (9, 2)\n",
      "currentposition:  2 1 \n",
      "predicting for: \n",
      " [[1 3 3]\n",
      " [1 3 3]\n",
      " [1 1 3]]\n",
      "Right\n",
      "hit block, agent_grid now:\n",
      " [[0 0 0 0 0 0 0 0 0 0]\n",
      " [0 0 0 0 0 0 0 0 0 0]\n",
      " [0 0 0 0 0 0 0 0 0 0]\n",
      " [1 0 0 0 0 0 0 0 0 0]\n",
      " [0 0 0 0 0 0 0 0 0 0]\n",
      " [0 0 0 0 0 0 0 0 0 0]\n",
      " [0 0 0 0 0 0 0 0 0 0]\n",
      " [0 0 0 0 0 0 0 0 0 0]\n",
      " [0 0 0 0 0 0 0 0 0 0]\n",
      " [0 0 0 1 0 0 0 0 0 0]]\n",
      "initial current position:  (9, 2)\n",
      "currentposition:  2 1 \n",
      "predicting for: \n",
      " [[1 3 3]\n",
      " [1 3 3]\n",
      " [1 1 2]]\n",
      "Up\n",
      "final current_position:  (8, 2) \n",
      "------------------------------\n",
      "\n",
      "initial current position:  (8, 2)\n",
      "currentposition:  1 1 \n",
      "predicting for: \n",
      " [[1 3 3]\n",
      " [1 1 3]\n",
      " [1 1 2]]\n",
      "Right\n",
      "hit block, agent_grid now:\n",
      " [[0 0 0 0 0 0 0 0 0 0]\n",
      " [0 0 0 0 0 0 0 0 0 0]\n",
      " [0 0 0 0 0 0 0 0 0 0]\n",
      " [1 0 0 0 0 0 0 0 0 0]\n",
      " [0 0 0 0 0 0 0 0 0 0]\n",
      " [0 0 0 0 0 0 0 0 0 0]\n",
      " [0 0 0 0 0 0 0 0 0 0]\n",
      " [0 0 0 0 0 0 0 0 0 0]\n",
      " [0 0 0 1 0 0 0 0 0 0]\n",
      " [0 0 0 1 0 0 0 0 0 0]]\n",
      "initial current position:  (8, 2)\n",
      "currentposition:  1 1 \n",
      "predicting for: \n",
      " [[1 3 3]\n",
      " [1 1 2]\n",
      " [1 1 2]]\n",
      "Up\n",
      "final current_position:  (7, 2) \n",
      "------------------------------\n",
      "\n",
      "initial current position:  (7, 2)\n",
      "currentposition:  1 1 \n",
      "predicting for: \n",
      " [[1 3 3]\n",
      " [1 1 3]\n",
      " [1 1 2]]\n",
      "Right\n",
      "final current_position:  (7, 3) \n",
      "------------------------------\n",
      "\n",
      "initial current position:  (7, 3)\n",
      "currentposition:  1 1 \n",
      "predicting for: \n",
      " [[3 3 3]\n",
      " [1 1 3]\n",
      " [1 2 3]]\n",
      "Right\n",
      "final current_position:  (7, 4) \n",
      "------------------------------\n",
      "\n",
      "initial current position:  (7, 4)\n",
      "currentposition:  1 1 \n",
      "predicting for: \n",
      " [[3 3 3]\n",
      " [1 1 3]\n",
      " [2 3 3]]\n",
      "Right\n",
      "final current_position:  (7, 5) \n",
      "------------------------------\n",
      "\n",
      "initial current position:  (7, 5)\n",
      "currentposition:  1 1 \n",
      "predicting for: \n",
      " [[3 3 3]\n",
      " [1 1 3]\n",
      " [3 3 3]]\n",
      "Right\n",
      "final current_position:  (7, 6) \n",
      "------------------------------\n",
      "\n",
      "initial current position:  (7, 6)\n",
      "currentposition:  1 1 \n",
      "predicting for: \n",
      " [[3 3 3]\n",
      " [1 1 3]\n",
      " [3 3 3]]\n",
      "Right\n",
      "final current_position:  (7, 7) \n",
      "------------------------------\n",
      "\n",
      "initial current position:  (7, 7)\n",
      "currentposition:  1 1 \n",
      "predicting for: \n",
      " [[3 3 3]\n",
      " [1 1 3]\n",
      " [3 3 3]]\n",
      "Right\n",
      "final current_position:  (7, 8) \n",
      "------------------------------\n",
      "\n",
      "initial current position:  (7, 8)\n",
      "currentposition:  1 1 \n",
      "predicting for: \n",
      " [[3 3 3]\n",
      " [1 1 3]\n",
      " [3 3 3]]\n",
      "Right\n",
      "final current_position:  (7, 9) \n",
      "------------------------------\n",
      "\n",
      "initial current position:  (7, 9)\n",
      "currentposition:  1 2 \n",
      "predicting for: \n",
      " [[3 3 3]\n",
      " [1 1 1]\n",
      " [3 3 3]]\n",
      "Left\n",
      "final current_position:  (7, 8) \n",
      "------------------------------\n",
      "\n",
      "initial current position:  (7, 8)\n",
      "currentposition:  1 1 \n",
      "predicting for: \n",
      " [[3 3 3]\n",
      " [1 1 1]\n",
      " [3 3 3]]\n",
      "Down\n",
      "final current_position:  (8, 8) \n",
      "------------------------------\n",
      "\n",
      "initial current position:  (8, 8)\n",
      "currentposition:  1 1 \n",
      "predicting for: \n",
      " [[1 1 1]\n",
      " [3 1 3]\n",
      " [3 3 3]]\n",
      "Down\n",
      "final current_position:  (9, 8) \n",
      "------------------------------\n",
      "\n",
      "initial current position:  (9, 8)\n",
      "currentposition:  2 1 \n",
      "predicting for: \n",
      " [[1 1 1]\n",
      " [3 1 3]\n",
      " [3 1 3]]\n",
      "Right\n",
      "final current_position:  (9, 9) \n",
      "------------------------------\n",
      "\n",
      "initial current position:  (9, 9)\n",
      "goal reached\n"
     ]
    },
    {
     "data": {
      "text/plain": [
       "True"
      ]
     },
     "execution_count": 114,
     "metadata": {},
     "output_type": "execute_result"
    }
   ],
   "source": [
    "run_ml_1_agent_2(prod_model,grid)"
   ]
  },
  {
   "cell_type": "code",
   "execution_count": null,
   "metadata": {},
   "outputs": [],
   "source": []
  }
 ],
 "metadata": {
  "kernelspec": {
   "display_name": ".venv",
   "language": "python",
   "name": ".venv"
  },
  "language_info": {
   "codemirror_mode": {
    "name": "ipython",
    "version": 3
   },
   "file_extension": ".py",
   "mimetype": "text/x-python",
   "name": "python",
   "nbconvert_exporter": "python",
   "pygments_lexer": "ipython3",
   "version": "3.8.10"
  }
 },
 "nbformat": 4,
 "nbformat_minor": 5
}
