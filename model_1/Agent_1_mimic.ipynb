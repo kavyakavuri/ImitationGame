{
 "cells": [
  {
   "cell_type": "code",
   "execution_count": 1,
   "metadata": {},
   "outputs": [],
   "source": [
    "import tensorflow as tf\n",
    "import matplotlib.pyplot as plt\n",
    "import pandas as pd\n",
    "import numpy as np\n",
    "from matplotlib import colors"
   ]
  },
  {
   "cell_type": "code",
   "execution_count": 2,
   "metadata": {},
   "outputs": [],
   "source": [
    "df = pd.read_csv('agent_1_data.csv')"
   ]
  },
  {
   "cell_type": "code",
   "execution_count": 3,
   "metadata": {},
   "outputs": [
    {
     "data": {
      "text/plain": [
       "(25848, 3, 3)"
      ]
     },
     "execution_count": 3,
     "metadata": {},
     "output_type": "execute_result"
    }
   ],
   "source": [
    "c = []\n",
    "x_train = []\n",
    "for i in range(len(df)):\n",
    "    arr = np.fromstring(df['x'][i].replace('[', '').replace(']', ''), dtype=int, sep='\\n').reshape(3,3)\n",
    "    arr = arr/arr.max()\n",
    "    c.append(np.asarray(arr))\n",
    "x_train = np.asarray(c)\n",
    "x_train = np.asarray(x_train)\n",
    "x_train.shape\n",
    "#     print(arr.shape)\n",
    "#     print(arr)"
   ]
  },
  {
   "cell_type": "code",
   "execution_count": 4,
   "metadata": {},
   "outputs": [],
   "source": [
    "# c = []\n",
    "# x_train = []\n",
    "# for i in range(len(df)):\n",
    "#     arr = []\n",
    "# #     print(df['x'][i].replace('[', '').replace(']', '').split('\\n'))\n",
    "# #     print(len(df['x'][i].replace('[', '').replace(']', '').split('\\n')))\n",
    "    \n",
    "#     for arr in df['x'][i].split('\\n'):\n",
    "#         arr = arr.replace('[', '').replace(']', '').split()\n",
    "#         print(arr)\n",
    "#         arr = [int(m) for m in arr]\n",
    "#         arr = np.asarray(arr)\n",
    "#         arr = arr/arr.max()\n",
    "#         c.append(np.asarray(arr))\n",
    "    \n",
    "#     x_train.append(np.asarray(c))\n",
    "# x_train = np.asarray(x_train)\n",
    "# x_train.shape"
   ]
  },
  {
   "cell_type": "code",
   "execution_count": 5,
   "metadata": {},
   "outputs": [
    {
     "data": {
      "text/plain": [
       "array([[1, 0, 0, 0],\n",
       "       [1, 0, 0, 0],\n",
       "       [1, 0, 0, 0],\n",
       "       ...,\n",
       "       [1, 0, 0, 0],\n",
       "       [1, 0, 0, 0],\n",
       "       [1, 0, 0, 0]])"
      ]
     },
     "execution_count": 5,
     "metadata": {},
     "output_type": "execute_result"
    }
   ],
   "source": [
    "out = []\n",
    "for i in range(len(df)):\n",
    "    a = df['y'][i].replace('[', '').replace(']', '').replace(',','').split()\n",
    "    a = [int(m) for m in a]\n",
    "    out.append(np.asarray(a))\n",
    "y_train = out\n",
    "y_train = np.asarray(out)\n",
    "y_train"
   ]
  },
  {
   "cell_type": "code",
   "execution_count": 6,
   "metadata": {},
   "outputs": [
    {
     "data": {
      "text/plain": [
       "(25848, 4)"
      ]
     },
     "execution_count": 6,
     "metadata": {},
     "output_type": "execute_result"
    }
   ],
   "source": [
    "y_train.shape"
   ]
  },
  {
   "cell_type": "code",
   "execution_count": 7,
   "metadata": {},
   "outputs": [],
   "source": [
    "y_test = y_train[0]\n",
    "x_test = x_train[0]"
   ]
  },
  {
   "cell_type": "code",
   "execution_count": 8,
   "metadata": {},
   "outputs": [],
   "source": [
    "a = []\n",
    "for i in (y_train):\n",
    "    row = list(i).index(1)\n",
    "    a.append(row)\n",
    "y_train = np.asarray(a)\n",
    "\n",
    "    # y_train[0]"
   ]
  },
  {
   "cell_type": "code",
   "execution_count": 9,
   "metadata": {},
   "outputs": [
    {
     "data": {
      "text/plain": [
       "(25848,)"
      ]
     },
     "execution_count": 9,
     "metadata": {},
     "output_type": "execute_result"
    }
   ],
   "source": [
    "y_train.shape"
   ]
  },
  {
   "cell_type": "code",
   "execution_count": 10,
   "metadata": {},
   "outputs": [
    {
     "name": "stdout",
     "output_type": "stream",
     "text": [
      "x_train (25848, 3, 3)\n",
      "\n",
      "y_train (25848,)\n",
      "Epoch 1/20\n",
      "808/808 [==============================] - 1s 1ms/step - loss: 0.7864 - accuracy: 0.7115\n",
      "Epoch 2/20\n",
      "808/808 [==============================] - 1s 1ms/step - loss: 0.3310 - accuracy: 0.9027\n",
      "Epoch 3/20\n",
      "808/808 [==============================] - 1s 1ms/step - loss: 0.2220 - accuracy: 0.9264\n",
      "Epoch 4/20\n",
      "808/808 [==============================] - 1s 1ms/step - loss: 0.1930 - accuracy: 0.9313\n",
      "Epoch 5/20\n",
      "808/808 [==============================] - 1s 1ms/step - loss: 0.1802 - accuracy: 0.9334\n",
      "Epoch 6/20\n",
      "808/808 [==============================] - 1s 1ms/step - loss: 0.1757 - accuracy: 0.9337\n",
      "Epoch 7/20\n",
      "808/808 [==============================] - 1s 1ms/step - loss: 0.1704 - accuracy: 0.9335\n",
      "Epoch 8/20\n",
      "808/808 [==============================] - 1s 1ms/step - loss: 0.1677 - accuracy: 0.9331\n",
      "Epoch 9/20\n",
      "808/808 [==============================] - 1s 1ms/step - loss: 0.1660 - accuracy: 0.9341\n",
      "Epoch 10/20\n",
      "808/808 [==============================] - 1s 1ms/step - loss: 0.1630 - accuracy: 0.9358\n",
      "Epoch 11/20\n",
      "808/808 [==============================] - 1s 1ms/step - loss: 0.1631 - accuracy: 0.9341\n",
      "Epoch 12/20\n",
      "808/808 [==============================] - 1s 1ms/step - loss: 0.1618 - accuracy: 0.9353\n",
      "Epoch 13/20\n",
      "808/808 [==============================] - 1s 1ms/step - loss: 0.1607 - accuracy: 0.9354\n",
      "Epoch 14/20\n",
      "808/808 [==============================] - 1s 1ms/step - loss: 0.1586 - accuracy: 0.9360\n",
      "Epoch 15/20\n",
      "808/808 [==============================] - 1s 1ms/step - loss: 0.1575 - accuracy: 0.9367\n",
      "Epoch 16/20\n",
      "808/808 [==============================] - 1s 1ms/step - loss: 0.1575 - accuracy: 0.9348\n",
      "Epoch 17/20\n",
      "808/808 [==============================] - 1s 1ms/step - loss: 0.1574 - accuracy: 0.9357\n",
      "Epoch 18/20\n",
      "808/808 [==============================] - 1s 1ms/step - loss: 0.1570 - accuracy: 0.9359\n",
      "Epoch 19/20\n",
      "808/808 [==============================] - 1s 1ms/step - loss: 0.1563 - accuracy: 0.9363\n",
      "Epoch 20/20\n",
      "808/808 [==============================] - 1s 1ms/step - loss: 0.1559 - accuracy: 0.9371\n"
     ]
    },
    {
     "data": {
      "text/plain": [
       "<keras.callbacks.History at 0x19809d11ac0>"
      ]
     },
     "execution_count": 10,
     "metadata": {},
     "output_type": "execute_result"
    }
   ],
   "source": [
    "#sequential is the basic model\n",
    "model = tf.keras.models.Sequential()\n",
    "\n",
    "# we add hidden layers into our network. 128 is the number of neurons that we use\n",
    "# relu is a basic activation sigmoid function\n",
    "# softmax is used for probability distribution (used in final/output layer with 10 neurons)\n",
    "# we reduce 28x28 array to a flatten layer as it is multidimensional and hard to compute\n",
    "model.add(tf.keras.layers.Flatten())\n",
    "model.add(tf.keras.layers.Dense(128, activation = tf.nn.relu))\n",
    "model.add(tf.keras.layers.Dense(128, activation = tf.nn.relu))\n",
    "model.add(tf.keras.layers.Dense(4, activation = tf.nn.softmax))\n",
    "\n",
    "#parameters for training for the model\n",
    "\n",
    "model.compile(optimizer = 'adam',\n",
    "              loss = 'sparse_categorical_crossentropy',\n",
    "              metrics = ['accuracy'])\n",
    "\n",
    "print('x_train', x_train.shape)\n",
    "print('\\ny_train', y_train.shape)\n",
    "model.fit(x_train,y_train, epochs = 20)"
   ]
  },
  {
   "cell_type": "code",
   "execution_count": 11,
   "metadata": {},
   "outputs": [],
   "source": [
    "x_test = np.asarray([x_test])"
   ]
  },
  {
   "cell_type": "code",
   "execution_count": 12,
   "metadata": {},
   "outputs": [
    {
     "name": "stdout",
     "output_type": "stream",
     "text": [
      "808/808 [==============================] - 1s 983us/step - loss: 0.1582 - accuracy: 0.92310s - loss: 0.1592 - accuracy: 0.\n",
      "0.15818874537944794 0.9230501651763916\n"
     ]
    }
   ],
   "source": [
    "# calculate the validation loss\n",
    "val_loss, val_accuracy = model.evaluate(x_train, np.asarray(y_train))\n",
    "print(val_loss, val_accuracy)"
   ]
  },
  {
   "cell_type": "code",
   "execution_count": 13,
   "metadata": {
    "scrolled": true
   },
   "outputs": [
    {
     "name": "stdout",
     "output_type": "stream",
     "text": [
      "INFO:tensorflow:Assets written to: epic_num_reader.model\\assets\n"
     ]
    }
   ],
   "source": [
    "model.save('epic_num_reader.model')"
   ]
  },
  {
   "cell_type": "code",
   "execution_count": 14,
   "metadata": {},
   "outputs": [],
   "source": [
    "new_model = tf.keras.models.load_model('epic_num_reader.model')"
   ]
  },
  {
   "cell_type": "code",
   "execution_count": 15,
   "metadata": {},
   "outputs": [
    {
     "data": {
      "text/plain": [
       "(1, 3, 3)"
      ]
     },
     "execution_count": 15,
     "metadata": {},
     "output_type": "execute_result"
    }
   ],
   "source": [
    "x_test.shape"
   ]
  },
  {
   "cell_type": "code",
   "execution_count": 16,
   "metadata": {},
   "outputs": [
    {
     "data": {
      "text/plain": [
       "array([[[0.25, 0.75, 0.75],\n",
       "        [0.25, 0.75, 0.75],\n",
       "        [1.  , 0.5 , 0.75]]])"
      ]
     },
     "execution_count": 16,
     "metadata": {},
     "output_type": "execute_result"
    }
   ],
   "source": [
    "x_test"
   ]
  },
  {
   "cell_type": "code",
   "execution_count": 17,
   "metadata": {},
   "outputs": [],
   "source": [
    "predictions = new_model.predict(x_test)"
   ]
  },
  {
   "cell_type": "code",
   "execution_count": 18,
   "metadata": {
    "scrolled": true
   },
   "outputs": [
    {
     "name": "stdout",
     "output_type": "stream",
     "text": [
      "[9.9748993e-01 2.7852651e-04 3.8170668e-07 2.2311476e-03]\n",
      "0.9974899\n"
     ]
    }
   ],
   "source": [
    "print(predictions[0])\n",
    "print(predictions[0].max())"
   ]
  },
  {
   "cell_type": "code",
   "execution_count": 19,
   "metadata": {},
   "outputs": [],
   "source": [
    "def get_children(x, y, n, visited_list):\n",
    "    \"\"\"\n",
    "    This function is used to return children of a particular node\n",
    "    x: row value of current node\n",
    "    y: column value of current node\n",
    "    n: size of maze\n",
    "    gofn: g(n) value of current node\n",
    "    visited_list: list of nodes that are already visited\n",
    "    matrix: maze\n",
    "    agent_matrix: matrix of the agent that holds the information of updated environment\n",
    "    \"\"\"\n",
    "    allChildren = [(x+1,y),#down\n",
    "                   (x-1,y),#up\n",
    "                   (x,y+1),#right\n",
    "                   (x,y-1)]#left\n",
    "    if x+1 > n-1:\n",
    "        allChildren.remove((x+1,y))\n",
    "    if x-1 < 0:\n",
    "        allChildren.remove((x-1,y))\n",
    "    if y+1 > n-1:\n",
    "        allChildren.remove((x,y+1))\n",
    "    if y-1 < 0:\n",
    "        allChildren.remove((x,y-1))\n",
    "#     allChildren = [node for node in allChildren if node[:2] not in visited_list]\n",
    "\n",
    "    return allChildren"
   ]
  },
  {
   "cell_type": "code",
   "execution_count": 20,
   "metadata": {},
   "outputs": [],
   "source": [
    "# next_move((0,0), np.asarray([[0.1947099 , 0.3240646,  0.27810824, 0.20311731]]))"
   ]
  },
  {
   "cell_type": "code",
   "execution_count": 21,
   "metadata": {},
   "outputs": [],
   "source": [
    "def populateMatrix(n,p):\n",
    "    \"\"\"\n",
    "    This function returns randomly populated maze\n",
    "    p: probabillity density of each cell\n",
    "    n: size of the maze\n",
    "    \"\"\"\n",
    "    global block_unblock_matrix\n",
    "    np_array = np.random.rand(n*n)\n",
    "    block = lambda x: 0 if x>=p else 1\n",
    "    vectorized_block = np.vectorize(block)\n",
    "    np_array = vectorized_block(np_array).reshape(n,n)\n",
    "    np_array[0,0]=0\n",
    "    np_array[n-1,n-1] =0\n",
    "    block_unblock_matrix = np.asmatrix(np_array)\n",
    "\n",
    "    ############testing on hard coded matrix ###########\n",
    "#     block_unblock_matrix = [[0, 0, 0, 0, 0],\n",
    "#             [0, 0, 0, 0, 0],\n",
    "#             [0, 0, 0, 0, 0],\n",
    "#             [0, 1, 0, 0, 0],\n",
    "#             [1, 0, 0, 1, 0]]\n",
    "#     ######################################\n",
    "#     populateMatrix(n,p)\n",
    "    block_unblock_matrix = np.matrix(block_unblock_matrix)\n",
    "    plt.spy(block_unblock_matrix)\n",
    "    return block_unblock_matrix\n"
   ]
  },
  {
   "cell_type": "code",
   "execution_count": 22,
   "metadata": {},
   "outputs": [
    {
     "data": {
      "text/plain": [
       "<matplotlib.image.AxesImage at 0x1980c4e2670>"
      ]
     },
     "execution_count": 22,
     "metadata": {},
     "output_type": "execute_result"
    },
    {
     "data": {
      "image/png": "[encoded data removed]",
      "text/plain": [
       "<Figure size 432x288 with 1 Axes>"
      ]
     },
     "metadata": {
      "needs_background": "light"
     },
     "output_type": "display_data"
    }
   ],
   "source": [
    "maze_size = 30\n",
    "agent_grid_world = np.full((maze_size, maze_size),3)\n",
    "agent_grid_world = np.asmatrix(agent_grid_world)\n",
    "full_grid_world = populateMatrix(maze_size, 0.3)\n",
    "plt.spy(full_grid_world)\n",
    "\n",
    "# _ = outfile.seek(0)\n",
    "# full_grid_world = np.load(outfile)"
   ]
  },
  {
   "cell_type": "code",
   "execution_count": 23,
   "metadata": {},
   "outputs": [],
   "source": [
    "def next_move(current_node, predictions, full_grid_world, visited_list, maze_size, trajectory, flag, agent_grid_world):\n",
    "    message = ''\n",
    "#     if flag == 'blocked':\n",
    "#         if trajectory:\n",
    "#             return trajectory[-1], message\n",
    "#         else:\n",
    "#             return trajectory[-1], \"Can't reach goal\"\n",
    "\n",
    "    print('current_node -- (next_move)', current_node)\n",
    "    indices = zip(np.where(predictions[0] == predictions[0].max()))\n",
    "\n",
    "#     print(predictions[0])\n",
    "    for row in indices:\n",
    "        print(row)\n",
    "        if row[0][0] == 0:\n",
    "            message = 'up'\n",
    "            print(message)\n",
    "            next_node = (current_node[0] - 1, current_node[1])\n",
    "        elif row[0][0] == 1:\n",
    "            message = 'down'\n",
    "            print(message)\n",
    "            next_node = (current_node[0] + 1, current_node[1])\n",
    "        elif row[0][0] == 2:\n",
    "            message = 'left'\n",
    "            print(message)\n",
    "            next_node = (current_node[0], current_node[1] - 1)\n",
    "        elif row[0][0] == 3:\n",
    "            message = 'right'\n",
    "            print(message)\n",
    "            next_node = (current_node[0], current_node[1] + 1)\n",
    "    if agent_grid_world[next_node] == 2:\n",
    "        print(\"entered blocked node\")\n",
    "        children = get_children(current_node[0], current_node[1], maze_size, visited_list)\n",
    "        print('children', children)\n",
    "        import random\n",
    "        i = random.randint(0,len(children)-1)\n",
    "        print('next_node out changed from:', next_node, 'to ', children[i])\n",
    "        return children[i], message\n",
    "    print('next_node out::',next_node)\n",
    "    return next_node, message\n",
    "#     try:\n",
    "#         print(full_grid_world.item(next_node))\n",
    "# #         print('##########')\n",
    "# #         print('next_node -- (next_move 2)', next_node)\n",
    "#         if next_node not in visited_list:\n",
    "#             return next_node, message\n",
    "#         else:\n",
    "#             children = get_children(current_node[0], current_node[1], maze_size, visited_list)\n",
    "#             for i in children:\n",
    "#                 if i not in visited_list:\n",
    "#                     return i, message\n",
    "#                 else:\n",
    "#                     returni, \"Can't reach goal\"\n",
    "#     except Exception as err:\n",
    "#         print(err)\n",
    "#         children = get_children(current_node[0], current_node[1], maze_size, visited_list)\n",
    "#         for i in children:\n",
    "#             if i not in visited_list:\n",
    "#                 return i, message\n",
    "#             else:\n",
    "#                 return i , \"Can't reach goal\"\n",
    "#         return children[-1], message"
   ]
  },
  {
   "cell_type": "code",
   "execution_count": 24,
   "metadata": {},
   "outputs": [],
   "source": [
    "def get_neighbors(row, col, n):\n",
    "    dir = [[-1, -1], [-1, 0],[-1, 1], [0, -1], [0, 0],  [0, 1], [1, -1], [1, 0], [1, 1]]\n",
    "    friend = []\n",
    "    count = 0\n",
    "    for x, y in dir:\n",
    "        row_new = row + x\n",
    "        col_new = col + y\n",
    "        if (row_new>=0 and row_new<=(n-1)) and (col_new>=0 and col_new<=(n-1)):\n",
    "            count += 1\n",
    "            friend.append((row_new, col_new))\n",
    "    return count, friend"
   ]
  },
  {
   "cell_type": "code",
   "execution_count": 25,
   "metadata": {},
   "outputs": [],
   "source": [
    "def get_window(current_node, agent_grid_world, full_grid_world):\n",
    "    a = []\n",
    "    b = []\n",
    "    count, neighbors = get_neighbors(current_node[0],current_node[1], maze_size)\n",
    "\n",
    "    if len(neighbors) == 4:\n",
    "        if current_node == (0,0):\n",
    "            count, neighbors = get_neighbors(1,1, maze_size)\n",
    "        elif current_node == (0,maze_size-1):\n",
    "            count, neighbors = get_neighbors(1,maze_size-2, maze_size)\n",
    "        elif current_node == (maze_size-1,0):\n",
    "            count, neighbors = get_neighbors(maze_size-2, 1, maze_size)\n",
    "        elif current_node == (maze_size-1,maze_size-1):\n",
    "            count, neighbors = get_neighbors(maze_size-2,maze_size-2, maze_size)\n",
    "    elif len(neighbors) == 6:\n",
    "        if current_node[0] == 0:\n",
    "            count, neighbors = get_neighbors(current_node[0] + 1,current_node[1], maze_size)\n",
    "        elif current_node[0] == maze_size-1:\n",
    "            count, neighbors = get_neighbors(current_node[0] - 1,current_node[1], maze_size)\n",
    "        elif current_node[1] == 0:\n",
    "            count, neighbors = get_neighbors(current_node[0],current_node[1] + 1, maze_size)\n",
    "        elif current_node[1] == maze_size-1:\n",
    "            count, neighbors = get_neighbors(current_node[0],current_node[1] - 1, maze_size)\n",
    "    for i in neighbors:\n",
    "        a.append(agent_grid_world[i])\n",
    "        b.append(full_grid_world[i])\n",
    "    window = np.asarray(a).reshape(3,3)\n",
    "    print('neighbors', neighbors)\n",
    "    print(\"full grid:\", np.asarray(b).reshape(3,3))\n",
    "\n",
    "    return window"
   ]
  },
  {
   "cell_type": "code",
   "execution_count": 26,
   "metadata": {
    "scrolled": true
   },
   "outputs": [
    {
     "name": "stdout",
     "output_type": "stream",
     "text": [
      "neighbors [(0, 0), (0, 1), (0, 2), (1, 0), (1, 1), (1, 2), (2, 0), (2, 1), (2, 2)]\n",
      "full grid: [[0 0 0]\n",
      " [0 1 0]\n",
      " [0 0 0]]\n",
      "[[4 3 3]\n",
      " [3 3 3]\n",
      " [3 3 3]]\n",
      "free\n",
      "current_node -- (next_move) (0, 0)\n",
      "(array([1], dtype=int64),)\n",
      "down\n",
      "next_node out:: (1, 0)\n",
      "next_node out (1, 0)\n",
      "message down\n"
     ]
    },
    {
     "data": {
      "image/png": "[encoded data removed]",
      "text/plain": [
       "<Figure size 432x288 with 1 Axes>"
      ]
     },
     "metadata": {
      "needs_background": "light"
     },
     "output_type": "display_data"
    },
    {
     "name": "stdout",
     "output_type": "stream",
     "text": [
      "[(0, 0)]\n",
      "neighbors [(0, 0), (0, 1), (0, 2), (1, 0), (1, 1), (1, 2), (2, 0), (2, 1), (2, 2)]\n",
      "full grid: [[0 0 0]\n",
      " [0 1 0]\n",
      " [0 0 0]]\n",
      "[[1 3 3]\n",
      " [4 3 3]\n",
      " [3 3 3]]\n",
      "free\n",
      "current_node -- (next_move) (1, 0)\n",
      "(array([1], dtype=int64),)\n",
      "down\n",
      "next_node out:: (2, 0)\n",
      "next_node out (2, 0)\n",
      "message down\n"
     ]
    },
    {
     "data": {
      "image/png": "[encoded data removed]",
      "text/plain": [
       "<Figure size 432x288 with 1 Axes>"
      ]
     },
     "metadata": {
      "needs_background": "light"
     },
     "output_type": "display_data"
    },
    {
     "name": "stdout",
     "output_type": "stream",
     "text": [
      "[(0, 0), (1, 0)]\n",
      "neighbors [(1, 0), (1, 1), (1, 2), (2, 0), (2, 1), (2, 2), (3, 0), (3, 1), (3, 2)]\n",
      "full grid: [[0 1 0]\n",
      " [0 0 0]\n",
      " [1 0 0]]\n",
      "[[1 3 3]\n",
      " [4 3 3]\n",
      " [3 3 3]]\n",
      "free\n",
      "current_node -- (next_move) (2, 0)\n",
      "(array([1], dtype=int64),)\n",
      "down\n",
      "next_node out:: (3, 0)\n",
      "next_node out (3, 0)\n",
      "message down\n"
     ]
    },
    {
     "data": {
      "image/png": "[encoded data removed]",
      "text/plain": [
       "<Figure size 432x288 with 1 Axes>"
      ]
     },
     "metadata": {
      "needs_background": "light"
     },
     "output_type": "display_data"
    },
    {
     "name": "stdout",
     "output_type": "stream",
     "text": [
      "[(0, 0), (1, 0), (2, 0)]\n",
      "neighbors [(2, 0), (2, 1), (2, 2), (3, 0), (3, 1), (3, 2), (4, 0), (4, 1), (4, 2)]\n",
      "full grid: [[0 0 0]\n",
      " [1 0 0]\n",
      " [1 0 0]]\n",
      "[[1 3 3]\n",
      " [4 3 3]\n",
      " [3 3 3]]\n",
      "blocked\n",
      "next node::::  (2, 0)\n"
     ]
    },
    {
     "data": {
      "image/png": "[encoded data removed]",
      "text/plain": [
       "<Figure size 432x288 with 1 Axes>"
      ]
     },
     "metadata": {
      "needs_background": "light"
     },
     "output_type": "display_data"
    },
    {
     "name": "stdout",
     "output_type": "stream",
     "text": [
      "[(0, 0), (1, 0), (2, 0), (3, 0)]\n",
      "neighbors [(1, 0), (1, 1), (1, 2), (2, 0), (2, 1), (2, 2), (3, 0), (3, 1), (3, 2)]\n",
      "full grid: [[0 1 0]\n",
      " [0 0 0]\n",
      " [1 0 0]]\n",
      "[[1 3 3]\n",
      " [4 3 3]\n",
      " [2 3 3]]\n",
      "free\n",
      "current_node -- (next_move) (2, 0)\n",
      "(array([3], dtype=int64),)\n",
      "right\n",
      "next_node out:: (2, 1)\n",
      "next_node out (2, 1)\n",
      "message right\n"
     ]
    },
    {
     "data": {
      "image/png": "[encoded data removed]",
      "text/plain": [
       "<Figure size 432x288 with 1 Axes>"
      ]
     },
     "metadata": {
      "needs_background": "light"
     },
     "output_type": "display_data"
    },
    {
     "name": "stdout",
     "output_type": "stream",
     "text": [
      "[(0, 0), (1, 0), (2, 0), (3, 0)]\n",
      "neighbors [(1, 0), (1, 1), (1, 2), (2, 0), (2, 1), (2, 2), (3, 0), (3, 1), (3, 2)]\n",
      "full grid: [[0 1 0]\n",
      " [0 0 0]\n",
      " [1 0 0]]\n",
      "[[1 3 3]\n",
      " [1 4 3]\n",
      " [2 3 3]]\n",
      "free\n",
      "current_node -- (next_move) (2, 1)\n",
      "(array([1], dtype=int64),)\n",
      "down\n",
      "next_node out:: (3, 1)\n",
      "next_node out (3, 1)\n",
      "message down\n"
     ]
    },
    {
     "data": {
      "image/png": "[encoded data removed]",
      "text/plain": [
       "<Figure size 432x288 with 1 Axes>"
      ]
     },
     "metadata": {
      "needs_background": "light"
     },
     "output_type": "display_data"
    },
    {
     "name": "stdout",
     "output_type": "stream",
     "text": [
      "[(0, 0), (1, 0), (2, 0), (3, 0), (2, 1)]\n",
      "neighbors [(2, 0), (2, 1), (2, 2), (3, 0), (3, 1), (3, 2), (4, 0), (4, 1), (4, 2)]\n",
      "full grid: [[0 0 0]\n",
      " [1 0 0]\n",
      " [1 0 0]]\n",
      "[[1 1 3]\n",
      " [2 4 3]\n",
      " [3 3 3]]\n",
      "free\n",
      "current_node -- (next_move) (3, 1)\n",
      "(array([1], dtype=int64),)\n",
      "down\n",
      "next_node out:: (4, 1)\n",
      "next_node out (4, 1)\n",
      "message down\n"
     ]
    },
    {
     "data": {
      "image/png": "[encoded data removed]",
      "text/plain": [
       "<Figure size 432x288 with 1 Axes>"
      ]
     },
     "metadata": {
      "needs_background": "light"
     },
     "output_type": "display_data"
    },
    {
     "name": "stdout",
     "output_type": "stream",
     "text": [
      "[(0, 0), (1, 0), (2, 0), (3, 0), (2, 1), (3, 1)]\n",
      "neighbors [(3, 0), (3, 1), (3, 2), (4, 0), (4, 1), (4, 2), (5, 0), (5, 1), (5, 2)]\n",
      "full grid: [[1 0 0]\n",
      " [1 0 0]\n",
      " [0 0 0]]\n",
      "[[2 1 3]\n",
      " [3 4 3]\n",
      " [3 3 3]]\n",
      "free\n",
      "current_node -- (next_move) (4, 1)\n",
      "(array([1], dtype=int64),)\n",
      "down\n",
      "next_node out:: (5, 1)\n",
      "next_node out (5, 1)\n",
      "message down\n"
     ]
    },
    {
     "data": {
      "image/png": "[encoded data removed]",
      "text/plain": [
       "<Figure size 432x288 with 1 Axes>"
      ]
     },
     "metadata": {
      "needs_background": "light"
     },
     "output_type": "display_data"
    },
    {
     "name": "stdout",
     "output_type": "stream",
     "text": [
      "[(0, 0), (1, 0), (2, 0), (3, 0), (2, 1), (3, 1), (4, 1)]\n",
      "neighbors [(4, 0), (4, 1), (4, 2), (5, 0), (5, 1), (5, 2), (6, 0), (6, 1), (6, 2)]\n",
      "full grid: [[1 0 0]\n",
      " [0 0 0]\n",
      " [1 0 0]]\n",
      "[[3 1 3]\n",
      " [3 4 3]\n",
      " [3 3 3]]\n",
      "free\n",
      "current_node -- (next_move) (5, 1)\n",
      "(array([1], dtype=int64),)\n",
      "down\n",
      "next_node out:: (6, 1)\n",
      "next_node out (6, 1)\n",
      "message down\n"
     ]
    },
    {
     "data": {
      "image/png": "[encoded data removed]",
      "text/plain": [
       "<Figure size 432x288 with 1 Axes>"
      ]
     },
     "metadata": {
      "needs_background": "light"
     },
     "output_type": "display_data"
    },
    {
     "name": "stdout",
     "output_type": "stream",
     "text": [
      "[(0, 0), (1, 0), (2, 0), (3, 0), (2, 1), (3, 1), (4, 1), (5, 1)]\n",
      "neighbors [(5, 0), (5, 1), (5, 2), (6, 0), (6, 1), (6, 2), (7, 0), (7, 1), (7, 2)]\n",
      "full grid: [[0 0 0]\n",
      " [1 0 0]\n",
      " [0 0 1]]\n",
      "[[3 1 3]\n",
      " [3 4 3]\n",
      " [3 3 3]]\n",
      "free\n",
      "current_node -- (next_move) (6, 1)\n",
      "(array([1], dtype=int64),)\n",
      "down\n",
      "next_node out:: (7, 1)\n",
      "next_node out (7, 1)\n",
      "message down\n"
     ]
    },
    {
     "data": {
      "image/png": "[encoded data removed]",
      "text/plain": [
       "<Figure size 432x288 with 1 Axes>"
      ]
     },
     "metadata": {
      "needs_background": "light"
     },
     "output_type": "display_data"
    },
    {
     "name": "stdout",
     "output_type": "stream",
     "text": [
      "[(0, 0), (1, 0), (2, 0), (3, 0), (2, 1), (3, 1), (4, 1), (5, 1), (6, 1)]\n",
      "neighbors [(6, 0), (6, 1), (6, 2), (7, 0), (7, 1), (7, 2), (8, 0), (8, 1), (8, 2)]\n",
      "full grid: [[1 0 0]\n",
      " [0 0 1]\n",
      " [0 0 1]]\n",
      "[[3 1 3]\n",
      " [3 4 3]\n",
      " [3 3 3]]\n",
      "free\n",
      "current_node -- (next_move) (7, 1)\n",
      "(array([1], dtype=int64),)\n",
      "down\n",
      "next_node out:: (8, 1)\n",
      "next_node out (8, 1)\n",
      "message down\n"
     ]
    },
    {
     "data": {
      "image/png": "[encoded data removed]",
      "text/plain": [
       "<Figure size 432x288 with 1 Axes>"
      ]
     },
     "metadata": {
      "needs_background": "light"
     },
     "output_type": "display_data"
    },
    {
     "name": "stdout",
     "output_type": "stream",
     "text": [
      "[(0, 0), (1, 0), (2, 0), (3, 0), (2, 1), (3, 1), (4, 1), (5, 1), (6, 1), (7, 1)]\n",
      "neighbors [(7, 0), (7, 1), (7, 2), (8, 0), (8, 1), (8, 2), (9, 0), (9, 1), (9, 2)]\n",
      "full grid: [[0 0 1]\n",
      " [0 0 1]\n",
      " [1 1 0]]\n",
      "[[3 1 3]\n",
      " [3 4 3]\n",
      " [3 3 3]]\n",
      "free\n",
      "current_node -- (next_move) (8, 1)\n",
      "(array([1], dtype=int64),)\n",
      "down\n",
      "next_node out:: (9, 1)\n",
      "next_node out (9, 1)\n",
      "message down\n"
     ]
    },
    {
     "data": {
      "image/png": "[encoded data removed]",
      "text/plain": [
       "<Figure size 432x288 with 1 Axes>"
      ]
     },
     "metadata": {
      "needs_background": "light"
     },
     "output_type": "display_data"
    },
    {
     "name": "stdout",
     "output_type": "stream",
     "text": [
      "[(0, 0), (1, 0), (2, 0), (3, 0), (2, 1), (3, 1), (4, 1), (5, 1), (6, 1), (7, 1), (8, 1)]\n",
      "neighbors [(8, 0), (8, 1), (8, 2), (9, 0), (9, 1), (9, 2), (10, 0), (10, 1), (10, 2)]\n",
      "full grid: [[0 0 1]\n",
      " [1 1 0]\n",
      " [0 0 1]]\n",
      "[[3 1 3]\n",
      " [3 4 3]\n",
      " [3 3 3]]\n",
      "blocked\n",
      "next node::::  (8, 1)\n"
     ]
    },
    {
     "data": {
      "image/png": "[encoded data removed]",
      "text/plain": [
       "<Figure size 432x288 with 1 Axes>"
      ]
     },
     "metadata": {
      "needs_background": "light"
     },
     "output_type": "display_data"
    },
    {
     "name": "stdout",
     "output_type": "stream",
     "text": [
      "[(0, 0), (1, 0), (2, 0), (3, 0), (2, 1), (3, 1), (4, 1), (5, 1), (6, 1), (7, 1), (8, 1), (9, 1)]\n",
      "neighbors [(7, 0), (7, 1), (7, 2), (8, 0), (8, 1), (8, 2), (9, 0), (9, 1), (9, 2)]\n",
      "full grid: [[0 0 1]\n",
      " [0 0 1]\n",
      " [1 1 0]]\n",
      "[[3 1 3]\n",
      " [3 4 3]\n",
      " [3 2 3]]\n",
      "free\n",
      "current_node -- (next_move) (8, 1)\n",
      "(array([3], dtype=int64),)\n",
      "right\n",
      "next_node out:: (8, 2)\n",
      "next_node out (8, 2)\n",
      "message right\n"
     ]
    },
    {
     "data": {
      "image/png": "[encoded data removed]",
      "text/plain": [
       "<Figure size 432x288 with 1 Axes>"
      ]
     },
     "metadata": {
      "needs_background": "light"
     },
     "output_type": "display_data"
    },
    {
     "name": "stdout",
     "output_type": "stream",
     "text": [
      "[(0, 0), (1, 0), (2, 0), (3, 0), (2, 1), (3, 1), (4, 1), (5, 1), (6, 1), (7, 1), (8, 1), (9, 1)]\n",
      "neighbors [(7, 1), (7, 2), (7, 3), (8, 1), (8, 2), (8, 3), (9, 1), (9, 2), (9, 3)]\n",
      "full grid: [[0 1 0]\n",
      " [0 1 1]\n",
      " [1 0 0]]\n",
      "[[1 3 3]\n",
      " [1 4 3]\n",
      " [2 3 3]]\n",
      "blocked\n",
      "next node::::  (8, 1)\n"
     ]
    },
    {
     "data": {
      "image/png": "[encoded data removed]",
      "text/plain": [
       "<Figure size 432x288 with 1 Axes>"
      ]
     },
     "metadata": {
      "needs_background": "light"
     },
     "output_type": "display_data"
    },
    {
     "name": "stdout",
     "output_type": "stream",
     "text": [
      "[(0, 0), (1, 0), (2, 0), (3, 0), (2, 1), (3, 1), (4, 1), (5, 1), (6, 1), (7, 1), (8, 1), (9, 1), (8, 2)]\n",
      "neighbors [(7, 0), (7, 1), (7, 2), (8, 0), (8, 1), (8, 2), (9, 0), (9, 1), (9, 2)]\n",
      "full grid: [[0 0 1]\n",
      " [0 0 1]\n",
      " [1 1 0]]\n",
      "[[3 1 3]\n",
      " [3 4 2]\n",
      " [3 2 3]]\n",
      "free\n",
      "current_node -- (next_move) (8, 1)\n",
      "(array([1], dtype=int64),)\n",
      "down\n",
      "entered blocked node\n",
      "children [(9, 1), (7, 1), (8, 2), (8, 0)]\n",
      "next_node out changed from: (9, 1) to  (9, 1)\n",
      "next_node out (9, 1)\n",
      "message down\n"
     ]
    },
    {
     "data": {
      "image/png": "[encoded data removed]",
      "text/plain": [
       "<Figure size 432x288 with 1 Axes>"
      ]
     },
     "metadata": {
      "needs_background": "light"
     },
     "output_type": "display_data"
    },
    {
     "name": "stdout",
     "output_type": "stream",
     "text": [
      "[(0, 0), (1, 0), (2, 0), (3, 0), (2, 1), (3, 1), (4, 1), (5, 1), (6, 1), (7, 1), (8, 1), (9, 1), (8, 2)]\n",
      "neighbors [(8, 0), (8, 1), (8, 2), (9, 0), (9, 1), (9, 2), (10, 0), (10, 1), (10, 2)]\n",
      "full grid: [[0 0 1]\n",
      " [1 1 0]\n",
      " [0 0 1]]\n",
      "[[3 1 2]\n",
      " [3 4 3]\n",
      " [3 3 3]]\n",
      "blocked\n",
      "next node::::  (8, 1)\n"
     ]
    },
    {
     "data": {
      "image/png": "[encoded data removed]",
      "text/plain": [
       "<Figure size 432x288 with 1 Axes>"
      ]
     },
     "metadata": {
      "needs_background": "light"
     },
     "output_type": "display_data"
    },
    {
     "name": "stdout",
     "output_type": "stream",
     "text": [
      "[(0, 0), (1, 0), (2, 0), (3, 0), (2, 1), (3, 1), (4, 1), (5, 1), (6, 1), (7, 1), (8, 1), (9, 1), (8, 2)]\n",
      "neighbors [(7, 0), (7, 1), (7, 2), (8, 0), (8, 1), (8, 2), (9, 0), (9, 1), (9, 2)]\n",
      "full grid: [[0 0 1]\n",
      " [0 0 1]\n",
      " [1 1 0]]\n",
      "[[3 1 3]\n",
      " [3 4 2]\n",
      " [3 2 3]]\n",
      "free\n",
      "current_node -- (next_move) (8, 1)\n",
      "(array([1], dtype=int64),)\n",
      "down\n",
      "entered blocked node\n",
      "children [(9, 1), (7, 1), (8, 2), (8, 0)]\n",
      "next_node out changed from: (9, 1) to  (7, 1)\n",
      "next_node out (7, 1)\n",
      "message down\n"
     ]
    },
    {
     "data": {
      "image/png": "[encoded data removed]",
      "text/plain": [
       "<Figure size 432x288 with 1 Axes>"
      ]
     },
     "metadata": {
      "needs_background": "light"
     },
     "output_type": "display_data"
    },
    {
     "name": "stdout",
     "output_type": "stream",
     "text": [
      "[(0, 0), (1, 0), (2, 0), (3, 0), (2, 1), (3, 1), (4, 1), (5, 1), (6, 1), (7, 1), (8, 1), (9, 1), (8, 2)]\n",
      "neighbors [(6, 0), (6, 1), (6, 2), (7, 0), (7, 1), (7, 2), (8, 0), (8, 1), (8, 2)]\n",
      "full grid: [[1 0 0]\n",
      " [0 0 1]\n",
      " [0 0 1]]\n",
      "[[3 1 3]\n",
      " [3 4 3]\n",
      " [3 1 2]]\n",
      "free\n",
      "current_node -- (next_move) (7, 1)\n",
      "(array([3], dtype=int64),)\n",
      "right\n",
      "next_node out:: (7, 2)\n",
      "next_node out (7, 2)\n",
      "message right\n"
     ]
    },
    {
     "data": {
      "image/png": "[encoded data removed]",
      "text/plain": [
       "<Figure size 432x288 with 1 Axes>"
      ]
     },
     "metadata": {
      "needs_background": "light"
     },
     "output_type": "display_data"
    },
    {
     "name": "stdout",
     "output_type": "stream",
     "text": [
      "[(0, 0), (1, 0), (2, 0), (3, 0), (2, 1), (3, 1), (4, 1), (5, 1), (6, 1), (7, 1), (8, 1), (9, 1), (8, 2)]\n",
      "neighbors [(6, 1), (6, 2), (6, 3), (7, 1), (7, 2), (7, 3), (8, 1), (8, 2), (8, 3)]\n",
      "full grid: [[0 0 0]\n",
      " [0 1 0]\n",
      " [0 1 1]]\n",
      "[[1 3 3]\n",
      " [1 4 3]\n",
      " [1 2 3]]\n",
      "blocked\n",
      "next node::::  (7, 1)\n"
     ]
    },
    {
     "data": {
      "image/png": "[encoded data removed]",
      "text/plain": [
       "<Figure size 432x288 with 1 Axes>"
      ]
     },
     "metadata": {
      "needs_background": "light"
     },
     "output_type": "display_data"
    },
    {
     "name": "stdout",
     "output_type": "stream",
     "text": [
      "[(0, 0), (1, 0), (2, 0), (3, 0), (2, 1), (3, 1), (4, 1), (5, 1), (6, 1), (7, 1), (8, 1), (9, 1), (8, 2), (7, 2)]\n",
      "neighbors [(6, 0), (6, 1), (6, 2), (7, 0), (7, 1), (7, 2), (8, 0), (8, 1), (8, 2)]\n",
      "full grid: [[1 0 0]\n",
      " [0 0 1]\n",
      " [0 0 1]]\n",
      "[[3 1 3]\n",
      " [3 4 2]\n",
      " [3 1 2]]\n",
      "free\n",
      "current_node -- (next_move) (7, 1)\n",
      "(array([0], dtype=int64),)\n",
      "up\n",
      "next_node out:: (6, 1)\n",
      "next_node out (6, 1)\n",
      "message up\n"
     ]
    },
    {
     "data": {
      "image/png": "[encoded data removed]",
      "text/plain": [
       "<Figure size 432x288 with 1 Axes>"
      ]
     },
     "metadata": {
      "needs_background": "light"
     },
     "output_type": "display_data"
    },
    {
     "name": "stdout",
     "output_type": "stream",
     "text": [
      "[(0, 0), (1, 0), (2, 0), (3, 0), (2, 1), (3, 1), (4, 1), (5, 1), (6, 1), (7, 1), (8, 1), (9, 1), (8, 2), (7, 2)]\n",
      "neighbors [(5, 0), (5, 1), (5, 2), (6, 0), (6, 1), (6, 2), (7, 0), (7, 1), (7, 2)]\n",
      "full grid: [[0 0 0]\n",
      " [1 0 0]\n",
      " [0 0 1]]\n",
      "[[3 1 3]\n",
      " [3 4 3]\n",
      " [3 1 2]]\n",
      "free\n",
      "current_node -- (next_move) (6, 1)\n",
      "(array([3], dtype=int64),)\n",
      "right\n",
      "next_node out:: (6, 2)\n",
      "next_node out (6, 2)\n",
      "message right\n"
     ]
    },
    {
     "data": {
      "image/png": "[encoded data removed]",
      "text/plain": [
       "<Figure size 432x288 with 1 Axes>"
      ]
     },
     "metadata": {
      "needs_background": "light"
     },
     "output_type": "display_data"
    },
    {
     "name": "stdout",
     "output_type": "stream",
     "text": [
      "[(0, 0), (1, 0), (2, 0), (3, 0), (2, 1), (3, 1), (4, 1), (5, 1), (6, 1), (7, 1), (8, 1), (9, 1), (8, 2), (7, 2)]\n",
      "neighbors [(5, 1), (5, 2), (5, 3), (6, 1), (6, 2), (6, 3), (7, 1), (7, 2), (7, 3)]\n",
      "full grid: [[0 0 0]\n",
      " [0 0 0]\n",
      " [0 1 0]]\n",
      "[[1 3 3]\n",
      " [1 4 3]\n",
      " [1 2 3]]\n",
      "free\n",
      "current_node -- (next_move) (6, 2)\n",
      "(array([3], dtype=int64),)\n",
      "right\n",
      "next_node out:: (6, 3)\n",
      "next_node out (6, 3)\n",
      "message right\n"
     ]
    },
    {
     "data": {
      "image/png": "[encoded data removed]",
      "text/plain": [
       "<Figure size 432x288 with 1 Axes>"
      ]
     },
     "metadata": {
      "needs_background": "light"
     },
     "output_type": "display_data"
    },
    {
     "name": "stdout",
     "output_type": "stream",
     "text": [
      "[(0, 0), (1, 0), (2, 0), (3, 0), (2, 1), (3, 1), (4, 1), (5, 1), (6, 1), (7, 1), (8, 1), (9, 1), (8, 2), (7, 2), (6, 2)]\n",
      "neighbors [(5, 2), (5, 3), (5, 4), (6, 2), (6, 3), (6, 4), (7, 2), (7, 3), (7, 4)]\n",
      "full grid: [[0 0 0]\n",
      " [0 0 0]\n",
      " [1 0 1]]\n",
      "[[3 3 3]\n",
      " [1 4 3]\n",
      " [2 3 3]]\n",
      "free\n",
      "current_node -- (next_move) (6, 3)\n",
      "(array([1], dtype=int64),)\n",
      "down\n",
      "next_node out:: (7, 3)\n",
      "next_node out (7, 3)\n",
      "message down\n"
     ]
    },
    {
     "data": {
      "image/png": "[encoded data removed]",
      "text/plain": [
       "<Figure size 432x288 with 1 Axes>"
      ]
     },
     "metadata": {
      "needs_background": "light"
     },
     "output_type": "display_data"
    },
    {
     "name": "stdout",
     "output_type": "stream",
     "text": [
      "[(0, 0), (1, 0), (2, 0), (3, 0), (2, 1), (3, 1), (4, 1), (5, 1), (6, 1), (7, 1), (8, 1), (9, 1), (8, 2), (7, 2), (6, 2), (6, 3)]\n",
      "neighbors [(6, 2), (6, 3), (6, 4), (7, 2), (7, 3), (7, 4), (8, 2), (8, 3), (8, 4)]\n",
      "full grid: [[0 0 0]\n",
      " [1 0 1]\n",
      " [1 1 1]]\n",
      "[[1 1 3]\n",
      " [2 4 3]\n",
      " [2 3 3]]\n",
      "free\n",
      "current_node -- (next_move) (7, 3)\n",
      "(array([1], dtype=int64),)\n",
      "down\n",
      "next_node out:: (8, 3)\n",
      "next_node out (8, 3)\n",
      "message down\n"
     ]
    },
    {
     "data": {
      "image/png": "[encoded data removed]",
      "text/plain": [
       "<Figure size 432x288 with 1 Axes>"
      ]
     },
     "metadata": {
      "needs_background": "light"
     },
     "output_type": "display_data"
    },
    {
     "name": "stdout",
     "output_type": "stream",
     "text": [
      "[(0, 0), (1, 0), (2, 0), (3, 0), (2, 1), (3, 1), (4, 1), (5, 1), (6, 1), (7, 1), (8, 1), (9, 1), (8, 2), (7, 2), (6, 2), (6, 3), (7, 3)]\n",
      "neighbors [(7, 2), (7, 3), (7, 4), (8, 2), (8, 3), (8, 4), (9, 2), (9, 3), (9, 4)]\n",
      "full grid: [[1 0 1]\n",
      " [1 1 1]\n",
      " [0 0 1]]\n",
      "[[2 1 3]\n",
      " [2 4 3]\n",
      " [3 3 3]]\n",
      "blocked\n",
      "next node::::  (7, 3)\n"
     ]
    },
    {
     "data": {
      "image/png": "[encoded data removed]",
      "text/plain": [
       "<Figure size 432x288 with 1 Axes>"
      ]
     },
     "metadata": {
      "needs_background": "light"
     },
     "output_type": "display_data"
    },
    {
     "name": "stdout",
     "output_type": "stream",
     "text": [
      "[(0, 0), (1, 0), (2, 0), (3, 0), (2, 1), (3, 1), (4, 1), (5, 1), (6, 1), (7, 1), (8, 1), (9, 1), (8, 2), (7, 2), (6, 2), (6, 3), (7, 3), (8, 3)]\n",
      "neighbors [(6, 2), (6, 3), (6, 4), (7, 2), (7, 3), (7, 4), (8, 2), (8, 3), (8, 4)]\n",
      "full grid: [[0 0 0]\n",
      " [1 0 1]\n",
      " [1 1 1]]\n",
      "[[1 1 3]\n",
      " [2 4 3]\n",
      " [2 2 3]]\n",
      "free\n",
      "current_node -- (next_move) (7, 3)\n",
      "(array([3], dtype=int64),)\n",
      "right\n",
      "next_node out:: (7, 4)\n",
      "next_node out (7, 4)\n",
      "message right\n"
     ]
    },
    {
     "data": {
      "image/png": "[encoded data removed]",
      "text/plain": [
       "<Figure size 432x288 with 1 Axes>"
      ]
     },
     "metadata": {
      "needs_background": "light"
     },
     "output_type": "display_data"
    },
    {
     "name": "stdout",
     "output_type": "stream",
     "text": [
      "[(0, 0), (1, 0), (2, 0), (3, 0), (2, 1), (3, 1), (4, 1), (5, 1), (6, 1), (7, 1), (8, 1), (9, 1), (8, 2), (7, 2), (6, 2), (6, 3), (7, 3), (8, 3)]\n",
      "neighbors [(6, 3), (6, 4), (6, 5), (7, 3), (7, 4), (7, 5), (8, 3), (8, 4), (8, 5)]\n",
      "full grid: [[0 0 1]\n",
      " [0 1 0]\n",
      " [1 1 1]]\n",
      "[[1 3 3]\n",
      " [1 4 3]\n",
      " [2 3 3]]\n",
      "blocked\n",
      "next node::::  (7, 3)\n"
     ]
    },
    {
     "data": {
      "image/png": "[encoded data removed]",
      "text/plain": [
       "<Figure size 432x288 with 1 Axes>"
      ]
     },
     "metadata": {
      "needs_background": "light"
     },
     "output_type": "display_data"
    },
    {
     "name": "stdout",
     "output_type": "stream",
     "text": [
      "[(0, 0), (1, 0), (2, 0), (3, 0), (2, 1), (3, 1), (4, 1), (5, 1), (6, 1), (7, 1), (8, 1), (9, 1), (8, 2), (7, 2), (6, 2), (6, 3), (7, 3), (8, 3), (7, 4)]\n",
      "neighbors [(6, 2), (6, 3), (6, 4), (7, 2), (7, 3), (7, 4), (8, 2), (8, 3), (8, 4)]\n",
      "full grid: [[0 0 0]\n",
      " [1 0 1]\n",
      " [1 1 1]]\n",
      "[[1 1 3]\n",
      " [2 4 2]\n",
      " [2 2 3]]\n",
      "free\n",
      "current_node -- (next_move) (7, 3)\n",
      "(array([3], dtype=int64),)\n",
      "right\n",
      "entered blocked node\n",
      "children [(8, 3), (6, 3), (7, 4), (7, 2)]\n",
      "next_node out changed from: (7, 4) to  (7, 4)\n",
      "next_node out (7, 4)\n",
      "message right\n"
     ]
    },
    {
     "data": {
      "image/png": "[encoded data removed]",
      "text/plain": [
       "<Figure size 432x288 with 1 Axes>"
      ]
     },
     "metadata": {
      "needs_background": "light"
     },
     "output_type": "display_data"
    },
    {
     "name": "stdout",
     "output_type": "stream",
     "text": [
      "[(0, 0), (1, 0), (2, 0), (3, 0), (2, 1), (3, 1), (4, 1), (5, 1), (6, 1), (7, 1), (8, 1), (9, 1), (8, 2), (7, 2), (6, 2), (6, 3), (7, 3), (8, 3), (7, 4)]\n",
      "neighbors [(6, 3), (6, 4), (6, 5), (7, 3), (7, 4), (7, 5), (8, 3), (8, 4), (8, 5)]\n",
      "full grid: [[0 0 1]\n",
      " [0 1 0]\n",
      " [1 1 1]]\n",
      "[[1 3 3]\n",
      " [1 4 3]\n",
      " [2 3 3]]\n",
      "blocked\n",
      "next node::::  (7, 3)\n"
     ]
    },
    {
     "data": {
      "image/png": "[encoded data removed]",
      "text/plain": [
       "<Figure size 432x288 with 1 Axes>"
      ]
     },
     "metadata": {
      "needs_background": "light"
     },
     "output_type": "display_data"
    },
    {
     "name": "stdout",
     "output_type": "stream",
     "text": [
      "[(0, 0), (1, 0), (2, 0), (3, 0), (2, 1), (3, 1), (4, 1), (5, 1), (6, 1), (7, 1), (8, 1), (9, 1), (8, 2), (7, 2), (6, 2), (6, 3), (7, 3), (8, 3), (7, 4)]\n",
      "neighbors [(6, 2), (6, 3), (6, 4), (7, 2), (7, 3), (7, 4), (8, 2), (8, 3), (8, 4)]\n",
      "full grid: [[0 0 0]\n",
      " [1 0 1]\n",
      " [1 1 1]]\n",
      "[[1 1 3]\n",
      " [2 4 2]\n",
      " [2 2 3]]\n",
      "free\n",
      "current_node -- (next_move) (7, 3)\n",
      "(array([3], dtype=int64),)\n",
      "right\n",
      "entered blocked node\n",
      "children [(8, 3), (6, 3), (7, 4), (7, 2)]\n",
      "next_node out changed from: (7, 4) to  (7, 4)\n",
      "next_node out (7, 4)\n",
      "message right\n"
     ]
    },
    {
     "data": {
      "image/png": "[encoded data removed]",
      "text/plain": [
       "<Figure size 432x288 with 1 Axes>"
      ]
     },
     "metadata": {
      "needs_background": "light"
     },
     "output_type": "display_data"
    },
    {
     "name": "stdout",
     "output_type": "stream",
     "text": [
      "[(0, 0), (1, 0), (2, 0), (3, 0), (2, 1), (3, 1), (4, 1), (5, 1), (6, 1), (7, 1), (8, 1), (9, 1), (8, 2), (7, 2), (6, 2), (6, 3), (7, 3), (8, 3), (7, 4)]\n",
      "neighbors [(6, 3), (6, 4), (6, 5), (7, 3), (7, 4), (7, 5), (8, 3), (8, 4), (8, 5)]\n",
      "full grid: [[0 0 1]\n",
      " [0 1 0]\n",
      " [1 1 1]]\n",
      "[[1 3 3]\n",
      " [1 4 3]\n",
      " [2 3 3]]\n",
      "blocked\n",
      "next node::::  (7, 3)\n"
     ]
    },
    {
     "data": {
      "image/png": "[encoded data removed]",
      "text/plain": [
       "<Figure size 432x288 with 1 Axes>"
      ]
     },
     "metadata": {
      "needs_background": "light"
     },
     "output_type": "display_data"
    },
    {
     "name": "stdout",
     "output_type": "stream",
     "text": [
      "[(0, 0), (1, 0), (2, 0), (3, 0), (2, 1), (3, 1), (4, 1), (5, 1), (6, 1), (7, 1), (8, 1), (9, 1), (8, 2), (7, 2), (6, 2), (6, 3), (7, 3), (8, 3), (7, 4)]\n",
      "neighbors [(6, 2), (6, 3), (6, 4), (7, 2), (7, 3), (7, 4), (8, 2), (8, 3), (8, 4)]\n",
      "full grid: [[0 0 0]\n",
      " [1 0 1]\n",
      " [1 1 1]]\n",
      "[[1 1 3]\n",
      " [2 4 2]\n",
      " [2 2 3]]\n",
      "free\n",
      "current_node -- (next_move) (7, 3)\n",
      "(array([3], dtype=int64),)\n",
      "right\n",
      "entered blocked node\n",
      "children [(8, 3), (6, 3), (7, 4), (7, 2)]\n",
      "next_node out changed from: (7, 4) to  (7, 2)\n",
      "next_node out (7, 2)\n",
      "message right\n"
     ]
    },
    {
     "data": {
      "image/png": "[encoded data removed]",
      "text/plain": [
       "<Figure size 432x288 with 1 Axes>"
      ]
     },
     "metadata": {
      "needs_background": "light"
     },
     "output_type": "display_data"
    },
    {
     "name": "stdout",
     "output_type": "stream",
     "text": [
      "[(0, 0), (1, 0), (2, 0), (3, 0), (2, 1), (3, 1), (4, 1), (5, 1), (6, 1), (7, 1), (8, 1), (9, 1), (8, 2), (7, 2), (6, 2), (6, 3), (7, 3), (8, 3), (7, 4)]\n",
      "neighbors [(6, 1), (6, 2), (6, 3), (7, 1), (7, 2), (7, 3), (8, 1), (8, 2), (8, 3)]\n",
      "full grid: [[0 0 0]\n",
      " [0 1 0]\n",
      " [0 1 1]]\n",
      "[[1 1 1]\n",
      " [1 4 1]\n",
      " [1 2 2]]\n",
      "blocked\n",
      "next node::::  (7, 3)\n"
     ]
    },
    {
     "data": {
      "image/png": "[encoded data removed]",
      "text/plain": [
       "<Figure size 432x288 with 1 Axes>"
      ]
     },
     "metadata": {
      "needs_background": "light"
     },
     "output_type": "display_data"
    },
    {
     "name": "stdout",
     "output_type": "stream",
     "text": [
      "[(0, 0), (1, 0), (2, 0), (3, 0), (2, 1), (3, 1), (4, 1), (5, 1), (6, 1), (7, 1), (8, 1), (9, 1), (8, 2), (7, 2), (6, 2), (6, 3), (7, 3), (8, 3), (7, 4)]\n",
      "neighbors [(6, 2), (6, 3), (6, 4), (7, 2), (7, 3), (7, 4), (8, 2), (8, 3), (8, 4)]\n",
      "full grid: [[0 0 0]\n",
      " [1 0 1]\n",
      " [1 1 1]]\n",
      "[[1 1 3]\n",
      " [2 4 2]\n",
      " [2 2 3]]\n",
      "free\n",
      "current_node -- (next_move) (7, 3)\n",
      "(array([3], dtype=int64),)\n",
      "right\n",
      "entered blocked node\n",
      "children [(8, 3), (6, 3), (7, 4), (7, 2)]\n",
      "next_node out changed from: (7, 4) to  (6, 3)\n",
      "next_node out (6, 3)\n",
      "message right\n"
     ]
    },
    {
     "data": {
      "image/png": "[encoded data removed]",
      "text/plain": [
       "<Figure size 432x288 with 1 Axes>"
      ]
     },
     "metadata": {
      "needs_background": "light"
     },
     "output_type": "display_data"
    },
    {
     "name": "stdout",
     "output_type": "stream",
     "text": [
      "[(0, 0), (1, 0), (2, 0), (3, 0), (2, 1), (3, 1), (4, 1), (5, 1), (6, 1), (7, 1), (8, 1), (9, 1), (8, 2), (7, 2), (6, 2), (6, 3), (7, 3), (8, 3), (7, 4)]\n",
      "neighbors [(5, 2), (5, 3), (5, 4), (6, 2), (6, 3), (6, 4), (7, 2), (7, 3), (7, 4)]\n",
      "full grid: [[0 0 0]\n",
      " [0 0 0]\n",
      " [1 0 1]]\n",
      "[[3 3 3]\n",
      " [1 4 3]\n",
      " [2 1 2]]\n",
      "free\n",
      "current_node -- (next_move) (6, 3)\n",
      "(array([3], dtype=int64),)\n",
      "right\n",
      "next_node out:: (6, 4)\n",
      "next_node out (6, 4)\n",
      "message right\n"
     ]
    },
    {
     "data": {
      "image/png": "[encoded data removed]",
      "text/plain": [
       "<Figure size 432x288 with 1 Axes>"
      ]
     },
     "metadata": {
      "needs_background": "light"
     },
     "output_type": "display_data"
    },
    {
     "name": "stdout",
     "output_type": "stream",
     "text": [
      "[(0, 0), (1, 0), (2, 0), (3, 0), (2, 1), (3, 1), (4, 1), (5, 1), (6, 1), (7, 1), (8, 1), (9, 1), (8, 2), (7, 2), (6, 2), (6, 3), (7, 3), (8, 3), (7, 4)]\n",
      "neighbors [(5, 3), (5, 4), (5, 5), (6, 3), (6, 4), (6, 5), (7, 3), (7, 4), (7, 5)]\n",
      "full grid: [[0 0 1]\n",
      " [0 0 1]\n",
      " [0 1 0]]\n",
      "[[3 3 3]\n",
      " [1 4 3]\n",
      " [1 2 3]]\n",
      "free\n",
      "current_node -- (next_move) (6, 4)\n",
      "(array([3], dtype=int64),)\n",
      "right\n",
      "next_node out:: (6, 5)\n",
      "next_node out (6, 5)\n",
      "message right\n"
     ]
    },
    {
     "data": {
      "image/png": "[encoded data removed]",
      "text/plain": [
       "<Figure size 432x288 with 1 Axes>"
      ]
     },
     "metadata": {
      "needs_background": "light"
     },
     "output_type": "display_data"
    },
    {
     "name": "stdout",
     "output_type": "stream",
     "text": [
      "[(0, 0), (1, 0), (2, 0), (3, 0), (2, 1), (3, 1), (4, 1), (5, 1), (6, 1), (7, 1), (8, 1), (9, 1), (8, 2), (7, 2), (6, 2), (6, 3), (7, 3), (8, 3), (7, 4), (6, 4)]\n",
      "neighbors [(5, 4), (5, 5), (5, 6), (6, 4), (6, 5), (6, 6), (7, 4), (7, 5), (7, 6)]\n",
      "full grid: [[0 1 1]\n",
      " [0 1 0]\n",
      " [1 0 1]]\n",
      "[[3 3 3]\n",
      " [1 4 3]\n",
      " [2 3 3]]\n",
      "blocked\n",
      "next node::::  (6, 4)\n"
     ]
    },
    {
     "data": {
      "image/png": "[encoded data removed]",
      "text/plain": [
       "<Figure size 432x288 with 1 Axes>"
      ]
     },
     "metadata": {
      "needs_background": "light"
     },
     "output_type": "display_data"
    },
    {
     "name": "stdout",
     "output_type": "stream",
     "text": [
      "[(0, 0), (1, 0), (2, 0), (3, 0), (2, 1), (3, 1), (4, 1), (5, 1), (6, 1), (7, 1), (8, 1), (9, 1), (8, 2), (7, 2), (6, 2), (6, 3), (7, 3), (8, 3), (7, 4), (6, 4), (6, 5)]\n",
      "neighbors [(5, 3), (5, 4), (5, 5), (6, 3), (6, 4), (6, 5), (7, 3), (7, 4), (7, 5)]\n",
      "full grid: [[0 0 1]\n",
      " [0 0 1]\n",
      " [0 1 0]]\n",
      "[[3 3 3]\n",
      " [1 4 2]\n",
      " [1 2 3]]\n",
      "free\n",
      "current_node -- (next_move) (6, 4)\n",
      "(array([3], dtype=int64),)\n",
      "right\n",
      "entered blocked node\n",
      "children [(7, 4), (5, 4), (6, 5), (6, 3)]\n",
      "next_node out changed from: (6, 5) to  (6, 3)\n",
      "next_node out (6, 3)\n",
      "message right\n"
     ]
    },
    {
     "data": {
      "image/png": "[encoded data removed]",
      "text/plain": [
       "<Figure size 432x288 with 1 Axes>"
      ]
     },
     "metadata": {
      "needs_background": "light"
     },
     "output_type": "display_data"
    },
    {
     "name": "stdout",
     "output_type": "stream",
     "text": [
      "[(0, 0), (1, 0), (2, 0), (3, 0), (2, 1), (3, 1), (4, 1), (5, 1), (6, 1), (7, 1), (8, 1), (9, 1), (8, 2), (7, 2), (6, 2), (6, 3), (7, 3), (8, 3), (7, 4), (6, 4), (6, 5)]\n",
      "neighbors [(5, 2), (5, 3), (5, 4), (6, 2), (6, 3), (6, 4), (7, 2), (7, 3), (7, 4)]\n",
      "full grid: [[0 0 0]\n",
      " [0 0 0]\n",
      " [1 0 1]]\n",
      "[[3 3 3]\n",
      " [1 4 1]\n",
      " [2 1 2]]\n",
      "free\n",
      "current_node -- (next_move) (6, 3)\n",
      "(array([0], dtype=int64),)\n",
      "up\n",
      "next_node out:: (5, 3)\n",
      "next_node out (5, 3)\n",
      "message up\n"
     ]
    },
    {
     "data": {
      "image/png": "[encoded data removed]",
      "text/plain": [
       "<Figure size 432x288 with 1 Axes>"
      ]
     },
     "metadata": {
      "needs_background": "light"
     },
     "output_type": "display_data"
    },
    {
     "name": "stdout",
     "output_type": "stream",
     "text": [
      "[(0, 0), (1, 0), (2, 0), (3, 0), (2, 1), (3, 1), (4, 1), (5, 1), (6, 1), (7, 1), (8, 1), (9, 1), (8, 2), (7, 2), (6, 2), (6, 3), (7, 3), (8, 3), (7, 4), (6, 4), (6, 5)]\n",
      "neighbors [(4, 2), (4, 3), (4, 4), (5, 2), (5, 3), (5, 4), (6, 2), (6, 3), (6, 4)]\n",
      "full grid: [[0 1 0]\n",
      " [0 0 0]\n",
      " [0 0 0]]\n",
      "[[3 3 3]\n",
      " [3 4 3]\n",
      " [1 1 1]]\n",
      "free\n",
      "current_node -- (next_move) (5, 3)\n",
      "(array([3], dtype=int64),)\n",
      "right\n",
      "next_node out:: (5, 4)\n",
      "next_node out (5, 4)\n",
      "message right\n"
     ]
    },
    {
     "data": {
      "image/png": "[encoded data removed]",
      "text/plain": [
       "<Figure size 432x288 with 1 Axes>"
      ]
     },
     "metadata": {
      "needs_background": "light"
     },
     "output_type": "display_data"
    },
    {
     "name": "stdout",
     "output_type": "stream",
     "text": [
      "[(0, 0), (1, 0), (2, 0), (3, 0), (2, 1), (3, 1), (4, 1), (5, 1), (6, 1), (7, 1), (8, 1), (9, 1), (8, 2), (7, 2), (6, 2), (6, 3), (7, 3), (8, 3), (7, 4), (6, 4), (6, 5), (5, 3)]\n",
      "neighbors [(4, 3), (4, 4), (4, 5), (5, 3), (5, 4), (5, 5), (6, 3), (6, 4), (6, 5)]\n",
      "full grid: [[1 0 0]\n",
      " [0 0 1]\n",
      " [0 0 1]]\n",
      "[[3 3 3]\n",
      " [1 4 3]\n",
      " [1 1 2]]\n",
      "free\n",
      "current_node -- (next_move) (5, 4)\n",
      "(array([3], dtype=int64),)\n",
      "right\n",
      "next_node out:: (5, 5)\n",
      "next_node out (5, 5)\n",
      "message right\n"
     ]
    },
    {
     "data": {
      "image/png": "[encoded data removed]",
      "text/plain": [
       "<Figure size 432x288 with 1 Axes>"
      ]
     },
     "metadata": {
      "needs_background": "light"
     },
     "output_type": "display_data"
    },
    {
     "name": "stdout",
     "output_type": "stream",
     "text": [
      "[(0, 0), (1, 0), (2, 0), (3, 0), (2, 1), (3, 1), (4, 1), (5, 1), (6, 1), (7, 1), (8, 1), (9, 1), (8, 2), (7, 2), (6, 2), (6, 3), (7, 3), (8, 3), (7, 4), (6, 4), (6, 5), (5, 3), (5, 4)]\n",
      "neighbors [(4, 4), (4, 5), (4, 6), (5, 4), (5, 5), (5, 6), (6, 4), (6, 5), (6, 6)]\n",
      "full grid: [[0 0 0]\n",
      " [0 1 1]\n",
      " [0 1 0]]\n",
      "[[3 3 3]\n",
      " [1 4 3]\n",
      " [1 2 3]]\n",
      "blocked\n",
      "next node::::  (5, 4)\n"
     ]
    },
    {
     "data": {
      "image/png": "[encoded data removed]",
      "text/plain": [
       "<Figure size 432x288 with 1 Axes>"
      ]
     },
     "metadata": {
      "needs_background": "light"
     },
     "output_type": "display_data"
    },
    {
     "name": "stdout",
     "output_type": "stream",
     "text": [
      "[(0, 0), (1, 0), (2, 0), (3, 0), (2, 1), (3, 1), (4, 1), (5, 1), (6, 1), (7, 1), (8, 1), (9, 1), (8, 2), (7, 2), (6, 2), (6, 3), (7, 3), (8, 3), (7, 4), (6, 4), (6, 5), (5, 3), (5, 4), (5, 5)]\n",
      "neighbors [(4, 3), (4, 4), (4, 5), (5, 3), (5, 4), (5, 5), (6, 3), (6, 4), (6, 5)]\n",
      "full grid: [[1 0 0]\n",
      " [0 0 1]\n",
      " [0 0 1]]\n",
      "[[3 3 3]\n",
      " [1 4 2]\n",
      " [1 1 2]]\n",
      "free\n",
      "current_node -- (next_move) (5, 4)\n",
      "(array([0], dtype=int64),)\n",
      "up\n",
      "next_node out:: (4, 4)\n",
      "next_node out (4, 4)\n",
      "message up\n"
     ]
    },
    {
     "data": {
      "image/png": "[encoded data removed]",
      "text/plain": [
       "<Figure size 432x288 with 1 Axes>"
      ]
     },
     "metadata": {
      "needs_background": "light"
     },
     "output_type": "display_data"
    },
    {
     "name": "stdout",
     "output_type": "stream",
     "text": [
      "[(0, 0), (1, 0), (2, 0), (3, 0), (2, 1), (3, 1), (4, 1), (5, 1), (6, 1), (7, 1), (8, 1), (9, 1), (8, 2), (7, 2), (6, 2), (6, 3), (7, 3), (8, 3), (7, 4), (6, 4), (6, 5), (5, 3), (5, 4), (5, 5)]\n",
      "neighbors [(3, 3), (3, 4), (3, 5), (4, 3), (4, 4), (4, 5), (5, 3), (5, 4), (5, 5)]\n",
      "full grid: [[0 0 0]\n",
      " [1 0 0]\n",
      " [0 0 1]]\n",
      "[[3 3 3]\n",
      " [3 4 3]\n",
      " [1 1 2]]\n",
      "free\n",
      "current_node -- (next_move) (4, 4)\n",
      "(array([3], dtype=int64),)\n",
      "right\n",
      "next_node out:: (4, 5)\n",
      "next_node out (4, 5)\n",
      "message right\n"
     ]
    },
    {
     "data": {
      "image/png": "[encoded data removed]",
      "text/plain": [
       "<Figure size 432x288 with 1 Axes>"
      ]
     },
     "metadata": {
      "needs_background": "light"
     },
     "output_type": "display_data"
    },
    {
     "name": "stdout",
     "output_type": "stream",
     "text": [
      "[(0, 0), (1, 0), (2, 0), (3, 0), (2, 1), (3, 1), (4, 1), (5, 1), (6, 1), (7, 1), (8, 1), (9, 1), (8, 2), (7, 2), (6, 2), (6, 3), (7, 3), (8, 3), (7, 4), (6, 4), (6, 5), (5, 3), (5, 4), (5, 5), (4, 4)]\n",
      "neighbors [(3, 4), (3, 5), (3, 6), (4, 4), (4, 5), (4, 6), (5, 4), (5, 5), (5, 6)]\n",
      "full grid: [[0 0 0]\n",
      " [0 0 0]\n",
      " [0 1 1]]\n",
      "[[3 3 3]\n",
      " [1 4 3]\n",
      " [1 2 3]]\n",
      "free\n",
      "current_node -- (next_move) (4, 5)\n",
      "(array([3], dtype=int64),)\n",
      "right\n",
      "next_node out:: (4, 6)\n",
      "next_node out (4, 6)\n",
      "message right\n"
     ]
    },
    {
     "data": {
      "image/png": "[encoded data removed]",
      "text/plain": [
       "<Figure size 432x288 with 1 Axes>"
      ]
     },
     "metadata": {
      "needs_background": "light"
     },
     "output_type": "display_data"
    },
    {
     "name": "stdout",
     "output_type": "stream",
     "text": [
      "[(0, 0), (1, 0), (2, 0), (3, 0), (2, 1), (3, 1), (4, 1), (5, 1), (6, 1), (7, 1), (8, 1), (9, 1), (8, 2), (7, 2), (6, 2), (6, 3), (7, 3), (8, 3), (7, 4), (6, 4), (6, 5), (5, 3), (5, 4), (5, 5), (4, 4), (4, 5)]\n",
      "neighbors [(3, 5), (3, 6), (3, 7), (4, 5), (4, 6), (4, 7), (5, 5), (5, 6), (5, 7)]\n",
      "full grid: [[0 0 0]\n",
      " [0 0 0]\n",
      " [1 1 0]]\n",
      "[[3 3 3]\n",
      " [1 4 3]\n",
      " [2 3 3]]\n",
      "free\n",
      "current_node -- (next_move) (4, 6)\n",
      "(array([1], dtype=int64),)\n",
      "down\n",
      "next_node out:: (5, 6)\n",
      "next_node out (5, 6)\n",
      "message down\n"
     ]
    },
    {
     "data": {
      "image/png": "[encoded data removed]",
      "text/plain": [
       "<Figure size 432x288 with 1 Axes>"
      ]
     },
     "metadata": {
      "needs_background": "light"
     },
     "output_type": "display_data"
    },
    {
     "name": "stdout",
     "output_type": "stream",
     "text": [
      "[(0, 0), (1, 0), (2, 0), (3, 0), (2, 1), (3, 1), (4, 1), (5, 1), (6, 1), (7, 1), (8, 1), (9, 1), (8, 2), (7, 2), (6, 2), (6, 3), (7, 3), (8, 3), (7, 4), (6, 4), (6, 5), (5, 3), (5, 4), (5, 5), (4, 4), (4, 5), (4, 6)]\n",
      "neighbors [(4, 5), (4, 6), (4, 7), (5, 5), (5, 6), (5, 7), (6, 5), (6, 6), (6, 7)]\n",
      "full grid: [[0 0 0]\n",
      " [1 1 0]\n",
      " [1 0 0]]\n",
      "[[1 1 3]\n",
      " [2 4 3]\n",
      " [2 3 3]]\n",
      "blocked\n",
      "next node::::  (4, 6)\n"
     ]
    },
    {
     "data": {
      "image/png": "[encoded data removed]",
      "text/plain": [
       "<Figure size 432x288 with 1 Axes>"
      ]
     },
     "metadata": {
      "needs_background": "light"
     },
     "output_type": "display_data"
    },
    {
     "name": "stdout",
     "output_type": "stream",
     "text": [
      "[(0, 0), (1, 0), (2, 0), (3, 0), (2, 1), (3, 1), (4, 1), (5, 1), (6, 1), (7, 1), (8, 1), (9, 1), (8, 2), (7, 2), (6, 2), (6, 3), (7, 3), (8, 3), (7, 4), (6, 4), (6, 5), (5, 3), (5, 4), (5, 5), (4, 4), (4, 5), (4, 6), (5, 6)]\n",
      "neighbors [(3, 5), (3, 6), (3, 7), (4, 5), (4, 6), (4, 7), (5, 5), (5, 6), (5, 7)]\n",
      "full grid: [[0 0 0]\n",
      " [0 0 0]\n",
      " [1 1 0]]\n",
      "[[3 3 3]\n",
      " [1 4 3]\n",
      " [2 2 3]]\n",
      "free\n",
      "current_node -- (next_move) (4, 6)\n",
      "(array([3], dtype=int64),)\n",
      "right\n",
      "next_node out:: (4, 7)\n",
      "next_node out (4, 7)\n",
      "message right\n"
     ]
    },
    {
     "data": {
      "image/png": "[encoded data removed]",
      "text/plain": [
       "<Figure size 432x288 with 1 Axes>"
      ]
     },
     "metadata": {
      "needs_background": "light"
     },
     "output_type": "display_data"
    },
    {
     "name": "stdout",
     "output_type": "stream",
     "text": [
      "[(0, 0), (1, 0), (2, 0), (3, 0), (2, 1), (3, 1), (4, 1), (5, 1), (6, 1), (7, 1), (8, 1), (9, 1), (8, 2), (7, 2), (6, 2), (6, 3), (7, 3), (8, 3), (7, 4), (6, 4), (6, 5), (5, 3), (5, 4), (5, 5), (4, 4), (4, 5), (4, 6), (5, 6)]\n",
      "neighbors [(3, 6), (3, 7), (3, 8), (4, 6), (4, 7), (4, 8), (5, 6), (5, 7), (5, 8)]\n",
      "full grid: [[0 0 0]\n",
      " [0 0 0]\n",
      " [1 0 0]]\n",
      "[[3 3 3]\n",
      " [1 4 3]\n",
      " [2 3 3]]\n",
      "free\n",
      "current_node -- (next_move) (4, 7)\n",
      "(array([1], dtype=int64),)\n",
      "down\n",
      "next_node out:: (5, 7)\n",
      "next_node out (5, 7)\n",
      "message down\n"
     ]
    },
    {
     "data": {
      "image/png": "[encoded data removed]",
      "text/plain": [
       "<Figure size 432x288 with 1 Axes>"
      ]
     },
     "metadata": {
      "needs_background": "light"
     },
     "output_type": "display_data"
    },
    {
     "name": "stdout",
     "output_type": "stream",
     "text": [
      "[(0, 0), (1, 0), (2, 0), (3, 0), (2, 1), (3, 1), (4, 1), (5, 1), (6, 1), (7, 1), (8, 1), (9, 1), (8, 2), (7, 2), (6, 2), (6, 3), (7, 3), (8, 3), (7, 4), (6, 4), (6, 5), (5, 3), (5, 4), (5, 5), (4, 4), (4, 5), (4, 6), (5, 6), (4, 7)]\n",
      "neighbors [(4, 6), (4, 7), (4, 8), (5, 6), (5, 7), (5, 8), (6, 6), (6, 7), (6, 8)]\n",
      "full grid: [[0 0 0]\n",
      " [1 0 0]\n",
      " [0 0 0]]\n",
      "[[1 1 3]\n",
      " [2 4 3]\n",
      " [3 3 3]]\n",
      "free\n",
      "current_node -- (next_move) (5, 7)\n",
      "(array([1], dtype=int64),)\n",
      "down\n",
      "next_node out:: (6, 7)\n",
      "next_node out (6, 7)\n",
      "message down\n"
     ]
    },
    {
     "data": {
      "image/png": "[encoded data removed]",
      "text/plain": [
       "<Figure size 432x288 with 1 Axes>"
      ]
     },
     "metadata": {
      "needs_background": "light"
     },
     "output_type": "display_data"
    },
    {
     "name": "stdout",
     "output_type": "stream",
     "text": [
      "[(0, 0), (1, 0), (2, 0), (3, 0), (2, 1), (3, 1), (4, 1), (5, 1), (6, 1), (7, 1), (8, 1), (9, 1), (8, 2), (7, 2), (6, 2), (6, 3), (7, 3), (8, 3), (7, 4), (6, 4), (6, 5), (5, 3), (5, 4), (5, 5), (4, 4), (4, 5), (4, 6), (5, 6), (4, 7), (5, 7)]\n",
      "neighbors [(5, 6), (5, 7), (5, 8), (6, 6), (6, 7), (6, 8), (7, 6), (7, 7), (7, 8)]\n",
      "full grid: [[1 0 0]\n",
      " [0 0 0]\n",
      " [1 1 1]]\n",
      "[[2 1 3]\n",
      " [3 4 3]\n",
      " [3 3 3]]\n",
      "free\n",
      "current_node -- (next_move) (6, 7)\n",
      "(array([1], dtype=int64),)\n",
      "down\n",
      "next_node out:: (7, 7)\n",
      "next_node out (7, 7)\n",
      "message down\n"
     ]
    },
    {
     "data": {
      "image/png": "[encoded data removed]",
      "text/plain": [
       "<Figure size 432x288 with 1 Axes>"
      ]
     },
     "metadata": {
      "needs_background": "light"
     },
     "output_type": "display_data"
    },
    {
     "name": "stdout",
     "output_type": "stream",
     "text": [
      "[(0, 0), (1, 0), (2, 0), (3, 0), (2, 1), (3, 1), (4, 1), (5, 1), (6, 1), (7, 1), (8, 1), (9, 1), (8, 2), (7, 2), (6, 2), (6, 3), (7, 3), (8, 3), (7, 4), (6, 4), (6, 5), (5, 3), (5, 4), (5, 5), (4, 4), (4, 5), (4, 6), (5, 6), (4, 7), (5, 7), (6, 7)]\n",
      "neighbors [(6, 6), (6, 7), (6, 8), (7, 6), (7, 7), (7, 8), (8, 6), (8, 7), (8, 8)]\n",
      "full grid: [[0 0 0]\n",
      " [1 1 1]\n",
      " [0 0 0]]\n",
      "[[3 1 3]\n",
      " [3 4 3]\n",
      " [3 3 3]]\n",
      "blocked\n",
      "next node::::  (6, 7)\n"
     ]
    },
    {
     "data": {
      "image/png": "[encoded data removed]",
      "text/plain": [
       "<Figure size 432x288 with 1 Axes>"
      ]
     },
     "metadata": {
      "needs_background": "light"
     },
     "output_type": "display_data"
    },
    {
     "name": "stdout",
     "output_type": "stream",
     "text": [
      "[(0, 0), (1, 0), (2, 0), (3, 0), (2, 1), (3, 1), (4, 1), (5, 1), (6, 1), (7, 1), (8, 1), (9, 1), (8, 2), (7, 2), (6, 2), (6, 3), (7, 3), (8, 3), (7, 4), (6, 4), (6, 5), (5, 3), (5, 4), (5, 5), (4, 4), (4, 5), (4, 6), (5, 6), (4, 7), (5, 7), (6, 7), (7, 7)]\n",
      "neighbors [(5, 6), (5, 7), (5, 8), (6, 6), (6, 7), (6, 8), (7, 6), (7, 7), (7, 8)]\n",
      "full grid: [[1 0 0]\n",
      " [0 0 0]\n",
      " [1 1 1]]\n",
      "[[2 1 3]\n",
      " [3 4 3]\n",
      " [3 2 3]]\n",
      "free\n",
      "current_node -- (next_move) (6, 7)\n",
      "(array([3], dtype=int64),)\n",
      "right\n",
      "next_node out:: (6, 8)\n",
      "next_node out (6, 8)\n",
      "message right\n"
     ]
    },
    {
     "data": {
      "image/png": "[encoded data removed]",
      "text/plain": [
       "<Figure size 432x288 with 1 Axes>"
      ]
     },
     "metadata": {
      "needs_background": "light"
     },
     "output_type": "display_data"
    },
    {
     "name": "stdout",
     "output_type": "stream",
     "text": [
      "[(0, 0), (1, 0), (2, 0), (3, 0), (2, 1), (3, 1), (4, 1), (5, 1), (6, 1), (7, 1), (8, 1), (9, 1), (8, 2), (7, 2), (6, 2), (6, 3), (7, 3), (8, 3), (7, 4), (6, 4), (6, 5), (5, 3), (5, 4), (5, 5), (4, 4), (4, 5), (4, 6), (5, 6), (4, 7), (5, 7), (6, 7), (7, 7)]\n",
      "neighbors [(5, 7), (5, 8), (5, 9), (6, 7), (6, 8), (6, 9), (7, 7), (7, 8), (7, 9)]\n",
      "full grid: [[0 0 1]\n",
      " [0 0 0]\n",
      " [1 1 0]]\n",
      "[[1 3 3]\n",
      " [1 4 3]\n",
      " [2 3 3]]\n",
      "free\n",
      "current_node -- (next_move) (6, 8)\n",
      "(array([1], dtype=int64),)\n",
      "down\n",
      "next_node out:: (7, 8)\n",
      "next_node out (7, 8)\n",
      "message down\n"
     ]
    },
    {
     "data": {
      "image/png": "[encoded data removed]",
      "text/plain": [
       "<Figure size 432x288 with 1 Axes>"
      ]
     },
     "metadata": {
      "needs_background": "light"
     },
     "output_type": "display_data"
    },
    {
     "name": "stdout",
     "output_type": "stream",
     "text": [
      "[(0, 0), (1, 0), (2, 0), (3, 0), (2, 1), (3, 1), (4, 1), (5, 1), (6, 1), (7, 1), (8, 1), (9, 1), (8, 2), (7, 2), (6, 2), (6, 3), (7, 3), (8, 3), (7, 4), (6, 4), (6, 5), (5, 3), (5, 4), (5, 5), (4, 4), (4, 5), (4, 6), (5, 6), (4, 7), (5, 7), (6, 7), (7, 7), (6, 8)]\n",
      "neighbors [(6, 7), (6, 8), (6, 9), (7, 7), (7, 8), (7, 9), (8, 7), (8, 8), (8, 9)]\n",
      "full grid: [[0 0 0]\n",
      " [1 1 0]\n",
      " [0 0 0]]\n",
      "[[1 1 3]\n",
      " [2 4 3]\n",
      " [3 3 3]]\n",
      "blocked\n",
      "next node::::  (6, 8)\n"
     ]
    },
    {
     "data": {
      "image/png": "[encoded data removed]",
      "text/plain": [
       "<Figure size 432x288 with 1 Axes>"
      ]
     },
     "metadata": {
      "needs_background": "light"
     },
     "output_type": "display_data"
    },
    {
     "name": "stdout",
     "output_type": "stream",
     "text": [
      "[(0, 0), (1, 0), (2, 0), (3, 0), (2, 1), (3, 1), (4, 1), (5, 1), (6, 1), (7, 1), (8, 1), (9, 1), (8, 2), (7, 2), (6, 2), (6, 3), (7, 3), (8, 3), (7, 4), (6, 4), (6, 5), (5, 3), (5, 4), (5, 5), (4, 4), (4, 5), (4, 6), (5, 6), (4, 7), (5, 7), (6, 7), (7, 7), (6, 8), (7, 8)]\n",
      "neighbors [(5, 7), (5, 8), (5, 9), (6, 7), (6, 8), (6, 9), (7, 7), (7, 8), (7, 9)]\n",
      "full grid: [[0 0 1]\n",
      " [0 0 0]\n",
      " [1 1 0]]\n",
      "[[1 3 3]\n",
      " [1 4 3]\n",
      " [2 2 3]]\n",
      "free\n",
      "current_node -- (next_move) (6, 8)\n",
      "(array([3], dtype=int64),)\n",
      "right\n",
      "next_node out:: (6, 9)\n",
      "next_node out (6, 9)\n",
      "message right\n"
     ]
    },
    {
     "data": {
      "image/png": "[encoded data removed]",
      "text/plain": [
       "<Figure size 432x288 with 1 Axes>"
      ]
     },
     "metadata": {
      "needs_background": "light"
     },
     "output_type": "display_data"
    },
    {
     "name": "stdout",
     "output_type": "stream",
     "text": [
      "[(0, 0), (1, 0), (2, 0), (3, 0), (2, 1), (3, 1), (4, 1), (5, 1), (6, 1), (7, 1), (8, 1), (9, 1), (8, 2), (7, 2), (6, 2), (6, 3), (7, 3), (8, 3), (7, 4), (6, 4), (6, 5), (5, 3), (5, 4), (5, 5), (4, 4), (4, 5), (4, 6), (5, 6), (4, 7), (5, 7), (6, 7), (7, 7), (6, 8), (7, 8)]\n",
      "neighbors [(5, 8), (5, 9), (5, 10), (6, 8), (6, 9), (6, 10), (7, 8), (7, 9), (7, 10)]\n",
      "full grid: [[0 1 0]\n",
      " [0 0 1]\n",
      " [1 0 1]]\n",
      "[[3 3 3]\n",
      " [1 4 3]\n",
      " [2 3 3]]\n",
      "free\n",
      "current_node -- (next_move) (6, 9)\n",
      "(array([1], dtype=int64),)\n",
      "down\n",
      "next_node out:: (7, 9)\n",
      "next_node out (7, 9)\n",
      "message down\n"
     ]
    },
    {
     "data": {
      "image/png": "[encoded data removed]",
      "text/plain": [
       "<Figure size 432x288 with 1 Axes>"
      ]
     },
     "metadata": {
      "needs_background": "light"
     },
     "output_type": "display_data"
    },
    {
     "name": "stdout",
     "output_type": "stream",
     "text": [
      "[(0, 0), (1, 0), (2, 0), (3, 0), (2, 1), (3, 1), (4, 1), (5, 1), (6, 1), (7, 1), (8, 1), (9, 1), (8, 2), (7, 2), (6, 2), (6, 3), (7, 3), (8, 3), (7, 4), (6, 4), (6, 5), (5, 3), (5, 4), (5, 5), (4, 4), (4, 5), (4, 6), (5, 6), (4, 7), (5, 7), (6, 7), (7, 7), (6, 8), (7, 8), (6, 9)]\n",
      "neighbors [(6, 8), (6, 9), (6, 10), (7, 8), (7, 9), (7, 10), (8, 8), (8, 9), (8, 10)]\n",
      "full grid: [[0 0 1]\n",
      " [1 0 1]\n",
      " [0 0 1]]\n",
      "[[1 1 3]\n",
      " [2 4 3]\n",
      " [3 3 3]]\n",
      "free\n",
      "current_node -- (next_move) (7, 9)\n",
      "(array([1], dtype=int64),)\n",
      "down\n",
      "next_node out:: (8, 9)\n",
      "next_node out (8, 9)\n",
      "message down\n"
     ]
    },
    {
     "data": {
      "image/png": "[encoded data removed]",
      "text/plain": [
       "<Figure size 432x288 with 1 Axes>"
      ]
     },
     "metadata": {
      "needs_background": "light"
     },
     "output_type": "display_data"
    },
    {
     "name": "stdout",
     "output_type": "stream",
     "text": [
      "[(0, 0), (1, 0), (2, 0), (3, 0), (2, 1), (3, 1), (4, 1), (5, 1), (6, 1), (7, 1), (8, 1), (9, 1), (8, 2), (7, 2), (6, 2), (6, 3), (7, 3), (8, 3), (7, 4), (6, 4), (6, 5), (5, 3), (5, 4), (5, 5), (4, 4), (4, 5), (4, 6), (5, 6), (4, 7), (5, 7), (6, 7), (7, 7), (6, 8), (7, 8), (6, 9), (7, 9)]\n",
      "neighbors [(7, 8), (7, 9), (7, 10), (8, 8), (8, 9), (8, 10), (9, 8), (9, 9), (9, 10)]\n",
      "full grid: [[1 0 1]\n",
      " [0 0 1]\n",
      " [1 0 0]]\n",
      "[[2 1 3]\n",
      " [3 4 3]\n",
      " [3 3 3]]\n",
      "free\n",
      "current_node -- (next_move) (8, 9)\n",
      "(array([1], dtype=int64),)\n",
      "down\n",
      "next_node out:: (9, 9)\n",
      "next_node out (9, 9)\n",
      "message down\n"
     ]
    },
    {
     "data": {
      "image/png": "[encoded data removed]",
      "text/plain": [
       "<Figure size 432x288 with 1 Axes>"
      ]
     },
     "metadata": {
      "needs_background": "light"
     },
     "output_type": "display_data"
    },
    {
     "name": "stdout",
     "output_type": "stream",
     "text": [
      "[(0, 0), (1, 0), (2, 0), (3, 0), (2, 1), (3, 1), (4, 1), (5, 1), (6, 1), (7, 1), (8, 1), (9, 1), (8, 2), (7, 2), (6, 2), (6, 3), (7, 3), (8, 3), (7, 4), (6, 4), (6, 5), (5, 3), (5, 4), (5, 5), (4, 4), (4, 5), (4, 6), (5, 6), (4, 7), (5, 7), (6, 7), (7, 7), (6, 8), (7, 8), (6, 9), (7, 9), (8, 9)]\n",
      "neighbors [(8, 8), (8, 9), (8, 10), (9, 8), (9, 9), (9, 10), (10, 8), (10, 9), (10, 10)]\n",
      "full grid: [[0 0 1]\n",
      " [1 0 0]\n",
      " [0 0 0]]\n",
      "[[3 1 3]\n",
      " [3 4 3]\n",
      " [3 3 3]]\n",
      "free\n",
      "current_node -- (next_move) (9, 9)\n",
      "(array([1], dtype=int64),)\n",
      "down\n",
      "next_node out:: (10, 9)\n",
      "next_node out (10, 9)\n",
      "message down\n"
     ]
    },
    {
     "data": {
      "image/png": "[encoded data removed]",
      "text/plain": [
       "<Figure size 432x288 with 1 Axes>"
      ]
     },
     "metadata": {
      "needs_background": "light"
     },
     "output_type": "display_data"
    },
    {
     "name": "stdout",
     "output_type": "stream",
     "text": [
      "[(0, 0), (1, 0), (2, 0), (3, 0), (2, 1), (3, 1), (4, 1), (5, 1), (6, 1), (7, 1), (8, 1), (9, 1), (8, 2), (7, 2), (6, 2), (6, 3), (7, 3), (8, 3), (7, 4), (6, 4), (6, 5), (5, 3), (5, 4), (5, 5), (4, 4), (4, 5), (4, 6), (5, 6), (4, 7), (5, 7), (6, 7), (7, 7), (6, 8), (7, 8), (6, 9), (7, 9), (8, 9), (9, 9)]\n",
      "neighbors [(9, 8), (9, 9), (9, 10), (10, 8), (10, 9), (10, 10), (11, 8), (11, 9), (11, 10)]\n",
      "full grid: [[1 0 0]\n",
      " [0 0 0]\n",
      " [1 0 0]]\n",
      "[[3 1 3]\n",
      " [3 4 3]\n",
      " [3 3 3]]\n",
      "free\n",
      "current_node -- (next_move) (10, 9)\n",
      "(array([1], dtype=int64),)\n",
      "down\n",
      "next_node out:: (11, 9)\n",
      "next_node out (11, 9)\n",
      "message down\n"
     ]
    },
    {
     "data": {
      "image/png": "[encoded data removed]",
      "text/plain": [
       "<Figure size 432x288 with 1 Axes>"
      ]
     },
     "metadata": {
      "needs_background": "light"
     },
     "output_type": "display_data"
    },
    {
     "name": "stdout",
     "output_type": "stream",
     "text": [
      "[(0, 0), (1, 0), (2, 0), (3, 0), (2, 1), (3, 1), (4, 1), (5, 1), (6, 1), (7, 1), (8, 1), (9, 1), (8, 2), (7, 2), (6, 2), (6, 3), (7, 3), (8, 3), (7, 4), (6, 4), (6, 5), (5, 3), (5, 4), (5, 5), (4, 4), (4, 5), (4, 6), (5, 6), (4, 7), (5, 7), (6, 7), (7, 7), (6, 8), (7, 8), (6, 9), (7, 9), (8, 9), (9, 9), (10, 9)]\n",
      "neighbors [(10, 8), (10, 9), (10, 10), (11, 8), (11, 9), (11, 10), (12, 8), (12, 9), (12, 10)]\n",
      "full grid: [[0 0 0]\n",
      " [1 0 0]\n",
      " [1 1 1]]\n",
      "[[3 1 3]\n",
      " [3 4 3]\n",
      " [3 3 3]]\n",
      "free\n",
      "current_node -- (next_move) (11, 9)\n",
      "(array([1], dtype=int64),)\n",
      "down\n",
      "next_node out:: (12, 9)\n",
      "next_node out (12, 9)\n",
      "message down\n"
     ]
    },
    {
     "data": {
      "image/png": "[encoded data removed]",
      "text/plain": [
       "<Figure size 432x288 with 1 Axes>"
      ]
     },
     "metadata": {
      "needs_background": "light"
     },
     "output_type": "display_data"
    },
    {
     "name": "stdout",
     "output_type": "stream",
     "text": [
      "[(0, 0), (1, 0), (2, 0), (3, 0), (2, 1), (3, 1), (4, 1), (5, 1), (6, 1), (7, 1), (8, 1), (9, 1), (8, 2), (7, 2), (6, 2), (6, 3), (7, 3), (8, 3), (7, 4), (6, 4), (6, 5), (5, 3), (5, 4), (5, 5), (4, 4), (4, 5), (4, 6), (5, 6), (4, 7), (5, 7), (6, 7), (7, 7), (6, 8), (7, 8), (6, 9), (7, 9), (8, 9), (9, 9), (10, 9), (11, 9)]\n",
      "neighbors [(11, 8), (11, 9), (11, 10), (12, 8), (12, 9), (12, 10), (13, 8), (13, 9), (13, 10)]\n",
      "full grid: [[1 0 0]\n",
      " [1 1 1]\n",
      " [0 0 0]]\n",
      "[[3 1 3]\n",
      " [3 4 3]\n",
      " [3 3 3]]\n",
      "blocked\n",
      "next node::::  (11, 9)\n"
     ]
    },
    {
     "data": {
      "image/png": "[encoded data removed]",
      "text/plain": [
       "<Figure size 432x288 with 1 Axes>"
      ]
     },
     "metadata": {
      "needs_background": "light"
     },
     "output_type": "display_data"
    },
    {
     "name": "stdout",
     "output_type": "stream",
     "text": [
      "[(0, 0), (1, 0), (2, 0), (3, 0), (2, 1), (3, 1), (4, 1), (5, 1), (6, 1), (7, 1), (8, 1), (9, 1), (8, 2), (7, 2), (6, 2), (6, 3), (7, 3), (8, 3), (7, 4), (6, 4), (6, 5), (5, 3), (5, 4), (5, 5), (4, 4), (4, 5), (4, 6), (5, 6), (4, 7), (5, 7), (6, 7), (7, 7), (6, 8), (7, 8), (6, 9), (7, 9), (8, 9), (9, 9), (10, 9), (11, 9), (12, 9)]\n",
      "neighbors [(10, 8), (10, 9), (10, 10), (11, 8), (11, 9), (11, 10), (12, 8), (12, 9), (12, 10)]\n",
      "full grid: [[0 0 0]\n",
      " [1 0 0]\n",
      " [1 1 1]]\n",
      "[[3 1 3]\n",
      " [3 4 3]\n",
      " [3 2 3]]\n",
      "free\n",
      "current_node -- (next_move) (11, 9)\n",
      "(array([3], dtype=int64),)\n",
      "right\n",
      "next_node out:: (11, 10)\n",
      "next_node out (11, 10)\n",
      "message right\n"
     ]
    },
    {
     "data": {
      "image/png": "[encoded data removed]",
      "text/plain": [
       "<Figure size 432x288 with 1 Axes>"
      ]
     },
     "metadata": {
      "needs_background": "light"
     },
     "output_type": "display_data"
    },
    {
     "name": "stdout",
     "output_type": "stream",
     "text": [
      "[(0, 0), (1, 0), (2, 0), (3, 0), (2, 1), (3, 1), (4, 1), (5, 1), (6, 1), (7, 1), (8, 1), (9, 1), (8, 2), (7, 2), (6, 2), (6, 3), (7, 3), (8, 3), (7, 4), (6, 4), (6, 5), (5, 3), (5, 4), (5, 5), (4, 4), (4, 5), (4, 6), (5, 6), (4, 7), (5, 7), (6, 7), (7, 7), (6, 8), (7, 8), (6, 9), (7, 9), (8, 9), (9, 9), (10, 9), (11, 9), (12, 9)]\n",
      "neighbors [(10, 9), (10, 10), (10, 11), (11, 9), (11, 10), (11, 11), (12, 9), (12, 10), (12, 11)]\n",
      "full grid: [[0 0 0]\n",
      " [0 0 0]\n",
      " [1 1 1]]\n",
      "[[1 3 3]\n",
      " [1 4 3]\n",
      " [2 3 3]]\n",
      "free\n",
      "current_node -- (next_move) (11, 10)\n",
      "(array([1], dtype=int64),)\n",
      "down\n",
      "next_node out:: (12, 10)\n",
      "next_node out (12, 10)\n",
      "message down\n"
     ]
    },
    {
     "data": {
      "image/png": "[encoded data removed]",
      "text/plain": [
       "<Figure size 432x288 with 1 Axes>"
      ]
     },
     "metadata": {
      "needs_background": "light"
     },
     "output_type": "display_data"
    },
    {
     "name": "stdout",
     "output_type": "stream",
     "text": [
      "[(0, 0), (1, 0), (2, 0), (3, 0), (2, 1), (3, 1), (4, 1), (5, 1), (6, 1), (7, 1), (8, 1), (9, 1), (8, 2), (7, 2), (6, 2), (6, 3), (7, 3), (8, 3), (7, 4), (6, 4), (6, 5), (5, 3), (5, 4), (5, 5), (4, 4), (4, 5), (4, 6), (5, 6), (4, 7), (5, 7), (6, 7), (7, 7), (6, 8), (7, 8), (6, 9), (7, 9), (8, 9), (9, 9), (10, 9), (11, 9), (12, 9), (11, 10)]\n",
      "neighbors [(11, 9), (11, 10), (11, 11), (12, 9), (12, 10), (12, 11), (13, 9), (13, 10), (13, 11)]\n",
      "full grid: [[0 0 0]\n",
      " [1 1 1]\n",
      " [0 0 1]]\n",
      "[[1 1 3]\n",
      " [2 4 3]\n",
      " [3 3 3]]\n",
      "blocked\n",
      "next node::::  (11, 10)\n"
     ]
    },
    {
     "data": {
      "image/png": "[encoded data removed]",
      "text/plain": [
       "<Figure size 432x288 with 1 Axes>"
      ]
     },
     "metadata": {
      "needs_background": "light"
     },
     "output_type": "display_data"
    },
    {
     "name": "stdout",
     "output_type": "stream",
     "text": [
      "[(0, 0), (1, 0), (2, 0), (3, 0), (2, 1), (3, 1), (4, 1), (5, 1), (6, 1), (7, 1), (8, 1), (9, 1), (8, 2), (7, 2), (6, 2), (6, 3), (7, 3), (8, 3), (7, 4), (6, 4), (6, 5), (5, 3), (5, 4), (5, 5), (4, 4), (4, 5), (4, 6), (5, 6), (4, 7), (5, 7), (6, 7), (7, 7), (6, 8), (7, 8), (6, 9), (7, 9), (8, 9), (9, 9), (10, 9), (11, 9), (12, 9), (11, 10), (12, 10)]\n",
      "neighbors [(10, 9), (10, 10), (10, 11), (11, 9), (11, 10), (11, 11), (12, 9), (12, 10), (12, 11)]\n",
      "full grid: [[0 0 0]\n",
      " [0 0 0]\n",
      " [1 1 1]]\n",
      "[[1 3 3]\n",
      " [1 4 3]\n",
      " [2 2 3]]\n",
      "free\n",
      "current_node -- (next_move) (11, 10)\n",
      "(array([3], dtype=int64),)\n",
      "right\n",
      "next_node out:: (11, 11)\n",
      "next_node out (11, 11)\n",
      "message right\n"
     ]
    },
    {
     "data": {
      "image/png": "[encoded data removed]",
      "text/plain": [
       "<Figure size 432x288 with 1 Axes>"
      ]
     },
     "metadata": {
      "needs_background": "light"
     },
     "output_type": "display_data"
    },
    {
     "name": "stdout",
     "output_type": "stream",
     "text": [
      "[(0, 0), (1, 0), (2, 0), (3, 0), (2, 1), (3, 1), (4, 1), (5, 1), (6, 1), (7, 1), (8, 1), (9, 1), (8, 2), (7, 2), (6, 2), (6, 3), (7, 3), (8, 3), (7, 4), (6, 4), (6, 5), (5, 3), (5, 4), (5, 5), (4, 4), (4, 5), (4, 6), (5, 6), (4, 7), (5, 7), (6, 7), (7, 7), (6, 8), (7, 8), (6, 9), (7, 9), (8, 9), (9, 9), (10, 9), (11, 9), (12, 9), (11, 10), (12, 10)]\n",
      "neighbors [(10, 10), (10, 11), (10, 12), (11, 10), (11, 11), (11, 12), (12, 10), (12, 11), (12, 12)]\n",
      "full grid: [[0 0 0]\n",
      " [0 0 0]\n",
      " [1 1 0]]\n",
      "[[3 3 3]\n",
      " [1 4 3]\n",
      " [2 3 3]]\n",
      "free\n",
      "current_node -- (next_move) (11, 11)\n",
      "(array([1], dtype=int64),)\n",
      "down\n",
      "next_node out:: (12, 11)\n",
      "next_node out (12, 11)\n",
      "message down\n"
     ]
    },
    {
     "data": {
      "image/png": "[encoded data removed]",
      "text/plain": [
       "<Figure size 432x288 with 1 Axes>"
      ]
     },
     "metadata": {
      "needs_background": "light"
     },
     "output_type": "display_data"
    },
    {
     "name": "stdout",
     "output_type": "stream",
     "text": [
      "[(0, 0), (1, 0), (2, 0), (3, 0), (2, 1), (3, 1), (4, 1), (5, 1), (6, 1), (7, 1), (8, 1), (9, 1), (8, 2), (7, 2), (6, 2), (6, 3), (7, 3), (8, 3), (7, 4), (6, 4), (6, 5), (5, 3), (5, 4), (5, 5), (4, 4), (4, 5), (4, 6), (5, 6), (4, 7), (5, 7), (6, 7), (7, 7), (6, 8), (7, 8), (6, 9), (7, 9), (8, 9), (9, 9), (10, 9), (11, 9), (12, 9), (11, 10), (12, 10), (11, 11)]\n",
      "neighbors [(11, 10), (11, 11), (11, 12), (12, 10), (12, 11), (12, 12), (13, 10), (13, 11), (13, 12)]\n",
      "full grid: [[0 0 0]\n",
      " [1 1 0]\n",
      " [0 1 0]]\n",
      "[[1 1 3]\n",
      " [2 4 3]\n",
      " [3 3 3]]\n",
      "blocked\n",
      "next node::::  (11, 11)\n"
     ]
    },
    {
     "data": {
      "image/png": "[encoded data removed]",
      "text/plain": [
       "<Figure size 432x288 with 1 Axes>"
      ]
     },
     "metadata": {
      "needs_background": "light"
     },
     "output_type": "display_data"
    },
    {
     "name": "stdout",
     "output_type": "stream",
     "text": [
      "[(0, 0), (1, 0), (2, 0), (3, 0), (2, 1), (3, 1), (4, 1), (5, 1), (6, 1), (7, 1), (8, 1), (9, 1), (8, 2), (7, 2), (6, 2), (6, 3), (7, 3), (8, 3), (7, 4), (6, 4), (6, 5), (5, 3), (5, 4), (5, 5), (4, 4), (4, 5), (4, 6), (5, 6), (4, 7), (5, 7), (6, 7), (7, 7), (6, 8), (7, 8), (6, 9), (7, 9), (8, 9), (9, 9), (10, 9), (11, 9), (12, 9), (11, 10), (12, 10), (11, 11), (12, 11)]\n",
      "neighbors [(10, 10), (10, 11), (10, 12), (11, 10), (11, 11), (11, 12), (12, 10), (12, 11), (12, 12)]\n",
      "full grid: [[0 0 0]\n",
      " [0 0 0]\n",
      " [1 1 0]]\n",
      "[[3 3 3]\n",
      " [1 4 3]\n",
      " [2 2 3]]\n",
      "free\n",
      "current_node -- (next_move) (11, 11)\n",
      "(array([3], dtype=int64),)\n",
      "right\n",
      "next_node out:: (11, 12)\n",
      "next_node out (11, 12)\n",
      "message right\n"
     ]
    },
    {
     "data": {
      "image/png": "[encoded data removed]",
      "text/plain": [
       "<Figure size 432x288 with 1 Axes>"
      ]
     },
     "metadata": {
      "needs_background": "light"
     },
     "output_type": "display_data"
    },
    {
     "name": "stdout",
     "output_type": "stream",
     "text": [
      "[(0, 0), (1, 0), (2, 0), (3, 0), (2, 1), (3, 1), (4, 1), (5, 1), (6, 1), (7, 1), (8, 1), (9, 1), (8, 2), (7, 2), (6, 2), (6, 3), (7, 3), (8, 3), (7, 4), (6, 4), (6, 5), (5, 3), (5, 4), (5, 5), (4, 4), (4, 5), (4, 6), (5, 6), (4, 7), (5, 7), (6, 7), (7, 7), (6, 8), (7, 8), (6, 9), (7, 9), (8, 9), (9, 9), (10, 9), (11, 9), (12, 9), (11, 10), (12, 10), (11, 11), (12, 11)]\n",
      "neighbors [(10, 11), (10, 12), (10, 13), (11, 11), (11, 12), (11, 13), (12, 11), (12, 12), (12, 13)]\n",
      "full grid: [[0 0 1]\n",
      " [0 0 1]\n",
      " [1 0 0]]\n",
      "[[3 3 3]\n",
      " [1 4 3]\n",
      " [2 3 3]]\n",
      "free\n",
      "current_node -- (next_move) (11, 12)\n",
      "(array([1], dtype=int64),)\n",
      "down\n",
      "next_node out:: (12, 12)\n",
      "next_node out (12, 12)\n",
      "message down\n"
     ]
    },
    {
     "data": {
      "image/png": "[encoded data removed]",
      "text/plain": [
       "<Figure size 432x288 with 1 Axes>"
      ]
     },
     "metadata": {
      "needs_background": "light"
     },
     "output_type": "display_data"
    },
    {
     "name": "stdout",
     "output_type": "stream",
     "text": [
      "[(0, 0), (1, 0), (2, 0), (3, 0), (2, 1), (3, 1), (4, 1), (5, 1), (6, 1), (7, 1), (8, 1), (9, 1), (8, 2), (7, 2), (6, 2), (6, 3), (7, 3), (8, 3), (7, 4), (6, 4), (6, 5), (5, 3), (5, 4), (5, 5), (4, 4), (4, 5), (4, 6), (5, 6), (4, 7), (5, 7), (6, 7), (7, 7), (6, 8), (7, 8), (6, 9), (7, 9), (8, 9), (9, 9), (10, 9), (11, 9), (12, 9), (11, 10), (12, 10), (11, 11), (12, 11), (11, 12)]\n",
      "neighbors [(11, 11), (11, 12), (11, 13), (12, 11), (12, 12), (12, 13), (13, 11), (13, 12), (13, 13)]\n",
      "full grid: [[0 0 1]\n",
      " [1 0 0]\n",
      " [1 0 1]]\n",
      "[[1 1 3]\n",
      " [2 4 3]\n",
      " [3 3 3]]\n",
      "free\n",
      "current_node -- (next_move) (12, 12)\n",
      "(array([1], dtype=int64),)\n",
      "down\n",
      "next_node out:: (13, 12)\n",
      "next_node out (13, 12)\n",
      "message down\n"
     ]
    },
    {
     "data": {
      "image/png": "[encoded data removed]",
      "text/plain": [
       "<Figure size 432x288 with 1 Axes>"
      ]
     },
     "metadata": {
      "needs_background": "light"
     },
     "output_type": "display_data"
    },
    {
     "name": "stdout",
     "output_type": "stream",
     "text": [
      "[(0, 0), (1, 0), (2, 0), (3, 0), (2, 1), (3, 1), (4, 1), (5, 1), (6, 1), (7, 1), (8, 1), (9, 1), (8, 2), (7, 2), (6, 2), (6, 3), (7, 3), (8, 3), (7, 4), (6, 4), (6, 5), (5, 3), (5, 4), (5, 5), (4, 4), (4, 5), (4, 6), (5, 6), (4, 7), (5, 7), (6, 7), (7, 7), (6, 8), (7, 8), (6, 9), (7, 9), (8, 9), (9, 9), (10, 9), (11, 9), (12, 9), (11, 10), (12, 10), (11, 11), (12, 11), (11, 12), (12, 12)]\n",
      "neighbors [(12, 11), (12, 12), (12, 13), (13, 11), (13, 12), (13, 13), (14, 11), (14, 12), (14, 13)]\n",
      "full grid: [[1 0 0]\n",
      " [1 0 1]\n",
      " [0 0 0]]\n",
      "[[2 1 3]\n",
      " [3 4 3]\n",
      " [3 3 3]]\n",
      "free\n",
      "current_node -- (next_move) (13, 12)\n",
      "(array([1], dtype=int64),)\n",
      "down\n",
      "next_node out:: (14, 12)\n",
      "next_node out (14, 12)\n",
      "message down\n"
     ]
    },
    {
     "data": {
      "image/png": "[encoded data removed]",
      "text/plain": [
       "<Figure size 432x288 with 1 Axes>"
      ]
     },
     "metadata": {
      "needs_background": "light"
     },
     "output_type": "display_data"
    },
    {
     "name": "stdout",
     "output_type": "stream",
     "text": [
      "[(0, 0), (1, 0), (2, 0), (3, 0), (2, 1), (3, 1), (4, 1), (5, 1), (6, 1), (7, 1), (8, 1), (9, 1), (8, 2), (7, 2), (6, 2), (6, 3), (7, 3), (8, 3), (7, 4), (6, 4), (6, 5), (5, 3), (5, 4), (5, 5), (4, 4), (4, 5), (4, 6), (5, 6), (4, 7), (5, 7), (6, 7), (7, 7), (6, 8), (7, 8), (6, 9), (7, 9), (8, 9), (9, 9), (10, 9), (11, 9), (12, 9), (11, 10), (12, 10), (11, 11), (12, 11), (11, 12), (12, 12), (13, 12)]\n",
      "neighbors [(13, 11), (13, 12), (13, 13), (14, 11), (14, 12), (14, 13), (15, 11), (15, 12), (15, 13)]\n",
      "full grid: [[1 0 1]\n",
      " [0 0 0]\n",
      " [1 0 0]]\n",
      "[[3 1 3]\n",
      " [3 4 3]\n",
      " [3 3 3]]\n",
      "free\n",
      "current_node -- (next_move) (14, 12)\n",
      "(array([1], dtype=int64),)\n",
      "down\n",
      "next_node out:: (15, 12)\n",
      "next_node out (15, 12)\n",
      "message down\n"
     ]
    },
    {
     "data": {
      "image/png": "[encoded data removed]",
      "text/plain": [
       "<Figure size 432x288 with 1 Axes>"
      ]
     },
     "metadata": {
      "needs_background": "light"
     },
     "output_type": "display_data"
    },
    {
     "name": "stdout",
     "output_type": "stream",
     "text": [
      "[(0, 0), (1, 0), (2, 0), (3, 0), (2, 1), (3, 1), (4, 1), (5, 1), (6, 1), (7, 1), (8, 1), (9, 1), (8, 2), (7, 2), (6, 2), (6, 3), (7, 3), (8, 3), (7, 4), (6, 4), (6, 5), (5, 3), (5, 4), (5, 5), (4, 4), (4, 5), (4, 6), (5, 6), (4, 7), (5, 7), (6, 7), (7, 7), (6, 8), (7, 8), (6, 9), (7, 9), (8, 9), (9, 9), (10, 9), (11, 9), (12, 9), (11, 10), (12, 10), (11, 11), (12, 11), (11, 12), (12, 12), (13, 12), (14, 12)]\n",
      "neighbors [(14, 11), (14, 12), (14, 13), (15, 11), (15, 12), (15, 13), (16, 11), (16, 12), (16, 13)]\n",
      "full grid: [[0 0 0]\n",
      " [1 0 0]\n",
      " [0 0 0]]\n",
      "[[3 1 3]\n",
      " [3 4 3]\n",
      " [3 3 3]]\n",
      "free\n",
      "current_node -- (next_move) (15, 12)\n",
      "(array([1], dtype=int64),)\n",
      "down\n",
      "next_node out:: (16, 12)\n",
      "next_node out (16, 12)\n",
      "message down\n"
     ]
    },
    {
     "data": {
      "image/png": "[encoded data removed]",
      "text/plain": [
       "<Figure size 432x288 with 1 Axes>"
      ]
     },
     "metadata": {
      "needs_background": "light"
     },
     "output_type": "display_data"
    },
    {
     "name": "stdout",
     "output_type": "stream",
     "text": [
      "[(0, 0), (1, 0), (2, 0), (3, 0), (2, 1), (3, 1), (4, 1), (5, 1), (6, 1), (7, 1), (8, 1), (9, 1), (8, 2), (7, 2), (6, 2), (6, 3), (7, 3), (8, 3), (7, 4), (6, 4), (6, 5), (5, 3), (5, 4), (5, 5), (4, 4), (4, 5), (4, 6), (5, 6), (4, 7), (5, 7), (6, 7), (7, 7), (6, 8), (7, 8), (6, 9), (7, 9), (8, 9), (9, 9), (10, 9), (11, 9), (12, 9), (11, 10), (12, 10), (11, 11), (12, 11), (11, 12), (12, 12), (13, 12), (14, 12), (15, 12)]\n",
      "neighbors [(15, 11), (15, 12), (15, 13), (16, 11), (16, 12), (16, 13), (17, 11), (17, 12), (17, 13)]\n",
      "full grid: [[1 0 0]\n",
      " [0 0 0]\n",
      " [0 1 1]]\n",
      "[[3 1 3]\n",
      " [3 4 3]\n",
      " [3 3 3]]\n",
      "free\n",
      "current_node -- (next_move) (16, 12)\n",
      "(array([1], dtype=int64),)\n",
      "down\n",
      "next_node out:: (17, 12)\n",
      "next_node out (17, 12)\n",
      "message down\n"
     ]
    },
    {
     "data": {
      "image/png": "[encoded data removed]",
      "text/plain": [
       "<Figure size 432x288 with 1 Axes>"
      ]
     },
     "metadata": {
      "needs_background": "light"
     },
     "output_type": "display_data"
    },
    {
     "name": "stdout",
     "output_type": "stream",
     "text": [
      "[(0, 0), (1, 0), (2, 0), (3, 0), (2, 1), (3, 1), (4, 1), (5, 1), (6, 1), (7, 1), (8, 1), (9, 1), (8, 2), (7, 2), (6, 2), (6, 3), (7, 3), (8, 3), (7, 4), (6, 4), (6, 5), (5, 3), (5, 4), (5, 5), (4, 4), (4, 5), (4, 6), (5, 6), (4, 7), (5, 7), (6, 7), (7, 7), (6, 8), (7, 8), (6, 9), (7, 9), (8, 9), (9, 9), (10, 9), (11, 9), (12, 9), (11, 10), (12, 10), (11, 11), (12, 11), (11, 12), (12, 12), (13, 12), (14, 12), (15, 12), (16, 12)]\n",
      "neighbors [(16, 11), (16, 12), (16, 13), (17, 11), (17, 12), (17, 13), (18, 11), (18, 12), (18, 13)]\n",
      "full grid: [[0 0 0]\n",
      " [0 1 1]\n",
      " [0 0 0]]\n",
      "[[3 1 3]\n",
      " [3 4 3]\n",
      " [3 3 3]]\n",
      "blocked\n",
      "next node::::  (16, 12)\n"
     ]
    },
    {
     "data": {
      "image/png": "[encoded data removed]",
      "text/plain": [
       "<Figure size 432x288 with 1 Axes>"
      ]
     },
     "metadata": {
      "needs_background": "light"
     },
     "output_type": "display_data"
    },
    {
     "name": "stdout",
     "output_type": "stream",
     "text": [
      "[(0, 0), (1, 0), (2, 0), (3, 0), (2, 1), (3, 1), (4, 1), (5, 1), (6, 1), (7, 1), (8, 1), (9, 1), (8, 2), (7, 2), (6, 2), (6, 3), (7, 3), (8, 3), (7, 4), (6, 4), (6, 5), (5, 3), (5, 4), (5, 5), (4, 4), (4, 5), (4, 6), (5, 6), (4, 7), (5, 7), (6, 7), (7, 7), (6, 8), (7, 8), (6, 9), (7, 9), (8, 9), (9, 9), (10, 9), (11, 9), (12, 9), (11, 10), (12, 10), (11, 11), (12, 11), (11, 12), (12, 12), (13, 12), (14, 12), (15, 12), (16, 12), (17, 12)]\n",
      "neighbors [(15, 11), (15, 12), (15, 13), (16, 11), (16, 12), (16, 13), (17, 11), (17, 12), (17, 13)]\n",
      "full grid: [[1 0 0]\n",
      " [0 0 0]\n",
      " [0 1 1]]\n",
      "[[3 1 3]\n",
      " [3 4 3]\n",
      " [3 2 3]]\n",
      "free\n",
      "current_node -- (next_move) (16, 12)\n",
      "(array([3], dtype=int64),)\n",
      "right\n",
      "next_node out:: (16, 13)\n",
      "next_node out (16, 13)\n",
      "message right\n"
     ]
    },
    {
     "data": {
      "image/png": "[encoded data removed]",
      "text/plain": [
       "<Figure size 432x288 with 1 Axes>"
      ]
     },
     "metadata": {
      "needs_background": "light"
     },
     "output_type": "display_data"
    },
    {
     "name": "stdout",
     "output_type": "stream",
     "text": [
      "[(0, 0), (1, 0), (2, 0), (3, 0), (2, 1), (3, 1), (4, 1), (5, 1), (6, 1), (7, 1), (8, 1), (9, 1), (8, 2), (7, 2), (6, 2), (6, 3), (7, 3), (8, 3), (7, 4), (6, 4), (6, 5), (5, 3), (5, 4), (5, 5), (4, 4), (4, 5), (4, 6), (5, 6), (4, 7), (5, 7), (6, 7), (7, 7), (6, 8), (7, 8), (6, 9), (7, 9), (8, 9), (9, 9), (10, 9), (11, 9), (12, 9), (11, 10), (12, 10), (11, 11), (12, 11), (11, 12), (12, 12), (13, 12), (14, 12), (15, 12), (16, 12), (17, 12)]\n",
      "neighbors [(15, 12), (15, 13), (15, 14), (16, 12), (16, 13), (16, 14), (17, 12), (17, 13), (17, 14)]\n",
      "full grid: [[0 0 0]\n",
      " [0 0 0]\n",
      " [1 1 0]]\n",
      "[[1 3 3]\n",
      " [1 4 3]\n",
      " [2 3 3]]\n",
      "free\n",
      "current_node -- (next_move) (16, 13)\n",
      "(array([1], dtype=int64),)\n",
      "down\n",
      "next_node out:: (17, 13)\n",
      "next_node out (17, 13)\n",
      "message down\n"
     ]
    },
    {
     "data": {
      "image/png": "[encoded data removed]",
      "text/plain": [
       "<Figure size 432x288 with 1 Axes>"
      ]
     },
     "metadata": {
      "needs_background": "light"
     },
     "output_type": "display_data"
    },
    {
     "name": "stdout",
     "output_type": "stream",
     "text": [
      "[(0, 0), (1, 0), (2, 0), (3, 0), (2, 1), (3, 1), (4, 1), (5, 1), (6, 1), (7, 1), (8, 1), (9, 1), (8, 2), (7, 2), (6, 2), (6, 3), (7, 3), (8, 3), (7, 4), (6, 4), (6, 5), (5, 3), (5, 4), (5, 5), (4, 4), (4, 5), (4, 6), (5, 6), (4, 7), (5, 7), (6, 7), (7, 7), (6, 8), (7, 8), (6, 9), (7, 9), (8, 9), (9, 9), (10, 9), (11, 9), (12, 9), (11, 10), (12, 10), (11, 11), (12, 11), (11, 12), (12, 12), (13, 12), (14, 12), (15, 12), (16, 12), (17, 12), (16, 13)]\n",
      "neighbors [(16, 12), (16, 13), (16, 14), (17, 12), (17, 13), (17, 14), (18, 12), (18, 13), (18, 14)]\n",
      "full grid: [[0 0 0]\n",
      " [1 1 0]\n",
      " [0 0 0]]\n",
      "[[1 1 3]\n",
      " [2 4 3]\n",
      " [3 3 3]]\n",
      "blocked\n",
      "next node::::  (16, 13)\n"
     ]
    },
    {
     "data": {
      "image/png": "[encoded data removed]",
      "text/plain": [
       "<Figure size 432x288 with 1 Axes>"
      ]
     },
     "metadata": {
      "needs_background": "light"
     },
     "output_type": "display_data"
    },
    {
     "name": "stdout",
     "output_type": "stream",
     "text": [
      "[(0, 0), (1, 0), (2, 0), (3, 0), (2, 1), (3, 1), (4, 1), (5, 1), (6, 1), (7, 1), (8, 1), (9, 1), (8, 2), (7, 2), (6, 2), (6, 3), (7, 3), (8, 3), (7, 4), (6, 4), (6, 5), (5, 3), (5, 4), (5, 5), (4, 4), (4, 5), (4, 6), (5, 6), (4, 7), (5, 7), (6, 7), (7, 7), (6, 8), (7, 8), (6, 9), (7, 9), (8, 9), (9, 9), (10, 9), (11, 9), (12, 9), (11, 10), (12, 10), (11, 11), (12, 11), (11, 12), (12, 12), (13, 12), (14, 12), (15, 12), (16, 12), (17, 12), (16, 13), (17, 13)]\n",
      "neighbors [(15, 12), (15, 13), (15, 14), (16, 12), (16, 13), (16, 14), (17, 12), (17, 13), (17, 14)]\n",
      "full grid: [[0 0 0]\n",
      " [0 0 0]\n",
      " [1 1 0]]\n",
      "[[1 3 3]\n",
      " [1 4 3]\n",
      " [2 2 3]]\n",
      "free\n",
      "current_node -- (next_move) (16, 13)\n",
      "(array([3], dtype=int64),)\n",
      "right\n",
      "next_node out:: (16, 14)\n",
      "next_node out (16, 14)\n",
      "message right\n"
     ]
    },
    {
     "data": {
      "image/png": "[encoded data removed]",
      "text/plain": [
       "<Figure size 432x288 with 1 Axes>"
      ]
     },
     "metadata": {
      "needs_background": "light"
     },
     "output_type": "display_data"
    },
    {
     "name": "stdout",
     "output_type": "stream",
     "text": [
      "[(0, 0), (1, 0), (2, 0), (3, 0), (2, 1), (3, 1), (4, 1), (5, 1), (6, 1), (7, 1), (8, 1), (9, 1), (8, 2), (7, 2), (6, 2), (6, 3), (7, 3), (8, 3), (7, 4), (6, 4), (6, 5), (5, 3), (5, 4), (5, 5), (4, 4), (4, 5), (4, 6), (5, 6), (4, 7), (5, 7), (6, 7), (7, 7), (6, 8), (7, 8), (6, 9), (7, 9), (8, 9), (9, 9), (10, 9), (11, 9), (12, 9), (11, 10), (12, 10), (11, 11), (12, 11), (11, 12), (12, 12), (13, 12), (14, 12), (15, 12), (16, 12), (17, 12), (16, 13), (17, 13)]\n",
      "neighbors [(15, 13), (15, 14), (15, 15), (16, 13), (16, 14), (16, 15), (17, 13), (17, 14), (17, 15)]\n",
      "full grid: [[0 0 0]\n",
      " [0 0 1]\n",
      " [1 0 1]]\n",
      "[[3 3 3]\n",
      " [1 4 3]\n",
      " [2 3 3]]\n",
      "free\n",
      "current_node -- (next_move) (16, 14)\n",
      "(array([1], dtype=int64),)\n",
      "down\n",
      "next_node out:: (17, 14)\n",
      "next_node out (17, 14)\n",
      "message down\n"
     ]
    },
    {
     "data": {
      "image/png": "[encoded data removed]",
      "text/plain": [
       "<Figure size 432x288 with 1 Axes>"
      ]
     },
     "metadata": {
      "needs_background": "light"
     },
     "output_type": "display_data"
    },
    {
     "name": "stdout",
     "output_type": "stream",
     "text": [
      "[(0, 0), (1, 0), (2, 0), (3, 0), (2, 1), (3, 1), (4, 1), (5, 1), (6, 1), (7, 1), (8, 1), (9, 1), (8, 2), (7, 2), (6, 2), (6, 3), (7, 3), (8, 3), (7, 4), (6, 4), (6, 5), (5, 3), (5, 4), (5, 5), (4, 4), (4, 5), (4, 6), (5, 6), (4, 7), (5, 7), (6, 7), (7, 7), (6, 8), (7, 8), (6, 9), (7, 9), (8, 9), (9, 9), (10, 9), (11, 9), (12, 9), (11, 10), (12, 10), (11, 11), (12, 11), (11, 12), (12, 12), (13, 12), (14, 12), (15, 12), (16, 12), (17, 12), (16, 13), (17, 13), (16, 14)]\n",
      "neighbors [(16, 13), (16, 14), (16, 15), (17, 13), (17, 14), (17, 15), (18, 13), (18, 14), (18, 15)]\n",
      "full grid: [[0 0 1]\n",
      " [1 0 1]\n",
      " [0 0 0]]\n",
      "[[1 1 3]\n",
      " [2 4 3]\n",
      " [3 3 3]]\n",
      "free\n",
      "current_node -- (next_move) (17, 14)\n",
      "(array([1], dtype=int64),)\n",
      "down\n",
      "next_node out:: (18, 14)\n",
      "next_node out (18, 14)\n",
      "message down\n"
     ]
    },
    {
     "data": {
      "image/png": "[encoded data removed]",
      "text/plain": [
       "<Figure size 432x288 with 1 Axes>"
      ]
     },
     "metadata": {
      "needs_background": "light"
     },
     "output_type": "display_data"
    },
    {
     "name": "stdout",
     "output_type": "stream",
     "text": [
      "[(0, 0), (1, 0), (2, 0), (3, 0), (2, 1), (3, 1), (4, 1), (5, 1), (6, 1), (7, 1), (8, 1), (9, 1), (8, 2), (7, 2), (6, 2), (6, 3), (7, 3), (8, 3), (7, 4), (6, 4), (6, 5), (5, 3), (5, 4), (5, 5), (4, 4), (4, 5), (4, 6), (5, 6), (4, 7), (5, 7), (6, 7), (7, 7), (6, 8), (7, 8), (6, 9), (7, 9), (8, 9), (9, 9), (10, 9), (11, 9), (12, 9), (11, 10), (12, 10), (11, 11), (12, 11), (11, 12), (12, 12), (13, 12), (14, 12), (15, 12), (16, 12), (17, 12), (16, 13), (17, 13), (16, 14), (17, 14)]\n",
      "neighbors [(17, 13), (17, 14), (17, 15), (18, 13), (18, 14), (18, 15), (19, 13), (19, 14), (19, 15)]\n",
      "full grid: [[1 0 1]\n",
      " [0 0 0]\n",
      " [0 0 0]]\n",
      "[[2 1 3]\n",
      " [3 4 3]\n",
      " [3 3 3]]\n",
      "free\n",
      "current_node -- (next_move) (18, 14)\n",
      "(array([1], dtype=int64),)\n",
      "down\n",
      "next_node out:: (19, 14)\n",
      "next_node out (19, 14)\n",
      "message down\n"
     ]
    },
    {
     "data": {
      "image/png": "[encoded data removed]",
      "text/plain": [
       "<Figure size 432x288 with 1 Axes>"
      ]
     },
     "metadata": {
      "needs_background": "light"
     },
     "output_type": "display_data"
    },
    {
     "name": "stdout",
     "output_type": "stream",
     "text": [
      "[(0, 0), (1, 0), (2, 0), (3, 0), (2, 1), (3, 1), (4, 1), (5, 1), (6, 1), (7, 1), (8, 1), (9, 1), (8, 2), (7, 2), (6, 2), (6, 3), (7, 3), (8, 3), (7, 4), (6, 4), (6, 5), (5, 3), (5, 4), (5, 5), (4, 4), (4, 5), (4, 6), (5, 6), (4, 7), (5, 7), (6, 7), (7, 7), (6, 8), (7, 8), (6, 9), (7, 9), (8, 9), (9, 9), (10, 9), (11, 9), (12, 9), (11, 10), (12, 10), (11, 11), (12, 11), (11, 12), (12, 12), (13, 12), (14, 12), (15, 12), (16, 12), (17, 12), (16, 13), (17, 13), (16, 14), (17, 14), (18, 14)]\n",
      "neighbors [(18, 13), (18, 14), (18, 15), (19, 13), (19, 14), (19, 15), (20, 13), (20, 14), (20, 15)]\n",
      "full grid: [[0 0 0]\n",
      " [0 0 0]\n",
      " [0 1 1]]\n",
      "[[3 1 3]\n",
      " [3 4 3]\n",
      " [3 3 3]]\n",
      "free\n",
      "current_node -- (next_move) (19, 14)\n",
      "(array([1], dtype=int64),)\n",
      "down\n",
      "next_node out:: (20, 14)\n",
      "next_node out (20, 14)\n",
      "message down\n"
     ]
    },
    {
     "data": {
      "image/png": "[encoded data removed]",
      "text/plain": [
       "<Figure size 432x288 with 1 Axes>"
      ]
     },
     "metadata": {
      "needs_background": "light"
     },
     "output_type": "display_data"
    },
    {
     "name": "stdout",
     "output_type": "stream",
     "text": [
      "[(0, 0), (1, 0), (2, 0), (3, 0), (2, 1), (3, 1), (4, 1), (5, 1), (6, 1), (7, 1), (8, 1), (9, 1), (8, 2), (7, 2), (6, 2), (6, 3), (7, 3), (8, 3), (7, 4), (6, 4), (6, 5), (5, 3), (5, 4), (5, 5), (4, 4), (4, 5), (4, 6), (5, 6), (4, 7), (5, 7), (6, 7), (7, 7), (6, 8), (7, 8), (6, 9), (7, 9), (8, 9), (9, 9), (10, 9), (11, 9), (12, 9), (11, 10), (12, 10), (11, 11), (12, 11), (11, 12), (12, 12), (13, 12), (14, 12), (15, 12), (16, 12), (17, 12), (16, 13), (17, 13), (16, 14), (17, 14), (18, 14), (19, 14)]\n",
      "neighbors [(19, 13), (19, 14), (19, 15), (20, 13), (20, 14), (20, 15), (21, 13), (21, 14), (21, 15)]\n",
      "full grid: [[0 0 0]\n",
      " [0 1 1]\n",
      " [0 1 0]]\n",
      "[[3 1 3]\n",
      " [3 4 3]\n",
      " [3 3 3]]\n",
      "blocked\n",
      "next node::::  (19, 14)\n"
     ]
    },
    {
     "data": {
      "image/png": "[encoded data removed]",
      "text/plain": [
       "<Figure size 432x288 with 1 Axes>"
      ]
     },
     "metadata": {
      "needs_background": "light"
     },
     "output_type": "display_data"
    },
    {
     "name": "stdout",
     "output_type": "stream",
     "text": [
      "[(0, 0), (1, 0), (2, 0), (3, 0), (2, 1), (3, 1), (4, 1), (5, 1), (6, 1), (7, 1), (8, 1), (9, 1), (8, 2), (7, 2), (6, 2), (6, 3), (7, 3), (8, 3), (7, 4), (6, 4), (6, 5), (5, 3), (5, 4), (5, 5), (4, 4), (4, 5), (4, 6), (5, 6), (4, 7), (5, 7), (6, 7), (7, 7), (6, 8), (7, 8), (6, 9), (7, 9), (8, 9), (9, 9), (10, 9), (11, 9), (12, 9), (11, 10), (12, 10), (11, 11), (12, 11), (11, 12), (12, 12), (13, 12), (14, 12), (15, 12), (16, 12), (17, 12), (16, 13), (17, 13), (16, 14), (17, 14), (18, 14), (19, 14), (20, 14)]\n",
      "neighbors [(18, 13), (18, 14), (18, 15), (19, 13), (19, 14), (19, 15), (20, 13), (20, 14), (20, 15)]\n",
      "full grid: [[0 0 0]\n",
      " [0 0 0]\n",
      " [0 1 1]]\n",
      "[[3 1 3]\n",
      " [3 4 3]\n",
      " [3 2 3]]\n",
      "free\n",
      "current_node -- (next_move) (19, 14)\n",
      "(array([3], dtype=int64),)\n",
      "right\n",
      "next_node out:: (19, 15)\n",
      "next_node out (19, 15)\n",
      "message right\n"
     ]
    },
    {
     "data": {
      "image/png": "[encoded data removed]",
      "text/plain": [
       "<Figure size 432x288 with 1 Axes>"
      ]
     },
     "metadata": {
      "needs_background": "light"
     },
     "output_type": "display_data"
    },
    {
     "name": "stdout",
     "output_type": "stream",
     "text": [
      "[(0, 0), (1, 0), (2, 0), (3, 0), (2, 1), (3, 1), (4, 1), (5, 1), (6, 1), (7, 1), (8, 1), (9, 1), (8, 2), (7, 2), (6, 2), (6, 3), (7, 3), (8, 3), (7, 4), (6, 4), (6, 5), (5, 3), (5, 4), (5, 5), (4, 4), (4, 5), (4, 6), (5, 6), (4, 7), (5, 7), (6, 7), (7, 7), (6, 8), (7, 8), (6, 9), (7, 9), (8, 9), (9, 9), (10, 9), (11, 9), (12, 9), (11, 10), (12, 10), (11, 11), (12, 11), (11, 12), (12, 12), (13, 12), (14, 12), (15, 12), (16, 12), (17, 12), (16, 13), (17, 13), (16, 14), (17, 14), (18, 14), (19, 14), (20, 14)]\n",
      "neighbors [(18, 14), (18, 15), (18, 16), (19, 14), (19, 15), (19, 16), (20, 14), (20, 15), (20, 16)]\n",
      "full grid: [[0 0 0]\n",
      " [0 0 0]\n",
      " [1 1 0]]\n",
      "[[1 3 3]\n",
      " [1 4 3]\n",
      " [2 3 3]]\n",
      "free\n",
      "current_node -- (next_move) (19, 15)\n",
      "(array([1], dtype=int64),)\n",
      "down\n",
      "next_node out:: (20, 15)\n",
      "next_node out (20, 15)\n",
      "message down\n"
     ]
    },
    {
     "data": {
      "image/png": "[encoded data removed]",
      "text/plain": [
       "<Figure size 432x288 with 1 Axes>"
      ]
     },
     "metadata": {
      "needs_background": "light"
     },
     "output_type": "display_data"
    },
    {
     "name": "stdout",
     "output_type": "stream",
     "text": [
      "[(0, 0), (1, 0), (2, 0), (3, 0), (2, 1), (3, 1), (4, 1), (5, 1), (6, 1), (7, 1), (8, 1), (9, 1), (8, 2), (7, 2), (6, 2), (6, 3), (7, 3), (8, 3), (7, 4), (6, 4), (6, 5), (5, 3), (5, 4), (5, 5), (4, 4), (4, 5), (4, 6), (5, 6), (4, 7), (5, 7), (6, 7), (7, 7), (6, 8), (7, 8), (6, 9), (7, 9), (8, 9), (9, 9), (10, 9), (11, 9), (12, 9), (11, 10), (12, 10), (11, 11), (12, 11), (11, 12), (12, 12), (13, 12), (14, 12), (15, 12), (16, 12), (17, 12), (16, 13), (17, 13), (16, 14), (17, 14), (18, 14), (19, 14), (20, 14), (19, 15)]\n",
      "neighbors [(19, 14), (19, 15), (19, 16), (20, 14), (20, 15), (20, 16), (21, 14), (21, 15), (21, 16)]\n",
      "full grid: [[0 0 0]\n",
      " [1 1 0]\n",
      " [1 0 0]]\n",
      "[[1 1 3]\n",
      " [2 4 3]\n",
      " [3 3 3]]\n",
      "blocked\n",
      "next node::::  (19, 15)\n"
     ]
    },
    {
     "data": {
      "image/png": "[encoded data removed]",
      "text/plain": [
       "<Figure size 432x288 with 1 Axes>"
      ]
     },
     "metadata": {
      "needs_background": "light"
     },
     "output_type": "display_data"
    },
    {
     "name": "stdout",
     "output_type": "stream",
     "text": [
      "[(0, 0), (1, 0), (2, 0), (3, 0), (2, 1), (3, 1), (4, 1), (5, 1), (6, 1), (7, 1), (8, 1), (9, 1), (8, 2), (7, 2), (6, 2), (6, 3), (7, 3), (8, 3), (7, 4), (6, 4), (6, 5), (5, 3), (5, 4), (5, 5), (4, 4), (4, 5), (4, 6), (5, 6), (4, 7), (5, 7), (6, 7), (7, 7), (6, 8), (7, 8), (6, 9), (7, 9), (8, 9), (9, 9), (10, 9), (11, 9), (12, 9), (11, 10), (12, 10), (11, 11), (12, 11), (11, 12), (12, 12), (13, 12), (14, 12), (15, 12), (16, 12), (17, 12), (16, 13), (17, 13), (16, 14), (17, 14), (18, 14), (19, 14), (20, 14), (19, 15), (20, 15)]\n",
      "neighbors [(18, 14), (18, 15), (18, 16), (19, 14), (19, 15), (19, 16), (20, 14), (20, 15), (20, 16)]\n",
      "full grid: [[0 0 0]\n",
      " [0 0 0]\n",
      " [1 1 0]]\n",
      "[[1 3 3]\n",
      " [1 4 3]\n",
      " [2 2 3]]\n",
      "free\n",
      "current_node -- (next_move) (19, 15)\n",
      "(array([3], dtype=int64),)\n",
      "right\n",
      "next_node out:: (19, 16)\n",
      "next_node out (19, 16)\n",
      "message right\n"
     ]
    },
    {
     "data": {
      "image/png": "[encoded data removed]",
      "text/plain": [
       "<Figure size 432x288 with 1 Axes>"
      ]
     },
     "metadata": {
      "needs_background": "light"
     },
     "output_type": "display_data"
    },
    {
     "name": "stdout",
     "output_type": "stream",
     "text": [
      "[(0, 0), (1, 0), (2, 0), (3, 0), (2, 1), (3, 1), (4, 1), (5, 1), (6, 1), (7, 1), (8, 1), (9, 1), (8, 2), (7, 2), (6, 2), (6, 3), (7, 3), (8, 3), (7, 4), (6, 4), (6, 5), (5, 3), (5, 4), (5, 5), (4, 4), (4, 5), (4, 6), (5, 6), (4, 7), (5, 7), (6, 7), (7, 7), (6, 8), (7, 8), (6, 9), (7, 9), (8, 9), (9, 9), (10, 9), (11, 9), (12, 9), (11, 10), (12, 10), (11, 11), (12, 11), (11, 12), (12, 12), (13, 12), (14, 12), (15, 12), (16, 12), (17, 12), (16, 13), (17, 13), (16, 14), (17, 14), (18, 14), (19, 14), (20, 14), (19, 15), (20, 15)]\n",
      "neighbors [(18, 15), (18, 16), (18, 17), (19, 15), (19, 16), (19, 17), (20, 15), (20, 16), (20, 17)]\n",
      "full grid: [[0 0 1]\n",
      " [0 0 1]\n",
      " [1 0 0]]\n",
      "[[3 3 3]\n",
      " [1 4 3]\n",
      " [2 3 3]]\n",
      "free\n",
      "current_node -- (next_move) (19, 16)\n",
      "(array([1], dtype=int64),)\n",
      "down\n",
      "next_node out:: (20, 16)\n",
      "next_node out (20, 16)\n",
      "message down\n"
     ]
    },
    {
     "data": {
      "image/png": "[encoded data removed]",
      "text/plain": [
       "<Figure size 432x288 with 1 Axes>"
      ]
     },
     "metadata": {
      "needs_background": "light"
     },
     "output_type": "display_data"
    },
    {
     "name": "stdout",
     "output_type": "stream",
     "text": [
      "[(0, 0), (1, 0), (2, 0), (3, 0), (2, 1), (3, 1), (4, 1), (5, 1), (6, 1), (7, 1), (8, 1), (9, 1), (8, 2), (7, 2), (6, 2), (6, 3), (7, 3), (8, 3), (7, 4), (6, 4), (6, 5), (5, 3), (5, 4), (5, 5), (4, 4), (4, 5), (4, 6), (5, 6), (4, 7), (5, 7), (6, 7), (7, 7), (6, 8), (7, 8), (6, 9), (7, 9), (8, 9), (9, 9), (10, 9), (11, 9), (12, 9), (11, 10), (12, 10), (11, 11), (12, 11), (11, 12), (12, 12), (13, 12), (14, 12), (15, 12), (16, 12), (17, 12), (16, 13), (17, 13), (16, 14), (17, 14), (18, 14), (19, 14), (20, 14), (19, 15), (20, 15), (19, 16)]\n",
      "neighbors [(19, 15), (19, 16), (19, 17), (20, 15), (20, 16), (20, 17), (21, 15), (21, 16), (21, 17)]\n",
      "full grid: [[0 0 1]\n",
      " [1 0 0]\n",
      " [0 0 0]]\n",
      "[[1 1 3]\n",
      " [2 4 3]\n",
      " [3 3 3]]\n",
      "free\n",
      "current_node -- (next_move) (20, 16)\n",
      "(array([1], dtype=int64),)\n",
      "down\n",
      "next_node out:: (21, 16)\n",
      "next_node out (21, 16)\n",
      "message down\n"
     ]
    },
    {
     "data": {
      "image/png": "[encoded data removed]",
      "text/plain": [
       "<Figure size 432x288 with 1 Axes>"
      ]
     },
     "metadata": {
      "needs_background": "light"
     },
     "output_type": "display_data"
    },
    {
     "name": "stdout",
     "output_type": "stream",
     "text": [
      "[(0, 0), (1, 0), (2, 0), (3, 0), (2, 1), (3, 1), (4, 1), (5, 1), (6, 1), (7, 1), (8, 1), (9, 1), (8, 2), (7, 2), (6, 2), (6, 3), (7, 3), (8, 3), (7, 4), (6, 4), (6, 5), (5, 3), (5, 4), (5, 5), (4, 4), (4, 5), (4, 6), (5, 6), (4, 7), (5, 7), (6, 7), (7, 7), (6, 8), (7, 8), (6, 9), (7, 9), (8, 9), (9, 9), (10, 9), (11, 9), (12, 9), (11, 10), (12, 10), (11, 11), (12, 11), (11, 12), (12, 12), (13, 12), (14, 12), (15, 12), (16, 12), (17, 12), (16, 13), (17, 13), (16, 14), (17, 14), (18, 14), (19, 14), (20, 14), (19, 15), (20, 15), (19, 16), (20, 16)]\n",
      "neighbors [(20, 15), (20, 16), (20, 17), (21, 15), (21, 16), (21, 17), (22, 15), (22, 16), (22, 17)]\n",
      "full grid: [[1 0 0]\n",
      " [0 0 0]\n",
      " [0 1 0]]\n",
      "[[2 1 3]\n",
      " [3 4 3]\n",
      " [3 3 3]]\n",
      "free\n",
      "current_node -- (next_move) (21, 16)\n",
      "(array([1], dtype=int64),)\n",
      "down\n",
      "next_node out:: (22, 16)\n",
      "next_node out (22, 16)\n",
      "message down\n"
     ]
    },
    {
     "data": {
      "image/png": "[encoded data removed]",
      "text/plain": [
       "<Figure size 432x288 with 1 Axes>"
      ]
     },
     "metadata": {
      "needs_background": "light"
     },
     "output_type": "display_data"
    },
    {
     "name": "stdout",
     "output_type": "stream",
     "text": [
      "[(0, 0), (1, 0), (2, 0), (3, 0), (2, 1), (3, 1), (4, 1), (5, 1), (6, 1), (7, 1), (8, 1), (9, 1), (8, 2), (7, 2), (6, 2), (6, 3), (7, 3), (8, 3), (7, 4), (6, 4), (6, 5), (5, 3), (5, 4), (5, 5), (4, 4), (4, 5), (4, 6), (5, 6), (4, 7), (5, 7), (6, 7), (7, 7), (6, 8), (7, 8), (6, 9), (7, 9), (8, 9), (9, 9), (10, 9), (11, 9), (12, 9), (11, 10), (12, 10), (11, 11), (12, 11), (11, 12), (12, 12), (13, 12), (14, 12), (15, 12), (16, 12), (17, 12), (16, 13), (17, 13), (16, 14), (17, 14), (18, 14), (19, 14), (20, 14), (19, 15), (20, 15), (19, 16), (20, 16), (21, 16)]\n",
      "neighbors [(21, 15), (21, 16), (21, 17), (22, 15), (22, 16), (22, 17), (23, 15), (23, 16), (23, 17)]\n",
      "full grid: [[0 0 0]\n",
      " [0 1 0]\n",
      " [0 1 0]]\n",
      "[[3 1 3]\n",
      " [3 4 3]\n",
      " [3 3 3]]\n",
      "blocked\n",
      "next node::::  (21, 16)\n"
     ]
    },
    {
     "data": {
      "image/png": "[encoded data removed]",
      "text/plain": [
       "<Figure size 432x288 with 1 Axes>"
      ]
     },
     "metadata": {
      "needs_background": "light"
     },
     "output_type": "display_data"
    },
    {
     "name": "stdout",
     "output_type": "stream",
     "text": [
      "[(0, 0), (1, 0), (2, 0), (3, 0), (2, 1), (3, 1), (4, 1), (5, 1), (6, 1), (7, 1), (8, 1), (9, 1), (8, 2), (7, 2), (6, 2), (6, 3), (7, 3), (8, 3), (7, 4), (6, 4), (6, 5), (5, 3), (5, 4), (5, 5), (4, 4), (4, 5), (4, 6), (5, 6), (4, 7), (5, 7), (6, 7), (7, 7), (6, 8), (7, 8), (6, 9), (7, 9), (8, 9), (9, 9), (10, 9), (11, 9), (12, 9), (11, 10), (12, 10), (11, 11), (12, 11), (11, 12), (12, 12), (13, 12), (14, 12), (15, 12), (16, 12), (17, 12), (16, 13), (17, 13), (16, 14), (17, 14), (18, 14), (19, 14), (20, 14), (19, 15), (20, 15), (19, 16), (20, 16), (21, 16), (22, 16)]\n",
      "neighbors [(20, 15), (20, 16), (20, 17), (21, 15), (21, 16), (21, 17), (22, 15), (22, 16), (22, 17)]\n",
      "full grid: [[1 0 0]\n",
      " [0 0 0]\n",
      " [0 1 0]]\n",
      "[[2 1 3]\n",
      " [3 4 3]\n",
      " [3 2 3]]\n",
      "free\n",
      "current_node -- (next_move) (21, 16)\n",
      "(array([3], dtype=int64),)\n",
      "right\n",
      "next_node out:: (21, 17)\n",
      "next_node out (21, 17)\n",
      "message right\n"
     ]
    },
    {
     "data": {
      "image/png": "[encoded data removed]",
      "text/plain": [
       "<Figure size 432x288 with 1 Axes>"
      ]
     },
     "metadata": {
      "needs_background": "light"
     },
     "output_type": "display_data"
    },
    {
     "name": "stdout",
     "output_type": "stream",
     "text": [
      "[(0, 0), (1, 0), (2, 0), (3, 0), (2, 1), (3, 1), (4, 1), (5, 1), (6, 1), (7, 1), (8, 1), (9, 1), (8, 2), (7, 2), (6, 2), (6, 3), (7, 3), (8, 3), (7, 4), (6, 4), (6, 5), (5, 3), (5, 4), (5, 5), (4, 4), (4, 5), (4, 6), (5, 6), (4, 7), (5, 7), (6, 7), (7, 7), (6, 8), (7, 8), (6, 9), (7, 9), (8, 9), (9, 9), (10, 9), (11, 9), (12, 9), (11, 10), (12, 10), (11, 11), (12, 11), (11, 12), (12, 12), (13, 12), (14, 12), (15, 12), (16, 12), (17, 12), (16, 13), (17, 13), (16, 14), (17, 14), (18, 14), (19, 14), (20, 14), (19, 15), (20, 15), (19, 16), (20, 16), (21, 16), (22, 16)]\n",
      "neighbors [(20, 16), (20, 17), (20, 18), (21, 16), (21, 17), (21, 18), (22, 16), (22, 17), (22, 18)]\n",
      "full grid: [[0 0 1]\n",
      " [0 0 1]\n",
      " [1 0 0]]\n",
      "[[1 3 3]\n",
      " [1 4 3]\n",
      " [2 3 3]]\n",
      "free\n",
      "current_node -- (next_move) (21, 17)\n",
      "(array([1], dtype=int64),)\n",
      "down\n",
      "next_node out:: (22, 17)\n",
      "next_node out (22, 17)\n",
      "message down\n"
     ]
    },
    {
     "data": {
      "image/png": "[encoded data removed]",
      "text/plain": [
       "<Figure size 432x288 with 1 Axes>"
      ]
     },
     "metadata": {
      "needs_background": "light"
     },
     "output_type": "display_data"
    },
    {
     "name": "stdout",
     "output_type": "stream",
     "text": [
      "[(0, 0), (1, 0), (2, 0), (3, 0), (2, 1), (3, 1), (4, 1), (5, 1), (6, 1), (7, 1), (8, 1), (9, 1), (8, 2), (7, 2), (6, 2), (6, 3), (7, 3), (8, 3), (7, 4), (6, 4), (6, 5), (5, 3), (5, 4), (5, 5), (4, 4), (4, 5), (4, 6), (5, 6), (4, 7), (5, 7), (6, 7), (7, 7), (6, 8), (7, 8), (6, 9), (7, 9), (8, 9), (9, 9), (10, 9), (11, 9), (12, 9), (11, 10), (12, 10), (11, 11), (12, 11), (11, 12), (12, 12), (13, 12), (14, 12), (15, 12), (16, 12), (17, 12), (16, 13), (17, 13), (16, 14), (17, 14), (18, 14), (19, 14), (20, 14), (19, 15), (20, 15), (19, 16), (20, 16), (21, 16), (22, 16), (21, 17)]\n",
      "neighbors [(21, 16), (21, 17), (21, 18), (22, 16), (22, 17), (22, 18), (23, 16), (23, 17), (23, 18)]\n",
      "full grid: [[0 0 1]\n",
      " [1 0 0]\n",
      " [1 0 0]]\n",
      "[[1 1 3]\n",
      " [2 4 3]\n",
      " [3 3 3]]\n",
      "free\n",
      "current_node -- (next_move) (22, 17)\n",
      "(array([1], dtype=int64),)\n",
      "down\n",
      "next_node out:: (23, 17)\n",
      "next_node out (23, 17)\n",
      "message down\n"
     ]
    },
    {
     "data": {
      "image/png": "[encoded data removed]",
      "text/plain": [
       "<Figure size 432x288 with 1 Axes>"
      ]
     },
     "metadata": {
      "needs_background": "light"
     },
     "output_type": "display_data"
    },
    {
     "name": "stdout",
     "output_type": "stream",
     "text": [
      "[(0, 0), (1, 0), (2, 0), (3, 0), (2, 1), (3, 1), (4, 1), (5, 1), (6, 1), (7, 1), (8, 1), (9, 1), (8, 2), (7, 2), (6, 2), (6, 3), (7, 3), (8, 3), (7, 4), (6, 4), (6, 5), (5, 3), (5, 4), (5, 5), (4, 4), (4, 5), (4, 6), (5, 6), (4, 7), (5, 7), (6, 7), (7, 7), (6, 8), (7, 8), (6, 9), (7, 9), (8, 9), (9, 9), (10, 9), (11, 9), (12, 9), (11, 10), (12, 10), (11, 11), (12, 11), (11, 12), (12, 12), (13, 12), (14, 12), (15, 12), (16, 12), (17, 12), (16, 13), (17, 13), (16, 14), (17, 14), (18, 14), (19, 14), (20, 14), (19, 15), (20, 15), (19, 16), (20, 16), (21, 16), (22, 16), (21, 17), (22, 17)]\n",
      "neighbors [(22, 16), (22, 17), (22, 18), (23, 16), (23, 17), (23, 18), (24, 16), (24, 17), (24, 18)]\n",
      "full grid: [[1 0 0]\n",
      " [1 0 0]\n",
      " [0 0 0]]\n",
      "[[2 1 3]\n",
      " [3 4 3]\n",
      " [3 3 3]]\n",
      "free\n",
      "current_node -- (next_move) (23, 17)\n",
      "(array([1], dtype=int64),)\n",
      "down\n",
      "next_node out:: (24, 17)\n",
      "next_node out (24, 17)\n",
      "message down\n"
     ]
    },
    {
     "data": {
      "image/png": "[encoded data removed]",
      "text/plain": [
       "<Figure size 432x288 with 1 Axes>"
      ]
     },
     "metadata": {
      "needs_background": "light"
     },
     "output_type": "display_data"
    },
    {
     "name": "stdout",
     "output_type": "stream",
     "text": [
      "[(0, 0), (1, 0), (2, 0), (3, 0), (2, 1), (3, 1), (4, 1), (5, 1), (6, 1), (7, 1), (8, 1), (9, 1), (8, 2), (7, 2), (6, 2), (6, 3), (7, 3), (8, 3), (7, 4), (6, 4), (6, 5), (5, 3), (5, 4), (5, 5), (4, 4), (4, 5), (4, 6), (5, 6), (4, 7), (5, 7), (6, 7), (7, 7), (6, 8), (7, 8), (6, 9), (7, 9), (8, 9), (9, 9), (10, 9), (11, 9), (12, 9), (11, 10), (12, 10), (11, 11), (12, 11), (11, 12), (12, 12), (13, 12), (14, 12), (15, 12), (16, 12), (17, 12), (16, 13), (17, 13), (16, 14), (17, 14), (18, 14), (19, 14), (20, 14), (19, 15), (20, 15), (19, 16), (20, 16), (21, 16), (22, 16), (21, 17), (22, 17), (23, 17)]\n",
      "neighbors [(23, 16), (23, 17), (23, 18), (24, 16), (24, 17), (24, 18), (25, 16), (25, 17), (25, 18)]\n",
      "full grid: [[1 0 0]\n",
      " [0 0 0]\n",
      " [0 0 1]]\n",
      "[[3 1 3]\n",
      " [3 4 3]\n",
      " [3 3 3]]\n",
      "free\n",
      "current_node -- (next_move) (24, 17)\n",
      "(array([1], dtype=int64),)\n",
      "down\n",
      "next_node out:: (25, 17)\n",
      "next_node out (25, 17)\n",
      "message down\n"
     ]
    },
    {
     "data": {
      "image/png": "[encoded data removed]",
      "text/plain": [
       "<Figure size 432x288 with 1 Axes>"
      ]
     },
     "metadata": {
      "needs_background": "light"
     },
     "output_type": "display_data"
    },
    {
     "name": "stdout",
     "output_type": "stream",
     "text": [
      "[(0, 0), (1, 0), (2, 0), (3, 0), (2, 1), (3, 1), (4, 1), (5, 1), (6, 1), (7, 1), (8, 1), (9, 1), (8, 2), (7, 2), (6, 2), (6, 3), (7, 3), (8, 3), (7, 4), (6, 4), (6, 5), (5, 3), (5, 4), (5, 5), (4, 4), (4, 5), (4, 6), (5, 6), (4, 7), (5, 7), (6, 7), (7, 7), (6, 8), (7, 8), (6, 9), (7, 9), (8, 9), (9, 9), (10, 9), (11, 9), (12, 9), (11, 10), (12, 10), (11, 11), (12, 11), (11, 12), (12, 12), (13, 12), (14, 12), (15, 12), (16, 12), (17, 12), (16, 13), (17, 13), (16, 14), (17, 14), (18, 14), (19, 14), (20, 14), (19, 15), (20, 15), (19, 16), (20, 16), (21, 16), (22, 16), (21, 17), (22, 17), (23, 17), (24, 17)]\n",
      "neighbors [(24, 16), (24, 17), (24, 18), (25, 16), (25, 17), (25, 18), (26, 16), (26, 17), (26, 18)]\n",
      "full grid: [[0 0 0]\n",
      " [0 0 1]\n",
      " [1 0 0]]\n",
      "[[3 1 3]\n",
      " [3 4 3]\n",
      " [3 3 3]]\n",
      "free\n",
      "current_node -- (next_move) (25, 17)\n",
      "(array([1], dtype=int64),)\n",
      "down\n",
      "next_node out:: (26, 17)\n",
      "next_node out (26, 17)\n",
      "message down\n"
     ]
    },
    {
     "data": {
      "image/png": "[encoded data removed]",
      "text/plain": [
       "<Figure size 432x288 with 1 Axes>"
      ]
     },
     "metadata": {
      "needs_background": "light"
     },
     "output_type": "display_data"
    },
    {
     "name": "stdout",
     "output_type": "stream",
     "text": [
      "[(0, 0), (1, 0), (2, 0), (3, 0), (2, 1), (3, 1), (4, 1), (5, 1), (6, 1), (7, 1), (8, 1), (9, 1), (8, 2), (7, 2), (6, 2), (6, 3), (7, 3), (8, 3), (7, 4), (6, 4), (6, 5), (5, 3), (5, 4), (5, 5), (4, 4), (4, 5), (4, 6), (5, 6), (4, 7), (5, 7), (6, 7), (7, 7), (6, 8), (7, 8), (6, 9), (7, 9), (8, 9), (9, 9), (10, 9), (11, 9), (12, 9), (11, 10), (12, 10), (11, 11), (12, 11), (11, 12), (12, 12), (13, 12), (14, 12), (15, 12), (16, 12), (17, 12), (16, 13), (17, 13), (16, 14), (17, 14), (18, 14), (19, 14), (20, 14), (19, 15), (20, 15), (19, 16), (20, 16), (21, 16), (22, 16), (21, 17), (22, 17), (23, 17), (24, 17), (25, 17)]\n",
      "neighbors [(25, 16), (25, 17), (25, 18), (26, 16), (26, 17), (26, 18), (27, 16), (27, 17), (27, 18)]\n",
      "full grid: [[0 0 1]\n",
      " [1 0 0]\n",
      " [1 1 0]]\n",
      "[[3 1 3]\n",
      " [3 4 3]\n",
      " [3 3 3]]\n",
      "free\n",
      "current_node -- (next_move) (26, 17)\n",
      "(array([1], dtype=int64),)\n",
      "down\n",
      "next_node out:: (27, 17)\n",
      "next_node out (27, 17)\n",
      "message down\n"
     ]
    },
    {
     "data": {
      "image/png": "[encoded data removed]",
      "text/plain": [
       "<Figure size 432x288 with 1 Axes>"
      ]
     },
     "metadata": {
      "needs_background": "light"
     },
     "output_type": "display_data"
    },
    {
     "name": "stdout",
     "output_type": "stream",
     "text": [
      "[(0, 0), (1, 0), (2, 0), (3, 0), (2, 1), (3, 1), (4, 1), (5, 1), (6, 1), (7, 1), (8, 1), (9, 1), (8, 2), (7, 2), (6, 2), (6, 3), (7, 3), (8, 3), (7, 4), (6, 4), (6, 5), (5, 3), (5, 4), (5, 5), (4, 4), (4, 5), (4, 6), (5, 6), (4, 7), (5, 7), (6, 7), (7, 7), (6, 8), (7, 8), (6, 9), (7, 9), (8, 9), (9, 9), (10, 9), (11, 9), (12, 9), (11, 10), (12, 10), (11, 11), (12, 11), (11, 12), (12, 12), (13, 12), (14, 12), (15, 12), (16, 12), (17, 12), (16, 13), (17, 13), (16, 14), (17, 14), (18, 14), (19, 14), (20, 14), (19, 15), (20, 15), (19, 16), (20, 16), (21, 16), (22, 16), (21, 17), (22, 17), (23, 17), (24, 17), (25, 17), (26, 17)]\n",
      "neighbors [(26, 16), (26, 17), (26, 18), (27, 16), (27, 17), (27, 18), (28, 16), (28, 17), (28, 18)]\n",
      "full grid: [[1 0 0]\n",
      " [1 1 0]\n",
      " [1 1 1]]\n",
      "[[3 1 3]\n",
      " [3 4 3]\n",
      " [3 3 3]]\n",
      "blocked\n",
      "next node::::  (26, 17)\n"
     ]
    },
    {
     "data": {
      "image/png": "[encoded data removed]",
      "text/plain": [
       "<Figure size 432x288 with 1 Axes>"
      ]
     },
     "metadata": {
      "needs_background": "light"
     },
     "output_type": "display_data"
    },
    {
     "name": "stdout",
     "output_type": "stream",
     "text": [
      "[(0, 0), (1, 0), (2, 0), (3, 0), (2, 1), (3, 1), (4, 1), (5, 1), (6, 1), (7, 1), (8, 1), (9, 1), (8, 2), (7, 2), (6, 2), (6, 3), (7, 3), (8, 3), (7, 4), (6, 4), (6, 5), (5, 3), (5, 4), (5, 5), (4, 4), (4, 5), (4, 6), (5, 6), (4, 7), (5, 7), (6, 7), (7, 7), (6, 8), (7, 8), (6, 9), (7, 9), (8, 9), (9, 9), (10, 9), (11, 9), (12, 9), (11, 10), (12, 10), (11, 11), (12, 11), (11, 12), (12, 12), (13, 12), (14, 12), (15, 12), (16, 12), (17, 12), (16, 13), (17, 13), (16, 14), (17, 14), (18, 14), (19, 14), (20, 14), (19, 15), (20, 15), (19, 16), (20, 16), (21, 16), (22, 16), (21, 17), (22, 17), (23, 17), (24, 17), (25, 17), (26, 17), (27, 17)]\n",
      "neighbors [(25, 16), (25, 17), (25, 18), (26, 16), (26, 17), (26, 18), (27, 16), (27, 17), (27, 18)]\n",
      "full grid: [[0 0 1]\n",
      " [1 0 0]\n",
      " [1 1 0]]\n",
      "[[3 1 3]\n",
      " [3 4 3]\n",
      " [3 2 3]]\n",
      "free\n",
      "current_node -- (next_move) (26, 17)\n",
      "(array([3], dtype=int64),)\n",
      "right\n",
      "next_node out:: (26, 18)\n",
      "next_node out (26, 18)\n",
      "message right\n"
     ]
    },
    {
     "data": {
      "image/png": "[encoded data removed]",
      "text/plain": [
       "<Figure size 432x288 with 1 Axes>"
      ]
     },
     "metadata": {
      "needs_background": "light"
     },
     "output_type": "display_data"
    },
    {
     "name": "stdout",
     "output_type": "stream",
     "text": [
      "[(0, 0), (1, 0), (2, 0), (3, 0), (2, 1), (3, 1), (4, 1), (5, 1), (6, 1), (7, 1), (8, 1), (9, 1), (8, 2), (7, 2), (6, 2), (6, 3), (7, 3), (8, 3), (7, 4), (6, 4), (6, 5), (5, 3), (5, 4), (5, 5), (4, 4), (4, 5), (4, 6), (5, 6), (4, 7), (5, 7), (6, 7), (7, 7), (6, 8), (7, 8), (6, 9), (7, 9), (8, 9), (9, 9), (10, 9), (11, 9), (12, 9), (11, 10), (12, 10), (11, 11), (12, 11), (11, 12), (12, 12), (13, 12), (14, 12), (15, 12), (16, 12), (17, 12), (16, 13), (17, 13), (16, 14), (17, 14), (18, 14), (19, 14), (20, 14), (19, 15), (20, 15), (19, 16), (20, 16), (21, 16), (22, 16), (21, 17), (22, 17), (23, 17), (24, 17), (25, 17), (26, 17), (27, 17)]\n",
      "neighbors [(25, 17), (25, 18), (25, 19), (26, 17), (26, 18), (26, 19), (27, 17), (27, 18), (27, 19)]\n",
      "full grid: [[0 1 0]\n",
      " [0 0 1]\n",
      " [1 0 0]]\n",
      "[[1 3 3]\n",
      " [1 4 3]\n",
      " [2 3 3]]\n",
      "free\n",
      "current_node -- (next_move) (26, 18)\n",
      "(array([1], dtype=int64),)\n",
      "down\n",
      "next_node out:: (27, 18)\n",
      "next_node out (27, 18)\n",
      "message down\n"
     ]
    },
    {
     "data": {
      "image/png": "[encoded data removed]",
      "text/plain": [
       "<Figure size 432x288 with 1 Axes>"
      ]
     },
     "metadata": {
      "needs_background": "light"
     },
     "output_type": "display_data"
    },
    {
     "name": "stdout",
     "output_type": "stream",
     "text": [
      "[(0, 0), (1, 0), (2, 0), (3, 0), (2, 1), (3, 1), (4, 1), (5, 1), (6, 1), (7, 1), (8, 1), (9, 1), (8, 2), (7, 2), (6, 2), (6, 3), (7, 3), (8, 3), (7, 4), (6, 4), (6, 5), (5, 3), (5, 4), (5, 5), (4, 4), (4, 5), (4, 6), (5, 6), (4, 7), (5, 7), (6, 7), (7, 7), (6, 8), (7, 8), (6, 9), (7, 9), (8, 9), (9, 9), (10, 9), (11, 9), (12, 9), (11, 10), (12, 10), (11, 11), (12, 11), (11, 12), (12, 12), (13, 12), (14, 12), (15, 12), (16, 12), (17, 12), (16, 13), (17, 13), (16, 14), (17, 14), (18, 14), (19, 14), (20, 14), (19, 15), (20, 15), (19, 16), (20, 16), (21, 16), (22, 16), (21, 17), (22, 17), (23, 17), (24, 17), (25, 17), (26, 17), (27, 17), (26, 18)]\n",
      "neighbors [(26, 17), (26, 18), (26, 19), (27, 17), (27, 18), (27, 19), (28, 17), (28, 18), (28, 19)]\n",
      "full grid: [[0 0 1]\n",
      " [1 0 0]\n",
      " [1 1 0]]\n",
      "[[1 1 3]\n",
      " [2 4 3]\n",
      " [3 3 3]]\n",
      "free\n",
      "current_node -- (next_move) (27, 18)\n",
      "(array([1], dtype=int64),)\n",
      "down\n",
      "next_node out:: (28, 18)\n",
      "next_node out (28, 18)\n",
      "message down\n"
     ]
    },
    {
     "data": {
      "image/png": "[encoded data removed]",
      "text/plain": [
       "<Figure size 432x288 with 1 Axes>"
      ]
     },
     "metadata": {
      "needs_background": "light"
     },
     "output_type": "display_data"
    },
    {
     "name": "stdout",
     "output_type": "stream",
     "text": [
      "[(0, 0), (1, 0), (2, 0), (3, 0), (2, 1), (3, 1), (4, 1), (5, 1), (6, 1), (7, 1), (8, 1), (9, 1), (8, 2), (7, 2), (6, 2), (6, 3), (7, 3), (8, 3), (7, 4), (6, 4), (6, 5), (5, 3), (5, 4), (5, 5), (4, 4), (4, 5), (4, 6), (5, 6), (4, 7), (5, 7), (6, 7), (7, 7), (6, 8), (7, 8), (6, 9), (7, 9), (8, 9), (9, 9), (10, 9), (11, 9), (12, 9), (11, 10), (12, 10), (11, 11), (12, 11), (11, 12), (12, 12), (13, 12), (14, 12), (15, 12), (16, 12), (17, 12), (16, 13), (17, 13), (16, 14), (17, 14), (18, 14), (19, 14), (20, 14), (19, 15), (20, 15), (19, 16), (20, 16), (21, 16), (22, 16), (21, 17), (22, 17), (23, 17), (24, 17), (25, 17), (26, 17), (27, 17), (26, 18), (27, 18)]\n",
      "neighbors [(27, 17), (27, 18), (27, 19), (28, 17), (28, 18), (28, 19), (29, 17), (29, 18), (29, 19)]\n",
      "full grid: [[1 0 0]\n",
      " [1 1 0]\n",
      " [0 1 0]]\n",
      "[[2 1 3]\n",
      " [3 4 3]\n",
      " [3 3 3]]\n",
      "blocked\n",
      "next node::::  (27, 18)\n"
     ]
    },
    {
     "data": {
      "image/png": "[encoded data removed]",
      "text/plain": [
       "<Figure size 432x288 with 1 Axes>"
      ]
     },
     "metadata": {
      "needs_background": "light"
     },
     "output_type": "display_data"
    },
    {
     "name": "stdout",
     "output_type": "stream",
     "text": [
      "[(0, 0), (1, 0), (2, 0), (3, 0), (2, 1), (3, 1), (4, 1), (5, 1), (6, 1), (7, 1), (8, 1), (9, 1), (8, 2), (7, 2), (6, 2), (6, 3), (7, 3), (8, 3), (7, 4), (6, 4), (6, 5), (5, 3), (5, 4), (5, 5), (4, 4), (4, 5), (4, 6), (5, 6), (4, 7), (5, 7), (6, 7), (7, 7), (6, 8), (7, 8), (6, 9), (7, 9), (8, 9), (9, 9), (10, 9), (11, 9), (12, 9), (11, 10), (12, 10), (11, 11), (12, 11), (11, 12), (12, 12), (13, 12), (14, 12), (15, 12), (16, 12), (17, 12), (16, 13), (17, 13), (16, 14), (17, 14), (18, 14), (19, 14), (20, 14), (19, 15), (20, 15), (19, 16), (20, 16), (21, 16), (22, 16), (21, 17), (22, 17), (23, 17), (24, 17), (25, 17), (26, 17), (27, 17), (26, 18), (27, 18), (28, 18)]\n",
      "neighbors [(26, 17), (26, 18), (26, 19), (27, 17), (27, 18), (27, 19), (28, 17), (28, 18), (28, 19)]\n",
      "full grid: [[0 0 1]\n",
      " [1 0 0]\n",
      " [1 1 0]]\n",
      "[[1 1 3]\n",
      " [2 4 3]\n",
      " [3 2 3]]\n",
      "free\n",
      "current_node -- (next_move) (27, 18)\n",
      "(array([3], dtype=int64),)\n",
      "right\n",
      "next_node out:: (27, 19)\n",
      "next_node out (27, 19)\n",
      "message right\n"
     ]
    },
    {
     "data": {
      "image/png": "[encoded data removed]",
      "text/plain": [
       "<Figure size 432x288 with 1 Axes>"
      ]
     },
     "metadata": {
      "needs_background": "light"
     },
     "output_type": "display_data"
    },
    {
     "name": "stdout",
     "output_type": "stream",
     "text": [
      "[(0, 0), (1, 0), (2, 0), (3, 0), (2, 1), (3, 1), (4, 1), (5, 1), (6, 1), (7, 1), (8, 1), (9, 1), (8, 2), (7, 2), (6, 2), (6, 3), (7, 3), (8, 3), (7, 4), (6, 4), (6, 5), (5, 3), (5, 4), (5, 5), (4, 4), (4, 5), (4, 6), (5, 6), (4, 7), (5, 7), (6, 7), (7, 7), (6, 8), (7, 8), (6, 9), (7, 9), (8, 9), (9, 9), (10, 9), (11, 9), (12, 9), (11, 10), (12, 10), (11, 11), (12, 11), (11, 12), (12, 12), (13, 12), (14, 12), (15, 12), (16, 12), (17, 12), (16, 13), (17, 13), (16, 14), (17, 14), (18, 14), (19, 14), (20, 14), (19, 15), (20, 15), (19, 16), (20, 16), (21, 16), (22, 16), (21, 17), (22, 17), (23, 17), (24, 17), (25, 17), (26, 17), (27, 17), (26, 18), (27, 18), (28, 18)]\n",
      "neighbors [(26, 18), (26, 19), (26, 20), (27, 18), (27, 19), (27, 20), (28, 18), (28, 19), (28, 20)]\n",
      "full grid: [[0 1 0]\n",
      " [0 0 1]\n",
      " [1 0 0]]\n",
      "[[1 3 3]\n",
      " [1 4 3]\n",
      " [2 3 3]]\n",
      "free\n",
      "current_node -- (next_move) (27, 19)\n",
      "(array([1], dtype=int64),)\n",
      "down\n",
      "next_node out:: (28, 19)\n",
      "next_node out (28, 19)\n",
      "message down\n"
     ]
    },
    {
     "data": {
      "image/png": "[encoded data removed]",
      "text/plain": [
       "<Figure size 432x288 with 1 Axes>"
      ]
     },
     "metadata": {
      "needs_background": "light"
     },
     "output_type": "display_data"
    },
    {
     "name": "stdout",
     "output_type": "stream",
     "text": [
      "[(0, 0), (1, 0), (2, 0), (3, 0), (2, 1), (3, 1), (4, 1), (5, 1), (6, 1), (7, 1), (8, 1), (9, 1), (8, 2), (7, 2), (6, 2), (6, 3), (7, 3), (8, 3), (7, 4), (6, 4), (6, 5), (5, 3), (5, 4), (5, 5), (4, 4), (4, 5), (4, 6), (5, 6), (4, 7), (5, 7), (6, 7), (7, 7), (6, 8), (7, 8), (6, 9), (7, 9), (8, 9), (9, 9), (10, 9), (11, 9), (12, 9), (11, 10), (12, 10), (11, 11), (12, 11), (11, 12), (12, 12), (13, 12), (14, 12), (15, 12), (16, 12), (17, 12), (16, 13), (17, 13), (16, 14), (17, 14), (18, 14), (19, 14), (20, 14), (19, 15), (20, 15), (19, 16), (20, 16), (21, 16), (22, 16), (21, 17), (22, 17), (23, 17), (24, 17), (25, 17), (26, 17), (27, 17), (26, 18), (27, 18), (28, 18), (27, 19)]\n",
      "neighbors [(27, 18), (27, 19), (27, 20), (28, 18), (28, 19), (28, 20), (29, 18), (29, 19), (29, 20)]\n",
      "full grid: [[0 0 1]\n",
      " [1 0 0]\n",
      " [1 0 1]]\n",
      "[[1 1 3]\n",
      " [2 4 3]\n",
      " [3 3 3]]\n",
      "free\n",
      "current_node -- (next_move) (28, 19)\n",
      "(array([1], dtype=int64),)\n",
      "down\n",
      "next_node out:: (29, 19)\n",
      "next_node out (29, 19)\n",
      "message down\n"
     ]
    },
    {
     "data": {
      "image/png": "[encoded data removed]",
      "text/plain": [
       "<Figure size 432x288 with 1 Axes>"
      ]
     },
     "metadata": {
      "needs_background": "light"
     },
     "output_type": "display_data"
    },
    {
     "name": "stdout",
     "output_type": "stream",
     "text": [
      "[(0, 0), (1, 0), (2, 0), (3, 0), (2, 1), (3, 1), (4, 1), (5, 1), (6, 1), (7, 1), (8, 1), (9, 1), (8, 2), (7, 2), (6, 2), (6, 3), (7, 3), (8, 3), (7, 4), (6, 4), (6, 5), (5, 3), (5, 4), (5, 5), (4, 4), (4, 5), (4, 6), (5, 6), (4, 7), (5, 7), (6, 7), (7, 7), (6, 8), (7, 8), (6, 9), (7, 9), (8, 9), (9, 9), (10, 9), (11, 9), (12, 9), (11, 10), (12, 10), (11, 11), (12, 11), (11, 12), (12, 12), (13, 12), (14, 12), (15, 12), (16, 12), (17, 12), (16, 13), (17, 13), (16, 14), (17, 14), (18, 14), (19, 14), (20, 14), (19, 15), (20, 15), (19, 16), (20, 16), (21, 16), (22, 16), (21, 17), (22, 17), (23, 17), (24, 17), (25, 17), (26, 17), (27, 17), (26, 18), (27, 18), (28, 18), (27, 19), (28, 19)]\n",
      "neighbors [(27, 18), (27, 19), (27, 20), (28, 18), (28, 19), (28, 20), (29, 18), (29, 19), (29, 20)]\n",
      "full grid: [[0 0 1]\n",
      " [1 0 0]\n",
      " [1 0 1]]\n",
      "[[1 1 3]\n",
      " [2 1 3]\n",
      " [3 4 3]]\n",
      "free\n",
      "current_node -- (next_move) (29, 19)\n",
      "(array([3], dtype=int64),)\n",
      "right\n",
      "next_node out:: (29, 20)\n",
      "next_node out (29, 20)\n",
      "message right\n"
     ]
    },
    {
     "data": {
      "image/png": "[encoded data removed]",
      "text/plain": [
       "<Figure size 432x288 with 1 Axes>"
      ]
     },
     "metadata": {
      "needs_background": "light"
     },
     "output_type": "display_data"
    },
    {
     "name": "stdout",
     "output_type": "stream",
     "text": [
      "[(0, 0), (1, 0), (2, 0), (3, 0), (2, 1), (3, 1), (4, 1), (5, 1), (6, 1), (7, 1), (8, 1), (9, 1), (8, 2), (7, 2), (6, 2), (6, 3), (7, 3), (8, 3), (7, 4), (6, 4), (6, 5), (5, 3), (5, 4), (5, 5), (4, 4), (4, 5), (4, 6), (5, 6), (4, 7), (5, 7), (6, 7), (7, 7), (6, 8), (7, 8), (6, 9), (7, 9), (8, 9), (9, 9), (10, 9), (11, 9), (12, 9), (11, 10), (12, 10), (11, 11), (12, 11), (11, 12), (12, 12), (13, 12), (14, 12), (15, 12), (16, 12), (17, 12), (16, 13), (17, 13), (16, 14), (17, 14), (18, 14), (19, 14), (20, 14), (19, 15), (20, 15), (19, 16), (20, 16), (21, 16), (22, 16), (21, 17), (22, 17), (23, 17), (24, 17), (25, 17), (26, 17), (27, 17), (26, 18), (27, 18), (28, 18), (27, 19), (28, 19), (29, 19)]\n",
      "neighbors [(27, 19), (27, 20), (27, 21), (28, 19), (28, 20), (28, 21), (29, 19), (29, 20), (29, 21)]\n",
      "full grid: [[0 1 0]\n",
      " [0 0 0]\n",
      " [0 1 1]]\n",
      "[[1 3 3]\n",
      " [1 3 3]\n",
      " [1 4 3]]\n",
      "blocked\n",
      "next node::::  (29, 19)\n"
     ]
    },
    {
     "data": {
      "image/png": "[encoded data removed]",
      "text/plain": [
       "<Figure size 432x288 with 1 Axes>"
      ]
     },
     "metadata": {
      "needs_background": "light"
     },
     "output_type": "display_data"
    },
    {
     "name": "stdout",
     "output_type": "stream",
     "text": [
      "[(0, 0), (1, 0), (2, 0), (3, 0), (2, 1), (3, 1), (4, 1), (5, 1), (6, 1), (7, 1), (8, 1), (9, 1), (8, 2), (7, 2), (6, 2), (6, 3), (7, 3), (8, 3), (7, 4), (6, 4), (6, 5), (5, 3), (5, 4), (5, 5), (4, 4), (4, 5), (4, 6), (5, 6), (4, 7), (5, 7), (6, 7), (7, 7), (6, 8), (7, 8), (6, 9), (7, 9), (8, 9), (9, 9), (10, 9), (11, 9), (12, 9), (11, 10), (12, 10), (11, 11), (12, 11), (11, 12), (12, 12), (13, 12), (14, 12), (15, 12), (16, 12), (17, 12), (16, 13), (17, 13), (16, 14), (17, 14), (18, 14), (19, 14), (20, 14), (19, 15), (20, 15), (19, 16), (20, 16), (21, 16), (22, 16), (21, 17), (22, 17), (23, 17), (24, 17), (25, 17), (26, 17), (27, 17), (26, 18), (27, 18), (28, 18), (27, 19), (28, 19), (29, 19), (29, 20)]\n",
      "neighbors [(27, 18), (27, 19), (27, 20), (28, 18), (28, 19), (28, 20), (29, 18), (29, 19), (29, 20)]\n",
      "full grid: [[0 0 1]\n",
      " [1 0 0]\n",
      " [1 0 1]]\n",
      "[[1 1 3]\n",
      " [2 1 3]\n",
      " [3 4 2]]\n",
      "free\n",
      "current_node -- (next_move) (29, 19)\n",
      "(array([0], dtype=int64),)\n",
      "up\n",
      "next_node out:: (28, 19)\n",
      "next_node out (28, 19)\n",
      "message up\n"
     ]
    },
    {
     "data": {
      "image/png": "[encoded data removed]",
      "text/plain": [
       "<Figure size 432x288 with 1 Axes>"
      ]
     },
     "metadata": {
      "needs_background": "light"
     },
     "output_type": "display_data"
    },
    {
     "name": "stdout",
     "output_type": "stream",
     "text": [
      "[(0, 0), (1, 0), (2, 0), (3, 0), (2, 1), (3, 1), (4, 1), (5, 1), (6, 1), (7, 1), (8, 1), (9, 1), (8, 2), (7, 2), (6, 2), (6, 3), (7, 3), (8, 3), (7, 4), (6, 4), (6, 5), (5, 3), (5, 4), (5, 5), (4, 4), (4, 5), (4, 6), (5, 6), (4, 7), (5, 7), (6, 7), (7, 7), (6, 8), (7, 8), (6, 9), (7, 9), (8, 9), (9, 9), (10, 9), (11, 9), (12, 9), (11, 10), (12, 10), (11, 11), (12, 11), (11, 12), (12, 12), (13, 12), (14, 12), (15, 12), (16, 12), (17, 12), (16, 13), (17, 13), (16, 14), (17, 14), (18, 14), (19, 14), (20, 14), (19, 15), (20, 15), (19, 16), (20, 16), (21, 16), (22, 16), (21, 17), (22, 17), (23, 17), (24, 17), (25, 17), (26, 17), (27, 17), (26, 18), (27, 18), (28, 18), (27, 19), (28, 19), (29, 19), (29, 20)]\n",
      "neighbors [(27, 18), (27, 19), (27, 20), (28, 18), (28, 19), (28, 20), (29, 18), (29, 19), (29, 20)]\n",
      "full grid: [[0 0 1]\n",
      " [1 0 0]\n",
      " [1 0 1]]\n",
      "[[1 1 3]\n",
      " [2 4 3]\n",
      " [3 1 2]]\n",
      "free\n",
      "current_node -- (next_move) (28, 19)\n",
      "(array([3], dtype=int64),)\n",
      "right\n",
      "next_node out:: (28, 20)\n",
      "next_node out (28, 20)\n",
      "message right\n"
     ]
    },
    {
     "data": {
      "image/png": "[encoded data removed]",
      "text/plain": [
       "<Figure size 432x288 with 1 Axes>"
      ]
     },
     "metadata": {
      "needs_background": "light"
     },
     "output_type": "display_data"
    },
    {
     "name": "stdout",
     "output_type": "stream",
     "text": [
      "[(0, 0), (1, 0), (2, 0), (3, 0), (2, 1), (3, 1), (4, 1), (5, 1), (6, 1), (7, 1), (8, 1), (9, 1), (8, 2), (7, 2), (6, 2), (6, 3), (7, 3), (8, 3), (7, 4), (6, 4), (6, 5), (5, 3), (5, 4), (5, 5), (4, 4), (4, 5), (4, 6), (5, 6), (4, 7), (5, 7), (6, 7), (7, 7), (6, 8), (7, 8), (6, 9), (7, 9), (8, 9), (9, 9), (10, 9), (11, 9), (12, 9), (11, 10), (12, 10), (11, 11), (12, 11), (11, 12), (12, 12), (13, 12), (14, 12), (15, 12), (16, 12), (17, 12), (16, 13), (17, 13), (16, 14), (17, 14), (18, 14), (19, 14), (20, 14), (19, 15), (20, 15), (19, 16), (20, 16), (21, 16), (22, 16), (21, 17), (22, 17), (23, 17), (24, 17), (25, 17), (26, 17), (27, 17), (26, 18), (27, 18), (28, 18), (27, 19), (28, 19), (29, 19), (29, 20)]\n",
      "neighbors [(27, 19), (27, 20), (27, 21), (28, 19), (28, 20), (28, 21), (29, 19), (29, 20), (29, 21)]\n",
      "full grid: [[0 1 0]\n",
      " [0 0 0]\n",
      " [0 1 1]]\n",
      "[[1 3 3]\n",
      " [1 4 3]\n",
      " [1 2 3]]\n",
      "free\n",
      "current_node -- (next_move) (28, 20)\n",
      "(array([3], dtype=int64),)\n",
      "right\n",
      "next_node out:: (28, 21)\n",
      "next_node out (28, 21)\n",
      "message right\n"
     ]
    },
    {
     "data": {
      "image/png": "[encoded data removed]",
      "text/plain": [
       "<Figure size 432x288 with 1 Axes>"
      ]
     },
     "metadata": {
      "needs_background": "light"
     },
     "output_type": "display_data"
    },
    {
     "name": "stdout",
     "output_type": "stream",
     "text": [
      "[(0, 0), (1, 0), (2, 0), (3, 0), (2, 1), (3, 1), (4, 1), (5, 1), (6, 1), (7, 1), (8, 1), (9, 1), (8, 2), (7, 2), (6, 2), (6, 3), (7, 3), (8, 3), (7, 4), (6, 4), (6, 5), (5, 3), (5, 4), (5, 5), (4, 4), (4, 5), (4, 6), (5, 6), (4, 7), (5, 7), (6, 7), (7, 7), (6, 8), (7, 8), (6, 9), (7, 9), (8, 9), (9, 9), (10, 9), (11, 9), (12, 9), (11, 10), (12, 10), (11, 11), (12, 11), (11, 12), (12, 12), (13, 12), (14, 12), (15, 12), (16, 12), (17, 12), (16, 13), (17, 13), (16, 14), (17, 14), (18, 14), (19, 14), (20, 14), (19, 15), (20, 15), (19, 16), (20, 16), (21, 16), (22, 16), (21, 17), (22, 17), (23, 17), (24, 17), (25, 17), (26, 17), (27, 17), (26, 18), (27, 18), (28, 18), (27, 19), (28, 19), (29, 19), (29, 20), (28, 20)]\n",
      "neighbors [(27, 20), (27, 21), (27, 22), (28, 20), (28, 21), (28, 22), (29, 20), (29, 21), (29, 22)]\n",
      "full grid: [[1 0 0]\n",
      " [0 0 0]\n",
      " [1 1 0]]\n",
      "[[3 3 3]\n",
      " [1 4 3]\n",
      " [2 3 3]]\n",
      "free\n",
      "current_node -- (next_move) (28, 21)\n",
      "(array([1], dtype=int64),)\n",
      "down\n",
      "next_node out:: (29, 21)\n",
      "next_node out (29, 21)\n",
      "message down\n"
     ]
    },
    {
     "data": {
      "image/png": "[encoded data removed]",
      "text/plain": [
       "<Figure size 432x288 with 1 Axes>"
      ]
     },
     "metadata": {
      "needs_background": "light"
     },
     "output_type": "display_data"
    },
    {
     "name": "stdout",
     "output_type": "stream",
     "text": [
      "[(0, 0), (1, 0), (2, 0), (3, 0), (2, 1), (3, 1), (4, 1), (5, 1), (6, 1), (7, 1), (8, 1), (9, 1), (8, 2), (7, 2), (6, 2), (6, 3), (7, 3), (8, 3), (7, 4), (6, 4), (6, 5), (5, 3), (5, 4), (5, 5), (4, 4), (4, 5), (4, 6), (5, 6), (4, 7), (5, 7), (6, 7), (7, 7), (6, 8), (7, 8), (6, 9), (7, 9), (8, 9), (9, 9), (10, 9), (11, 9), (12, 9), (11, 10), (12, 10), (11, 11), (12, 11), (11, 12), (12, 12), (13, 12), (14, 12), (15, 12), (16, 12), (17, 12), (16, 13), (17, 13), (16, 14), (17, 14), (18, 14), (19, 14), (20, 14), (19, 15), (20, 15), (19, 16), (20, 16), (21, 16), (22, 16), (21, 17), (22, 17), (23, 17), (24, 17), (25, 17), (26, 17), (27, 17), (26, 18), (27, 18), (28, 18), (27, 19), (28, 19), (29, 19), (29, 20), (28, 20), (28, 21)]\n",
      "neighbors [(27, 20), (27, 21), (27, 22), (28, 20), (28, 21), (28, 22), (29, 20), (29, 21), (29, 22)]\n",
      "full grid: [[1 0 0]\n",
      " [0 0 0]\n",
      " [1 1 0]]\n",
      "[[3 3 3]\n",
      " [1 1 3]\n",
      " [2 4 3]]\n",
      "blocked\n",
      "next node::::  (28, 21)\n"
     ]
    },
    {
     "data": {
      "image/png": "[encoded data removed]",
      "text/plain": [
       "<Figure size 432x288 with 1 Axes>"
      ]
     },
     "metadata": {
      "needs_background": "light"
     },
     "output_type": "display_data"
    },
    {
     "name": "stdout",
     "output_type": "stream",
     "text": [
      "[(0, 0), (1, 0), (2, 0), (3, 0), (2, 1), (3, 1), (4, 1), (5, 1), (6, 1), (7, 1), (8, 1), (9, 1), (8, 2), (7, 2), (6, 2), (6, 3), (7, 3), (8, 3), (7, 4), (6, 4), (6, 5), (5, 3), (5, 4), (5, 5), (4, 4), (4, 5), (4, 6), (5, 6), (4, 7), (5, 7), (6, 7), (7, 7), (6, 8), (7, 8), (6, 9), (7, 9), (8, 9), (9, 9), (10, 9), (11, 9), (12, 9), (11, 10), (12, 10), (11, 11), (12, 11), (11, 12), (12, 12), (13, 12), (14, 12), (15, 12), (16, 12), (17, 12), (16, 13), (17, 13), (16, 14), (17, 14), (18, 14), (19, 14), (20, 14), (19, 15), (20, 15), (19, 16), (20, 16), (21, 16), (22, 16), (21, 17), (22, 17), (23, 17), (24, 17), (25, 17), (26, 17), (27, 17), (26, 18), (27, 18), (28, 18), (27, 19), (28, 19), (29, 19), (29, 20), (28, 20), (28, 21), (29, 21)]\n",
      "neighbors [(27, 20), (27, 21), (27, 22), (28, 20), (28, 21), (28, 22), (29, 20), (29, 21), (29, 22)]\n",
      "full grid: [[1 0 0]\n",
      " [0 0 0]\n",
      " [1 1 0]]\n",
      "[[3 3 3]\n",
      " [1 4 3]\n",
      " [2 2 3]]\n",
      "free\n",
      "current_node -- (next_move) (28, 21)\n",
      "(array([3], dtype=int64),)\n",
      "right\n",
      "next_node out:: (28, 22)\n",
      "next_node out (28, 22)\n",
      "message right\n"
     ]
    },
    {
     "data": {
      "image/png": "[encoded data removed]",
      "text/plain": [
       "<Figure size 432x288 with 1 Axes>"
      ]
     },
     "metadata": {
      "needs_background": "light"
     },
     "output_type": "display_data"
    },
    {
     "name": "stdout",
     "output_type": "stream",
     "text": [
      "[(0, 0), (1, 0), (2, 0), (3, 0), (2, 1), (3, 1), (4, 1), (5, 1), (6, 1), (7, 1), (8, 1), (9, 1), (8, 2), (7, 2), (6, 2), (6, 3), (7, 3), (8, 3), (7, 4), (6, 4), (6, 5), (5, 3), (5, 4), (5, 5), (4, 4), (4, 5), (4, 6), (5, 6), (4, 7), (5, 7), (6, 7), (7, 7), (6, 8), (7, 8), (6, 9), (7, 9), (8, 9), (9, 9), (10, 9), (11, 9), (12, 9), (11, 10), (12, 10), (11, 11), (12, 11), (11, 12), (12, 12), (13, 12), (14, 12), (15, 12), (16, 12), (17, 12), (16, 13), (17, 13), (16, 14), (17, 14), (18, 14), (19, 14), (20, 14), (19, 15), (20, 15), (19, 16), (20, 16), (21, 16), (22, 16), (21, 17), (22, 17), (23, 17), (24, 17), (25, 17), (26, 17), (27, 17), (26, 18), (27, 18), (28, 18), (27, 19), (28, 19), (29, 19), (29, 20), (28, 20), (28, 21), (29, 21)]\n",
      "neighbors [(27, 21), (27, 22), (27, 23), (28, 21), (28, 22), (28, 23), (29, 21), (29, 22), (29, 23)]\n",
      "full grid: [[0 0 0]\n",
      " [0 0 0]\n",
      " [1 0 0]]\n",
      "[[3 3 3]\n",
      " [1 4 3]\n",
      " [2 3 3]]\n",
      "free\n",
      "current_node -- (next_move) (28, 22)\n",
      "(array([1], dtype=int64),)\n",
      "down\n",
      "next_node out:: (29, 22)\n",
      "next_node out (29, 22)\n",
      "message down\n"
     ]
    },
    {
     "data": {
      "image/png": "[encoded data removed]",
      "text/plain": [
       "<Figure size 432x288 with 1 Axes>"
      ]
     },
     "metadata": {
      "needs_background": "light"
     },
     "output_type": "display_data"
    },
    {
     "name": "stdout",
     "output_type": "stream",
     "text": [
      "[(0, 0), (1, 0), (2, 0), (3, 0), (2, 1), (3, 1), (4, 1), (5, 1), (6, 1), (7, 1), (8, 1), (9, 1), (8, 2), (7, 2), (6, 2), (6, 3), (7, 3), (8, 3), (7, 4), (6, 4), (6, 5), (5, 3), (5, 4), (5, 5), (4, 4), (4, 5), (4, 6), (5, 6), (4, 7), (5, 7), (6, 7), (7, 7), (6, 8), (7, 8), (6, 9), (7, 9), (8, 9), (9, 9), (10, 9), (11, 9), (12, 9), (11, 10), (12, 10), (11, 11), (12, 11), (11, 12), (12, 12), (13, 12), (14, 12), (15, 12), (16, 12), (17, 12), (16, 13), (17, 13), (16, 14), (17, 14), (18, 14), (19, 14), (20, 14), (19, 15), (20, 15), (19, 16), (20, 16), (21, 16), (22, 16), (21, 17), (22, 17), (23, 17), (24, 17), (25, 17), (26, 17), (27, 17), (26, 18), (27, 18), (28, 18), (27, 19), (28, 19), (29, 19), (29, 20), (28, 20), (28, 21), (29, 21), (28, 22)]\n",
      "neighbors [(27, 21), (27, 22), (27, 23), (28, 21), (28, 22), (28, 23), (29, 21), (29, 22), (29, 23)]\n",
      "full grid: [[0 0 0]\n",
      " [0 0 0]\n",
      " [1 0 0]]\n",
      "[[3 3 3]\n",
      " [1 1 3]\n",
      " [2 4 3]]\n",
      "free\n",
      "current_node -- (next_move) (29, 22)\n",
      "(array([3], dtype=int64),)\n",
      "right\n",
      "next_node out:: (29, 23)\n",
      "next_node out (29, 23)\n",
      "message right\n"
     ]
    },
    {
     "data": {
      "image/png": "[encoded data removed]",
      "text/plain": [
       "<Figure size 432x288 with 1 Axes>"
      ]
     },
     "metadata": {
      "needs_background": "light"
     },
     "output_type": "display_data"
    },
    {
     "name": "stdout",
     "output_type": "stream",
     "text": [
      "[(0, 0), (1, 0), (2, 0), (3, 0), (2, 1), (3, 1), (4, 1), (5, 1), (6, 1), (7, 1), (8, 1), (9, 1), (8, 2), (7, 2), (6, 2), (6, 3), (7, 3), (8, 3), (7, 4), (6, 4), (6, 5), (5, 3), (5, 4), (5, 5), (4, 4), (4, 5), (4, 6), (5, 6), (4, 7), (5, 7), (6, 7), (7, 7), (6, 8), (7, 8), (6, 9), (7, 9), (8, 9), (9, 9), (10, 9), (11, 9), (12, 9), (11, 10), (12, 10), (11, 11), (12, 11), (11, 12), (12, 12), (13, 12), (14, 12), (15, 12), (16, 12), (17, 12), (16, 13), (17, 13), (16, 14), (17, 14), (18, 14), (19, 14), (20, 14), (19, 15), (20, 15), (19, 16), (20, 16), (21, 16), (22, 16), (21, 17), (22, 17), (23, 17), (24, 17), (25, 17), (26, 17), (27, 17), (26, 18), (27, 18), (28, 18), (27, 19), (28, 19), (29, 19), (29, 20), (28, 20), (28, 21), (29, 21), (28, 22), (29, 22)]\n",
      "neighbors [(27, 22), (27, 23), (27, 24), (28, 22), (28, 23), (28, 24), (29, 22), (29, 23), (29, 24)]\n",
      "full grid: [[0 0 0]\n",
      " [0 0 0]\n",
      " [0 0 0]]\n",
      "[[3 3 3]\n",
      " [1 3 3]\n",
      " [1 4 3]]\n",
      "free\n",
      "current_node -- (next_move) (29, 23)\n",
      "(array([3], dtype=int64),)\n",
      "right\n",
      "next_node out:: (29, 24)\n",
      "next_node out (29, 24)\n",
      "message right\n"
     ]
    },
    {
     "data": {
      "image/png": "[encoded data removed]",
      "text/plain": [
       "<Figure size 432x288 with 1 Axes>"
      ]
     },
     "metadata": {
      "needs_background": "light"
     },
     "output_type": "display_data"
    },
    {
     "name": "stdout",
     "output_type": "stream",
     "text": [
      "[(0, 0), (1, 0), (2, 0), (3, 0), (2, 1), (3, 1), (4, 1), (5, 1), (6, 1), (7, 1), (8, 1), (9, 1), (8, 2), (7, 2), (6, 2), (6, 3), (7, 3), (8, 3), (7, 4), (6, 4), (6, 5), (5, 3), (5, 4), (5, 5), (4, 4), (4, 5), (4, 6), (5, 6), (4, 7), (5, 7), (6, 7), (7, 7), (6, 8), (7, 8), (6, 9), (7, 9), (8, 9), (9, 9), (10, 9), (11, 9), (12, 9), (11, 10), (12, 10), (11, 11), (12, 11), (11, 12), (12, 12), (13, 12), (14, 12), (15, 12), (16, 12), (17, 12), (16, 13), (17, 13), (16, 14), (17, 14), (18, 14), (19, 14), (20, 14), (19, 15), (20, 15), (19, 16), (20, 16), (21, 16), (22, 16), (21, 17), (22, 17), (23, 17), (24, 17), (25, 17), (26, 17), (27, 17), (26, 18), (27, 18), (28, 18), (27, 19), (28, 19), (29, 19), (29, 20), (28, 20), (28, 21), (29, 21), (28, 22), (29, 22), (29, 23)]\n",
      "neighbors [(27, 23), (27, 24), (27, 25), (28, 23), (28, 24), (28, 25), (29, 23), (29, 24), (29, 25)]\n",
      "full grid: [[0 0 1]\n",
      " [0 0 0]\n",
      " [0 0 0]]\n",
      "[[3 3 3]\n",
      " [3 3 3]\n",
      " [1 4 3]]\n",
      "free\n",
      "current_node -- (next_move) (29, 24)\n",
      "(array([3], dtype=int64),)\n",
      "right\n",
      "next_node out:: (29, 25)\n",
      "next_node out (29, 25)\n",
      "message right\n"
     ]
    },
    {
     "data": {
      "image/png": "[encoded data removed]",
      "text/plain": [
       "<Figure size 432x288 with 1 Axes>"
      ]
     },
     "metadata": {
      "needs_background": "light"
     },
     "output_type": "display_data"
    },
    {
     "name": "stdout",
     "output_type": "stream",
     "text": [
      "[(0, 0), (1, 0), (2, 0), (3, 0), (2, 1), (3, 1), (4, 1), (5, 1), (6, 1), (7, 1), (8, 1), (9, 1), (8, 2), (7, 2), (6, 2), (6, 3), (7, 3), (8, 3), (7, 4), (6, 4), (6, 5), (5, 3), (5, 4), (5, 5), (4, 4), (4, 5), (4, 6), (5, 6), (4, 7), (5, 7), (6, 7), (7, 7), (6, 8), (7, 8), (6, 9), (7, 9), (8, 9), (9, 9), (10, 9), (11, 9), (12, 9), (11, 10), (12, 10), (11, 11), (12, 11), (11, 12), (12, 12), (13, 12), (14, 12), (15, 12), (16, 12), (17, 12), (16, 13), (17, 13), (16, 14), (17, 14), (18, 14), (19, 14), (20, 14), (19, 15), (20, 15), (19, 16), (20, 16), (21, 16), (22, 16), (21, 17), (22, 17), (23, 17), (24, 17), (25, 17), (26, 17), (27, 17), (26, 18), (27, 18), (28, 18), (27, 19), (28, 19), (29, 19), (29, 20), (28, 20), (28, 21), (29, 21), (28, 22), (29, 22), (29, 23), (29, 24)]\n",
      "neighbors [(27, 24), (27, 25), (27, 26), (28, 24), (28, 25), (28, 26), (29, 24), (29, 25), (29, 26)]\n",
      "full grid: [[0 1 0]\n",
      " [0 0 0]\n",
      " [0 0 0]]\n",
      "[[3 3 3]\n",
      " [3 3 3]\n",
      " [1 4 3]]\n",
      "free\n",
      "current_node -- (next_move) (29, 25)\n",
      "(array([3], dtype=int64),)\n",
      "right\n",
      "next_node out:: (29, 26)\n",
      "next_node out (29, 26)\n",
      "message right\n"
     ]
    },
    {
     "data": {
      "image/png": "[encoded data removed]",
      "text/plain": [
       "<Figure size 432x288 with 1 Axes>"
      ]
     },
     "metadata": {
      "needs_background": "light"
     },
     "output_type": "display_data"
    },
    {
     "name": "stdout",
     "output_type": "stream",
     "text": [
      "[(0, 0), (1, 0), (2, 0), (3, 0), (2, 1), (3, 1), (4, 1), (5, 1), (6, 1), (7, 1), (8, 1), (9, 1), (8, 2), (7, 2), (6, 2), (6, 3), (7, 3), (8, 3), (7, 4), (6, 4), (6, 5), (5, 3), (5, 4), (5, 5), (4, 4), (4, 5), (4, 6), (5, 6), (4, 7), (5, 7), (6, 7), (7, 7), (6, 8), (7, 8), (6, 9), (7, 9), (8, 9), (9, 9), (10, 9), (11, 9), (12, 9), (11, 10), (12, 10), (11, 11), (12, 11), (11, 12), (12, 12), (13, 12), (14, 12), (15, 12), (16, 12), (17, 12), (16, 13), (17, 13), (16, 14), (17, 14), (18, 14), (19, 14), (20, 14), (19, 15), (20, 15), (19, 16), (20, 16), (21, 16), (22, 16), (21, 17), (22, 17), (23, 17), (24, 17), (25, 17), (26, 17), (27, 17), (26, 18), (27, 18), (28, 18), (27, 19), (28, 19), (29, 19), (29, 20), (28, 20), (28, 21), (29, 21), (28, 22), (29, 22), (29, 23), (29, 24), (29, 25)]\n",
      "neighbors [(27, 25), (27, 26), (27, 27), (28, 25), (28, 26), (28, 27), (29, 25), (29, 26), (29, 27)]\n",
      "full grid: [[1 0 0]\n",
      " [0 0 0]\n",
      " [0 0 1]]\n",
      "[[3 3 3]\n",
      " [3 3 3]\n",
      " [1 4 3]]\n",
      "free\n",
      "current_node -- (next_move) (29, 26)\n",
      "(array([3], dtype=int64),)\n",
      "right\n",
      "next_node out:: (29, 27)\n",
      "next_node out (29, 27)\n",
      "message right\n"
     ]
    },
    {
     "data": {
      "image/png": "[encoded data removed]",
      "text/plain": [
       "<Figure size 432x288 with 1 Axes>"
      ]
     },
     "metadata": {
      "needs_background": "light"
     },
     "output_type": "display_data"
    },
    {
     "name": "stdout",
     "output_type": "stream",
     "text": [
      "[(0, 0), (1, 0), (2, 0), (3, 0), (2, 1), (3, 1), (4, 1), (5, 1), (6, 1), (7, 1), (8, 1), (9, 1), (8, 2), (7, 2), (6, 2), (6, 3), (7, 3), (8, 3), (7, 4), (6, 4), (6, 5), (5, 3), (5, 4), (5, 5), (4, 4), (4, 5), (4, 6), (5, 6), (4, 7), (5, 7), (6, 7), (7, 7), (6, 8), (7, 8), (6, 9), (7, 9), (8, 9), (9, 9), (10, 9), (11, 9), (12, 9), (11, 10), (12, 10), (11, 11), (12, 11), (11, 12), (12, 12), (13, 12), (14, 12), (15, 12), (16, 12), (17, 12), (16, 13), (17, 13), (16, 14), (17, 14), (18, 14), (19, 14), (20, 14), (19, 15), (20, 15), (19, 16), (20, 16), (21, 16), (22, 16), (21, 17), (22, 17), (23, 17), (24, 17), (25, 17), (26, 17), (27, 17), (26, 18), (27, 18), (28, 18), (27, 19), (28, 19), (29, 19), (29, 20), (28, 20), (28, 21), (29, 21), (28, 22), (29, 22), (29, 23), (29, 24), (29, 25), (29, 26)]\n",
      "neighbors [(27, 26), (27, 27), (27, 28), (28, 26), (28, 27), (28, 28), (29, 26), (29, 27), (29, 28)]\n",
      "full grid: [[0 0 0]\n",
      " [0 0 0]\n",
      " [0 1 1]]\n",
      "[[3 3 3]\n",
      " [3 3 3]\n",
      " [1 4 3]]\n",
      "blocked\n",
      "next node::::  (29, 26)\n"
     ]
    },
    {
     "data": {
      "image/png": "[encoded data removed]",
      "text/plain": [
       "<Figure size 432x288 with 1 Axes>"
      ]
     },
     "metadata": {
      "needs_background": "light"
     },
     "output_type": "display_data"
    },
    {
     "name": "stdout",
     "output_type": "stream",
     "text": [
      "[(0, 0), (1, 0), (2, 0), (3, 0), (2, 1), (3, 1), (4, 1), (5, 1), (6, 1), (7, 1), (8, 1), (9, 1), (8, 2), (7, 2), (6, 2), (6, 3), (7, 3), (8, 3), (7, 4), (6, 4), (6, 5), (5, 3), (5, 4), (5, 5), (4, 4), (4, 5), (4, 6), (5, 6), (4, 7), (5, 7), (6, 7), (7, 7), (6, 8), (7, 8), (6, 9), (7, 9), (8, 9), (9, 9), (10, 9), (11, 9), (12, 9), (11, 10), (12, 10), (11, 11), (12, 11), (11, 12), (12, 12), (13, 12), (14, 12), (15, 12), (16, 12), (17, 12), (16, 13), (17, 13), (16, 14), (17, 14), (18, 14), (19, 14), (20, 14), (19, 15), (20, 15), (19, 16), (20, 16), (21, 16), (22, 16), (21, 17), (22, 17), (23, 17), (24, 17), (25, 17), (26, 17), (27, 17), (26, 18), (27, 18), (28, 18), (27, 19), (28, 19), (29, 19), (29, 20), (28, 20), (28, 21), (29, 21), (28, 22), (29, 22), (29, 23), (29, 24), (29, 25), (29, 26), (29, 27)]\n",
      "neighbors [(27, 25), (27, 26), (27, 27), (28, 25), (28, 26), (28, 27), (29, 25), (29, 26), (29, 27)]\n",
      "full grid: [[1 0 0]\n",
      " [0 0 0]\n",
      " [0 0 1]]\n",
      "[[3 3 3]\n",
      " [3 3 3]\n",
      " [1 4 2]]\n",
      "free\n",
      "current_node -- (next_move) (29, 26)\n",
      "(array([0], dtype=int64),)\n",
      "up\n",
      "next_node out:: (28, 26)\n",
      "next_node out (28, 26)\n",
      "message up\n"
     ]
    },
    {
     "data": {
      "image/png": "[encoded data removed]",
      "text/plain": [
       "<Figure size 432x288 with 1 Axes>"
      ]
     },
     "metadata": {
      "needs_background": "light"
     },
     "output_type": "display_data"
    },
    {
     "name": "stdout",
     "output_type": "stream",
     "text": [
      "[(0, 0), (1, 0), (2, 0), (3, 0), (2, 1), (3, 1), (4, 1), (5, 1), (6, 1), (7, 1), (8, 1), (9, 1), (8, 2), (7, 2), (6, 2), (6, 3), (7, 3), (8, 3), (7, 4), (6, 4), (6, 5), (5, 3), (5, 4), (5, 5), (4, 4), (4, 5), (4, 6), (5, 6), (4, 7), (5, 7), (6, 7), (7, 7), (6, 8), (7, 8), (6, 9), (7, 9), (8, 9), (9, 9), (10, 9), (11, 9), (12, 9), (11, 10), (12, 10), (11, 11), (12, 11), (11, 12), (12, 12), (13, 12), (14, 12), (15, 12), (16, 12), (17, 12), (16, 13), (17, 13), (16, 14), (17, 14), (18, 14), (19, 14), (20, 14), (19, 15), (20, 15), (19, 16), (20, 16), (21, 16), (22, 16), (21, 17), (22, 17), (23, 17), (24, 17), (25, 17), (26, 17), (27, 17), (26, 18), (27, 18), (28, 18), (27, 19), (28, 19), (29, 19), (29, 20), (28, 20), (28, 21), (29, 21), (28, 22), (29, 22), (29, 23), (29, 24), (29, 25), (29, 26), (29, 27)]\n",
      "neighbors [(27, 25), (27, 26), (27, 27), (28, 25), (28, 26), (28, 27), (29, 25), (29, 26), (29, 27)]\n",
      "full grid: [[1 0 0]\n",
      " [0 0 0]\n",
      " [0 0 1]]\n",
      "[[3 3 3]\n",
      " [3 4 3]\n",
      " [1 1 2]]\n",
      "free\n",
      "current_node -- (next_move) (28, 26)\n",
      "(array([3], dtype=int64),)\n",
      "right\n",
      "next_node out:: (28, 27)\n",
      "next_node out (28, 27)\n",
      "message right\n"
     ]
    },
    {
     "data": {
      "image/png": "[encoded data removed]",
      "text/plain": [
       "<Figure size 432x288 with 1 Axes>"
      ]
     },
     "metadata": {
      "needs_background": "light"
     },
     "output_type": "display_data"
    },
    {
     "name": "stdout",
     "output_type": "stream",
     "text": [
      "[(0, 0), (1, 0), (2, 0), (3, 0), (2, 1), (3, 1), (4, 1), (5, 1), (6, 1), (7, 1), (8, 1), (9, 1), (8, 2), (7, 2), (6, 2), (6, 3), (7, 3), (8, 3), (7, 4), (6, 4), (6, 5), (5, 3), (5, 4), (5, 5), (4, 4), (4, 5), (4, 6), (5, 6), (4, 7), (5, 7), (6, 7), (7, 7), (6, 8), (7, 8), (6, 9), (7, 9), (8, 9), (9, 9), (10, 9), (11, 9), (12, 9), (11, 10), (12, 10), (11, 11), (12, 11), (11, 12), (12, 12), (13, 12), (14, 12), (15, 12), (16, 12), (17, 12), (16, 13), (17, 13), (16, 14), (17, 14), (18, 14), (19, 14), (20, 14), (19, 15), (20, 15), (19, 16), (20, 16), (21, 16), (22, 16), (21, 17), (22, 17), (23, 17), (24, 17), (25, 17), (26, 17), (27, 17), (26, 18), (27, 18), (28, 18), (27, 19), (28, 19), (29, 19), (29, 20), (28, 20), (28, 21), (29, 21), (28, 22), (29, 22), (29, 23), (29, 24), (29, 25), (29, 26), (29, 27), (28, 26)]\n",
      "neighbors [(27, 26), (27, 27), (27, 28), (28, 26), (28, 27), (28, 28), (29, 26), (29, 27), (29, 28)]\n",
      "full grid: [[0 0 0]\n",
      " [0 0 0]\n",
      " [0 1 1]]\n",
      "[[3 3 3]\n",
      " [1 4 3]\n",
      " [1 2 3]]\n",
      "free\n",
      "current_node -- (next_move) (28, 27)\n",
      "(array([3], dtype=int64),)\n",
      "right\n",
      "next_node out:: (28, 28)\n",
      "next_node out (28, 28)\n",
      "message right\n"
     ]
    },
    {
     "data": {
      "image/png": "[encoded data removed]",
      "text/plain": [
       "<Figure size 432x288 with 1 Axes>"
      ]
     },
     "metadata": {
      "needs_background": "light"
     },
     "output_type": "display_data"
    },
    {
     "name": "stdout",
     "output_type": "stream",
     "text": [
      "[(0, 0), (1, 0), (2, 0), (3, 0), (2, 1), (3, 1), (4, 1), (5, 1), (6, 1), (7, 1), (8, 1), (9, 1), (8, 2), (7, 2), (6, 2), (6, 3), (7, 3), (8, 3), (7, 4), (6, 4), (6, 5), (5, 3), (5, 4), (5, 5), (4, 4), (4, 5), (4, 6), (5, 6), (4, 7), (5, 7), (6, 7), (7, 7), (6, 8), (7, 8), (6, 9), (7, 9), (8, 9), (9, 9), (10, 9), (11, 9), (12, 9), (11, 10), (12, 10), (11, 11), (12, 11), (11, 12), (12, 12), (13, 12), (14, 12), (15, 12), (16, 12), (17, 12), (16, 13), (17, 13), (16, 14), (17, 14), (18, 14), (19, 14), (20, 14), (19, 15), (20, 15), (19, 16), (20, 16), (21, 16), (22, 16), (21, 17), (22, 17), (23, 17), (24, 17), (25, 17), (26, 17), (27, 17), (26, 18), (27, 18), (28, 18), (27, 19), (28, 19), (29, 19), (29, 20), (28, 20), (28, 21), (29, 21), (28, 22), (29, 22), (29, 23), (29, 24), (29, 25), (29, 26), (29, 27), (28, 26), (28, 27)]\n",
      "neighbors [(27, 27), (27, 28), (27, 29), (28, 27), (28, 28), (28, 29), (29, 27), (29, 28), (29, 29)]\n",
      "full grid: [[0 0 1]\n",
      " [0 0 0]\n",
      " [1 1 0]]\n",
      "[[3 3 3]\n",
      " [1 4 3]\n",
      " [2 3 3]]\n",
      "free\n",
      "current_node -- (next_move) (28, 28)\n",
      "(array([1], dtype=int64),)\n",
      "down\n",
      "next_node out:: (29, 28)\n",
      "next_node out (29, 28)\n",
      "message down\n"
     ]
    },
    {
     "data": {
      "image/png": "[encoded data removed]",
      "text/plain": [
       "<Figure size 432x288 with 1 Axes>"
      ]
     },
     "metadata": {
      "needs_background": "light"
     },
     "output_type": "display_data"
    },
    {
     "name": "stdout",
     "output_type": "stream",
     "text": [
      "[(0, 0), (1, 0), (2, 0), (3, 0), (2, 1), (3, 1), (4, 1), (5, 1), (6, 1), (7, 1), (8, 1), (9, 1), (8, 2), (7, 2), (6, 2), (6, 3), (7, 3), (8, 3), (7, 4), (6, 4), (6, 5), (5, 3), (5, 4), (5, 5), (4, 4), (4, 5), (4, 6), (5, 6), (4, 7), (5, 7), (6, 7), (7, 7), (6, 8), (7, 8), (6, 9), (7, 9), (8, 9), (9, 9), (10, 9), (11, 9), (12, 9), (11, 10), (12, 10), (11, 11), (12, 11), (11, 12), (12, 12), (13, 12), (14, 12), (15, 12), (16, 12), (17, 12), (16, 13), (17, 13), (16, 14), (17, 14), (18, 14), (19, 14), (20, 14), (19, 15), (20, 15), (19, 16), (20, 16), (21, 16), (22, 16), (21, 17), (22, 17), (23, 17), (24, 17), (25, 17), (26, 17), (27, 17), (26, 18), (27, 18), (28, 18), (27, 19), (28, 19), (29, 19), (29, 20), (28, 20), (28, 21), (29, 21), (28, 22), (29, 22), (29, 23), (29, 24), (29, 25), (29, 26), (29, 27), (28, 26), (28, 27), (28, 28)]\n",
      "neighbors [(27, 27), (27, 28), (27, 29), (28, 27), (28, 28), (28, 29), (29, 27), (29, 28), (29, 29)]\n",
      "full grid: [[0 0 1]\n",
      " [0 0 0]\n",
      " [1 1 0]]\n",
      "[[3 3 3]\n",
      " [1 1 3]\n",
      " [2 4 3]]\n",
      "blocked\n",
      "next node::::  (28, 28)\n"
     ]
    },
    {
     "data": {
      "image/png": "[encoded data removed]",
      "text/plain": [
       "<Figure size 432x288 with 1 Axes>"
      ]
     },
     "metadata": {
      "needs_background": "light"
     },
     "output_type": "display_data"
    },
    {
     "name": "stdout",
     "output_type": "stream",
     "text": [
      "[(0, 0), (1, 0), (2, 0), (3, 0), (2, 1), (3, 1), (4, 1), (5, 1), (6, 1), (7, 1), (8, 1), (9, 1), (8, 2), (7, 2), (6, 2), (6, 3), (7, 3), (8, 3), (7, 4), (6, 4), (6, 5), (5, 3), (5, 4), (5, 5), (4, 4), (4, 5), (4, 6), (5, 6), (4, 7), (5, 7), (6, 7), (7, 7), (6, 8), (7, 8), (6, 9), (7, 9), (8, 9), (9, 9), (10, 9), (11, 9), (12, 9), (11, 10), (12, 10), (11, 11), (12, 11), (11, 12), (12, 12), (13, 12), (14, 12), (15, 12), (16, 12), (17, 12), (16, 13), (17, 13), (16, 14), (17, 14), (18, 14), (19, 14), (20, 14), (19, 15), (20, 15), (19, 16), (20, 16), (21, 16), (22, 16), (21, 17), (22, 17), (23, 17), (24, 17), (25, 17), (26, 17), (27, 17), (26, 18), (27, 18), (28, 18), (27, 19), (28, 19), (29, 19), (29, 20), (28, 20), (28, 21), (29, 21), (28, 22), (29, 22), (29, 23), (29, 24), (29, 25), (29, 26), (29, 27), (28, 26), (28, 27), (28, 28), (29, 28)]\n",
      "neighbors [(27, 27), (27, 28), (27, 29), (28, 27), (28, 28), (28, 29), (29, 27), (29, 28), (29, 29)]\n",
      "full grid: [[0 0 1]\n",
      " [0 0 0]\n",
      " [1 1 0]]\n",
      "[[3 3 3]\n",
      " [1 4 3]\n",
      " [2 2 3]]\n",
      "free\n",
      "current_node -- (next_move) (28, 28)\n",
      "(array([3], dtype=int64),)\n",
      "right\n",
      "next_node out:: (28, 29)\n",
      "next_node out (28, 29)\n",
      "message right\n"
     ]
    },
    {
     "data": {
      "image/png": "[encoded data removed]",
      "text/plain": [
       "<Figure size 432x288 with 1 Axes>"
      ]
     },
     "metadata": {
      "needs_background": "light"
     },
     "output_type": "display_data"
    },
    {
     "name": "stdout",
     "output_type": "stream",
     "text": [
      "[(0, 0), (1, 0), (2, 0), (3, 0), (2, 1), (3, 1), (4, 1), (5, 1), (6, 1), (7, 1), (8, 1), (9, 1), (8, 2), (7, 2), (6, 2), (6, 3), (7, 3), (8, 3), (7, 4), (6, 4), (6, 5), (5, 3), (5, 4), (5, 5), (4, 4), (4, 5), (4, 6), (5, 6), (4, 7), (5, 7), (6, 7), (7, 7), (6, 8), (7, 8), (6, 9), (7, 9), (8, 9), (9, 9), (10, 9), (11, 9), (12, 9), (11, 10), (12, 10), (11, 11), (12, 11), (11, 12), (12, 12), (13, 12), (14, 12), (15, 12), (16, 12), (17, 12), (16, 13), (17, 13), (16, 14), (17, 14), (18, 14), (19, 14), (20, 14), (19, 15), (20, 15), (19, 16), (20, 16), (21, 16), (22, 16), (21, 17), (22, 17), (23, 17), (24, 17), (25, 17), (26, 17), (27, 17), (26, 18), (27, 18), (28, 18), (27, 19), (28, 19), (29, 19), (29, 20), (28, 20), (28, 21), (29, 21), (28, 22), (29, 22), (29, 23), (29, 24), (29, 25), (29, 26), (29, 27), (28, 26), (28, 27), (28, 28), (29, 28)]\n",
      "neighbors [(27, 27), (27, 28), (27, 29), (28, 27), (28, 28), (28, 29), (29, 27), (29, 28), (29, 29)]\n",
      "full grid: [[0 0 1]\n",
      " [0 0 0]\n",
      " [1 1 0]]\n",
      "[[3 3 3]\n",
      " [1 1 4]\n",
      " [2 2 3]]\n",
      "free\n",
      "current_node -- (next_move) (28, 29)\n",
      "(array([1], dtype=int64),)\n",
      "down\n",
      "next_node out:: (29, 29)\n",
      "next_node out (29, 29)\n",
      "message down\n"
     ]
    },
    {
     "data": {
      "image/png": "[encoded data removed]",
      "text/plain": [
       "<Figure size 432x288 with 1 Axes>"
      ]
     },
     "metadata": {
      "needs_background": "light"
     },
     "output_type": "display_data"
    },
    {
     "name": "stdout",
     "output_type": "stream",
     "text": [
      "[(0, 0), (1, 0), (2, 0), (3, 0), (2, 1), (3, 1), (4, 1), (5, 1), (6, 1), (7, 1), (8, 1), (9, 1), (8, 2), (7, 2), (6, 2), (6, 3), (7, 3), (8, 3), (7, 4), (6, 4), (6, 5), (5, 3), (5, 4), (5, 5), (4, 4), (4, 5), (4, 6), (5, 6), (4, 7), (5, 7), (6, 7), (7, 7), (6, 8), (7, 8), (6, 9), (7, 9), (8, 9), (9, 9), (10, 9), (11, 9), (12, 9), (11, 10), (12, 10), (11, 11), (12, 11), (11, 12), (12, 12), (13, 12), (14, 12), (15, 12), (16, 12), (17, 12), (16, 13), (17, 13), (16, 14), (17, 14), (18, 14), (19, 14), (20, 14), (19, 15), (20, 15), (19, 16), (20, 16), (21, 16), (22, 16), (21, 17), (22, 17), (23, 17), (24, 17), (25, 17), (26, 17), (27, 17), (26, 18), (27, 18), (28, 18), (27, 19), (28, 19), (29, 19), (29, 20), (28, 20), (28, 21), (29, 21), (28, 22), (29, 22), (29, 23), (29, 24), (29, 25), (29, 26), (29, 27), (28, 26), (28, 27), (28, 28), (29, 28), (28, 29)]\n",
      "Goal reached!!!\n",
      "133\n"
     ]
    }
   ],
   "source": [
    "goal_reached = False\n",
    "new_model = tf.keras.models.load_model('epic_num_reader.model')\n",
    "\n",
    "start = (0,0)\n",
    "goal = (maze_size-1, maze_size-1)\n",
    "agent_grid_world.itemset(start, 4)\n",
    "current_node = start\n",
    "visited_list = []\n",
    "trajectory = []\n",
    "\n",
    "while goal_reached == False:\n",
    "    trajectory.append(current_node)\n",
    "    if current_node == goal:\n",
    "        print('Goal reached!!!')\n",
    "        goal_reached = True\n",
    "        break\n",
    "\n",
    "    if current_node not in visited_list:\n",
    "        visited_list.append(current_node)\n",
    "\n",
    "    x_test = get_window(current_node, agent_grid_world, full_grid_world)\n",
    "    print(x_test)\n",
    "    x_test = np.asarray(x_test)\n",
    "\n",
    "    predictions = new_model.predict(np.asarray([x_test]))\n",
    "\n",
    "    if full_grid_world.item(current_node) == 1:\n",
    "#         trajectory.pop(-1)\n",
    "        agent_grid_world.itemset(current_node, 2)\n",
    "        flag = 'blocked'\n",
    "        print(flag)\n",
    "    else:\n",
    "        agent_grid_world.itemset(current_node, 1)\n",
    "        flag = 'free'\n",
    "        print(flag)\n",
    "    \n",
    "    if flag == 'free':\n",
    "        try:\n",
    "            next_node, message = next_move(current_node, predictions, full_grid_world, visited_list, maze_size, trajectory, flag, agent_grid_world)\n",
    "            current_node = next_node\n",
    "        except Exception as err:\n",
    "            print(err)\n",
    "            print('No path to goal')\n",
    "            break\n",
    "        print('next_node out',next_node)\n",
    "        print('message', message)\n",
    "        if message == \"Can't reach goal\":\n",
    "            print('Cannot reach goal')\n",
    "            break\n",
    "\n",
    "#     agent_grid_world.itemset(current_node, 1)\n",
    "\n",
    "    if flag == 'blocked':\n",
    "        current_node = trajectory[-2]\n",
    "        print('next node:::: ', current_node)\n",
    "\n",
    "    agent_grid_world.itemset(current_node, 4)\n",
    "\n",
    "    colormap = colors.ListedColormap([\"green\",\"white\"])\n",
    "    plt.imshow(agent_grid_world, cmap=colormap)\n",
    "    plt.show()\n",
    "#     print('agent_grid', agent_grid_world)\n",
    "    print(visited_list)\n",
    "print(len(trajectory))"
   ]
  },
  {
   "cell_type": "code",
   "execution_count": 27,
   "metadata": {},
   "outputs": [
    {
     "data": {
      "text/plain": [
       "<matplotlib.image.AxesImage at 0x1980c343b20>"
      ]
     },
     "execution_count": 27,
     "metadata": {},
     "output_type": "execute_result"
    },
    {
     "data": {
      "image/png": "[encoded data removed]",
      "text/plain": [
       "<Figure size 432x288 with 1 Axes>"
      ]
     },
     "metadata": {
      "needs_background": "light"
     },
     "output_type": "display_data"
    }
   ],
   "source": [
    "plt.spy(full_grid_world)"
   ]
  },
  {
   "cell_type": "code",
   "execution_count": 28,
   "metadata": {},
   "outputs": [
    {
     "data": {
      "image/png": "[encoded data removed]",
      "text/plain": [
       "<Figure size 432x288 with 1 Axes>"
      ]
     },
     "metadata": {
      "needs_background": "light"
     },
     "output_type": "display_data"
    }
   ],
   "source": [
    "colormap = colors.ListedColormap([\"green\",\"white\"])\n",
    "plt.imshow(agent_grid_world, cmap=colormap)\n",
    "plt.show()"
   ]
  },
  {
   "cell_type": "code",
   "execution_count": null,
   "metadata": {},
   "outputs": [],
   "source": []
  }
 ],
 "metadata": {
  "kernelspec": {
   "display_name": "Python 3",
   "language": "python",
   "name": "python3"
  },
  "language_info": {
   "codemirror_mode": {
    "name": "ipython",
    "version": 3
   },
   "file_extension": ".py",
   "mimetype": "text/x-python",
   "name": "python",
   "nbconvert_exporter": "python",
   "pygments_lexer": "ipython3",
   "version": "3.8.5"
  }
 },
 "nbformat": 4,
 "nbformat_minor": 5
}
