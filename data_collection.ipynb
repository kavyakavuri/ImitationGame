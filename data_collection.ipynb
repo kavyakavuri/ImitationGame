{
 "cells": [
  {
   "cell_type": "code",
   "execution_count": 1,
   "metadata": {},
   "outputs": [],
   "source": [
    "import numpy as np\n",
    "import matplotlib.pyplot as plt\n",
    "from matplotlib import colors\n",
    "import os\n",
    "import fnmatch"
   ]
  },
  {
   "cell_type": "code",
   "execution_count": 2,
   "metadata": {},
   "outputs": [],
   "source": [
    "grid =[]\n",
    "gofn ={}\n",
    "hofn ={}\n",
    "parent_dict = {}\n",
    "visited =[]\n",
    "maze_size = 0\n",
    "folder_counter=0\n",
    "\n",
    "agent_grid = []\n",
    "movements_list = []"
   ]
  },
  {
   "cell_type": "code",
   "execution_count": 3,
   "metadata": {},
   "outputs": [],
   "source": [
    "def populateMatrix(n,p):\n",
    "    \"\"\"\n",
    "    This function returns randomly populated maze\n",
    "    p: probabillity density of each cell\n",
    "    n: size of the maze\n",
    "    \"\"\"\n",
    "    global grid\n",
    "    np_array = np.random.rand(n*n)\n",
    "    block = lambda x: 0 if x>=p else 1\n",
    "    vectorized_block = np.vectorize(block)\n",
    "    np_array = vectorized_block(np_array).reshape(n,n)\n",
    "    np_array[0,0]=0\n",
    "    np_array[n-1,n-1] =0\n",
    "    grid = np.asmatrix(np_array)"
   ]
  },
  {
   "cell_type": "code",
   "execution_count": 4,
   "metadata": {},
   "outputs": [],
   "source": [
    "def initialize(n,p):\n",
    "    global agent_grid\n",
    "    global maze_size\n",
    "    global gofn\n",
    "    global hofn\n",
    "    global parent_dict\n",
    "    global visited\n",
    "    \n",
    "    gofn ={}\n",
    "    hofn = {}\n",
    "    parent_dict = {}\n",
    "    maze_size = n\n",
    "    visited = []\n",
    "    populateMatrix(n,p)\n",
    "    agent_grid = np.asmatrix(np.zeros(n*n, dtype=int).reshape(n,n))"
   ]
  },
  {
   "cell_type": "code",
   "execution_count": 5,
   "metadata": {},
   "outputs": [],
   "source": [
    "def manhattan_distance_calc(x1, y1, x2, y2):\n",
    "    \"\"\"\n",
    "    This function returns manhattan distance for every cell\n",
    "    i: row value\n",
    "    j: column value\n",
    "    n: size of the maze\n",
    "    \"\"\"\n",
    "    return abs(x1 - x2) + abs(y1 - y2)\n"
   ]
  },
  {
   "cell_type": "code",
   "execution_count": 6,
   "metadata": {},
   "outputs": [],
   "source": [
    "def get_children(x, y, n,visited, matrix):\n",
    "    \"\"\"\n",
    "    This function is used to return children of a particular node\n",
    "    x: row value of current node\n",
    "    y: column value of current node\n",
    "    n: size of maze\n",
    "    gofn: g(n) value of current node\n",
    "    visited_list: list of nodes that are already visited\n",
    "    matrix: maze\n",
    "    agent_matrix: matrix of the agent that holds the information of updated environment\n",
    "    \"\"\"\n",
    "    allChildren = [(x+1,y),#down\n",
    "                   (x-1,y),#up\n",
    "                   (x,y+1),#right\n",
    "                   (x,y-1)]#left\n",
    "    \n",
    "    if x+1 > n-1:\n",
    "        allChildren.remove((x+1,y))\n",
    "    if x-1 < 0:\n",
    "        allChildren.remove((x-1,y))\n",
    "    if y+1 > n-1:\n",
    "        allChildren.remove((x,y+1))\n",
    "    if y-1 < 0:\n",
    "        allChildren.remove((x,y-1))\n",
    "        \n",
    "    allChildren = [node for node in allChildren if node not in visited]\n",
    "    \n",
    "    allChildren = [node for node in allChildren if matrix[node]!=1]\n",
    "    \n",
    "\n",
    "    return allChildren"
   ]
  },
  {
   "cell_type": "code",
   "execution_count": 7,
   "metadata": {},
   "outputs": [],
   "source": [
    "def set_parent(children,parent):\n",
    "    global parent_dict\n",
    "    for child in children:\n",
    "        parent_dict[child] = parent"
   ]
  },
  {
   "cell_type": "code",
   "execution_count": 8,
   "metadata": {},
   "outputs": [],
   "source": [
    "def update_gofn(children, parent):\n",
    "    global gofn\n",
    "    \n",
    "    for child in children:\n",
    "        gofn[child] = gofn[parent] +1"
   ]
  },
  {
   "cell_type": "code",
   "execution_count": 9,
   "metadata": {},
   "outputs": [],
   "source": [
    "def update_hofn(children, goal):\n",
    "    global hofn\n",
    "    \n",
    "    for child in children:\n",
    "        hofn[child] = manhattan_distance_calc(child[0],child[1],goal[0],goal[1])"
   ]
  },
  {
   "cell_type": "code",
   "execution_count": 10,
   "metadata": {},
   "outputs": [],
   "source": [
    "def get_path_to_goal(source,node):\n",
    "    global parent_dict\n",
    "    \n",
    "    path =[]\n",
    "    while(node!=source):\n",
    "        path.append(node)\n",
    "        node = parent_dict[node]\n",
    "    path.append(source)\n",
    "    return path"
   ]
  },
  {
   "cell_type": "code",
   "execution_count": 11,
   "metadata": {},
   "outputs": [],
   "source": [
    "def display2(trajectory_path,matrix):\n",
    "    \"\"\"\n",
    "    This function is used to display maze with traversed path(highlighted)\n",
    "    trajectory_path: path traversed by the agent so far\n",
    "    matrix: maze of the problem\n",
    "    \"\"\"\n",
    "    temp = matrix.copy()\n",
    "    for path in trajectory_path:\n",
    "        temp[path[:2]] = 2\n",
    "    colormap = colors.ListedColormap([\"white\",\"black\",\"green\"])\n",
    "    plt.imshow(temp, cmap=colormap)\n",
    "    plt.show()"
   ]
  },
  {
   "cell_type": "code",
   "execution_count": 12,
   "metadata": {},
   "outputs": [],
   "source": [
    "def display_input_map(matrix):\n",
    "    \"\"\"\n",
    "    This function is used to display maze with traversed path(highlighted)\n",
    "    trajectory_path: path traversed by the agent so far\n",
    "    matrix: maze of the problem\n",
    "    \"\"\"\n",
    "    temp = matrix.copy()\n",
    "    colormap = colors.ListedColormap([\"green\",\"black\",\"white\",\"blue\"])\n",
    "    plt.imshow(temp, cmap=colormap)\n",
    "    plt.show()"
   ]
  },
  {
   "cell_type": "code",
   "execution_count": 13,
   "metadata": {},
   "outputs": [],
   "source": [
    "def astar(source, goal, matrix):\n",
    "    global maze_size\n",
    "    global gofn\n",
    "    global hofn\n",
    "    global parent_dict\n",
    "    global visited\n",
    "    \n",
    "    visited = []\n",
    "    hofn = {}\n",
    "    gofn = {}\n",
    "    parent_dict = {}\n",
    "    Q = {}\n",
    "    Q[source] = 0\n",
    "    parent_dict[source] = source\n",
    "    gofn[source] = 0\n",
    "    goal_reached = False\n",
    "    \n",
    "    while not goal_reached and Q:\n",
    "        Q = dict(sorted(Q.items(), key=lambda item: item[1]))\n",
    "        current = list(Q)[0]\n",
    "        Q.pop(current)\n",
    "        visited.append(current)\n",
    "        \n",
    "        if(current == goal):\n",
    "            goal_reached = True\n",
    "            return get_path_to_goal(source,current)[::-1]\n",
    "        \n",
    "        children = get_children(current[0],current[1],maze_size,visited, matrix)\n",
    "        set_parent(children, current)\n",
    "        update_gofn(children,current)\n",
    "        update_hofn(children, goal)\n",
    "        for child in children:\n",
    "            Q[child] = gofn[child] + hofn[child]\n",
    "    return []"
   ]
  },
  {
   "cell_type": "code",
   "execution_count": 14,
   "metadata": {},
   "outputs": [],
   "source": [
    "# initialize(4,0.3)\n",
    "# print(maze_size)\n",
    "# plt.spy(grid)\n",
    "# path = astar((0,0),(3,3),agent_grid)\n",
    "# path"
   ]
  },
  {
   "cell_type": "code",
   "execution_count": 15,
   "metadata": {},
   "outputs": [],
   "source": [
    "\"\"\"\n",
    "1 free visited\n",
    "2 blocked\n",
    "3 unvisited\n",
    "4 current position\n",
    "\"\"\"\n",
    "\n",
    "def encode_grid(matrix, vis):\n",
    "    mat = matrix.copy()\n",
    "    mat[mat==1] = 2\n",
    "    for pos in vis:\n",
    "        mat[pos] = 1\n",
    "    mat[mat==0] = 3\n",
    "    return mat\n",
    "    "
   ]
  },
  {
   "cell_type": "code",
   "execution_count": 16,
   "metadata": {},
   "outputs": [],
   "source": [
    "def repeated_astar():\n",
    "    \"\"\"\n",
    "    This function is used to call a_star repeatedly to get the shortest path from start to the goal node\n",
    "    \"\"\"\n",
    "    \n",
    "    global grid\n",
    "    global maze_size\n",
    "    global agent_grid\n",
    "    global block_unblock_matrix\n",
    "\n",
    "    matrix_snapshots = []\n",
    "    positions = []\n",
    "    goal_reached = False\n",
    "    goal = (maze_size-1,maze_size-1)\n",
    "    path = []\n",
    "    visited =[]\n",
    "    agent_grid = np.asmatrix(np.zeros(maze_size*maze_size, dtype=int).reshape(maze_size,maze_size))\n",
    "    \n",
    "    final_path = [(0,0)]\n",
    "    \n",
    "    \n",
    "    while not goal_reached:\n",
    "        path = astar(final_path[-1],goal,agent_grid)\n",
    "        if(len(path) == 0):\n",
    "            return ([],[],[])\n",
    "\n",
    "        for node in path:\n",
    "            matrix_snapshots.append(encode_grid(agent_grid, visited))\n",
    "#             print(\"start\\n\",matrix_snapshots)\n",
    "#             print(agent_grid)\n",
    "            if grid[node] == 0:\n",
    "                visited.append(node)\n",
    "                if node not in final_path:\n",
    "                    final_path.append(node)\n",
    "#                     trajectory_length += 1\n",
    "                if node == goal:\n",
    "                    goal_reached = True\n",
    "                    positions.append(node)\n",
    "                    matrix_snapshots[-1][node] = 4 \n",
    "#                     print(\"goal reached\")\n",
    "                    break\n",
    "            else:\n",
    "                agent_grid[node] = 1\n",
    "                positions.append(node)\n",
    "                matrix_snapshots[-1][node] = 4 \n",
    "#                 print(node)\n",
    "                break\n",
    "            positions.append(node)\n",
    "            matrix_snapshots[-1][node] = 4 \n",
    "#             print(node)\n",
    "#             \n",
    "    return (final_path,matrix_snapshots,positions)"
   ]
  },
  {
   "cell_type": "code",
   "execution_count": 17,
   "metadata": {},
   "outputs": [],
   "source": [
    "# initialize(4,0.3)\n",
    "# plt.spy(grid)"
   ]
  },
  {
   "cell_type": "code",
   "execution_count": 18,
   "metadata": {},
   "outputs": [],
   "source": [
    "# (path,snaps,pos) = repeated_astar()"
   ]
  },
  {
   "cell_type": "code",
   "execution_count": 19,
   "metadata": {},
   "outputs": [],
   "source": [
    "# display2(path,grid)"
   ]
  },
  {
   "cell_type": "code",
   "execution_count": 20,
   "metadata": {},
   "outputs": [],
   "source": [
    "# len(pos)\n",
    "# path1 = astar((0,0),(3,3),grid)"
   ]
  },
  {
   "cell_type": "code",
   "execution_count": 21,
   "metadata": {},
   "outputs": [],
   "source": [
    "def movement_of_agent(p1,p2):\n",
    "\n",
    "        x1=p1[0]\n",
    "        y1=p1[1]\n",
    "        \n",
    "        x2=p2[0]\n",
    "        y2=p2[1]\n",
    "        diffx = x2 - x1\n",
    "        diffy = y2 - y1\n",
    "        move_list = []     #[up, down, left, right]\n",
    "        \n",
    "        if diffx==-1 and diffy==0: #up\n",
    "            move_list = [1,0,0,0] \n",
    "            return move_list\n",
    "        elif diffx==1 and diffy==0: # down\n",
    "            move_list = [0,1,0,0]\n",
    "            return move_list\n",
    "        elif diffx==0 and diffy==-1: #left\n",
    "            move_list = [0,0,1,0]\n",
    "            return move_list\n",
    "        elif diffx==0 and diffy==1: #right\n",
    "            move_list = [0,0,0,1]\n",
    "            return move_list\n",
    "        else:\n",
    "            return \"Error!!\""
   ]
  },
  {
   "cell_type": "code",
   "execution_count": 22,
   "metadata": {},
   "outputs": [],
   "source": [
    "def get_data(maze_size,p):\n",
    "    global grid\n",
    "    \n",
    "    final_data = []\n",
    "    initialize(maze_size,p)\n",
    "    # plt.spy(grid)\n",
    "    path,snaps,pos = repeated_astar()\n",
    "#     for i,j in zip(snaps,pos):\n",
    "#         print(i,j)\n",
    "    snaps = snaps[:-1]\n",
    "    if(len(path)!=0):\n",
    "        for i in range(len(snaps)):\n",
    "            if i-1>=0 and pos[i+1] == pos[i-1]:\n",
    "#                 print(\"skipped for: \",i,\"where i+1:\",pos[i+1],\" i-1:\",pos[i-1])\n",
    "                continue\n",
    "            movement = movement_of_agent(pos[i],pos[i+1])\n",
    "            final_data.append((np.array(snaps[i].copy().flatten()),np.array(movement)))\n",
    "#             final_data.append((snaps[i].copy(),np.array(movement)))\n",
    "    return final_data"
   ]
  },
  {
   "cell_type": "code",
   "execution_count": 23,
   "metadata": {},
   "outputs": [],
   "source": [
    "# temp_data = get_data(5,0.3)"
   ]
  },
  {
   "cell_type": "code",
   "execution_count": 24,
   "metadata": {},
   "outputs": [],
   "source": [
    "# temp_data"
   ]
  },
  {
   "cell_type": "code",
   "execution_count": 25,
   "metadata": {},
   "outputs": [],
   "source": [
    "def save_dataset(maze_size,p,iterations):\n",
    "    global folder_counter\n",
    "    counter = 0\n",
    "    file_counter = 0\n",
    "    while counter!= iterations:\n",
    "        dataset = get_data(maze_size,p)\n",
    "        if len(dataset)!=0:\n",
    "            f = open(\"./dataset\"+str(folder_counter)+\"/data\"+str(file_counter)+\".npy\", 'wb')\n",
    "            counter += 1\n",
    "            file_counter+=1\n",
    "            for item in dataset:\n",
    "                np.save(f,item[0])\n",
    "                np.save(f,item[1])\n",
    "            f.close()\n",
    "    print(\"folder: \",folder_counter,\" done.\")\n",
    "    folder_counter+=1\n",
    "    "
   ]
  },
  {
   "cell_type": "code",
   "execution_count": 26,
   "metadata": {},
   "outputs": [],
   "source": [
    "# save_dataset(4,0.3,10000)"
   ]
  },
  {
   "cell_type": "code",
   "execution_count": 27,
   "metadata": {},
   "outputs": [],
   "source": [
    "# save_dataset(4,0.3,10000)"
   ]
  },
  {
   "cell_type": "code",
   "execution_count": 28,
   "metadata": {},
   "outputs": [],
   "source": [
    "# save_dataset(4,0.3,10000)"
   ]
  },
  {
   "cell_type": "code",
   "execution_count": 29,
   "metadata": {},
   "outputs": [],
   "source": [
    "# save_dataset(4,0.3,10000)"
   ]
  },
  {
   "cell_type": "code",
   "execution_count": 30,
   "metadata": {},
   "outputs": [],
   "source": [
    "# save_dataset(4,0.3,10000)"
   ]
  },
  {
   "cell_type": "code",
   "execution_count": 31,
   "metadata": {},
   "outputs": [],
   "source": [
    "# save_dataset(4,0.3,10000)"
   ]
  },
  {
   "cell_type": "code",
   "execution_count": 32,
   "metadata": {},
   "outputs": [],
   "source": [
    "# save_dataset(4,0.3,10000)"
   ]
  },
  {
   "cell_type": "code",
   "execution_count": 33,
   "metadata": {},
   "outputs": [],
   "source": [
    "# save_dataset(4,0.3,10000)"
   ]
  },
  {
   "cell_type": "code",
   "execution_count": 34,
   "metadata": {},
   "outputs": [],
   "source": [
    "# save_dataset(4,0.3,10000)"
   ]
  },
  {
   "cell_type": "code",
   "execution_count": 35,
   "metadata": {},
   "outputs": [],
   "source": [
    "# save_dataset(4,0.3,10000)"
   ]
  },
  {
   "cell_type": "code",
   "execution_count": 36,
   "metadata": {},
   "outputs": [],
   "source": [
    "def load_data(path_to_file,maze_size):\n",
    "    X = []\n",
    "    y = []\n",
    "    f = open(path_to_file,'rb')\n",
    "    \n",
    "    try:\n",
    "        while True:\n",
    "            X.append(np.load(f).reshape(maze_size,maze_size))\n",
    "            y.append(np.load(f).tolist())\n",
    "    except:\n",
    "            # print(\"eof\")\n",
    "            pass\n",
    "    return X,y\n",
    "    "
   ]
  },
  {
   "cell_type": "code",
   "execution_count": 37,
   "metadata": {},
   "outputs": [],
   "source": [
    "def read_dataset(maze_size):\n",
    "    final_X = []\n",
    "    final_y = []\n",
    "    for f in os.listdir(\"./dataset/\"):\n",
    "        if fnmatch.fnmatch(f,'data*'):\n",
    "            X,y = load_data(\"./dataset/\"+f,maze_size)\n",
    "            print(y)\n",
    "            final_X += X\n",
    "            final_y += y\n",
    "    \n",
    "    return final_X,final_y"
   ]
  },
  {
   "cell_type": "code",
   "execution_count": 38,
   "metadata": {},
   "outputs": [],
   "source": [
    "# maze_size=4\n",
    "# X,y = read_dataset(maze_size)"
   ]
  },
  {
   "cell_type": "code",
   "execution_count": 39,
   "metadata": {},
   "outputs": [],
   "source": [
    "# X[:3]"
   ]
  },
  {
   "cell_type": "code",
   "execution_count": 40,
   "metadata": {},
   "outputs": [],
   "source": [
    "def display_collected_data(X,y):\n",
    "    for i in range(len(X)):\n",
    "        display_input_map(np.asmatrix(X[i]))\n",
    "        if y[i][0]==1:\n",
    "            print(\"Up\")\n",
    "        elif y[i][1]==1:\n",
    "            print(\"down\")\n",
    "        elif y[i][2]==1:\n",
    "            print(\"left\")\n",
    "        elif y[i][3]==1:\n",
    "            print(\"right\")"
   ]
  },
  {
   "cell_type": "code",
   "execution_count": 41,
   "metadata": {},
   "outputs": [],
   "source": [
    "# display_collected_data(X,y)"
   ]
  },
  {
   "cell_type": "code",
   "execution_count": 42,
   "metadata": {},
   "outputs": [],
   "source": [
    "# folder_counter=0"
   ]
  },
  {
   "cell_type": "code",
   "execution_count": null,
   "metadata": {},
   "outputs": [],
   "source": []
  }
 ],
 "metadata": {
  "kernelspec": {
   "display_name": "Python 3",
   "language": "python",
   "name": "python3"
  },
  "language_info": {
   "codemirror_mode": {
    "name": "ipython",
    "version": 3
   },
   "file_extension": ".py",
   "mimetype": "text/x-python",
   "name": "python",
   "nbconvert_exporter": "python",
   "pygments_lexer": "ipython3",
   "version": "3.8.5"
  }
 },
 "nbformat": 4,
 "nbformat_minor": 4
}
