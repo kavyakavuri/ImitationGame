{
 "cells": [
  {
   "cell_type": "code",
   "execution_count": 1,
   "id": "a3f94482",
   "metadata": {},
   "outputs": [],
   "source": [
    "import tensorflow as tf\n",
    "import matplotlib.pyplot as plt\n",
    "import pandas as pd\n",
    "import numpy as np\n",
    "from matplotlib import colors\n",
    "import random"
   ]
  },
  {
   "cell_type": "code",
   "execution_count": 2,
   "id": "8ec16b81",
   "metadata": {},
   "outputs": [],
   "source": [
    "df = pd.read_csv('agent_1_data.csv')"
   ]
  },
  {
   "cell_type": "code",
   "execution_count": 3,
   "id": "54579a5e",
   "metadata": {},
   "outputs": [
    {
     "data": {
      "text/plain": [
       "(29162, 3, 3)"
      ]
     },
     "execution_count": 3,
     "metadata": {},
     "output_type": "execute_result"
    }
   ],
   "source": [
    "c = []\n",
    "x_train = []\n",
    "for i in range(len(df)):\n",
    "    arr = np.fromstring(df['x'][i].replace('[', '').replace(']', ''), dtype=int, sep='\\n').reshape(3,3)\n",
    "    arr = arr/arr.max()\n",
    "    c.append(np.asarray(arr))\n",
    "x_train = np.asarray(c)\n",
    "x_train = np.asarray(x_train)\n",
    "x_train.shape\n",
    "#     print(arr.shape)\n",
    "#     print(arr)"
   ]
  },
  {
   "cell_type": "code",
   "execution_count": 4,
   "id": "121b1692",
   "metadata": {},
   "outputs": [
    {
     "data": {
      "text/plain": [
       "array([[1, 0, 0, 0],\n",
       "       [1, 0, 0, 0],\n",
       "       [1, 0, 0, 0],\n",
       "       ...,\n",
       "       [1, 0, 0, 0],\n",
       "       [1, 0, 0, 0],\n",
       "       [1, 0, 0, 0]])"
      ]
     },
     "execution_count": 4,
     "metadata": {},
     "output_type": "execute_result"
    }
   ],
   "source": [
    "out = []\n",
    "for i in range(len(df)):\n",
    "    a = df['y'][i].replace('[', '').replace(']', '').replace(',','').split()\n",
    "    a = [int(m) for m in a]\n",
    "    out.append(np.asarray(a))\n",
    "y_train = out\n",
    "y_train = np.asarray(out)\n",
    "y_train"
   ]
  },
  {
   "cell_type": "code",
   "execution_count": 5,
   "id": "5ba5d773",
   "metadata": {},
   "outputs": [
    {
     "data": {
      "text/plain": [
       "0"
      ]
     },
     "execution_count": 5,
     "metadata": {},
     "output_type": "execute_result"
    }
   ],
   "source": [
    "a = []\n",
    "for i in (y_train):\n",
    "    row = list(i).index(1)\n",
    "    a.append(row)\n",
    "y_train = np.asarray(a)\n",
    "\n",
    "y_train[0]"
   ]
  },
  {
   "cell_type": "code",
   "execution_count": 6,
   "id": "8cdee203",
   "metadata": {
    "scrolled": false
   },
   "outputs": [
    {
     "name": "stdout",
     "output_type": "stream",
     "text": [
      "x_train (29162, 3, 3)\n",
      "\n",
      "y_train (29162,)\n",
      "Epoch 1/10\n",
      "896/912 [============================>.] - ETA: 0s - loss: 0.1417 - accuracy: 0.9419WARNING:tensorflow:Early stopping conditioned on metric `val_loss` which is not available. Available metrics are: loss,accuracy\n",
      "912/912 [==============================] - 2s 1ms/step - loss: 0.1414 - accuracy: 0.9420\n",
      "Epoch 2/10\n",
      "910/912 [============================>.] - ETA: 0s - loss: 0.1436 - accuracy: 0.9425WARNING:tensorflow:Early stopping conditioned on metric `val_loss` which is not available. Available metrics are: loss,accuracy\n",
      "912/912 [==============================] - 1s 1ms/step - loss: 0.1436 - accuracy: 0.9425\n",
      "Epoch 3/10\n",
      "880/912 [===========================>..] - ETA: 0s - loss: 0.1402 - accuracy: 0.9434WARNING:tensorflow:Early stopping conditioned on metric `val_loss` which is not available. Available metrics are: loss,accuracy\n",
      "912/912 [==============================] - 1s 1ms/step - loss: 0.1393 - accuracy: 0.9437\n",
      "Epoch 4/10\n",
      "888/912 [============================>.] - ETA: 0s - loss: 0.1389 - accuracy: 0.9438WARNING:tensorflow:Early stopping conditioned on metric `val_loss` which is not available. Available metrics are: loss,accuracy\n",
      "912/912 [==============================] - 1s 1ms/step - loss: 0.1393 - accuracy: 0.9436\n",
      "Epoch 5/10\n",
      "873/912 [===========================>..] - ETA: 0s - loss: 0.1408 - accuracy: 0.9432WARNING:tensorflow:Early stopping conditioned on metric `val_loss` which is not available. Available metrics are: loss,accuracy\n",
      "912/912 [==============================] - 1s 1ms/step - loss: 0.1404 - accuracy: 0.9432\n",
      "Epoch 6/10\n",
      "884/912 [============================>.] - ETA: 0s - loss: 0.1397 - accuracy: 0.9424WARNING:tensorflow:Early stopping conditioned on metric `val_loss` which is not available. Available metrics are: loss,accuracy\n",
      "912/912 [==============================] - 1s 1ms/step - loss: 0.1402 - accuracy: 0.9425\n",
      "Epoch 7/10\n",
      "912/912 [==============================] - ETA: 0s - loss: 0.1393 - accuracy: 0.9439WARNING:tensorflow:Early stopping conditioned on metric `val_loss` which is not available. Available metrics are: loss,accuracy\n",
      "912/912 [==============================] - 1s 1ms/step - loss: 0.1393 - accuracy: 0.9439\n",
      "Epoch 8/10\n",
      "877/912 [===========================>..] - ETA: 0s - loss: 0.1387 - accuracy: 0.9430WARNING:tensorflow:Early stopping conditioned on metric `val_loss` which is not available. Available metrics are: loss,accuracy\n",
      "912/912 [==============================] - 1s 1ms/step - loss: 0.1387 - accuracy: 0.9432\n",
      "Epoch 9/10\n",
      "882/912 [============================>.] - ETA: 0s - loss: 0.1379 - accuracy: 0.9435WARNING:tensorflow:Early stopping conditioned on metric `val_loss` which is not available. Available metrics are: loss,accuracy\n",
      "912/912 [==============================] - 1s 1ms/step - loss: 0.1390 - accuracy: 0.9430\n",
      "Epoch 10/10\n",
      "901/912 [============================>.] - ETA: 0s - loss: 0.1391 - accuracy: 0.9434WARNING:tensorflow:Early stopping conditioned on metric `val_loss` which is not available. Available metrics are: loss,accuracy\n",
      "912/912 [==============================] - 1s 1ms/step - loss: 0.1389 - accuracy: 0.9436\n"
     ]
    },
    {
     "data": {
      "text/plain": [
       "<keras.callbacks.History at 0x174bce2db20>"
      ]
     },
     "execution_count": 6,
     "metadata": {},
     "output_type": "execute_result"
    }
   ],
   "source": [
    "#sequential is the basic model\n",
    "# model = tf.keras.models.Sequential()\n",
    "\n",
    "\n",
    "# we add hidden layers into our network. 128 is the number of neurons that we use\n",
    "# relu is a basic activation sigmoid function\n",
    "# softmax is used for probability distribution (used in final/output layer with 10 neurons)\n",
    "# we reduce 28x28 array to a flatten layer as it is multidimensional and hard to compute\n",
    "# model.add(tf.keras.layers.Flatten())\n",
    "# model.add(tf.keras.layers.Dense(128, activation = tf.nn.relu))\n",
    "# model.add(tf.keras.layers.Dense(128, activation = tf.nn.relu))\n",
    "# model.add(tf.keras.layers.Dense(4, activation = tf.nn.softmax))\n",
    "\n",
    "# parameters for training for the model\n",
    "\n",
    "# model.compile(optimizer = 'adam',\n",
    "#               loss = 'sparse_categorical_crossentropy',\n",
    "#               metrics = ['accuracy'])\n",
    "\n",
    "model = tf.keras.models.load_model(\n",
    "    'epic_num_reader.model', custom_objects=None, compile=True, options=None\n",
    ")\n",
    "\n",
    "print('x_train', x_train.shape)\n",
    "print('\\ny_train', y_train.shape)\n",
    "\n",
    "callback = tf.keras.callbacks.EarlyStopping(patience=4, restore_best_weights=True)\n",
    "model.fit(x_train, y_train, epochs=10,callbacks=[callback])"
   ]
  },
  {
   "cell_type": "code",
   "execution_count": 7,
   "id": "4859dcc6",
   "metadata": {
    "scrolled": false
   },
   "outputs": [
    {
     "name": "stdout",
     "output_type": "stream",
     "text": [
      "912/912 [==============================] - 1s 1ms/step - loss: 0.1345 - accuracy: 0.9450\n",
      "0.13451159000396729 0.9449626207351685\n"
     ]
    }
   ],
   "source": [
    "# calculate the validation loss\n",
    "val_loss, val_accuracy = model.evaluate(x_train, np.asarray(y_train))\n",
    "print(val_loss, val_accuracy)"
   ]
  },
  {
   "cell_type": "code",
   "execution_count": 8,
   "id": "47dae0f7",
   "metadata": {
    "scrolled": true
   },
   "outputs": [
    {
     "name": "stdout",
     "output_type": "stream",
     "text": [
      "INFO:tensorflow:Assets written to: epic_num_reader.model\\assets\n"
     ]
    }
   ],
   "source": [
    "model.save('epic_num_reader.model')"
   ]
  },
  {
   "cell_type": "code",
   "execution_count": 9,
   "id": "f78809d9",
   "metadata": {},
   "outputs": [],
   "source": [
    "def get_children(x, y, n, visited_list):\n",
    "    \"\"\"\n",
    "    This function is used to return children of a particular node\n",
    "    x: row value of current node\n",
    "    y: column value of current node\n",
    "    n: size of maze\n",
    "    gofn: g(n) value of current node\n",
    "    visited_list: list of nodes that are already visited\n",
    "    matrix: maze\n",
    "    agent_matrix: matrix of the agent that holds the information of updated environment\n",
    "    \"\"\"\n",
    "    allChildren = [(x+1,y),#down\n",
    "                   (x-1,y),#up\n",
    "                   (x,y+1),#right\n",
    "                   (x,y-1)]#left\n",
    "    if x+1 > n-1:\n",
    "        allChildren.remove((x+1,y))\n",
    "    if x-1 < 0:\n",
    "        allChildren.remove((x-1,y))\n",
    "    if y+1 > n-1:\n",
    "        allChildren.remove((x,y+1))\n",
    "    if y-1 < 0:\n",
    "        allChildren.remove((x,y-1))\n",
    "#     allChildren = [node for node in allChildren if node[:2] not in visited_list]\n",
    "\n",
    "    return allChildren"
   ]
  },
  {
   "cell_type": "code",
   "execution_count": 10,
   "id": "0fcff69c",
   "metadata": {},
   "outputs": [],
   "source": [
    "# next_move((0,0), np.asarray([[0.1947099 , 0.3240646,  0.27810824, 0.20311731]]))"
   ]
  },
  {
   "cell_type": "code",
   "execution_count": 11,
   "id": "45fe7bd4",
   "metadata": {},
   "outputs": [],
   "source": [
    "def populateMatrix(n,p):\n",
    "    \"\"\"\n",
    "    This function returns randomly populated maze\n",
    "    p: probabillity density of each cell\n",
    "    n: size of the maze\n",
    "    \"\"\"\n",
    "    global block_unblock_matrix\n",
    "    np_array = np.random.rand(n*n)\n",
    "    block = lambda x: 0 if x>=p else 1\n",
    "    vectorized_block = np.vectorize(block)\n",
    "    np_array = vectorized_block(np_array).reshape(n,n)\n",
    "    np_array[0,0]=0\n",
    "    np_array[n-1,n-1] =0\n",
    "    block_unblock_matrix = np.asmatrix(np_array)\n",
    "    \n",
    "#     block_unblock_matrix = [[0, 0, 0, 1, 0, 0, 0, 0, 0, 0, 0, 0, 1, 1, 1, 1, 0, 1, 0, 1, 1,\n",
    "#          1, 0, 1, 0, 1, 0, 0, 1, 1],\n",
    "#         [0, 1, 0, 0, 1, 0, 1, 1, 0, 0, 0, 1, 0, 0, 0, 1, 0, 0, 0, 1, 0,\n",
    "#          0, 0, 1, 0, 0, 0, 0, 0, 0],\n",
    "#         [1, 1, 0, 1, 0, 0, 0, 1, 0, 0, 0, 1, 0, 0, 0, 0, 0, 0, 1, 1, 0,\n",
    "#          0, 0, 1, 1, 0, 0, 1, 0, 0],\n",
    "#         [1, 0, 0, 1, 1, 0, 1, 0, 1, 0, 0, 0, 0, 0, 0, 1, 1, 0, 1, 0, 0,\n",
    "#          1, 0, 0, 1, 0, 1, 0, 0, 0],\n",
    "#         [0, 0, 0, 1, 1, 1, 0, 1, 1, 0, 0, 0, 0, 0, 0, 0, 0, 0, 1, 1, 1,\n",
    "#          0, 0, 0, 0, 0, 1, 1, 0, 0],\n",
    "#         [0, 0, 1, 0, 0, 0, 0, 0, 0, 0, 0, 0, 1, 0, 1, 0, 0, 0, 0, 0, 0,\n",
    "#          0, 0, 0, 1, 0, 0, 1, 0, 1],\n",
    "#         [1, 0, 1, 1, 0, 1, 0, 0, 0, 0, 0, 0, 0, 1, 0, 1, 0, 1, 0, 0, 0,\n",
    "#          0, 0, 0, 0, 0, 0, 1, 1, 0],\n",
    "#         [0, 0, 0, 0, 0, 0, 0, 1, 0, 0, 0, 0, 0, 0, 0, 1, 0, 1, 1, 1, 0,\n",
    "#          1, 0, 1, 0, 0, 0, 0, 1, 0],\n",
    "#         [0, 1, 0, 0, 1, 1, 0, 1, 0, 0, 1, 1, 0, 1, 0, 1, 0, 1, 1, 1, 0,\n",
    "#          0, 0, 0, 0, 0, 1, 1, 0, 0],\n",
    "#         [1, 0, 0, 0, 1, 0, 0, 0, 0, 0, 1, 0, 1, 0, 1, 0, 1, 0, 1, 0, 0,\n",
    "#          0, 1, 0, 0, 1, 0, 0, 1, 0],\n",
    "#         [0, 1, 1, 0, 1, 0, 0, 1, 0, 0, 0, 0, 0, 1, 0, 0, 0, 0, 0, 0, 1,\n",
    "#          0, 0, 0, 0, 0, 0, 0, 1, 1],\n",
    "#         [0, 1, 0, 1, 0, 1, 0, 0, 0, 1, 1, 0, 1, 1, 1, 0, 0, 0, 0, 1, 0,\n",
    "#          0, 1, 0, 0, 0, 0, 0, 1, 0],\n",
    "#         [1, 0, 0, 0, 0, 0, 0, 0, 1, 0, 1, 0, 1, 0, 1, 0, 0, 1, 0, 0, 0,\n",
    "#          0, 0, 0, 1, 0, 0, 0, 0, 1],\n",
    "#         [1, 1, 1, 1, 0, 1, 0, 0, 0, 0, 0, 0, 1, 1, 0, 0, 0, 1, 0, 0, 0,\n",
    "#          0, 0, 0, 0, 0, 0, 0, 0, 0],\n",
    "#         [1, 0, 0, 0, 0, 0, 0, 0, 1, 0, 0, 0, 1, 0, 0, 0, 0, 0, 0, 0, 1,\n",
    "#          0, 1, 1, 0, 1, 1, 1, 0, 1],\n",
    "#         [0, 0, 0, 1, 0, 0, 1, 0, 1, 0, 0, 0, 0, 0, 1, 0, 0, 1, 0, 1, 1,\n",
    "#          0, 0, 1, 1, 0, 1, 0, 0, 0],\n",
    "#         [1, 1, 0, 0, 0, 1, 0, 0, 0, 1, 1, 0, 0, 0, 0, 1, 0, 1, 0, 1, 0,\n",
    "#          0, 0, 0, 0, 0, 0, 0, 1, 0],\n",
    "#         [0, 0, 0, 0, 0, 1, 1, 0, 1, 1, 0, 0, 1, 1, 1, 0, 1, 1, 0, 1, 0,\n",
    "#          0, 0, 0, 0, 0, 0, 1, 1, 0],\n",
    "#         [0, 0, 0, 0, 1, 0, 0, 0, 1, 0, 0, 0, 1, 0, 0, 1, 0, 1, 1, 0, 1,\n",
    "#          0, 0, 0, 0, 1, 1, 1, 0, 0],\n",
    "#         [0, 1, 0, 0, 0, 0, 0, 0, 0, 0, 0, 1, 0, 0, 0, 0, 0, 1, 0, 1, 0,\n",
    "#          0, 0, 0, 0, 0, 0, 0, 1, 1],\n",
    "#         [1, 1, 1, 0, 0, 0, 0, 1, 0, 0, 1, 0, 0, 0, 0, 1, 1, 0, 0, 0, 0,\n",
    "#          0, 0, 1, 0, 0, 0, 0, 0, 0],\n",
    "#         [1, 0, 0, 1, 0, 0, 0, 0, 0, 0, 0, 1, 0, 1, 0, 1, 0, 0, 0, 1, 1,\n",
    "#          0, 1, 0, 0, 0, 1, 0, 0, 0],\n",
    "#         [1, 0, 0, 0, 0, 0, 0, 0, 0, 0, 0, 1, 1, 1, 0, 1, 0, 1, 1, 0, 0,\n",
    "#          0, 0, 0, 1, 0, 0, 0, 1, 0],\n",
    "#         [1, 0, 0, 1, 0, 0, 0, 0, 0, 0, 1, 0, 1, 0, 0, 1, 0, 1, 0, 0, 0,\n",
    "#          0, 0, 0, 1, 1, 0, 1, 1, 1],\n",
    "#         [1, 0, 1, 1, 1, 0, 0, 0, 1, 1, 1, 0, 1, 1, 1, 0, 0, 0, 1, 1, 1,\n",
    "#          0, 0, 0, 0, 0, 0, 0, 0, 0],\n",
    "#         [0, 1, 0, 0, 0, 0, 1, 0, 0, 1, 0, 1, 0, 0, 1, 0, 1, 1, 0, 0, 0,\n",
    "#          1, 0, 1, 0, 0, 0, 0, 0, 0],\n",
    "#         [0, 0, 1, 0, 0, 1, 0, 1, 0, 0, 0, 1, 0, 0, 0, 1, 1, 1, 0, 0, 0,\n",
    "#          0, 0, 0, 1, 0, 0, 0, 1, 0],\n",
    "#         [0, 1, 0, 0, 0, 0, 0, 0, 0, 0, 1, 0, 0, 1, 0, 0, 0, 0, 1, 0, 0,\n",
    "#          0, 0, 1, 0, 1, 0, 0, 0, 0],\n",
    "#         [0, 0, 0, 1, 0, 0, 0, 0, 0, 1, 1, 0, 0, 0, 1, 0, 0, 0, 0, 0, 0,\n",
    "#          0, 0, 0, 0, 0, 1, 0, 0, 0],\n",
    "#         [0, 0, 0, 1, 1, 0, 1, 0, 0, 0, 0, 0, 0, 1, 0, 0, 0, 0, 1, 0, 0,\n",
    "#          0, 0, 1, 1, 0, 1, 0, 0, 0]]\n",
    "\n",
    "    block_unblock_matrix = np.matrix(block_unblock_matrix)\n",
    "    plt.spy(block_unblock_matrix)\n",
    "    return block_unblock_matrix\n"
   ]
  },
  {
   "cell_type": "code",
   "execution_count": 20,
   "id": "5a817cea",
   "metadata": {},
   "outputs": [
    {
     "data": {
      "text/plain": [
       "<matplotlib.image.AxesImage at 0x174c1568ee0>"
      ]
     },
     "execution_count": 20,
     "metadata": {},
     "output_type": "execute_result"
    },
    {
     "data": {
      "image/png": "[encoded data removed]",
      "text/plain": [
       "<Figure size 432x288 with 1 Axes>"
      ]
     },
     "metadata": {
      "needs_background": "light"
     },
     "output_type": "display_data"
    }
   ],
   "source": [
    "maze_size = 30\n",
    "agent_grid_world = np.full((maze_size, maze_size),3)\n",
    "agent_grid_world = np.asmatrix(agent_grid_world)\n",
    "full_grid_world = populateMatrix(maze_size, 0.3)\n",
    "plt.spy(full_grid_world)"
   ]
  },
  {
   "cell_type": "code",
   "execution_count": 21,
   "id": "7d8baa3d",
   "metadata": {},
   "outputs": [],
   "source": [
    "def next_move(current_node, predictions, full_grid_world, visited_list, maze_size, trajectory, flag, agent_grid_world):\n",
    "    message = ''\n",
    "    print('current_node -- (next_move)', current_node)\n",
    "    indices = zip(np.where(predictions[0] == predictions[0].max()))\n",
    "\n",
    "#     print(predictions[0])\n",
    "    for row in indices:\n",
    "        if row[0][0] == 0:\n",
    "            message = 'up'\n",
    "            next_node = (current_node[0] - 1, current_node[1])\n",
    "        elif row[0][0] == 1:\n",
    "            message = 'down'\n",
    "            next_node = (current_node[0] + 1, current_node[1])\n",
    "        elif row[0][0] == 2:\n",
    "            message = 'left'\n",
    "            next_node = (current_node[0], current_node[1] - 1)\n",
    "        elif row[0][0] == 3:\n",
    "            message = 'right'\n",
    "            next_node = (current_node[0], current_node[1] + 1)\n",
    "    \n",
    "    try:\n",
    "        if agent_grid_world[next_node] == 2 or next_node[0] > maze_size-1 or next_node[1] > maze_size-1 or next_node in visited_list:\n",
    "            children = get_children(current_node[0], current_node[1], maze_size, visited_list)\n",
    "            i = random.randint(0,len(children)-1)\n",
    "            if (children[0], children[1]) == (current_node[0] - 1, current_node[1]):\n",
    "                message = 'up'\n",
    "            elif (children[0], children[1]) == (current_node[0] + 1, current_node[1]):\n",
    "                message = 'down'\n",
    "            elif (children[0], children[1]) == (current_node[0] - 1, current_node[1]):\n",
    "                message = 'left'\n",
    "            elif (children[0], children[1]) == (current_node[0] + 1, current_node[1]):\n",
    "                message = 'right'\n",
    "\n",
    "            return children[i], message\n",
    "    except Exception as err:\n",
    "#         print(\"entered blocked node\")\n",
    "        children = get_children(current_node[0], current_node[1], maze_size, visited_list)\n",
    "#         print('children', children)\n",
    "        i = random.randint(0,len(children)-1)\n",
    "    \n",
    "        if (children[0], children[1]) == (current_node[0] - 1, current_node[1]):\n",
    "                message = 'up'\n",
    "        elif (children[0], children[1]) == (current_node[0] + 1, current_node[1]):\n",
    "            message = 'down'\n",
    "        elif (children[0], children[1]) == (current_node[0] - 1, current_node[1]):\n",
    "            message = 'left'\n",
    "        elif (children[0], children[1]) == (current_node[0] + 1, current_node[1]):\n",
    "            message = 'right'\n",
    "\n",
    "        print('next_node out changed from:', next_node, 'to ', children[i])\n",
    "        return children[i], message\n",
    "    \n",
    "    print('next_node out::',next_node)\n",
    "    return next_node, message"
   ]
  },
  {
   "cell_type": "code",
   "execution_count": 22,
   "id": "2f14bb9d",
   "metadata": {},
   "outputs": [],
   "source": [
    "def get_neighbors(row, col, n):\n",
    "    dir = [[-1, -1], [-1, 0],[-1, 1], [0, -1], [0, 0],  [0, 1], [1, -1], [1, 0], [1, 1]]\n",
    "    friend = []\n",
    "    count = 0\n",
    "    for x, y in dir:\n",
    "        row_new = row + x\n",
    "        col_new = col + y\n",
    "        if (row_new>=0 and row_new<=(n-1)) and (col_new>=0 and col_new<=(n-1)):\n",
    "            count += 1\n",
    "            friend.append((row_new, col_new))\n",
    "    return count, friend"
   ]
  },
  {
   "cell_type": "code",
   "execution_count": 23,
   "id": "8c65f2c5",
   "metadata": {},
   "outputs": [],
   "source": [
    "def get_window(current_node, agent_grid_world, full_grid_world):\n",
    "    a = []\n",
    "    b = []\n",
    "    count, neighbors = get_neighbors(current_node[0],current_node[1], maze_size)\n",
    "\n",
    "    if len(neighbors) == 4:\n",
    "        if current_node == (0,0):\n",
    "            count, neighbors = get_neighbors(1,1, maze_size)\n",
    "        elif current_node == (0,maze_size-1):\n",
    "            count, neighbors = get_neighbors(1,maze_size-2, maze_size)\n",
    "        elif current_node == (maze_size-1,0):\n",
    "            count, neighbors = get_neighbors(maze_size-2, 1, maze_size)\n",
    "        elif current_node == (maze_size-1,maze_size-1):\n",
    "            count, neighbors = get_neighbors(maze_size-2,maze_size-2, maze_size)\n",
    "    elif len(neighbors) == 6:\n",
    "        if current_node[0] == 0:\n",
    "            count, neighbors = get_neighbors(current_node[0] + 1,current_node[1], maze_size)\n",
    "        elif current_node[0] == maze_size-1:\n",
    "            count, neighbors = get_neighbors(current_node[0] - 1,current_node[1], maze_size)\n",
    "        elif current_node[1] == 0:\n",
    "            count, neighbors = get_neighbors(current_node[0],current_node[1] + 1, maze_size)\n",
    "        elif current_node[1] == maze_size-1:\n",
    "            count, neighbors = get_neighbors(current_node[0],current_node[1] - 1, maze_size)\n",
    "    for i in neighbors:\n",
    "        a.append(agent_grid_world[i])\n",
    "        b.append(full_grid_world[i])\n",
    "    window = np.asarray(a).reshape(3,3)\n",
    "#     print('neighbors', neighbors)\n",
    "#     print(\"full grid:\", np.asarray(b).reshape(3,3))\n",
    "\n",
    "    return window"
   ]
  },
  {
   "cell_type": "code",
   "execution_count": 24,
   "id": "559aca53",
   "metadata": {
    "scrolled": true
   },
   "outputs": [
    {
     "name": "stdout",
     "output_type": "stream",
     "text": [
      "[[4 3 3]\n",
      " [3 3 3]\n",
      " [3 3 3]]\n",
      "free\n",
      "current_node -- (next_move) (0, 0)\n",
      "next_node out:: (1, 0)\n",
      "next_node out (1, 0)\n",
      "message down\n"
     ]
    },
    {
     "data": {
      "image/png": "[encoded data removed]",
      "text/plain": [
       "<Figure size 432x288 with 1 Axes>"
      ]
     },
     "metadata": {
      "needs_background": "light"
     },
     "output_type": "display_data"
    },
    {
     "name": "stdout",
     "output_type": "stream",
     "text": [
      "[[1 3 3]\n",
      " [4 3 3]\n",
      " [3 3 3]]\n",
      "free\n",
      "current_node -- (next_move) (1, 0)\n",
      "next_node out:: (2, 0)\n",
      "next_node out (2, 0)\n",
      "message down\n"
     ]
    },
    {
     "data": {
      "image/png": "[encoded data removed]",
      "text/plain": [
       "<Figure size 432x288 with 1 Axes>"
      ]
     },
     "metadata": {
      "needs_background": "light"
     },
     "output_type": "display_data"
    },
    {
     "name": "stdout",
     "output_type": "stream",
     "text": [
      "[[1 3 3]\n",
      " [4 3 3]\n",
      " [3 3 3]]\n",
      "free\n",
      "current_node -- (next_move) (2, 0)\n",
      "next_node out:: (3, 0)\n",
      "next_node out (3, 0)\n",
      "message down\n"
     ]
    },
    {
     "data": {
      "image/png": "[encoded data removed]",
      "text/plain": [
       "<Figure size 432x288 with 1 Axes>"
      ]
     },
     "metadata": {
      "needs_background": "light"
     },
     "output_type": "display_data"
    },
    {
     "name": "stdout",
     "output_type": "stream",
     "text": [
      "[[1 3 3]\n",
      " [4 3 3]\n",
      " [3 3 3]]\n",
      "free\n",
      "current_node -- (next_move) (3, 0)\n",
      "next_node out:: (4, 0)\n",
      "next_node out (4, 0)\n",
      "message down\n"
     ]
    },
    {
     "data": {
      "image/png": "[encoded data removed]",
      "text/plain": [
       "<Figure size 432x288 with 1 Axes>"
      ]
     },
     "metadata": {
      "needs_background": "light"
     },
     "output_type": "display_data"
    },
    {
     "name": "stdout",
     "output_type": "stream",
     "text": [
      "[[1 3 3]\n",
      " [4 3 3]\n",
      " [3 3 3]]\n",
      "free\n",
      "current_node -- (next_move) (4, 0)\n",
      "next_node out:: (5, 0)\n",
      "next_node out (5, 0)\n",
      "message down\n"
     ]
    },
    {
     "data": {
      "image/png": "[encoded data removed]",
      "text/plain": [
       "<Figure size 432x288 with 1 Axes>"
      ]
     },
     "metadata": {
      "needs_background": "light"
     },
     "output_type": "display_data"
    },
    {
     "name": "stdout",
     "output_type": "stream",
     "text": [
      "[[1 3 3]\n",
      " [4 3 3]\n",
      " [3 3 3]]\n",
      "blocked\n",
      "updated current ::::  (4, 0)\n"
     ]
    },
    {
     "data": {
      "image/png": "[encoded data removed]",
      "text/plain": [
       "<Figure size 432x288 with 1 Axes>"
      ]
     },
     "metadata": {
      "needs_background": "light"
     },
     "output_type": "display_data"
    },
    {
     "name": "stdout",
     "output_type": "stream",
     "text": [
      "[[1 3 3]\n",
      " [4 3 3]\n",
      " [2 3 3]]\n",
      "free\n",
      "current_node -- (next_move) (4, 0)\n",
      "next_node out (3, 0)\n",
      "message down\n"
     ]
    },
    {
     "data": {
      "image/png": "[encoded data removed]",
      "text/plain": [
       "<Figure size 432x288 with 1 Axes>"
      ]
     },
     "metadata": {
      "needs_background": "light"
     },
     "output_type": "display_data"
    },
    {
     "name": "stdout",
     "output_type": "stream",
     "text": [
      "[[1 3 3]\n",
      " [4 3 3]\n",
      " [1 3 3]]\n",
      "free\n",
      "current_node -- (next_move) (3, 0)\n",
      "next_node out:: (3, 1)\n",
      "next_node out (3, 1)\n",
      "message right\n"
     ]
    },
    {
     "data": {
      "image/png": "[encoded data removed]",
      "text/plain": [
       "<Figure size 432x288 with 1 Axes>"
      ]
     },
     "metadata": {
      "needs_background": "light"
     },
     "output_type": "display_data"
    },
    {
     "name": "stdout",
     "output_type": "stream",
     "text": [
      "[[1 3 3]\n",
      " [1 4 3]\n",
      " [1 3 3]]\n",
      "free\n",
      "current_node -- (next_move) (3, 1)\n",
      "next_node out:: (4, 1)\n",
      "next_node out (4, 1)\n",
      "message down\n"
     ]
    },
    {
     "data": {
      "image/png": "[encoded data removed]",
      "text/plain": [
       "<Figure size 432x288 with 1 Axes>"
      ]
     },
     "metadata": {
      "needs_background": "light"
     },
     "output_type": "display_data"
    },
    {
     "name": "stdout",
     "output_type": "stream",
     "text": [
      "[[1 1 3]\n",
      " [1 4 3]\n",
      " [2 3 3]]\n",
      "free\n",
      "current_node -- (next_move) (4, 1)\n",
      "next_node out:: (5, 1)\n",
      "next_node out (5, 1)\n",
      "message down\n"
     ]
    },
    {
     "data": {
      "image/png": "[encoded data removed]",
      "text/plain": [
       "<Figure size 432x288 with 1 Axes>"
      ]
     },
     "metadata": {
      "needs_background": "light"
     },
     "output_type": "display_data"
    },
    {
     "name": "stdout",
     "output_type": "stream",
     "text": [
      "[[1 1 3]\n",
      " [2 4 3]\n",
      " [3 3 3]]\n",
      "free\n",
      "current_node -- (next_move) (5, 1)\n",
      "next_node out:: (6, 1)\n",
      "next_node out (6, 1)\n",
      "message down\n"
     ]
    },
    {
     "data": {
      "image/png": "[encoded data removed]",
      "text/plain": [
       "<Figure size 432x288 with 1 Axes>"
      ]
     },
     "metadata": {
      "needs_background": "light"
     },
     "output_type": "display_data"
    },
    {
     "name": "stdout",
     "output_type": "stream",
     "text": [
      "[[2 1 3]\n",
      " [3 4 3]\n",
      " [3 3 3]]\n",
      "free\n",
      "current_node -- (next_move) (6, 1)\n",
      "next_node out:: (7, 1)\n",
      "next_node out (7, 1)\n",
      "message down\n"
     ]
    },
    {
     "data": {
      "image/png": "[encoded data removed]",
      "text/plain": [
       "<Figure size 432x288 with 1 Axes>"
      ]
     },
     "metadata": {
      "needs_background": "light"
     },
     "output_type": "display_data"
    },
    {
     "name": "stdout",
     "output_type": "stream",
     "text": [
      "[[3 1 3]\n",
      " [3 4 3]\n",
      " [3 3 3]]\n",
      "free\n",
      "current_node -- (next_move) (7, 1)\n",
      "next_node out:: (8, 1)\n",
      "next_node out (8, 1)\n",
      "message down\n"
     ]
    },
    {
     "data": {
      "image/png": "[encoded data removed]",
      "text/plain": [
       "<Figure size 432x288 with 1 Axes>"
      ]
     },
     "metadata": {
      "needs_background": "light"
     },
     "output_type": "display_data"
    },
    {
     "name": "stdout",
     "output_type": "stream",
     "text": [
      "[[3 1 3]\n",
      " [3 4 3]\n",
      " [3 3 3]]\n",
      "free\n",
      "current_node -- (next_move) (8, 1)\n",
      "next_node out:: (9, 1)\n",
      "next_node out (9, 1)\n",
      "message down\n"
     ]
    },
    {
     "data": {
      "image/png": "[encoded data removed]",
      "text/plain": [
       "<Figure size 432x288 with 1 Axes>"
      ]
     },
     "metadata": {
      "needs_background": "light"
     },
     "output_type": "display_data"
    },
    {
     "name": "stdout",
     "output_type": "stream",
     "text": [
      "[[3 1 3]\n",
      " [3 4 3]\n",
      " [3 3 3]]\n",
      "blocked\n",
      "updated current ::::  (8, 1)\n"
     ]
    },
    {
     "data": {
      "image/png": "[encoded data removed]",
      "text/plain": [
       "<Figure size 432x288 with 1 Axes>"
      ]
     },
     "metadata": {
      "needs_background": "light"
     },
     "output_type": "display_data"
    },
    {
     "name": "stdout",
     "output_type": "stream",
     "text": [
      "[[3 1 3]\n",
      " [3 4 3]\n",
      " [3 2 3]]\n",
      "free\n",
      "current_node -- (next_move) (8, 1)\n",
      "next_node out (7, 1)\n",
      "message down\n"
     ]
    },
    {
     "data": {
      "image/png": "[encoded data removed]",
      "text/plain": [
       "<Figure size 432x288 with 1 Axes>"
      ]
     },
     "metadata": {
      "needs_background": "light"
     },
     "output_type": "display_data"
    },
    {
     "name": "stdout",
     "output_type": "stream",
     "text": [
      "[[3 1 3]\n",
      " [3 4 3]\n",
      " [3 1 3]]\n",
      "free\n",
      "current_node -- (next_move) (7, 1)\n",
      "next_node out:: (7, 2)\n",
      "next_node out (7, 2)\n",
      "message right\n"
     ]
    },
    {
     "data": {
      "image/png": "[encoded data removed]",
      "text/plain": [
       "<Figure size 432x288 with 1 Axes>"
      ]
     },
     "metadata": {
      "needs_background": "light"
     },
     "output_type": "display_data"
    },
    {
     "name": "stdout",
     "output_type": "stream",
     "text": [
      "[[1 3 3]\n",
      " [1 4 3]\n",
      " [1 3 3]]\n",
      "blocked\n",
      "updated current ::::  (7, 1)\n"
     ]
    },
    {
     "data": {
      "image/png": "[encoded data removed]",
      "text/plain": [
       "<Figure size 432x288 with 1 Axes>"
      ]
     },
     "metadata": {
      "needs_background": "light"
     },
     "output_type": "display_data"
    },
    {
     "name": "stdout",
     "output_type": "stream",
     "text": [
      "[[3 1 3]\n",
      " [3 4 2]\n",
      " [3 1 3]]\n",
      "free\n",
      "current_node -- (next_move) (7, 1)\n",
      "next_node out (7, 2)\n",
      "message up\n"
     ]
    },
    {
     "data": {
      "image/png": "[encoded data removed]",
      "text/plain": [
       "<Figure size 432x288 with 1 Axes>"
      ]
     },
     "metadata": {
      "needs_background": "light"
     },
     "output_type": "display_data"
    },
    {
     "name": "stdout",
     "output_type": "stream",
     "text": [
      "[[1 3 3]\n",
      " [1 4 3]\n",
      " [1 3 3]]\n",
      "blocked\n",
      "updated current ::::  (7, 1)\n"
     ]
    },
    {
     "data": {
      "image/png": "[encoded data removed]",
      "text/plain": [
       "<Figure size 432x288 with 1 Axes>"
      ]
     },
     "metadata": {
      "needs_background": "light"
     },
     "output_type": "display_data"
    },
    {
     "name": "stdout",
     "output_type": "stream",
     "text": [
      "[[3 1 3]\n",
      " [3 4 2]\n",
      " [3 1 3]]\n",
      "free\n",
      "current_node -- (next_move) (7, 1)\n",
      "next_node out (8, 1)\n",
      "message up\n"
     ]
    },
    {
     "data": {
      "image/png": "[encoded data removed]",
      "text/plain": [
       "<Figure size 432x288 with 1 Axes>"
      ]
     },
     "metadata": {
      "needs_background": "light"
     },
     "output_type": "display_data"
    },
    {
     "name": "stdout",
     "output_type": "stream",
     "text": [
      "[[3 1 2]\n",
      " [3 4 3]\n",
      " [3 2 3]]\n",
      "free\n",
      "current_node -- (next_move) (8, 1)\n",
      "next_node out (8, 2)\n",
      "message down\n"
     ]
    },
    {
     "data": {
      "image/png": "[encoded data removed]",
      "text/plain": [
       "<Figure size 432x288 with 1 Axes>"
      ]
     },
     "metadata": {
      "needs_background": "light"
     },
     "output_type": "display_data"
    },
    {
     "name": "stdout",
     "output_type": "stream",
     "text": [
      "[[1 2 3]\n",
      " [1 4 3]\n",
      " [2 3 3]]\n",
      "free\n",
      "current_node -- (next_move) (8, 2)\n",
      "next_node out:: (9, 2)\n",
      "next_node out (9, 2)\n",
      "message down\n"
     ]
    },
    {
     "data": {
      "image/png": "[encoded data removed]",
      "text/plain": [
       "<Figure size 432x288 with 1 Axes>"
      ]
     },
     "metadata": {
      "needs_background": "light"
     },
     "output_type": "display_data"
    },
    {
     "name": "stdout",
     "output_type": "stream",
     "text": [
      "[[1 1 3]\n",
      " [2 4 3]\n",
      " [3 3 3]]\n",
      "free\n",
      "current_node -- (next_move) (9, 2)\n",
      "next_node out:: (10, 2)\n",
      "next_node out (10, 2)\n",
      "message down\n"
     ]
    },
    {
     "data": {
      "image/png": "[encoded data removed]",
      "text/plain": [
       "<Figure size 432x288 with 1 Axes>"
      ]
     },
     "metadata": {
      "needs_background": "light"
     },
     "output_type": "display_data"
    },
    {
     "name": "stdout",
     "output_type": "stream",
     "text": [
      "[[2 1 3]\n",
      " [3 4 3]\n",
      " [3 3 3]]\n",
      "free\n",
      "current_node -- (next_move) (10, 2)\n",
      "next_node out:: (11, 2)\n",
      "next_node out (11, 2)\n",
      "message down\n"
     ]
    },
    {
     "data": {
      "image/png": "[encoded data removed]",
      "text/plain": [
       "<Figure size 432x288 with 1 Axes>"
      ]
     },
     "metadata": {
      "needs_background": "light"
     },
     "output_type": "display_data"
    },
    {
     "name": "stdout",
     "output_type": "stream",
     "text": [
      "[[3 1 3]\n",
      " [3 4 3]\n",
      " [3 3 3]]\n",
      "free\n",
      "current_node -- (next_move) (11, 2)\n",
      "next_node out:: (12, 2)\n",
      "next_node out (12, 2)\n",
      "message down\n"
     ]
    },
    {
     "data": {
      "image/png": "[encoded data removed]",
      "text/plain": [
       "<Figure size 432x288 with 1 Axes>"
      ]
     },
     "metadata": {
      "needs_background": "light"
     },
     "output_type": "display_data"
    },
    {
     "name": "stdout",
     "output_type": "stream",
     "text": [
      "[[3 1 3]\n",
      " [3 4 3]\n",
      " [3 3 3]]\n",
      "free\n",
      "current_node -- (next_move) (12, 2)\n",
      "next_node out:: (13, 2)\n",
      "next_node out (13, 2)\n",
      "message down\n"
     ]
    },
    {
     "data": {
      "image/png": "[encoded data removed]",
      "text/plain": [
       "<Figure size 432x288 with 1 Axes>"
      ]
     },
     "metadata": {
      "needs_background": "light"
     },
     "output_type": "display_data"
    },
    {
     "name": "stdout",
     "output_type": "stream",
     "text": [
      "[[3 1 3]\n",
      " [3 4 3]\n",
      " [3 3 3]]\n",
      "blocked\n",
      "updated current ::::  (12, 2)\n"
     ]
    },
    {
     "data": {
      "image/png": "[encoded data removed]",
      "text/plain": [
       "<Figure size 432x288 with 1 Axes>"
      ]
     },
     "metadata": {
      "needs_background": "light"
     },
     "output_type": "display_data"
    },
    {
     "name": "stdout",
     "output_type": "stream",
     "text": [
      "[[3 1 3]\n",
      " [3 4 3]\n",
      " [3 2 3]]\n",
      "free\n",
      "current_node -- (next_move) (12, 2)\n",
      "next_node out (13, 2)\n",
      "message down\n"
     ]
    },
    {
     "data": {
      "image/png": "[encoded data removed]",
      "text/plain": [
       "<Figure size 432x288 with 1 Axes>"
      ]
     },
     "metadata": {
      "needs_background": "light"
     },
     "output_type": "display_data"
    },
    {
     "name": "stdout",
     "output_type": "stream",
     "text": [
      "[[3 1 3]\n",
      " [3 4 3]\n",
      " [3 3 3]]\n",
      "blocked\n",
      "updated current ::::  (12, 2)\n"
     ]
    },
    {
     "data": {
      "image/png": "[encoded data removed]",
      "text/plain": [
       "<Figure size 432x288 with 1 Axes>"
      ]
     },
     "metadata": {
      "needs_background": "light"
     },
     "output_type": "display_data"
    },
    {
     "name": "stdout",
     "output_type": "stream",
     "text": [
      "[[3 1 3]\n",
      " [3 4 3]\n",
      " [3 2 3]]\n",
      "free\n",
      "current_node -- (next_move) (12, 2)\n",
      "next_node out (12, 3)\n",
      "message down\n"
     ]
    },
    {
     "data": {
      "image/png": "[encoded data removed]",
      "text/plain": [
       "<Figure size 432x288 with 1 Axes>"
      ]
     },
     "metadata": {
      "needs_background": "light"
     },
     "output_type": "display_data"
    },
    {
     "name": "stdout",
     "output_type": "stream",
     "text": [
      "[[1 3 3]\n",
      " [1 4 3]\n",
      " [2 3 3]]\n",
      "blocked\n",
      "updated current ::::  (12, 2)\n"
     ]
    },
    {
     "data": {
      "image/png": "[encoded data removed]",
      "text/plain": [
       "<Figure size 432x288 with 1 Axes>"
      ]
     },
     "metadata": {
      "needs_background": "light"
     },
     "output_type": "display_data"
    },
    {
     "name": "stdout",
     "output_type": "stream",
     "text": [
      "[[3 1 3]\n",
      " [3 4 2]\n",
      " [3 2 3]]\n",
      "free\n",
      "current_node -- (next_move) (12, 2)\n",
      "next_node out (11, 2)\n",
      "message down\n"
     ]
    },
    {
     "data": {
      "image/png": "[encoded data removed]",
      "text/plain": [
       "<Figure size 432x288 with 1 Axes>"
      ]
     },
     "metadata": {
      "needs_background": "light"
     },
     "output_type": "display_data"
    },
    {
     "name": "stdout",
     "output_type": "stream",
     "text": [
      "[[3 1 3]\n",
      " [3 4 3]\n",
      " [3 1 2]]\n",
      "free\n",
      "current_node -- (next_move) (11, 2)\n",
      "next_node out:: (11, 3)\n",
      "next_node out (11, 3)\n",
      "message right\n"
     ]
    },
    {
     "data": {
      "image/png": "[encoded data removed]",
      "text/plain": [
       "<Figure size 432x288 with 1 Axes>"
      ]
     },
     "metadata": {
      "needs_background": "light"
     },
     "output_type": "display_data"
    },
    {
     "name": "stdout",
     "output_type": "stream",
     "text": [
      "[[1 3 3]\n",
      " [1 4 3]\n",
      " [1 2 3]]\n",
      "free\n",
      "current_node -- (next_move) (11, 3)\n",
      "next_node out:: (11, 4)\n",
      "next_node out (11, 4)\n",
      "message right\n"
     ]
    },
    {
     "data": {
      "image/png": "[encoded data removed]",
      "text/plain": [
       "<Figure size 432x288 with 1 Axes>"
      ]
     },
     "metadata": {
      "needs_background": "light"
     },
     "output_type": "display_data"
    },
    {
     "name": "stdout",
     "output_type": "stream",
     "text": [
      "[[3 3 3]\n",
      " [1 4 3]\n",
      " [2 3 3]]\n",
      "blocked\n",
      "updated current ::::  (11, 3)\n"
     ]
    },
    {
     "data": {
      "image/png": "[encoded data removed]",
      "text/plain": [
       "<Figure size 432x288 with 1 Axes>"
      ]
     },
     "metadata": {
      "needs_background": "light"
     },
     "output_type": "display_data"
    },
    {
     "name": "stdout",
     "output_type": "stream",
     "text": [
      "[[1 3 3]\n",
      " [1 4 2]\n",
      " [1 2 3]]\n",
      "free\n",
      "current_node -- (next_move) (11, 3)\n",
      "next_node out (11, 4)\n",
      "message right\n"
     ]
    },
    {
     "data": {
      "image/png": "[encoded data removed]",
      "text/plain": [
       "<Figure size 432x288 with 1 Axes>"
      ]
     },
     "metadata": {
      "needs_background": "light"
     },
     "output_type": "display_data"
    },
    {
     "name": "stdout",
     "output_type": "stream",
     "text": [
      "[[3 3 3]\n",
      " [1 4 3]\n",
      " [2 3 3]]\n",
      "blocked\n",
      "updated current ::::  (11, 3)\n"
     ]
    },
    {
     "data": {
      "image/png": "[encoded data removed]",
      "text/plain": [
       "<Figure size 432x288 with 1 Axes>"
      ]
     },
     "metadata": {
      "needs_background": "light"
     },
     "output_type": "display_data"
    },
    {
     "name": "stdout",
     "output_type": "stream",
     "text": [
      "[[1 3 3]\n",
      " [1 4 2]\n",
      " [1 2 3]]\n",
      "free\n",
      "current_node -- (next_move) (11, 3)\n",
      "next_node out (10, 3)\n",
      "message right\n"
     ]
    },
    {
     "data": {
      "image/png": "[encoded data removed]",
      "text/plain": [
       "<Figure size 432x288 with 1 Axes>"
      ]
     },
     "metadata": {
      "needs_background": "light"
     },
     "output_type": "display_data"
    },
    {
     "name": "stdout",
     "output_type": "stream",
     "text": [
      "[[1 3 3]\n",
      " [1 4 3]\n",
      " [1 1 2]]\n",
      "free\n",
      "current_node -- (next_move) (10, 3)\n",
      "next_node out:: (10, 4)\n",
      "next_node out (10, 4)\n",
      "message right\n"
     ]
    },
    {
     "data": {
      "image/png": "[encoded data removed]",
      "text/plain": [
       "<Figure size 432x288 with 1 Axes>"
      ]
     },
     "metadata": {
      "needs_background": "light"
     },
     "output_type": "display_data"
    },
    {
     "name": "stdout",
     "output_type": "stream",
     "text": [
      "[[3 3 3]\n",
      " [1 4 3]\n",
      " [1 2 3]]\n",
      "free\n",
      "current_node -- (next_move) (10, 4)\n",
      "next_node out:: (10, 5)\n",
      "next_node out (10, 5)\n",
      "message right\n"
     ]
    },
    {
     "data": {
      "image/png": "[encoded data removed]",
      "text/plain": [
       "<Figure size 432x288 with 1 Axes>"
      ]
     },
     "metadata": {
      "needs_background": "light"
     },
     "output_type": "display_data"
    },
    {
     "name": "stdout",
     "output_type": "stream",
     "text": [
      "[[3 3 3]\n",
      " [1 4 3]\n",
      " [2 3 3]]\n",
      "free\n",
      "current_node -- (next_move) (10, 5)\n",
      "next_node out:: (11, 5)\n",
      "next_node out (11, 5)\n",
      "message down\n"
     ]
    },
    {
     "data": {
      "image/png": "[encoded data removed]",
      "text/plain": [
       "<Figure size 432x288 with 1 Axes>"
      ]
     },
     "metadata": {
      "needs_background": "light"
     },
     "output_type": "display_data"
    },
    {
     "name": "stdout",
     "output_type": "stream",
     "text": [
      "[[1 1 3]\n",
      " [2 4 3]\n",
      " [3 3 3]]\n",
      "blocked\n",
      "updated current ::::  (10, 5)\n"
     ]
    },
    {
     "data": {
      "image/png": "[encoded data removed]",
      "text/plain": [
       "<Figure size 432x288 with 1 Axes>"
      ]
     },
     "metadata": {
      "needs_background": "light"
     },
     "output_type": "display_data"
    },
    {
     "name": "stdout",
     "output_type": "stream",
     "text": [
      "[[3 3 3]\n",
      " [1 4 3]\n",
      " [2 2 3]]\n",
      "free\n",
      "current_node -- (next_move) (10, 5)\n",
      "next_node out (10, 6)\n",
      "message down\n"
     ]
    },
    {
     "data": {
      "image/png": "[encoded data removed]",
      "text/plain": [
       "<Figure size 432x288 with 1 Axes>"
      ]
     },
     "metadata": {
      "needs_background": "light"
     },
     "output_type": "display_data"
    },
    {
     "name": "stdout",
     "output_type": "stream",
     "text": [
      "[[3 3 3]\n",
      " [1 4 3]\n",
      " [2 3 3]]\n",
      "free\n",
      "current_node -- (next_move) (10, 6)\n",
      "next_node out:: (11, 6)\n",
      "next_node out (11, 6)\n",
      "message down\n"
     ]
    },
    {
     "data": {
      "image/png": "[encoded data removed]",
      "text/plain": [
       "<Figure size 432x288 with 1 Axes>"
      ]
     },
     "metadata": {
      "needs_background": "light"
     },
     "output_type": "display_data"
    },
    {
     "name": "stdout",
     "output_type": "stream",
     "text": [
      "[[1 1 3]\n",
      " [2 4 3]\n",
      " [3 3 3]]\n",
      "blocked\n",
      "updated current ::::  (10, 6)\n"
     ]
    },
    {
     "data": {
      "image/png": "[encoded data removed]",
      "text/plain": [
       "<Figure size 432x288 with 1 Axes>"
      ]
     },
     "metadata": {
      "needs_background": "light"
     },
     "output_type": "display_data"
    },
    {
     "name": "stdout",
     "output_type": "stream",
     "text": [
      "[[3 3 3]\n",
      " [1 4 3]\n",
      " [2 2 3]]\n",
      "free\n",
      "current_node -- (next_move) (10, 6)\n",
      "next_node out (11, 6)\n",
      "message down\n"
     ]
    },
    {
     "data": {
      "image/png": "[encoded data removed]",
      "text/plain": [
       "<Figure size 432x288 with 1 Axes>"
      ]
     },
     "metadata": {
      "needs_background": "light"
     },
     "output_type": "display_data"
    },
    {
     "name": "stdout",
     "output_type": "stream",
     "text": [
      "[[1 1 3]\n",
      " [2 4 3]\n",
      " [3 3 3]]\n",
      "blocked\n",
      "updated current ::::  (10, 6)\n"
     ]
    },
    {
     "data": {
      "image/png": "[encoded data removed]",
      "text/plain": [
       "<Figure size 432x288 with 1 Axes>"
      ]
     },
     "metadata": {
      "needs_background": "light"
     },
     "output_type": "display_data"
    },
    {
     "name": "stdout",
     "output_type": "stream",
     "text": [
      "[[3 3 3]\n",
      " [1 4 3]\n",
      " [2 2 3]]\n",
      "free\n",
      "current_node -- (next_move) (10, 6)\n",
      "next_node out (10, 7)\n",
      "message down\n"
     ]
    },
    {
     "data": {
      "image/png": "[encoded data removed]",
      "text/plain": [
       "<Figure size 432x288 with 1 Axes>"
      ]
     },
     "metadata": {
      "needs_background": "light"
     },
     "output_type": "display_data"
    },
    {
     "name": "stdout",
     "output_type": "stream",
     "text": [
      "[[3 3 3]\n",
      " [1 4 3]\n",
      " [2 3 3]]\n",
      "free\n",
      "current_node -- (next_move) (10, 7)\n",
      "next_node out:: (11, 7)\n",
      "next_node out (11, 7)\n",
      "message down\n"
     ]
    },
    {
     "data": {
      "image/png": "[encoded data removed]",
      "text/plain": [
       "<Figure size 432x288 with 1 Axes>"
      ]
     },
     "metadata": {
      "needs_background": "light"
     },
     "output_type": "display_data"
    },
    {
     "name": "stdout",
     "output_type": "stream",
     "text": [
      "[[1 1 3]\n",
      " [2 4 3]\n",
      " [3 3 3]]\n",
      "free\n",
      "current_node -- (next_move) (11, 7)\n",
      "next_node out:: (12, 7)\n",
      "next_node out (12, 7)\n",
      "message down\n"
     ]
    },
    {
     "data": {
      "image/png": "[encoded data removed]",
      "text/plain": [
       "<Figure size 432x288 with 1 Axes>"
      ]
     },
     "metadata": {
      "needs_background": "light"
     },
     "output_type": "display_data"
    },
    {
     "name": "stdout",
     "output_type": "stream",
     "text": [
      "[[2 1 3]\n",
      " [3 4 3]\n",
      " [3 3 3]]\n",
      "free\n",
      "current_node -- (next_move) (12, 7)\n",
      "next_node out:: (13, 7)\n",
      "next_node out (13, 7)\n",
      "message down\n"
     ]
    },
    {
     "data": {
      "image/png": "[encoded data removed]",
      "text/plain": [
       "<Figure size 432x288 with 1 Axes>"
      ]
     },
     "metadata": {
      "needs_background": "light"
     },
     "output_type": "display_data"
    },
    {
     "name": "stdout",
     "output_type": "stream",
     "text": [
      "[[3 1 3]\n",
      " [3 4 3]\n",
      " [3 3 3]]\n",
      "blocked\n",
      "updated current ::::  (12, 7)\n"
     ]
    },
    {
     "data": {
      "image/png": "[encoded data removed]",
      "text/plain": [
       "<Figure size 432x288 with 1 Axes>"
      ]
     },
     "metadata": {
      "needs_background": "light"
     },
     "output_type": "display_data"
    },
    {
     "name": "stdout",
     "output_type": "stream",
     "text": [
      "[[2 1 3]\n",
      " [3 4 3]\n",
      " [3 2 3]]\n",
      "free\n",
      "current_node -- (next_move) (12, 7)\n",
      "next_node out (12, 6)\n",
      "message down\n"
     ]
    },
    {
     "data": {
      "image/png": "[encoded data removed]",
      "text/plain": [
       "<Figure size 432x288 with 1 Axes>"
      ]
     },
     "metadata": {
      "needs_background": "light"
     },
     "output_type": "display_data"
    },
    {
     "name": "stdout",
     "output_type": "stream",
     "text": [
      "[[2 2 1]\n",
      " [3 4 1]\n",
      " [3 3 2]]\n",
      "free\n",
      "current_node -- (next_move) (12, 6)\n",
      "next_node out:: (13, 6)\n",
      "next_node out (13, 6)\n",
      "message down\n"
     ]
    },
    {
     "data": {
      "image/png": "[encoded data removed]",
      "text/plain": [
       "<Figure size 432x288 with 1 Axes>"
      ]
     },
     "metadata": {
      "needs_background": "light"
     },
     "output_type": "display_data"
    },
    {
     "name": "stdout",
     "output_type": "stream",
     "text": [
      "[[3 1 1]\n",
      " [3 4 2]\n",
      " [3 3 3]]\n",
      "free\n",
      "current_node -- (next_move) (13, 6)\n",
      "next_node out:: (14, 6)\n",
      "next_node out (14, 6)\n",
      "message down\n"
     ]
    },
    {
     "data": {
      "image/png": "[encoded data removed]",
      "text/plain": [
       "<Figure size 432x288 with 1 Axes>"
      ]
     },
     "metadata": {
      "needs_background": "light"
     },
     "output_type": "display_data"
    },
    {
     "name": "stdout",
     "output_type": "stream",
     "text": [
      "[[3 1 2]\n",
      " [3 4 3]\n",
      " [3 3 3]]\n",
      "free\n",
      "current_node -- (next_move) (14, 6)\n",
      "next_node out:: (15, 6)\n",
      "next_node out (15, 6)\n",
      "message down\n"
     ]
    },
    {
     "data": {
      "image/png": "[encoded data removed]",
      "text/plain": [
       "<Figure size 432x288 with 1 Axes>"
      ]
     },
     "metadata": {
      "needs_background": "light"
     },
     "output_type": "display_data"
    },
    {
     "name": "stdout",
     "output_type": "stream",
     "text": [
      "[[3 1 3]\n",
      " [3 4 3]\n",
      " [3 3 3]]\n",
      "free\n",
      "current_node -- (next_move) (15, 6)\n",
      "next_node out:: (16, 6)\n",
      "next_node out (16, 6)\n",
      "message down\n"
     ]
    },
    {
     "data": {
      "image/png": "[encoded data removed]",
      "text/plain": [
       "<Figure size 432x288 with 1 Axes>"
      ]
     },
     "metadata": {
      "needs_background": "light"
     },
     "output_type": "display_data"
    },
    {
     "name": "stdout",
     "output_type": "stream",
     "text": [
      "[[3 1 3]\n",
      " [3 4 3]\n",
      " [3 3 3]]\n",
      "free\n",
      "current_node -- (next_move) (16, 6)\n",
      "next_node out:: (17, 6)\n",
      "next_node out (17, 6)\n",
      "message down\n"
     ]
    },
    {
     "data": {
      "image/png": "[encoded data removed]",
      "text/plain": [
       "<Figure size 432x288 with 1 Axes>"
      ]
     },
     "metadata": {
      "needs_background": "light"
     },
     "output_type": "display_data"
    },
    {
     "name": "stdout",
     "output_type": "stream",
     "text": [
      "[[3 1 3]\n",
      " [3 4 3]\n",
      " [3 3 3]]\n",
      "blocked\n",
      "updated current ::::  (16, 6)\n"
     ]
    },
    {
     "data": {
      "image/png": "[encoded data removed]",
      "text/plain": [
       "<Figure size 432x288 with 1 Axes>"
      ]
     },
     "metadata": {
      "needs_background": "light"
     },
     "output_type": "display_data"
    },
    {
     "name": "stdout",
     "output_type": "stream",
     "text": [
      "[[3 1 3]\n",
      " [3 4 3]\n",
      " [3 2 3]]\n",
      "free\n",
      "current_node -- (next_move) (16, 6)\n",
      "next_node out (16, 7)\n",
      "message down\n"
     ]
    },
    {
     "data": {
      "image/png": "[encoded data removed]",
      "text/plain": [
       "<Figure size 432x288 with 1 Axes>"
      ]
     },
     "metadata": {
      "needs_background": "light"
     },
     "output_type": "display_data"
    },
    {
     "name": "stdout",
     "output_type": "stream",
     "text": [
      "[[1 3 3]\n",
      " [1 4 3]\n",
      " [2 3 3]]\n",
      "blocked\n",
      "updated current ::::  (16, 6)\n"
     ]
    },
    {
     "data": {
      "image/png": "[encoded data removed]",
      "text/plain": [
       "<Figure size 432x288 with 1 Axes>"
      ]
     },
     "metadata": {
      "needs_background": "light"
     },
     "output_type": "display_data"
    },
    {
     "name": "stdout",
     "output_type": "stream",
     "text": [
      "[[3 1 3]\n",
      " [3 4 2]\n",
      " [3 2 3]]\n",
      "free\n",
      "current_node -- (next_move) (16, 6)\n",
      "next_node out (15, 6)\n",
      "message down\n"
     ]
    },
    {
     "data": {
      "image/png": "[encoded data removed]",
      "text/plain": [
       "<Figure size 432x288 with 1 Axes>"
      ]
     },
     "metadata": {
      "needs_background": "light"
     },
     "output_type": "display_data"
    },
    {
     "name": "stdout",
     "output_type": "stream",
     "text": [
      "[[3 1 3]\n",
      " [3 4 3]\n",
      " [3 1 2]]\n",
      "free\n",
      "current_node -- (next_move) (15, 6)\n",
      "next_node out:: (15, 7)\n",
      "next_node out (15, 7)\n",
      "message right\n"
     ]
    },
    {
     "data": {
      "image/png": "[encoded data removed]",
      "text/plain": [
       "<Figure size 432x288 with 1 Axes>"
      ]
     },
     "metadata": {
      "needs_background": "light"
     },
     "output_type": "display_data"
    },
    {
     "name": "stdout",
     "output_type": "stream",
     "text": [
      "[[1 3 3]\n",
      " [1 4 3]\n",
      " [1 2 3]]\n",
      "free\n",
      "current_node -- (next_move) (15, 7)\n",
      "next_node out:: (15, 8)\n",
      "next_node out (15, 8)\n",
      "message right\n"
     ]
    },
    {
     "data": {
      "image/png": "[encoded data removed]",
      "text/plain": [
       "<Figure size 432x288 with 1 Axes>"
      ]
     },
     "metadata": {
      "needs_background": "light"
     },
     "output_type": "display_data"
    },
    {
     "name": "stdout",
     "output_type": "stream",
     "text": [
      "[[3 3 3]\n",
      " [1 4 3]\n",
      " [2 3 3]]\n",
      "free\n",
      "current_node -- (next_move) (15, 8)\n",
      "next_node out:: (16, 8)\n",
      "next_node out (16, 8)\n",
      "message down\n"
     ]
    },
    {
     "data": {
      "image/png": "[encoded data removed]",
      "text/plain": [
       "<Figure size 432x288 with 1 Axes>"
      ]
     },
     "metadata": {
      "needs_background": "light"
     },
     "output_type": "display_data"
    },
    {
     "name": "stdout",
     "output_type": "stream",
     "text": [
      "[[1 1 3]\n",
      " [2 4 3]\n",
      " [3 3 3]]\n",
      "free\n",
      "current_node -- (next_move) (16, 8)\n",
      "next_node out:: (17, 8)\n",
      "next_node out (17, 8)\n",
      "message down\n"
     ]
    },
    {
     "data": {
      "image/png": "[encoded data removed]",
      "text/plain": [
       "<Figure size 432x288 with 1 Axes>"
      ]
     },
     "metadata": {
      "needs_background": "light"
     },
     "output_type": "display_data"
    },
    {
     "name": "stdout",
     "output_type": "stream",
     "text": [
      "[[2 1 3]\n",
      " [3 4 3]\n",
      " [3 3 3]]\n",
      "free\n",
      "current_node -- (next_move) (17, 8)\n",
      "next_node out:: (18, 8)\n",
      "next_node out (18, 8)\n",
      "message down\n"
     ]
    },
    {
     "data": {
      "image/png": "[encoded data removed]",
      "text/plain": [
       "<Figure size 432x288 with 1 Axes>"
      ]
     },
     "metadata": {
      "needs_background": "light"
     },
     "output_type": "display_data"
    },
    {
     "name": "stdout",
     "output_type": "stream",
     "text": [
      "[[3 1 3]\n",
      " [3 4 3]\n",
      " [3 3 3]]\n",
      "blocked\n",
      "updated current ::::  (17, 8)\n"
     ]
    },
    {
     "data": {
      "image/png": "[encoded data removed]",
      "text/plain": [
       "<Figure size 432x288 with 1 Axes>"
      ]
     },
     "metadata": {
      "needs_background": "light"
     },
     "output_type": "display_data"
    },
    {
     "name": "stdout",
     "output_type": "stream",
     "text": [
      "[[2 1 3]\n",
      " [3 4 3]\n",
      " [3 2 3]]\n",
      "free\n",
      "current_node -- (next_move) (17, 8)\n",
      "next_node out (17, 9)\n",
      "message down\n"
     ]
    },
    {
     "data": {
      "image/png": "[encoded data removed]",
      "text/plain": [
       "<Figure size 432x288 with 1 Axes>"
      ]
     },
     "metadata": {
      "needs_background": "light"
     },
     "output_type": "display_data"
    },
    {
     "name": "stdout",
     "output_type": "stream",
     "text": [
      "[[1 3 3]\n",
      " [1 4 3]\n",
      " [2 3 3]]\n",
      "free\n",
      "current_node -- (next_move) (17, 9)\n",
      "next_node out:: (18, 9)\n",
      "next_node out (18, 9)\n",
      "message down\n"
     ]
    },
    {
     "data": {
      "image/png": "[encoded data removed]",
      "text/plain": [
       "<Figure size 432x288 with 1 Axes>"
      ]
     },
     "metadata": {
      "needs_background": "light"
     },
     "output_type": "display_data"
    },
    {
     "name": "stdout",
     "output_type": "stream",
     "text": [
      "[[1 1 3]\n",
      " [2 4 3]\n",
      " [3 3 3]]\n",
      "free\n",
      "current_node -- (next_move) (18, 9)\n",
      "next_node out:: (19, 9)\n",
      "next_node out (19, 9)\n",
      "message down\n"
     ]
    },
    {
     "data": {
      "image/png": "[encoded data removed]",
      "text/plain": [
       "<Figure size 432x288 with 1 Axes>"
      ]
     },
     "metadata": {
      "needs_background": "light"
     },
     "output_type": "display_data"
    },
    {
     "name": "stdout",
     "output_type": "stream",
     "text": [
      "[[2 1 3]\n",
      " [3 4 3]\n",
      " [3 3 3]]\n",
      "free\n",
      "current_node -- (next_move) (19, 9)\n",
      "next_node out:: (20, 9)\n",
      "next_node out (20, 9)\n",
      "message down\n"
     ]
    },
    {
     "data": {
      "image/png": "[encoded data removed]",
      "text/plain": [
       "<Figure size 432x288 with 1 Axes>"
      ]
     },
     "metadata": {
      "needs_background": "light"
     },
     "output_type": "display_data"
    },
    {
     "name": "stdout",
     "output_type": "stream",
     "text": [
      "[[3 1 3]\n",
      " [3 4 3]\n",
      " [3 3 3]]\n",
      "free\n",
      "current_node -- (next_move) (20, 9)\n",
      "next_node out:: (21, 9)\n",
      "next_node out (21, 9)\n",
      "message down\n"
     ]
    },
    {
     "data": {
      "image/png": "[encoded data removed]",
      "text/plain": [
       "<Figure size 432x288 with 1 Axes>"
      ]
     },
     "metadata": {
      "needs_background": "light"
     },
     "output_type": "display_data"
    },
    {
     "name": "stdout",
     "output_type": "stream",
     "text": [
      "[[3 1 3]\n",
      " [3 4 3]\n",
      " [3 3 3]]\n",
      "free\n",
      "current_node -- (next_move) (21, 9)\n",
      "next_node out:: (22, 9)\n",
      "next_node out (22, 9)\n",
      "message down\n"
     ]
    },
    {
     "data": {
      "image/png": "[encoded data removed]",
      "text/plain": [
       "<Figure size 432x288 with 1 Axes>"
      ]
     },
     "metadata": {
      "needs_background": "light"
     },
     "output_type": "display_data"
    },
    {
     "name": "stdout",
     "output_type": "stream",
     "text": [
      "[[3 1 3]\n",
      " [3 4 3]\n",
      " [3 3 3]]\n",
      "blocked\n",
      "updated current ::::  (21, 9)\n"
     ]
    },
    {
     "data": {
      "image/png": "[encoded data removed]",
      "text/plain": [
       "<Figure size 432x288 with 1 Axes>"
      ]
     },
     "metadata": {
      "needs_background": "light"
     },
     "output_type": "display_data"
    },
    {
     "name": "stdout",
     "output_type": "stream",
     "text": [
      "[[3 1 3]\n",
      " [3 4 3]\n",
      " [3 2 3]]\n",
      "free\n",
      "current_node -- (next_move) (21, 9)\n",
      "next_node out (22, 9)\n",
      "message down\n"
     ]
    },
    {
     "data": {
      "image/png": "[encoded data removed]",
      "text/plain": [
       "<Figure size 432x288 with 1 Axes>"
      ]
     },
     "metadata": {
      "needs_background": "light"
     },
     "output_type": "display_data"
    },
    {
     "name": "stdout",
     "output_type": "stream",
     "text": [
      "[[3 1 3]\n",
      " [3 4 3]\n",
      " [3 3 3]]\n",
      "blocked\n",
      "updated current ::::  (21, 9)\n"
     ]
    },
    {
     "data": {
      "image/png": "[encoded data removed]",
      "text/plain": [
       "<Figure size 432x288 with 1 Axes>"
      ]
     },
     "metadata": {
      "needs_background": "light"
     },
     "output_type": "display_data"
    },
    {
     "name": "stdout",
     "output_type": "stream",
     "text": [
      "[[3 1 3]\n",
      " [3 4 3]\n",
      " [3 2 3]]\n",
      "free\n",
      "current_node -- (next_move) (21, 9)\n",
      "next_node out (21, 10)\n",
      "message down\n"
     ]
    },
    {
     "data": {
      "image/png": "[encoded data removed]",
      "text/plain": [
       "<Figure size 432x288 with 1 Axes>"
      ]
     },
     "metadata": {
      "needs_background": "light"
     },
     "output_type": "display_data"
    },
    {
     "name": "stdout",
     "output_type": "stream",
     "text": [
      "[[1 3 3]\n",
      " [1 4 3]\n",
      " [2 3 3]]\n",
      "free\n",
      "current_node -- (next_move) (21, 10)\n",
      "next_node out:: (22, 10)\n",
      "next_node out (22, 10)\n",
      "message down\n"
     ]
    },
    {
     "data": {
      "image/png": "[encoded data removed]",
      "text/plain": [
       "<Figure size 432x288 with 1 Axes>"
      ]
     },
     "metadata": {
      "needs_background": "light"
     },
     "output_type": "display_data"
    },
    {
     "name": "stdout",
     "output_type": "stream",
     "text": [
      "[[1 1 3]\n",
      " [2 4 3]\n",
      " [3 3 3]]\n",
      "free\n",
      "current_node -- (next_move) (22, 10)\n",
      "next_node out:: (23, 10)\n",
      "next_node out (23, 10)\n",
      "message down\n"
     ]
    },
    {
     "data": {
      "image/png": "[encoded data removed]",
      "text/plain": [
       "<Figure size 432x288 with 1 Axes>"
      ]
     },
     "metadata": {
      "needs_background": "light"
     },
     "output_type": "display_data"
    },
    {
     "name": "stdout",
     "output_type": "stream",
     "text": [
      "[[2 1 3]\n",
      " [3 4 3]\n",
      " [3 3 3]]\n",
      "free\n",
      "current_node -- (next_move) (23, 10)\n",
      "next_node out:: (24, 10)\n",
      "next_node out (24, 10)\n",
      "message down\n"
     ]
    },
    {
     "data": {
      "image/png": "[encoded data removed]",
      "text/plain": [
       "<Figure size 432x288 with 1 Axes>"
      ]
     },
     "metadata": {
      "needs_background": "light"
     },
     "output_type": "display_data"
    },
    {
     "name": "stdout",
     "output_type": "stream",
     "text": [
      "[[3 1 3]\n",
      " [3 4 3]\n",
      " [3 3 3]]\n",
      "free\n",
      "current_node -- (next_move) (24, 10)\n",
      "next_node out:: (25, 10)\n",
      "next_node out (25, 10)\n",
      "message down\n"
     ]
    },
    {
     "data": {
      "image/png": "[encoded data removed]",
      "text/plain": [
       "<Figure size 432x288 with 1 Axes>"
      ]
     },
     "metadata": {
      "needs_background": "light"
     },
     "output_type": "display_data"
    },
    {
     "name": "stdout",
     "output_type": "stream",
     "text": [
      "[[3 1 3]\n",
      " [3 4 3]\n",
      " [3 3 3]]\n",
      "free\n",
      "current_node -- (next_move) (25, 10)\n",
      "next_node out:: (26, 10)\n",
      "next_node out (26, 10)\n",
      "message down\n"
     ]
    },
    {
     "data": {
      "image/png": "[encoded data removed]",
      "text/plain": [
       "<Figure size 432x288 with 1 Axes>"
      ]
     },
     "metadata": {
      "needs_background": "light"
     },
     "output_type": "display_data"
    },
    {
     "name": "stdout",
     "output_type": "stream",
     "text": [
      "[[3 1 3]\n",
      " [3 4 3]\n",
      " [3 3 3]]\n",
      "free\n",
      "current_node -- (next_move) (26, 10)\n",
      "next_node out:: (27, 10)\n",
      "next_node out (27, 10)\n",
      "message down\n"
     ]
    },
    {
     "data": {
      "image/png": "[encoded data removed]",
      "text/plain": [
       "<Figure size 432x288 with 1 Axes>"
      ]
     },
     "metadata": {
      "needs_background": "light"
     },
     "output_type": "display_data"
    },
    {
     "name": "stdout",
     "output_type": "stream",
     "text": [
      "[[3 1 3]\n",
      " [3 4 3]\n",
      " [3 3 3]]\n",
      "free\n",
      "current_node -- (next_move) (27, 10)\n",
      "next_node out:: (28, 10)\n",
      "next_node out (28, 10)\n",
      "message down\n"
     ]
    },
    {
     "data": {
      "image/png": "[encoded data removed]",
      "text/plain": [
       "<Figure size 432x288 with 1 Axes>"
      ]
     },
     "metadata": {
      "needs_background": "light"
     },
     "output_type": "display_data"
    },
    {
     "name": "stdout",
     "output_type": "stream",
     "text": [
      "[[3 1 3]\n",
      " [3 4 3]\n",
      " [3 3 3]]\n",
      "free\n",
      "current_node -- (next_move) (28, 10)\n",
      "next_node out:: (29, 10)\n",
      "next_node out (29, 10)\n",
      "message down\n"
     ]
    },
    {
     "data": {
      "image/png": "[encoded data removed]",
      "text/plain": [
       "<Figure size 432x288 with 1 Axes>"
      ]
     },
     "metadata": {
      "needs_background": "light"
     },
     "output_type": "display_data"
    },
    {
     "name": "stdout",
     "output_type": "stream",
     "text": [
      "[[3 1 3]\n",
      " [3 1 3]\n",
      " [3 4 3]]\n",
      "free\n",
      "current_node -- (next_move) (29, 10)\n",
      "next_node out changed from: (30, 10) to  (28, 10)\n",
      "next_node out (28, 10)\n",
      "message down\n"
     ]
    },
    {
     "data": {
      "image/png": "[encoded data removed]",
      "text/plain": [
       "<Figure size 432x288 with 1 Axes>"
      ]
     },
     "metadata": {
      "needs_background": "light"
     },
     "output_type": "display_data"
    },
    {
     "name": "stdout",
     "output_type": "stream",
     "text": [
      "[[3 1 3]\n",
      " [3 4 3]\n",
      " [3 1 3]]\n",
      "free\n",
      "current_node -- (next_move) (28, 10)\n",
      "next_node out:: (28, 11)\n",
      "next_node out (28, 11)\n",
      "message right\n"
     ]
    },
    {
     "data": {
      "image/png": "[encoded data removed]",
      "text/plain": [
       "<Figure size 432x288 with 1 Axes>"
      ]
     },
     "metadata": {
      "needs_background": "light"
     },
     "output_type": "display_data"
    },
    {
     "name": "stdout",
     "output_type": "stream",
     "text": [
      "[[1 3 3]\n",
      " [1 4 3]\n",
      " [1 3 3]]\n",
      "free\n",
      "current_node -- (next_move) (28, 11)\n",
      "next_node out:: (29, 11)\n",
      "next_node out (29, 11)\n",
      "message down\n"
     ]
    },
    {
     "data": {
      "image/png": "[encoded data removed]",
      "text/plain": [
       "<Figure size 432x288 with 1 Axes>"
      ]
     },
     "metadata": {
      "needs_background": "light"
     },
     "output_type": "display_data"
    },
    {
     "name": "stdout",
     "output_type": "stream",
     "text": [
      "[[1 3 3]\n",
      " [1 1 3]\n",
      " [1 4 3]]\n",
      "free\n",
      "current_node -- (next_move) (29, 11)\n",
      "next_node out:: (29, 12)\n",
      "next_node out (29, 12)\n",
      "message right\n"
     ]
    },
    {
     "data": {
      "image/png": "[encoded data removed]",
      "text/plain": [
       "<Figure size 432x288 with 1 Axes>"
      ]
     },
     "metadata": {
      "needs_background": "light"
     },
     "output_type": "display_data"
    },
    {
     "name": "stdout",
     "output_type": "stream",
     "text": [
      "[[3 3 3]\n",
      " [1 3 3]\n",
      " [1 4 3]]\n",
      "free\n",
      "current_node -- (next_move) (29, 12)\n",
      "next_node out:: (29, 13)\n",
      "next_node out (29, 13)\n",
      "message right\n"
     ]
    },
    {
     "data": {
      "image/png": "[encoded data removed]",
      "text/plain": [
       "<Figure size 432x288 with 1 Axes>"
      ]
     },
     "metadata": {
      "needs_background": "light"
     },
     "output_type": "display_data"
    },
    {
     "name": "stdout",
     "output_type": "stream",
     "text": [
      "[[3 3 3]\n",
      " [3 3 3]\n",
      " [1 4 3]]\n",
      "free\n",
      "current_node -- (next_move) (29, 13)\n",
      "next_node out:: (29, 14)\n",
      "next_node out (29, 14)\n",
      "message right\n"
     ]
    },
    {
     "data": {
      "image/png": "[encoded data removed]",
      "text/plain": [
       "<Figure size 432x288 with 1 Axes>"
      ]
     },
     "metadata": {
      "needs_background": "light"
     },
     "output_type": "display_data"
    },
    {
     "name": "stdout",
     "output_type": "stream",
     "text": [
      "[[3 3 3]\n",
      " [3 3 3]\n",
      " [1 4 3]]\n",
      "blocked\n",
      "updated current ::::  (29, 13)\n"
     ]
    },
    {
     "data": {
      "image/png": "[encoded data removed]",
      "text/plain": [
       "<Figure size 432x288 with 1 Axes>"
      ]
     },
     "metadata": {
      "needs_background": "light"
     },
     "output_type": "display_data"
    },
    {
     "name": "stdout",
     "output_type": "stream",
     "text": [
      "[[3 3 3]\n",
      " [3 3 3]\n",
      " [1 4 2]]\n",
      "free\n",
      "current_node -- (next_move) (29, 13)\n",
      "next_node out:: (28, 13)\n",
      "next_node out (28, 13)\n",
      "message up\n"
     ]
    },
    {
     "data": {
      "image/png": "[encoded data removed]",
      "text/plain": [
       "<Figure size 432x288 with 1 Axes>"
      ]
     },
     "metadata": {
      "needs_background": "light"
     },
     "output_type": "display_data"
    },
    {
     "name": "stdout",
     "output_type": "stream",
     "text": [
      "[[3 3 3]\n",
      " [3 4 3]\n",
      " [1 1 2]]\n",
      "free\n",
      "current_node -- (next_move) (28, 13)\n",
      "next_node out:: (28, 14)\n",
      "next_node out (28, 14)\n",
      "message right\n"
     ]
    },
    {
     "data": {
      "image/png": "[encoded data removed]",
      "text/plain": [
       "<Figure size 432x288 with 1 Axes>"
      ]
     },
     "metadata": {
      "needs_background": "light"
     },
     "output_type": "display_data"
    },
    {
     "name": "stdout",
     "output_type": "stream",
     "text": [
      "[[3 3 3]\n",
      " [1 4 3]\n",
      " [1 2 3]]\n",
      "free\n",
      "current_node -- (next_move) (28, 14)\n",
      "next_node out:: (28, 15)\n",
      "next_node out (28, 15)\n",
      "message right\n"
     ]
    },
    {
     "data": {
      "image/png": "[encoded data removed]",
      "text/plain": [
       "<Figure size 432x288 with 1 Axes>"
      ]
     },
     "metadata": {
      "needs_background": "light"
     },
     "output_type": "display_data"
    },
    {
     "name": "stdout",
     "output_type": "stream",
     "text": [
      "[[3 3 3]\n",
      " [1 4 3]\n",
      " [2 3 3]]\n",
      "blocked\n",
      "updated current ::::  (28, 14)\n"
     ]
    },
    {
     "data": {
      "image/png": "[encoded data removed]",
      "text/plain": [
       "<Figure size 432x288 with 1 Axes>"
      ]
     },
     "metadata": {
      "needs_background": "light"
     },
     "output_type": "display_data"
    },
    {
     "name": "stdout",
     "output_type": "stream",
     "text": [
      "[[3 3 3]\n",
      " [1 4 2]\n",
      " [1 2 3]]\n",
      "free\n",
      "current_node -- (next_move) (28, 14)\n",
      "next_node out (27, 14)\n",
      "message down\n"
     ]
    },
    {
     "data": {
      "image/png": "[encoded data removed]",
      "text/plain": [
       "<Figure size 432x288 with 1 Axes>"
      ]
     },
     "metadata": {
      "needs_background": "light"
     },
     "output_type": "display_data"
    },
    {
     "name": "stdout",
     "output_type": "stream",
     "text": [
      "[[3 3 3]\n",
      " [3 4 3]\n",
      " [1 1 2]]\n",
      "free\n",
      "current_node -- (next_move) (27, 14)\n",
      "next_node out:: (27, 15)\n",
      "next_node out (27, 15)\n",
      "message right\n"
     ]
    },
    {
     "data": {
      "image/png": "[encoded data removed]",
      "text/plain": [
       "<Figure size 432x288 with 1 Axes>"
      ]
     },
     "metadata": {
      "needs_background": "light"
     },
     "output_type": "display_data"
    },
    {
     "name": "stdout",
     "output_type": "stream",
     "text": [
      "[[3 3 3]\n",
      " [1 4 3]\n",
      " [1 2 3]]\n",
      "free\n",
      "current_node -- (next_move) (27, 15)\n",
      "next_node out:: (27, 16)\n",
      "next_node out (27, 16)\n",
      "message right\n"
     ]
    },
    {
     "data": {
      "image/png": "[encoded data removed]",
      "text/plain": [
       "<Figure size 432x288 with 1 Axes>"
      ]
     },
     "metadata": {
      "needs_background": "light"
     },
     "output_type": "display_data"
    },
    {
     "name": "stdout",
     "output_type": "stream",
     "text": [
      "[[3 3 3]\n",
      " [1 4 3]\n",
      " [2 3 3]]\n",
      "free\n",
      "current_node -- (next_move) (27, 16)\n",
      "next_node out:: (28, 16)\n",
      "next_node out (28, 16)\n",
      "message down\n"
     ]
    },
    {
     "data": {
      "image/png": "[encoded data removed]",
      "text/plain": [
       "<Figure size 432x288 with 1 Axes>"
      ]
     },
     "metadata": {
      "needs_background": "light"
     },
     "output_type": "display_data"
    },
    {
     "name": "stdout",
     "output_type": "stream",
     "text": [
      "[[1 1 3]\n",
      " [2 4 3]\n",
      " [3 3 3]]\n",
      "free\n",
      "current_node -- (next_move) (28, 16)\n",
      "next_node out:: (29, 16)\n",
      "next_node out (29, 16)\n",
      "message down\n"
     ]
    },
    {
     "data": {
      "image/png": "[encoded data removed]",
      "text/plain": [
       "<Figure size 432x288 with 1 Axes>"
      ]
     },
     "metadata": {
      "needs_background": "light"
     },
     "output_type": "display_data"
    },
    {
     "name": "stdout",
     "output_type": "stream",
     "text": [
      "[[1 1 3]\n",
      " [2 1 3]\n",
      " [3 4 3]]\n",
      "free\n",
      "current_node -- (next_move) (29, 16)\n",
      "next_node out changed from: (30, 16) to  (28, 16)\n",
      "next_node out (28, 16)\n",
      "message down\n"
     ]
    },
    {
     "data": {
      "image/png": "[encoded data removed]",
      "text/plain": [
       "<Figure size 432x288 with 1 Axes>"
      ]
     },
     "metadata": {
      "needs_background": "light"
     },
     "output_type": "display_data"
    },
    {
     "name": "stdout",
     "output_type": "stream",
     "text": [
      "[[1 1 3]\n",
      " [2 4 3]\n",
      " [3 1 3]]\n",
      "free\n",
      "current_node -- (next_move) (28, 16)\n",
      "next_node out:: (28, 17)\n",
      "next_node out (28, 17)\n",
      "message right\n"
     ]
    },
    {
     "data": {
      "image/png": "[encoded data removed]",
      "text/plain": [
       "<Figure size 432x288 with 1 Axes>"
      ]
     },
     "metadata": {
      "needs_background": "light"
     },
     "output_type": "display_data"
    },
    {
     "name": "stdout",
     "output_type": "stream",
     "text": [
      "[[1 3 3]\n",
      " [1 4 3]\n",
      " [1 3 3]]\n",
      "free\n",
      "current_node -- (next_move) (28, 17)\n",
      "next_node out:: (29, 17)\n",
      "next_node out (29, 17)\n",
      "message down\n"
     ]
    },
    {
     "data": {
      "image/png": "[encoded data removed]",
      "text/plain": [
       "<Figure size 432x288 with 1 Axes>"
      ]
     },
     "metadata": {
      "needs_background": "light"
     },
     "output_type": "display_data"
    },
    {
     "name": "stdout",
     "output_type": "stream",
     "text": [
      "[[1 3 3]\n",
      " [1 1 3]\n",
      " [1 4 3]]\n",
      "free\n",
      "current_node -- (next_move) (29, 17)\n",
      "next_node out:: (29, 18)\n",
      "next_node out (29, 18)\n",
      "message right\n"
     ]
    },
    {
     "data": {
      "image/png": "[encoded data removed]",
      "text/plain": [
       "<Figure size 432x288 with 1 Axes>"
      ]
     },
     "metadata": {
      "needs_background": "light"
     },
     "output_type": "display_data"
    },
    {
     "name": "stdout",
     "output_type": "stream",
     "text": [
      "[[3 3 3]\n",
      " [1 3 3]\n",
      " [1 4 3]]\n",
      "blocked\n",
      "updated current ::::  (29, 17)\n"
     ]
    },
    {
     "data": {
      "image/png": "[encoded data removed]",
      "text/plain": [
       "<Figure size 432x288 with 1 Axes>"
      ]
     },
     "metadata": {
      "needs_background": "light"
     },
     "output_type": "display_data"
    },
    {
     "name": "stdout",
     "output_type": "stream",
     "text": [
      "[[1 3 3]\n",
      " [1 1 3]\n",
      " [1 4 2]]\n",
      "free\n",
      "current_node -- (next_move) (29, 17)\n",
      "next_node out (29, 16)\n",
      "message right\n"
     ]
    },
    {
     "data": {
      "image/png": "[encoded data removed]",
      "text/plain": [
       "<Figure size 432x288 with 1 Axes>"
      ]
     },
     "metadata": {
      "needs_background": "light"
     },
     "output_type": "display_data"
    },
    {
     "name": "stdout",
     "output_type": "stream",
     "text": [
      "[[1 1 3]\n",
      " [2 1 1]\n",
      " [3 4 1]]\n",
      "free\n",
      "current_node -- (next_move) (29, 16)\n",
      "next_node out (28, 16)\n",
      "message up\n"
     ]
    },
    {
     "data": {
      "image/png": "[encoded data removed]",
      "text/plain": [
       "<Figure size 432x288 with 1 Axes>"
      ]
     },
     "metadata": {
      "needs_background": "light"
     },
     "output_type": "display_data"
    },
    {
     "name": "stdout",
     "output_type": "stream",
     "text": [
      "[[1 1 3]\n",
      " [2 4 1]\n",
      " [3 1 1]]\n",
      "free\n",
      "current_node -- (next_move) (28, 16)\n",
      "next_node out (29, 16)\n",
      "message down\n"
     ]
    },
    {
     "data": {
      "image/png": "[encoded data removed]",
      "text/plain": [
       "<Figure size 432x288 with 1 Axes>"
      ]
     },
     "metadata": {
      "needs_background": "light"
     },
     "output_type": "display_data"
    },
    {
     "name": "stdout",
     "output_type": "stream",
     "text": [
      "[[1 1 3]\n",
      " [2 1 1]\n",
      " [3 4 1]]\n",
      "free\n",
      "current_node -- (next_move) (29, 16)\n",
      "next_node out (29, 17)\n",
      "message up\n"
     ]
    },
    {
     "data": {
      "image/png": "[encoded data removed]",
      "text/plain": [
       "<Figure size 432x288 with 1 Axes>"
      ]
     },
     "metadata": {
      "needs_background": "light"
     },
     "output_type": "display_data"
    },
    {
     "name": "stdout",
     "output_type": "stream",
     "text": [
      "[[1 3 3]\n",
      " [1 1 3]\n",
      " [1 4 2]]\n",
      "free\n",
      "current_node -- (next_move) (29, 17)\n",
      "next_node out (28, 17)\n",
      "message right\n"
     ]
    },
    {
     "data": {
      "image/png": "[encoded data removed]",
      "text/plain": [
       "<Figure size 432x288 with 1 Axes>"
      ]
     },
     "metadata": {
      "needs_background": "light"
     },
     "output_type": "display_data"
    },
    {
     "name": "stdout",
     "output_type": "stream",
     "text": [
      "[[1 3 3]\n",
      " [1 4 3]\n",
      " [1 1 2]]\n",
      "free\n",
      "current_node -- (next_move) (28, 17)\n",
      "next_node out:: (28, 18)\n",
      "next_node out (28, 18)\n",
      "message right\n"
     ]
    },
    {
     "data": {
      "image/png": "[encoded data removed]",
      "text/plain": [
       "<Figure size 432x288 with 1 Axes>"
      ]
     },
     "metadata": {
      "needs_background": "light"
     },
     "output_type": "display_data"
    },
    {
     "name": "stdout",
     "output_type": "stream",
     "text": [
      "[[3 3 3]\n",
      " [1 4 3]\n",
      " [1 2 3]]\n",
      "free\n",
      "current_node -- (next_move) (28, 18)\n",
      "next_node out:: (28, 19)\n",
      "next_node out (28, 19)\n",
      "message right\n"
     ]
    },
    {
     "data": {
      "image/png": "[encoded data removed]",
      "text/plain": [
       "<Figure size 432x288 with 1 Axes>"
      ]
     },
     "metadata": {
      "needs_background": "light"
     },
     "output_type": "display_data"
    },
    {
     "name": "stdout",
     "output_type": "stream",
     "text": [
      "[[3 3 3]\n",
      " [1 4 3]\n",
      " [2 3 3]]\n",
      "free\n",
      "current_node -- (next_move) (28, 19)\n",
      "next_node out:: (29, 19)\n",
      "next_node out (29, 19)\n",
      "message down\n"
     ]
    },
    {
     "data": {
      "image/png": "[encoded data removed]",
      "text/plain": [
       "<Figure size 432x288 with 1 Axes>"
      ]
     },
     "metadata": {
      "needs_background": "light"
     },
     "output_type": "display_data"
    },
    {
     "name": "stdout",
     "output_type": "stream",
     "text": [
      "[[3 3 3]\n",
      " [1 1 3]\n",
      " [2 4 3]]\n",
      "free\n",
      "current_node -- (next_move) (29, 19)\n",
      "next_node out:: (29, 20)\n",
      "next_node out (29, 20)\n",
      "message right\n"
     ]
    },
    {
     "data": {
      "image/png": "[encoded data removed]",
      "text/plain": [
       "<Figure size 432x288 with 1 Axes>"
      ]
     },
     "metadata": {
      "needs_background": "light"
     },
     "output_type": "display_data"
    },
    {
     "name": "stdout",
     "output_type": "stream",
     "text": [
      "[[3 3 3]\n",
      " [1 3 3]\n",
      " [1 4 3]]\n",
      "free\n",
      "current_node -- (next_move) (29, 20)\n",
      "next_node out:: (29, 21)\n",
      "next_node out (29, 21)\n",
      "message right\n"
     ]
    },
    {
     "data": {
      "image/png": "[encoded data removed]",
      "text/plain": [
       "<Figure size 432x288 with 1 Axes>"
      ]
     },
     "metadata": {
      "needs_background": "light"
     },
     "output_type": "display_data"
    },
    {
     "name": "stdout",
     "output_type": "stream",
     "text": [
      "[[3 3 3]\n",
      " [3 3 3]\n",
      " [1 4 3]]\n",
      "free\n",
      "current_node -- (next_move) (29, 21)\n",
      "next_node out:: (29, 22)\n",
      "next_node out (29, 22)\n",
      "message right\n"
     ]
    },
    {
     "data": {
      "image/png": "[encoded data removed]",
      "text/plain": [
       "<Figure size 432x288 with 1 Axes>"
      ]
     },
     "metadata": {
      "needs_background": "light"
     },
     "output_type": "display_data"
    },
    {
     "name": "stdout",
     "output_type": "stream",
     "text": [
      "[[3 3 3]\n",
      " [3 3 3]\n",
      " [1 4 3]]\n",
      "free\n",
      "current_node -- (next_move) (29, 22)\n",
      "next_node out:: (29, 23)\n",
      "next_node out (29, 23)\n",
      "message right\n"
     ]
    },
    {
     "data": {
      "image/png": "[encoded data removed]",
      "text/plain": [
       "<Figure size 432x288 with 1 Axes>"
      ]
     },
     "metadata": {
      "needs_background": "light"
     },
     "output_type": "display_data"
    },
    {
     "name": "stdout",
     "output_type": "stream",
     "text": [
      "[[3 3 3]\n",
      " [3 3 3]\n",
      " [1 4 3]]\n",
      "blocked\n",
      "updated current ::::  (29, 22)\n"
     ]
    },
    {
     "data": {
      "image/png": "[encoded data removed]",
      "text/plain": [
       "<Figure size 432x288 with 1 Axes>"
      ]
     },
     "metadata": {
      "needs_background": "light"
     },
     "output_type": "display_data"
    },
    {
     "name": "stdout",
     "output_type": "stream",
     "text": [
      "[[3 3 3]\n",
      " [3 3 3]\n",
      " [1 4 2]]\n",
      "free\n",
      "current_node -- (next_move) (29, 22)\n",
      "next_node out:: (28, 22)\n",
      "next_node out (28, 22)\n",
      "message up\n"
     ]
    },
    {
     "data": {
      "image/png": "[encoded data removed]",
      "text/plain": [
       "<Figure size 432x288 with 1 Axes>"
      ]
     },
     "metadata": {
      "needs_background": "light"
     },
     "output_type": "display_data"
    },
    {
     "name": "stdout",
     "output_type": "stream",
     "text": [
      "[[3 3 3]\n",
      " [3 4 3]\n",
      " [1 1 2]]\n",
      "free\n",
      "current_node -- (next_move) (28, 22)\n",
      "next_node out:: (28, 23)\n",
      "next_node out (28, 23)\n",
      "message right\n"
     ]
    },
    {
     "data": {
      "image/png": "[encoded data removed]",
      "text/plain": [
       "<Figure size 432x288 with 1 Axes>"
      ]
     },
     "metadata": {
      "needs_background": "light"
     },
     "output_type": "display_data"
    },
    {
     "name": "stdout",
     "output_type": "stream",
     "text": [
      "[[3 3 3]\n",
      " [1 4 3]\n",
      " [1 2 3]]\n",
      "free\n",
      "current_node -- (next_move) (28, 23)\n",
      "next_node out:: (28, 24)\n",
      "next_node out (28, 24)\n",
      "message right\n"
     ]
    },
    {
     "data": {
      "image/png": "[encoded data removed]",
      "text/plain": [
       "<Figure size 432x288 with 1 Axes>"
      ]
     },
     "metadata": {
      "needs_background": "light"
     },
     "output_type": "display_data"
    },
    {
     "name": "stdout",
     "output_type": "stream",
     "text": [
      "[[3 3 3]\n",
      " [1 4 3]\n",
      " [2 3 3]]\n",
      "free\n",
      "current_node -- (next_move) (28, 24)\n",
      "next_node out:: (29, 24)\n",
      "next_node out (29, 24)\n",
      "message down\n"
     ]
    },
    {
     "data": {
      "image/png": "[encoded data removed]",
      "text/plain": [
       "<Figure size 432x288 with 1 Axes>"
      ]
     },
     "metadata": {
      "needs_background": "light"
     },
     "output_type": "display_data"
    },
    {
     "name": "stdout",
     "output_type": "stream",
     "text": [
      "[[3 3 3]\n",
      " [1 1 3]\n",
      " [2 4 3]]\n",
      "blocked\n",
      "updated current ::::  (28, 24)\n"
     ]
    },
    {
     "data": {
      "image/png": "[encoded data removed]",
      "text/plain": [
       "<Figure size 432x288 with 1 Axes>"
      ]
     },
     "metadata": {
      "needs_background": "light"
     },
     "output_type": "display_data"
    },
    {
     "name": "stdout",
     "output_type": "stream",
     "text": [
      "[[3 3 3]\n",
      " [1 4 3]\n",
      " [2 2 3]]\n",
      "free\n",
      "current_node -- (next_move) (28, 24)\n",
      "next_node out (28, 25)\n",
      "message down\n"
     ]
    },
    {
     "data": {
      "image/png": "[encoded data removed]",
      "text/plain": [
       "<Figure size 432x288 with 1 Axes>"
      ]
     },
     "metadata": {
      "needs_background": "light"
     },
     "output_type": "display_data"
    },
    {
     "name": "stdout",
     "output_type": "stream",
     "text": [
      "[[3 3 3]\n",
      " [1 4 3]\n",
      " [2 3 3]]\n",
      "free\n",
      "current_node -- (next_move) (28, 25)\n",
      "next_node out:: (29, 25)\n",
      "next_node out (29, 25)\n",
      "message down\n"
     ]
    },
    {
     "data": {
      "image/png": "[encoded data removed]",
      "text/plain": [
       "<Figure size 432x288 with 1 Axes>"
      ]
     },
     "metadata": {
      "needs_background": "light"
     },
     "output_type": "display_data"
    },
    {
     "name": "stdout",
     "output_type": "stream",
     "text": [
      "[[3 3 3]\n",
      " [1 1 3]\n",
      " [2 4 3]]\n",
      "blocked\n",
      "updated current ::::  (28, 25)\n"
     ]
    },
    {
     "data": {
      "image/png": "[encoded data removed]",
      "text/plain": [
       "<Figure size 432x288 with 1 Axes>"
      ]
     },
     "metadata": {
      "needs_background": "light"
     },
     "output_type": "display_data"
    },
    {
     "name": "stdout",
     "output_type": "stream",
     "text": [
      "[[3 3 3]\n",
      " [1 4 3]\n",
      " [2 2 3]]\n",
      "free\n",
      "current_node -- (next_move) (28, 25)\n",
      "next_node out (28, 26)\n",
      "message down\n"
     ]
    },
    {
     "data": {
      "image/png": "[encoded data removed]",
      "text/plain": [
       "<Figure size 432x288 with 1 Axes>"
      ]
     },
     "metadata": {
      "needs_background": "light"
     },
     "output_type": "display_data"
    },
    {
     "name": "stdout",
     "output_type": "stream",
     "text": [
      "[[3 3 3]\n",
      " [1 4 3]\n",
      " [2 3 3]]\n",
      "blocked\n",
      "updated current ::::  (28, 25)\n"
     ]
    },
    {
     "data": {
      "image/png": "[encoded data removed]",
      "text/plain": [
       "<Figure size 432x288 with 1 Axes>"
      ]
     },
     "metadata": {
      "needs_background": "light"
     },
     "output_type": "display_data"
    },
    {
     "name": "stdout",
     "output_type": "stream",
     "text": [
      "[[3 3 3]\n",
      " [1 4 2]\n",
      " [2 2 3]]\n",
      "free\n",
      "current_node -- (next_move) (28, 25)\n",
      "next_node out (27, 25)\n",
      "message down\n"
     ]
    },
    {
     "data": {
      "image/png": "[encoded data removed]",
      "text/plain": [
       "<Figure size 432x288 with 1 Axes>"
      ]
     },
     "metadata": {
      "needs_background": "light"
     },
     "output_type": "display_data"
    },
    {
     "name": "stdout",
     "output_type": "stream",
     "text": [
      "[[3 3 3]\n",
      " [3 4 3]\n",
      " [1 1 2]]\n",
      "free\n",
      "current_node -- (next_move) (27, 25)\n",
      "next_node out:: (27, 26)\n",
      "next_node out (27, 26)\n",
      "message right\n"
     ]
    },
    {
     "data": {
      "image/png": "[encoded data removed]",
      "text/plain": [
       "<Figure size 432x288 with 1 Axes>"
      ]
     },
     "metadata": {
      "needs_background": "light"
     },
     "output_type": "display_data"
    },
    {
     "name": "stdout",
     "output_type": "stream",
     "text": [
      "[[3 3 3]\n",
      " [1 4 3]\n",
      " [1 2 3]]\n",
      "free\n",
      "current_node -- (next_move) (27, 26)\n",
      "next_node out:: (27, 27)\n",
      "next_node out (27, 27)\n",
      "message right\n"
     ]
    },
    {
     "data": {
      "image/png": "[encoded data removed]",
      "text/plain": [
       "<Figure size 432x288 with 1 Axes>"
      ]
     },
     "metadata": {
      "needs_background": "light"
     },
     "output_type": "display_data"
    },
    {
     "name": "stdout",
     "output_type": "stream",
     "text": [
      "[[3 3 3]\n",
      " [1 4 3]\n",
      " [2 3 3]]\n",
      "free\n",
      "current_node -- (next_move) (27, 27)\n",
      "next_node out:: (28, 27)\n",
      "next_node out (28, 27)\n",
      "message down\n"
     ]
    },
    {
     "data": {
      "image/png": "[encoded data removed]",
      "text/plain": [
       "<Figure size 432x288 with 1 Axes>"
      ]
     },
     "metadata": {
      "needs_background": "light"
     },
     "output_type": "display_data"
    },
    {
     "name": "stdout",
     "output_type": "stream",
     "text": [
      "[[1 1 3]\n",
      " [2 4 3]\n",
      " [3 3 3]]\n",
      "free\n",
      "current_node -- (next_move) (28, 27)\n",
      "next_node out:: (29, 27)\n",
      "next_node out (29, 27)\n",
      "message down\n"
     ]
    },
    {
     "data": {
      "image/png": "[encoded data removed]",
      "text/plain": [
       "<Figure size 432x288 with 1 Axes>"
      ]
     },
     "metadata": {
      "needs_background": "light"
     },
     "output_type": "display_data"
    },
    {
     "name": "stdout",
     "output_type": "stream",
     "text": [
      "[[1 1 3]\n",
      " [2 1 3]\n",
      " [3 4 3]]\n",
      "blocked\n",
      "updated current ::::  (28, 27)\n"
     ]
    },
    {
     "data": {
      "image/png": "[encoded data removed]",
      "text/plain": [
       "<Figure size 432x288 with 1 Axes>"
      ]
     },
     "metadata": {
      "needs_background": "light"
     },
     "output_type": "display_data"
    },
    {
     "name": "stdout",
     "output_type": "stream",
     "text": [
      "[[1 1 3]\n",
      " [2 4 3]\n",
      " [3 2 3]]\n",
      "free\n",
      "current_node -- (next_move) (28, 27)\n",
      "next_node out (29, 27)\n",
      "message down\n"
     ]
    },
    {
     "data": {
      "image/png": "[encoded data removed]",
      "text/plain": [
       "<Figure size 432x288 with 1 Axes>"
      ]
     },
     "metadata": {
      "needs_background": "light"
     },
     "output_type": "display_data"
    },
    {
     "name": "stdout",
     "output_type": "stream",
     "text": [
      "[[1 1 3]\n",
      " [2 1 3]\n",
      " [3 4 3]]\n",
      "blocked\n",
      "updated current ::::  (28, 27)\n"
     ]
    },
    {
     "data": {
      "image/png": "[encoded data removed]",
      "text/plain": [
       "<Figure size 432x288 with 1 Axes>"
      ]
     },
     "metadata": {
      "needs_background": "light"
     },
     "output_type": "display_data"
    },
    {
     "name": "stdout",
     "output_type": "stream",
     "text": [
      "[[1 1 3]\n",
      " [2 4 3]\n",
      " [3 2 3]]\n",
      "free\n",
      "current_node -- (next_move) (28, 27)\n",
      "next_node out (28, 26)\n",
      "message down\n"
     ]
    },
    {
     "data": {
      "image/png": "[encoded data removed]",
      "text/plain": [
       "<Figure size 432x288 with 1 Axes>"
      ]
     },
     "metadata": {
      "needs_background": "light"
     },
     "output_type": "display_data"
    },
    {
     "name": "stdout",
     "output_type": "stream",
     "text": [
      "[[1 1 1]\n",
      " [1 4 1]\n",
      " [2 3 2]]\n",
      "blocked\n",
      "updated current ::::  (28, 27)\n"
     ]
    },
    {
     "data": {
      "image/png": "[encoded data removed]",
      "text/plain": [
       "<Figure size 432x288 with 1 Axes>"
      ]
     },
     "metadata": {
      "needs_background": "light"
     },
     "output_type": "display_data"
    },
    {
     "name": "stdout",
     "output_type": "stream",
     "text": [
      "[[1 1 3]\n",
      " [2 4 3]\n",
      " [3 2 3]]\n",
      "free\n",
      "current_node -- (next_move) (28, 27)\n",
      "next_node out (27, 27)\n",
      "message down\n"
     ]
    },
    {
     "data": {
      "image/png": "[encoded data removed]",
      "text/plain": [
       "<Figure size 432x288 with 1 Axes>"
      ]
     },
     "metadata": {
      "needs_background": "light"
     },
     "output_type": "display_data"
    },
    {
     "name": "stdout",
     "output_type": "stream",
     "text": [
      "[[3 3 3]\n",
      " [1 4 3]\n",
      " [2 1 3]]\n",
      "free\n",
      "current_node -- (next_move) (27, 27)\n",
      "next_node out:: (27, 28)\n",
      "next_node out (27, 28)\n",
      "message right\n"
     ]
    },
    {
     "data": {
      "image/png": "[encoded data removed]",
      "text/plain": [
       "<Figure size 432x288 with 1 Axes>"
      ]
     },
     "metadata": {
      "needs_background": "light"
     },
     "output_type": "display_data"
    },
    {
     "name": "stdout",
     "output_type": "stream",
     "text": [
      "[[3 3 3]\n",
      " [1 4 3]\n",
      " [1 3 3]]\n",
      "blocked\n",
      "updated current ::::  (27, 27)\n"
     ]
    },
    {
     "data": {
      "image/png": "[encoded data removed]",
      "text/plain": [
       "<Figure size 432x288 with 1 Axes>"
      ]
     },
     "metadata": {
      "needs_background": "light"
     },
     "output_type": "display_data"
    },
    {
     "name": "stdout",
     "output_type": "stream",
     "text": [
      "[[3 3 3]\n",
      " [1 4 2]\n",
      " [2 1 3]]\n",
      "free\n",
      "current_node -- (next_move) (27, 27)\n",
      "next_node out:: (26, 27)\n",
      "next_node out (26, 27)\n",
      "message up\n"
     ]
    },
    {
     "data": {
      "image/png": "[encoded data removed]",
      "text/plain": [
       "<Figure size 432x288 with 1 Axes>"
      ]
     },
     "metadata": {
      "needs_background": "light"
     },
     "output_type": "display_data"
    },
    {
     "name": "stdout",
     "output_type": "stream",
     "text": [
      "[[3 3 3]\n",
      " [3 4 3]\n",
      " [1 1 2]]\n",
      "free\n",
      "current_node -- (next_move) (26, 27)\n",
      "next_node out:: (26, 28)\n",
      "next_node out (26, 28)\n",
      "message right\n"
     ]
    },
    {
     "data": {
      "image/png": "[encoded data removed]",
      "text/plain": [
       "<Figure size 432x288 with 1 Axes>"
      ]
     },
     "metadata": {
      "needs_background": "light"
     },
     "output_type": "display_data"
    },
    {
     "name": "stdout",
     "output_type": "stream",
     "text": [
      "[[3 3 3]\n",
      " [1 4 3]\n",
      " [1 2 3]]\n",
      "free\n",
      "current_node -- (next_move) (26, 28)\n",
      "next_node out:: (26, 29)\n",
      "next_node out (26, 29)\n",
      "message right\n"
     ]
    },
    {
     "data": {
      "image/png": "[encoded data removed]",
      "text/plain": [
       "<Figure size 432x288 with 1 Axes>"
      ]
     },
     "metadata": {
      "needs_background": "light"
     },
     "output_type": "display_data"
    },
    {
     "name": "stdout",
     "output_type": "stream",
     "text": [
      "[[3 3 3]\n",
      " [1 1 4]\n",
      " [1 2 3]]\n",
      "free\n",
      "current_node -- (next_move) (26, 29)\n",
      "next_node out:: (27, 29)\n",
      "next_node out (27, 29)\n",
      "message down\n"
     ]
    },
    {
     "data": {
      "image/png": "[encoded data removed]",
      "text/plain": [
       "<Figure size 432x288 with 1 Axes>"
      ]
     },
     "metadata": {
      "needs_background": "light"
     },
     "output_type": "display_data"
    },
    {
     "name": "stdout",
     "output_type": "stream",
     "text": [
      "[[1 1 1]\n",
      " [1 2 4]\n",
      " [1 3 3]]\n",
      "free\n",
      "current_node -- (next_move) (27, 29)\n",
      "next_node out:: (28, 29)\n",
      "next_node out (28, 29)\n",
      "message down\n"
     ]
    },
    {
     "data": {
      "image/png": "[encoded data removed]",
      "text/plain": [
       "<Figure size 432x288 with 1 Axes>"
      ]
     },
     "metadata": {
      "needs_background": "light"
     },
     "output_type": "display_data"
    },
    {
     "name": "stdout",
     "output_type": "stream",
     "text": [
      "[[1 2 1]\n",
      " [1 3 4]\n",
      " [2 3 3]]\n",
      "free\n",
      "current_node -- (next_move) (28, 29)\n",
      "next_node out:: (29, 29)\n",
      "next_node out (29, 29)\n",
      "message down\n"
     ]
    },
    {
     "data": {
      "image/png": "[encoded data removed]",
      "text/plain": [
       "<Figure size 432x288 with 1 Axes>"
      ]
     },
     "metadata": {
      "needs_background": "light"
     },
     "output_type": "display_data"
    },
    {
     "data": {
      "image/png": "[encoded data removed]",
      "text/plain": [
       "<Figure size 432x288 with 1 Axes>"
      ]
     },
     "metadata": {
      "needs_background": "light"
     },
     "output_type": "display_data"
    },
    {
     "name": "stdout",
     "output_type": "stream",
     "text": [
      "Goal reached!!!\n",
      "Trajectory length: 151\n"
     ]
    }
   ],
   "source": [
    "goal_reached = False\n",
    "new_model = tf.keras.models.load_model('epic_num_reader.model')\n",
    "\n",
    "start = (0,0)\n",
    "goal = (maze_size-1, maze_size-1)\n",
    "agent_grid_world.itemset(start, 4)\n",
    "current_node = start\n",
    "visited_list = []\n",
    "trajectory = []\n",
    "\n",
    "while goal_reached == False:\n",
    "    trajectory.append(current_node)\n",
    "    agent_grid_world.itemset(current_node, 4)\n",
    "    if current_node == goal:\n",
    "        colormap = colors.ListedColormap([\"green\",\"white\"])\n",
    "        plt.imshow(agent_grid_world, cmap=colormap)\n",
    "        plt.show()\n",
    "        print('Goal reached!!!')\n",
    "        goal_reached = True\n",
    "        break\n",
    "\n",
    "    if current_node not in visited_list:\n",
    "        visited_list.append(current_node)\n",
    "\n",
    "    x_test = get_window(current_node, agent_grid_world, full_grid_world)\n",
    "    print(x_test)\n",
    "    x_test = np.asarray(x_test)\n",
    "\n",
    "    predictions = new_model.predict(np.asarray([x_test]))\n",
    "\n",
    "    if full_grid_world.item(current_node) == 1:\n",
    "#         trajectory.pop(-1)\n",
    "        agent_grid_world.itemset(current_node, 2)\n",
    "        flag = 'blocked'\n",
    "        print(flag)\n",
    "    else:\n",
    "        agent_grid_world.itemset(current_node, 1)\n",
    "        flag = 'free'\n",
    "        print(flag)\n",
    "    \n",
    "    if flag == 'free':\n",
    "        try:\n",
    "            next_node, message = next_move(current_node, predictions, full_grid_world, visited_list, maze_size, trajectory, flag, agent_grid_world)\n",
    "            current_node = next_node\n",
    "#             print('next_node out',next_node)\n",
    "#             print('message', message)\n",
    "        except Exception as err:\n",
    "            print(err)\n",
    "            print('No path to goal')\n",
    "            break\n",
    "        print('next_node out',next_node)\n",
    "        print('message', message)\n",
    "        if message == \"Can't reach goal\":\n",
    "            print('Cannot reach goal')\n",
    "            break\n",
    "\n",
    "    if flag == 'blocked':\n",
    "        current_node = trajectory[-2]\n",
    "        print('updated current :::: ', current_node)\n",
    "\n",
    "    agent_grid_world.itemset(current_node, 4)\n",
    "    colormap = colors.ListedColormap([\"green\",\"white\"])\n",
    "    plt.imshow(agent_grid_world, cmap=colormap)\n",
    "    plt.show()\n",
    "print(\"Trajectory length:\", len(trajectory))"
   ]
  },
  {
   "cell_type": "code",
   "execution_count": 25,
   "id": "cc47c99c",
   "metadata": {
    "scrolled": true
   },
   "outputs": [
    {
     "data": {
      "text/plain": [
       "<matplotlib.image.AxesImage at 0x174c10f5430>"
      ]
     },
     "execution_count": 25,
     "metadata": {},
     "output_type": "execute_result"
    },
    {
     "data": {
      "image/png": "[encoded data removed]",
      "text/plain": [
       "<Figure size 432x288 with 1 Axes>"
      ]
     },
     "metadata": {
      "needs_background": "light"
     },
     "output_type": "display_data"
    }
   ],
   "source": [
    "plt.spy(full_grid_world)"
   ]
  },
  {
   "cell_type": "code",
   "execution_count": 26,
   "id": "283888a3",
   "metadata": {
    "scrolled": true
   },
   "outputs": [
    {
     "data": {
      "image/png": "[encoded data removed]",
      "text/plain": [
       "<Figure size 432x288 with 1 Axes>"
      ]
     },
     "metadata": {
      "needs_background": "light"
     },
     "output_type": "display_data"
    }
   ],
   "source": [
    "colormap = colors.ListedColormap([\"green\",\"white\"])\n",
    "plt.imshow(agent_grid_world, cmap=colormap)\n",
    "plt.show()"
   ]
  },
  {
   "cell_type": "code",
   "execution_count": 27,
   "id": "f4af8947",
   "metadata": {},
   "outputs": [
    {
     "name": "stdout",
     "output_type": "stream",
     "text": [
      "INFO:tensorflow:Assets written to: epic_num_reader.model\\assets\n"
     ]
    }
   ],
   "source": [
    "model.save('epic_num_reader.model')"
   ]
  },
  {
   "cell_type": "code",
   "execution_count": null,
   "id": "05887d05",
   "metadata": {},
   "outputs": [],
   "source": []
  }
 ],
 "metadata": {
  "kernelspec": {
   "display_name": "Python 3",
   "language": "python",
   "name": "python3"
  },
  "language_info": {
   "codemirror_mode": {
    "name": "ipython",
    "version": 3
   },
   "file_extension": ".py",
   "mimetype": "text/x-python",
   "name": "python",
   "nbconvert_exporter": "python",
   "pygments_lexer": "ipython3",
   "version": "3.8.8"
  }
 },
 "nbformat": 4,
 "nbformat_minor": 5
}
