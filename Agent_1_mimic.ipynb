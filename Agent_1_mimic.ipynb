{
 "cells": [
  {
   "cell_type": "code",
   "execution_count": 1,
   "id": "a3f94482",
   "metadata": {},
   "outputs": [],
   "source": [
    "import tensorflow as tf\n",
    "import matplotlib.pyplot as plt\n",
    "import pandas as pd\n",
    "import numpy as np\n",
    "from matplotlib import colors\n",
    "import random"
   ]
  },
  {
   "cell_type": "code",
   "execution_count": 2,
   "id": "8ec16b81",
   "metadata": {},
   "outputs": [],
   "source": [
    "df = pd.read_csv('agent_1_data.csv')"
   ]
  },
  {
   "cell_type": "code",
   "execution_count": 3,
   "id": "54579a5e",
   "metadata": {},
   "outputs": [
    {
     "data": {
      "text/plain": [
       "(29162, 3, 3)"
      ]
     },
     "execution_count": 3,
     "metadata": {},
     "output_type": "execute_result"
    }
   ],
   "source": [
    "c = []\n",
    "x_train = []\n",
    "for i in range(len(df)):\n",
    "    arr = np.fromstring(df['x'][i].replace('[', '').replace(']', ''), dtype=int, sep='\\n').reshape(3,3)\n",
    "    arr = arr/arr.max()\n",
    "    c.append(np.asarray(arr))\n",
    "x_train = np.asarray(c)\n",
    "x_train = np.asarray(x_train)\n",
    "x_train.shape\n",
    "#     print(arr.shape)\n",
    "#     print(arr)"
   ]
  },
  {
   "cell_type": "code",
   "execution_count": 4,
   "id": "121b1692",
   "metadata": {},
   "outputs": [
    {
     "data": {
      "text/plain": [
       "array([[1, 0, 0, 0],\n",
       "       [1, 0, 0, 0],\n",
       "       [1, 0, 0, 0],\n",
       "       ...,\n",
       "       [1, 0, 0, 0],\n",
       "       [1, 0, 0, 0],\n",
       "       [1, 0, 0, 0]])"
      ]
     },
     "execution_count": 4,
     "metadata": {},
     "output_type": "execute_result"
    }
   ],
   "source": [
    "out = []\n",
    "for i in range(len(df)):\n",
    "    a = df['y'][i].replace('[', '').replace(']', '').replace(',','').split()\n",
    "    a = [int(m) for m in a]\n",
    "    out.append(np.asarray(a))\n",
    "y_train = out\n",
    "y_train = np.asarray(out)\n",
    "y_train"
   ]
  },
  {
   "cell_type": "code",
   "execution_count": 5,
   "id": "5ba5d773",
   "metadata": {},
   "outputs": [],
   "source": [
    "a = []\n",
    "for i in (y_train):\n",
    "    row = list(i).index(1)\n",
    "    a.append(row)\n",
    "y_train = np.asarray(a)\n",
    "\n",
    "    # y_train[0]"
   ]
  },
  {
   "cell_type": "code",
   "execution_count": 6,
   "id": "8cdee203",
   "metadata": {
    "scrolled": false
   },
   "outputs": [
    {
     "name": "stdout",
     "output_type": "stream",
     "text": [
      "x_train (29162, 3, 3)\n",
      "\n",
      "y_train (29162,)\n",
      "Epoch 1/10\n",
      "912/912 [==============================] - 2s 1ms/step - loss: 0.1386 - accuracy: 0.9440\n",
      "Epoch 2/10\n",
      "912/912 [==============================] - 1s 1ms/step - loss: 0.1369 - accuracy: 0.9447\n",
      "Epoch 3/10\n",
      "912/912 [==============================] - 1s 1ms/step - loss: 0.1376 - accuracy: 0.9439\n",
      "Epoch 4/10\n",
      "912/912 [==============================] - 1s 1ms/step - loss: 0.1369 - accuracy: 0.9450\n",
      "Epoch 5/10\n",
      "912/912 [==============================] - 1s 1ms/step - loss: 0.1370 - accuracy: 0.9440\n",
      "Epoch 6/10\n",
      "912/912 [==============================] - 1s 1ms/step - loss: 0.1378 - accuracy: 0.9438\n",
      "Epoch 7/10\n",
      "912/912 [==============================] - 1s 1ms/step - loss: 0.1366 - accuracy: 0.9446\n",
      "Epoch 8/10\n",
      "912/912 [==============================] - 1s 2ms/step - loss: 0.1370 - accuracy: 0.9437\n",
      "Epoch 9/10\n",
      "912/912 [==============================] - 1s 2ms/step - loss: 0.1365 - accuracy: 0.9443\n",
      "Epoch 10/10\n",
      "912/912 [==============================] - 2s 2ms/step - loss: 0.1363 - accuracy: 0.9443\n"
     ]
    },
    {
     "data": {
      "text/plain": [
       "<keras.callbacks.History at 0x254d63109a0>"
      ]
     },
     "execution_count": 6,
     "metadata": {},
     "output_type": "execute_result"
    }
   ],
   "source": [
    "#sequential is the basic model\n",
    "# model = tf.keras.models.Sequential()\n",
    "\n",
    "\n",
    "# # we add hidden layers into our network. 128 is the number of neurons that we use\n",
    "# # relu is a basic activation sigmoid function\n",
    "# # softmax is used for probability distribution (used in final/output layer with 10 neurons)\n",
    "# # we reduce 28x28 array to a flatten layer as it is multidimensional and hard to compute\n",
    "# model.add(tf.keras.layers.Flatten())\n",
    "# model.add(tf.keras.layers.Dense(128, activation = tf.nn.relu))\n",
    "# model.add(tf.keras.layers.Dense(128, activation = tf.nn.relu))\n",
    "# model.add(tf.keras.layers.Dense(4, activation = tf.nn.softmax))\n",
    "\n",
    "# # #parameters for training for the model\n",
    "\n",
    "# model.compile(optimizer = 'adam',\n",
    "#               loss = 'sparse_categorical_crossentropy',\n",
    "#               metrics = ['accuracy'])\n",
    "\n",
    "model = tf.keras.models.load_model(\n",
    "    'epic_num_reader.model', custom_objects=None, compile=True, options=None\n",
    ")\n",
    "\n",
    "print('x_train', x_train.shape)\n",
    "print('\\ny_train', y_train.shape)\n",
    "model.fit(x_train,y_train, epochs = 10)"
   ]
  },
  {
   "cell_type": "code",
   "execution_count": 7,
   "id": "4859dcc6",
   "metadata": {
    "scrolled": false
   },
   "outputs": [
    {
     "name": "stdout",
     "output_type": "stream",
     "text": [
      "912/912 [==============================] - 2s 1ms/step - loss: 0.1361 - accuracy: 0.9390\n",
      "0.13607890903949738 0.9390302300453186\n"
     ]
    }
   ],
   "source": [
    "# calculate the validation loss\n",
    "val_loss, val_accuracy = model.evaluate(x_train, np.asarray(y_train))\n",
    "print(val_loss, val_accuracy)"
   ]
  },
  {
   "cell_type": "code",
   "execution_count": 8,
   "id": "47dae0f7",
   "metadata": {
    "scrolled": true
   },
   "outputs": [
    {
     "name": "stdout",
     "output_type": "stream",
     "text": [
      "INFO:tensorflow:Assets written to: epic_num_reader.model\\assets\n"
     ]
    }
   ],
   "source": [
    "model.save('epic_num_reader.model')"
   ]
  },
  {
   "cell_type": "code",
   "execution_count": 9,
   "id": "f78809d9",
   "metadata": {},
   "outputs": [],
   "source": [
    "def get_children(x, y, n, visited_list):\n",
    "    \"\"\"\n",
    "    This function is used to return children of a particular node\n",
    "    x: row value of current node\n",
    "    y: column value of current node\n",
    "    n: size of maze\n",
    "    gofn: g(n) value of current node\n",
    "    visited_list: list of nodes that are already visited\n",
    "    matrix: maze\n",
    "    agent_matrix: matrix of the agent that holds the information of updated environment\n",
    "    \"\"\"\n",
    "    allChildren = [(x+1,y),#down\n",
    "                   (x-1,y),#up\n",
    "                   (x,y+1),#right\n",
    "                   (x,y-1)]#left\n",
    "    if x+1 > n-1:\n",
    "        allChildren.remove((x+1,y))\n",
    "    if x-1 < 0:\n",
    "        allChildren.remove((x-1,y))\n",
    "    if y+1 > n-1:\n",
    "        allChildren.remove((x,y+1))\n",
    "    if y-1 < 0:\n",
    "        allChildren.remove((x,y-1))\n",
    "#     allChildren = [node for node in allChildren if node[:2] not in visited_list]\n",
    "\n",
    "    return allChildren"
   ]
  },
  {
   "cell_type": "code",
   "execution_count": 10,
   "id": "0fcff69c",
   "metadata": {},
   "outputs": [],
   "source": [
    "# next_move((0,0), np.asarray([[0.1947099 , 0.3240646,  0.27810824, 0.20311731]]))"
   ]
  },
  {
   "cell_type": "code",
   "execution_count": 11,
   "id": "45fe7bd4",
   "metadata": {},
   "outputs": [],
   "source": [
    "def populateMatrix(n,p):\n",
    "    \"\"\"\n",
    "    This function returns randomly populated maze\n",
    "    p: probabillity density of each cell\n",
    "    n: size of the maze\n",
    "    \"\"\"\n",
    "    global block_unblock_matrix\n",
    "    np_array = np.random.rand(n*n)\n",
    "    block = lambda x: 0 if x>=p else 1\n",
    "    vectorized_block = np.vectorize(block)\n",
    "    np_array = vectorized_block(np_array).reshape(n,n)\n",
    "    np_array[0,0]=0\n",
    "    np_array[n-1,n-1] =0\n",
    "    block_unblock_matrix = np.asmatrix(np_array)\n",
    "\n",
    "\n",
    "    block_unblock_matrix = np.matrix(block_unblock_matrix)\n",
    "    plt.spy(block_unblock_matrix)\n",
    "    return block_unblock_matrix\n"
   ]
  },
  {
   "cell_type": "code",
   "execution_count": 17,
   "id": "5a817cea",
   "metadata": {},
   "outputs": [
    {
     "data": {
      "text/plain": [
       "<matplotlib.image.AxesImage at 0x254d95291f0>"
      ]
     },
     "execution_count": 17,
     "metadata": {},
     "output_type": "execute_result"
    },
    {
     "data": {
      "image/png": "[encoded data removed]",
      "text/plain": [
       "<Figure size 432x288 with 1 Axes>"
      ]
     },
     "metadata": {
      "needs_background": "light"
     },
     "output_type": "display_data"
    }
   ],
   "source": [
    "maze_size = 30\n",
    "agent_grid_world = np.full((maze_size, maze_size),3)\n",
    "agent_grid_world = np.asmatrix(agent_grid_world)\n",
    "full_grid_world = populateMatrix(maze_size, 0.3)\n",
    "plt.spy(full_grid_world)"
   ]
  },
  {
   "cell_type": "code",
   "execution_count": 18,
   "id": "7d8baa3d",
   "metadata": {},
   "outputs": [],
   "source": [
    "def next_move(current_node, predictions, full_grid_world, visited_list, maze_size, trajectory, flag, agent_grid_world):\n",
    "    message = ''\n",
    "#     print('current_node -- (next_move)', current_node)\n",
    "    indices = zip(np.where(predictions[0] == predictions[0].max()))\n",
    "\n",
    "#     print(predictions[0])\n",
    "    for row in indices:\n",
    "        if row[0][0] == 0:\n",
    "            message = 'up'\n",
    "            next_node = (current_node[0] - 1, current_node[1])\n",
    "        elif row[0][0] == 1:\n",
    "            message = 'down'\n",
    "            next_node = (current_node[0] + 1, current_node[1])\n",
    "        elif row[0][0] == 2:\n",
    "            message = 'left'\n",
    "            next_node = (current_node[0], current_node[1] - 1)\n",
    "        elif row[0][0] == 3:\n",
    "            message = 'right'\n",
    "            next_node = (current_node[0], current_node[1] + 1)\n",
    "\n",
    "    if next_node[0] > maze_size-1 or next_node[1] > maze_size-1 or next_node in visited_list:\n",
    "        children = get_children(current_node[0], current_node[1], maze_size, visited_list)\n",
    "        i = random.randint(0,len(children)-1)\n",
    "        return children[i], message\n",
    "    \n",
    "    if agent_grid_world[next_node] == 2:\n",
    "#         print(\"entered blocked node\")\n",
    "        children = get_children(current_node[0], current_node[1], maze_size, visited_list)\n",
    "#         print('children', children)\n",
    "        i = random.randint(0,len(children)-1)\n",
    "#         print('next_node out changed from:', next_node, 'to ', children[i])\n",
    "        return children[i], message\n",
    "\n",
    "#     print('next_node out::',next_node)\n",
    "    return next_node, message"
   ]
  },
  {
   "cell_type": "code",
   "execution_count": 19,
   "id": "2f14bb9d",
   "metadata": {},
   "outputs": [],
   "source": [
    "def get_neighbors(row, col, n):\n",
    "    dir = [[-1, -1], [-1, 0],[-1, 1], [0, -1], [0, 0],  [0, 1], [1, -1], [1, 0], [1, 1]]\n",
    "    friend = []\n",
    "    count = 0\n",
    "    for x, y in dir:\n",
    "        row_new = row + x\n",
    "        col_new = col + y\n",
    "        if (row_new>=0 and row_new<=(n-1)) and (col_new>=0 and col_new<=(n-1)):\n",
    "            count += 1\n",
    "            friend.append((row_new, col_new))\n",
    "    return count, friend"
   ]
  },
  {
   "cell_type": "code",
   "execution_count": 20,
   "id": "8c65f2c5",
   "metadata": {},
   "outputs": [],
   "source": [
    "def get_window(current_node, agent_grid_world, full_grid_world):\n",
    "    a = []\n",
    "    b = []\n",
    "    count, neighbors = get_neighbors(current_node[0],current_node[1], maze_size)\n",
    "\n",
    "    if len(neighbors) == 4:\n",
    "        if current_node == (0,0):\n",
    "            count, neighbors = get_neighbors(1,1, maze_size)\n",
    "        elif current_node == (0,maze_size-1):\n",
    "            count, neighbors = get_neighbors(1,maze_size-2, maze_size)\n",
    "        elif current_node == (maze_size-1,0):\n",
    "            count, neighbors = get_neighbors(maze_size-2, 1, maze_size)\n",
    "        elif current_node == (maze_size-1,maze_size-1):\n",
    "            count, neighbors = get_neighbors(maze_size-2,maze_size-2, maze_size)\n",
    "    elif len(neighbors) == 6:\n",
    "        if current_node[0] == 0:\n",
    "            count, neighbors = get_neighbors(current_node[0] + 1,current_node[1], maze_size)\n",
    "        elif current_node[0] == maze_size-1:\n",
    "            count, neighbors = get_neighbors(current_node[0] - 1,current_node[1], maze_size)\n",
    "        elif current_node[1] == 0:\n",
    "            count, neighbors = get_neighbors(current_node[0],current_node[1] + 1, maze_size)\n",
    "        elif current_node[1] == maze_size-1:\n",
    "            count, neighbors = get_neighbors(current_node[0],current_node[1] - 1, maze_size)\n",
    "    for i in neighbors:\n",
    "        a.append(agent_grid_world[i])\n",
    "        b.append(full_grid_world[i])\n",
    "    window = np.asarray(a).reshape(3,3)\n",
    "#     print('neighbors', neighbors)\n",
    "#     print(\"full grid:\", np.asarray(b).reshape(3,3))\n",
    "\n",
    "    return window"
   ]
  },
  {
   "cell_type": "code",
   "execution_count": 21,
   "id": "559aca53",
   "metadata": {
    "scrolled": true
   },
   "outputs": [
    {
     "data": {
      "image/png": "[encoded data removed]",
      "text/plain": [
       "<Figure size 432x288 with 1 Axes>"
      ]
     },
     "metadata": {
      "needs_background": "light"
     },
     "output_type": "display_data"
    },
    {
     "name": "stdout",
     "output_type": "stream",
     "text": [
      "Goal reached!!!\n",
      "Trajectory length: 673\n"
     ]
    }
   ],
   "source": [
    "goal_reached = False\n",
    "new_model = tf.keras.models.load_model('epic_num_reader.model')\n",
    "\n",
    "start = (0,0)\n",
    "goal = (maze_size-1, maze_size-1)\n",
    "agent_grid_world.itemset(start, 4)\n",
    "current_node = start\n",
    "visited_list = []\n",
    "trajectory = []\n",
    "\n",
    "while goal_reached == False:\n",
    "    trajectory.append(current_node)\n",
    "    agent_grid_world.itemset(current_node, 1)\n",
    "    if current_node == goal:\n",
    "        colormap = colors.ListedColormap([\"green\",\"white\"])\n",
    "        plt.imshow(agent_grid_world, cmap=colormap)\n",
    "        plt.show()\n",
    "        print('Goal reached!!!')\n",
    "        goal_reached = True\n",
    "        break\n",
    "\n",
    "    if current_node not in visited_list:\n",
    "        visited_list.append(current_node)\n",
    "\n",
    "    x_test = get_window(current_node, agent_grid_world, full_grid_world)\n",
    "#     print(x_test)\n",
    "    x_test = np.asarray(x_test)\n",
    "\n",
    "    predictions = new_model.predict(np.asarray([x_test]))\n",
    "\n",
    "    if full_grid_world.item(current_node) == 1:\n",
    "#         trajectory.pop(-1)\n",
    "        agent_grid_world.itemset(current_node, 2)\n",
    "        flag = 'blocked'\n",
    "#         print(flag)\n",
    "    else:\n",
    "        agent_grid_world.itemset(current_node, 1)\n",
    "        flag = 'free'\n",
    "#         print(flag)\n",
    "    \n",
    "    if flag == 'free':\n",
    "        try:\n",
    "            next_node, message = next_move(current_node, predictions, full_grid_world, visited_list, maze_size, trajectory, flag, agent_grid_world)\n",
    "            current_node = next_node\n",
    "        except Exception as err:\n",
    "            print(err)\n",
    "            print('No path to goal')\n",
    "            break\n",
    "#         print('next_node out',next_node)\n",
    "#         print('message', message)\n",
    "        if message == \"Can't reach goal\":\n",
    "            print('Cannot reach goal')\n",
    "            break\n",
    "\n",
    "    if flag == 'blocked':\n",
    "        current_node = trajectory[-2]\n",
    "#         print('next node:::: ', current_node)\n",
    "\n",
    "    agent_grid_world.itemset(current_node, 4)\n",
    "\n",
    "print(\"Trajectory length:\", len(trajectory))"
   ]
  },
  {
   "cell_type": "code",
   "execution_count": 22,
   "id": "cc47c99c",
   "metadata": {},
   "outputs": [
    {
     "data": {
      "text/plain": [
       "<matplotlib.image.AxesImage at 0x254d939f6a0>"
      ]
     },
     "execution_count": 22,
     "metadata": {},
     "output_type": "execute_result"
    },
    {
     "data": {
      "image/png": "[encoded data removed]",
      "text/plain": [
       "<Figure size 432x288 with 1 Axes>"
      ]
     },
     "metadata": {
      "needs_background": "light"
     },
     "output_type": "display_data"
    }
   ],
   "source": [
    "plt.spy(full_grid_world)"
   ]
  },
  {
   "cell_type": "code",
   "execution_count": 23,
   "id": "283888a3",
   "metadata": {
    "scrolled": true
   },
   "outputs": [
    {
     "data": {
      "image/png": "[encoded data removed]",
      "text/plain": [
       "<Figure size 432x288 with 1 Axes>"
      ]
     },
     "metadata": {
      "needs_background": "light"
     },
     "output_type": "display_data"
    }
   ],
   "source": [
    "colormap = colors.ListedColormap([\"green\",\"white\"])\n",
    "plt.imshow(agent_grid_world, cmap=colormap)\n",
    "plt.show()"
   ]
  },
  {
   "cell_type": "code",
   "execution_count": null,
   "id": "f4af8947",
   "metadata": {},
   "outputs": [],
   "source": [
    "model.save('epic_num_reader.model')"
   ]
  },
  {
   "cell_type": "code",
   "execution_count": null,
   "id": "c597e0db",
   "metadata": {},
   "outputs": [],
   "source": []
  }
 ],
 "metadata": {
  "kernelspec": {
   "display_name": "Python 3",
   "language": "python",
   "name": "python3"
  },
  "language_info": {
   "codemirror_mode": {
    "name": "ipython",
    "version": 3
   },
   "file_extension": ".py",
   "mimetype": "text/x-python",
   "name": "python",
   "nbconvert_exporter": "python",
   "pygments_lexer": "ipython3",
   "version": "3.8.8"
  }
 },
 "nbformat": 4,
 "nbformat_minor": 5
}
