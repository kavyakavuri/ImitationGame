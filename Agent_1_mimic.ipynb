{
 "cells": [
  {
   "cell_type": "code",
   "execution_count": 1,
   "id": "a3f94482",
   "metadata": {},
   "outputs": [],
   "source": [
    "import tensorflow as tf\n",
    "import matplotlib.pyplot as plt\n",
    "import pandas as pd\n",
    "import numpy as np\n",
    "from matplotlib import colors"
   ]
  },
  {
   "cell_type": "code",
   "execution_count": 2,
   "id": "8ec16b81",
   "metadata": {},
   "outputs": [],
   "source": [
    "df = pd.read_csv('agent_1_data.csv')"
   ]
  },
  {
   "cell_type": "code",
   "execution_count": 3,
   "id": "5e8bf8e7",
   "metadata": {},
   "outputs": [
    {
     "data": {
      "text/plain": [
       "(3314, 3, 3)"
      ]
     },
     "execution_count": 3,
     "metadata": {},
     "output_type": "execute_result"
    }
   ],
   "source": [
    "c = []\n",
    "x_train = []\n",
    "for i in range(len(df)):\n",
    "    arr = np.fromstring(df['x'][i].replace('[', '').replace(']', ''), dtype=int, sep='\\n').reshape(3,3)\n",
    "    arr = arr/arr.max()\n",
    "    c.append(np.asarray(arr))\n",
    "x_train = np.asarray(c)\n",
    "x_train = np.asarray(x_train)\n",
    "x_train.shape\n",
    "#     print(arr.shape)\n",
    "#     print(arr)"
   ]
  },
  {
   "cell_type": "code",
   "execution_count": 4,
   "id": "78c7d69a",
   "metadata": {},
   "outputs": [],
   "source": [
    "# c = []\n",
    "# x_train = []\n",
    "# for i in range(len(df)):\n",
    "#     arr = []\n",
    "# #     print(df['x'][i].replace('[', '').replace(']', '').split('\\n'))\n",
    "# #     print(len(df['x'][i].replace('[', '').replace(']', '').split('\\n')))\n",
    "    \n",
    "#     for arr in df['x'][i].split('\\n'):\n",
    "#         arr = arr.replace('[', '').replace(']', '').split()\n",
    "#         print(arr)\n",
    "#         arr = [int(m) for m in arr]\n",
    "#         arr = np.asarray(arr)\n",
    "#         arr = arr/arr.max()\n",
    "#         c.append(np.asarray(arr))\n",
    "    \n",
    "#     x_train.append(np.asarray(c))\n",
    "# x_train = np.asarray(x_train)\n",
    "# x_train.shape"
   ]
  },
  {
   "cell_type": "code",
   "execution_count": 5,
   "id": "121b1692",
   "metadata": {},
   "outputs": [
    {
     "data": {
      "text/plain": [
       "array([[1, 0, 0, 0],\n",
       "       [1, 0, 0, 0],\n",
       "       [1, 0, 0, 0],\n",
       "       ...,\n",
       "       [0, 1, 0, 0],\n",
       "       [0, 1, 0, 0],\n",
       "       [0, 1, 0, 0]])"
      ]
     },
     "execution_count": 5,
     "metadata": {},
     "output_type": "execute_result"
    }
   ],
   "source": [
    "out = []\n",
    "for i in range(len(df)):\n",
    "    a = df['y'][i].replace('[', '').replace(']', '').replace(',','').split()\n",
    "    a = [int(m) for m in a]\n",
    "    out.append(np.asarray(a))\n",
    "y_train = out\n",
    "y_train = np.asarray(out)\n",
    "y_train"
   ]
  },
  {
   "cell_type": "code",
   "execution_count": 6,
   "id": "b4201b14",
   "metadata": {},
   "outputs": [
    {
     "data": {
      "text/plain": [
       "(3314, 4)"
      ]
     },
     "execution_count": 6,
     "metadata": {},
     "output_type": "execute_result"
    }
   ],
   "source": [
    "y_train.shape"
   ]
  },
  {
   "cell_type": "code",
   "execution_count": 7,
   "id": "33985d66",
   "metadata": {},
   "outputs": [],
   "source": [
    "y_test = y_train[0]\n",
    "x_test = x_train[0]"
   ]
  },
  {
   "cell_type": "code",
   "execution_count": 8,
   "id": "5ba5d773",
   "metadata": {},
   "outputs": [],
   "source": [
    "a = []\n",
    "for i in (y_train):\n",
    "    row = list(i).index(1)\n",
    "    a.append(row)\n",
    "y_train = np.asarray(a)\n",
    "\n",
    "    # y_train[0]"
   ]
  },
  {
   "cell_type": "code",
   "execution_count": 9,
   "id": "aabc6869",
   "metadata": {},
   "outputs": [
    {
     "data": {
      "text/plain": [
       "(3314,)"
      ]
     },
     "execution_count": 9,
     "metadata": {},
     "output_type": "execute_result"
    }
   ],
   "source": [
    "y_train.shape"
   ]
  },
  {
   "cell_type": "code",
   "execution_count": 10,
   "id": "8cdee203",
   "metadata": {
    "scrolled": false
   },
   "outputs": [
    {
     "name": "stdout",
     "output_type": "stream",
     "text": [
      "x_train (3314, 3, 3)\n",
      "\n",
      "y_train (3314,)\n",
      "Epoch 1/20\n",
      "104/104 [==============================] - 0s 670us/step - loss: 1.0278 - accuracy: 0.5036\n",
      "Epoch 2/20\n",
      "104/104 [==============================] - 0s 611us/step - loss: 0.8100 - accuracy: 0.7094\n",
      "Epoch 3/20\n",
      "104/104 [==============================] - 0s 614us/step - loss: 0.6473 - accuracy: 0.7643\n",
      "Epoch 4/20\n",
      "104/104 [==============================] - 0s 623us/step - loss: 0.5188 - accuracy: 0.8262\n",
      "Epoch 5/20\n",
      "104/104 [==============================] - 0s 645us/step - loss: 0.4312 - accuracy: 0.8603\n",
      "Epoch 6/20\n",
      "104/104 [==============================] - 0s 645us/step - loss: 0.3632 - accuracy: 0.8865\n",
      "Epoch 7/20\n",
      "104/104 [==============================] - 0s 702us/step - loss: 0.2977 - accuracy: 0.9203\n",
      "Epoch 8/20\n",
      "104/104 [==============================] - 0s 679us/step - loss: 0.2464 - accuracy: 0.9387\n",
      "Epoch 9/20\n",
      "104/104 [==============================] - 0s 657us/step - loss: 0.2054 - accuracy: 0.9587\n",
      "Epoch 10/20\n",
      "104/104 [==============================] - 0s 625us/step - loss: 0.1682 - accuracy: 0.9647\n",
      "Epoch 11/20\n",
      "104/104 [==============================] - 0s 638us/step - loss: 0.1398 - accuracy: 0.9725\n",
      "Epoch 12/20\n",
      "104/104 [==============================] - 0s 630us/step - loss: 0.1210 - accuracy: 0.9762\n",
      "Epoch 13/20\n",
      "104/104 [==============================] - 0s 649us/step - loss: 0.1030 - accuracy: 0.9795\n",
      "Epoch 14/20\n",
      "104/104 [==============================] - 0s 666us/step - loss: 0.0946 - accuracy: 0.9825\n",
      "Epoch 15/20\n",
      "104/104 [==============================] - 0s 641us/step - loss: 0.0932 - accuracy: 0.9816\n",
      "Epoch 16/20\n",
      "104/104 [==============================] - 0s 623us/step - loss: 0.0868 - accuracy: 0.9807\n",
      "Epoch 17/20\n",
      "104/104 [==============================] - 0s 606us/step - loss: 0.0783 - accuracy: 0.9831\n",
      "Epoch 18/20\n",
      "104/104 [==============================] - 0s 613us/step - loss: 0.0768 - accuracy: 0.9795\n",
      "Epoch 19/20\n",
      "104/104 [==============================] - 0s 609us/step - loss: 0.0712 - accuracy: 0.9834\n",
      "Epoch 20/20\n",
      "104/104 [==============================] - 0s 599us/step - loss: 0.0685 - accuracy: 0.9822\n"
     ]
    },
    {
     "data": {
      "text/plain": [
       "<keras.callbacks.History at 0x1d5a8abea90>"
      ]
     },
     "execution_count": 10,
     "metadata": {},
     "output_type": "execute_result"
    }
   ],
   "source": [
    "#sequential is the basic model\n",
    "model = tf.keras.models.Sequential()\n",
    "\n",
    "# we add hidden layers into our network. 128 is the number of neurons that we use\n",
    "# relu is a basic activation sigmoid function\n",
    "# softmax is used for probability distribution (used in final/output layer with 10 neurons)\n",
    "# we reduce 28x28 array to a flatten layer as it is multidimensional and hard to compute\n",
    "model.add(tf.keras.layers.Flatten())\n",
    "model.add(tf.keras.layers.Dense(128, activation = tf.nn.relu))\n",
    "model.add(tf.keras.layers.Dense(128, activation = tf.nn.relu))\n",
    "model.add(tf.keras.layers.Dense(4, activation = tf.nn.softmax))\n",
    "\n",
    "#parameters for training for the model\n",
    "\n",
    "model.compile(optimizer = 'adam',\n",
    "              loss = 'sparse_categorical_crossentropy',\n",
    "              metrics = ['accuracy'])\n",
    "\n",
    "print('x_train', x_train.shape)\n",
    "print('\\ny_train', y_train.shape)\n",
    "model.fit(x_train,y_train, epochs = 20)"
   ]
  },
  {
   "cell_type": "code",
   "execution_count": 11,
   "id": "15a44879",
   "metadata": {},
   "outputs": [],
   "source": [
    "x_test = np.asarray([x_test])"
   ]
  },
  {
   "cell_type": "code",
   "execution_count": 12,
   "id": "4859dcc6",
   "metadata": {
    "scrolled": false
   },
   "outputs": [
    {
     "name": "stdout",
     "output_type": "stream",
     "text": [
      "104/104 [==============================] - 0s 486us/step - loss: 0.0618 - accuracy: 0.9837\n",
      "0.0617997981607914 0.9837055206298828\n"
     ]
    }
   ],
   "source": [
    "# calculate the validation loss\n",
    "val_loss, val_accuracy = model.evaluate(x_train, np.asarray(y_train))\n",
    "print(val_loss, val_accuracy)"
   ]
  },
  {
   "cell_type": "code",
   "execution_count": 13,
   "id": "47dae0f7",
   "metadata": {
    "scrolled": true
   },
   "outputs": [
    {
     "name": "stdout",
     "output_type": "stream",
     "text": [
      "INFO:tensorflow:Assets written to: epic_num_reader.model\\assets\n"
     ]
    }
   ],
   "source": [
    "model.save('epic_num_reader.model')"
   ]
  },
  {
   "cell_type": "code",
   "execution_count": 14,
   "id": "5460299a",
   "metadata": {},
   "outputs": [],
   "source": [
    "new_model = tf.keras.models.load_model('epic_num_reader.model')"
   ]
  },
  {
   "cell_type": "code",
   "execution_count": 15,
   "id": "355fc00c",
   "metadata": {},
   "outputs": [
    {
     "data": {
      "text/plain": [
       "(1, 3, 3)"
      ]
     },
     "execution_count": 15,
     "metadata": {},
     "output_type": "execute_result"
    }
   ],
   "source": [
    "x_test.shape"
   ]
  },
  {
   "cell_type": "code",
   "execution_count": 16,
   "id": "51ff526c",
   "metadata": {},
   "outputs": [
    {
     "data": {
      "text/plain": [
       "array([[[0.25, 0.75, 0.75],\n",
       "        [0.25, 0.75, 0.75],\n",
       "        [1.  , 0.5 , 0.75]]])"
      ]
     },
     "execution_count": 16,
     "metadata": {},
     "output_type": "execute_result"
    }
   ],
   "source": [
    "x_test"
   ]
  },
  {
   "cell_type": "code",
   "execution_count": 17,
   "id": "aae4e18f",
   "metadata": {
    "scrolled": false
   },
   "outputs": [],
   "source": [
    "predictions = new_model.predict(x_test)"
   ]
  },
  {
   "cell_type": "code",
   "execution_count": 18,
   "id": "3c0ad424",
   "metadata": {
    "scrolled": true
   },
   "outputs": [
    {
     "name": "stdout",
     "output_type": "stream",
     "text": [
      "[9.8037738e-01 3.3702111e-04 8.2812306e-07 1.9284762e-02]\n",
      "0.9803774\n"
     ]
    }
   ],
   "source": [
    "print(predictions[0])\n",
    "print(predictions[0].max())"
   ]
  },
  {
   "cell_type": "code",
   "execution_count": 19,
   "id": "f78809d9",
   "metadata": {},
   "outputs": [],
   "source": [
    "def get_children(x, y, n, visited_list):\n",
    "    \"\"\"\n",
    "    This function is used to return children of a particular node\n",
    "    x: row value of current node\n",
    "    y: column value of current node\n",
    "    n: size of maze\n",
    "    gofn: g(n) value of current node\n",
    "    visited_list: list of nodes that are already visited\n",
    "    matrix: maze\n",
    "    agent_matrix: matrix of the agent that holds the information of updated environment\n",
    "    \"\"\"\n",
    "    allChildren = [(x+1,y),#down\n",
    "                   (x-1,y),#up\n",
    "                   (x,y+1),#right\n",
    "                   (x,y-1)]#left\n",
    "    if x+1 > n-1:\n",
    "        allChildren.remove((x+1,y))\n",
    "    if x-1 < 0:\n",
    "        allChildren.remove((x-1,y))\n",
    "    if y+1 > n-1:\n",
    "        allChildren.remove((x,y+1))\n",
    "    if y-1 < 0:\n",
    "        allChildren.remove((x,y-1))\n",
    "    allChildren = [node for node in allChildren if node[:2] not in visited_list]\n",
    "\n",
    "    return allChildren"
   ]
  },
  {
   "cell_type": "code",
   "execution_count": 20,
   "id": "0fcff69c",
   "metadata": {},
   "outputs": [],
   "source": [
    "# next_move((0,0), np.asarray([[0.1947099 , 0.3240646,  0.27810824, 0.20311731]]))"
   ]
  },
  {
   "cell_type": "code",
   "execution_count": 21,
   "id": "45fe7bd4",
   "metadata": {},
   "outputs": [],
   "source": [
    "def populateMatrix(n,p):\n",
    "    \"\"\"\n",
    "    This function returns randomly populated maze\n",
    "    p: probabillity density of each cell\n",
    "    n: size of the maze\n",
    "    \"\"\"\n",
    "    global block_unblock_matrix\n",
    "    np_array = np.random.rand(n*n)\n",
    "    block = lambda x: 0 if x>=p else 1\n",
    "    vectorized_block = np.vectorize(block)\n",
    "    np_array = vectorized_block(np_array).reshape(n,n)\n",
    "    np_array[0,0]=0\n",
    "    np_array[n-1,n-1] =0\n",
    "    block_unblock_matrix = np.asmatrix(np_array)\n",
    "\n",
    "    ############testing on hard coded matrix ###########\n",
    "#     block_unblock_matrix = [[0, 0, 0, 0, 0],\n",
    "#             [0, 0, 0, 0, 0],\n",
    "#             [0, 0, 0, 0, 0],\n",
    "#             [0, 1, 0, 0, 0],\n",
    "#             [1, 0, 0, 1, 0]]\n",
    "#     ######################################\n",
    "#     populateMatrix(n,p)\n",
    "    block_unblock_matrix = np.matrix(block_unblock_matrix)\n",
    "    plt.spy(block_unblock_matrix)\n",
    "    return block_unblock_matrix\n"
   ]
  },
  {
   "cell_type": "code",
   "execution_count": 24,
   "id": "5a817cea",
   "metadata": {},
   "outputs": [
    {
     "data": {
      "text/plain": [
       "<matplotlib.image.AxesImage at 0x1d5abc8e880>"
      ]
     },
     "execution_count": 24,
     "metadata": {},
     "output_type": "execute_result"
    },
    {
     "data": {
      "image/png": "[encoded data removed]",
      "text/plain": [
       "<Figure size 432x288 with 1 Axes>"
      ]
     },
     "metadata": {
      "needs_background": "light"
     },
     "output_type": "display_data"
    }
   ],
   "source": [
    "maze_size = 30\n",
    "agent_grid_world = np.full((maze_size, maze_size),3)\n",
    "agent_grid_world = np.asmatrix(agent_grid_world)\n",
    "full_grid_world = populateMatrix(maze_size, 0.1)\n",
    "plt.spy(full_grid_world)\n",
    "\n",
    "# _ = outfile.seek(0)\n",
    "# full_grid_world = np.load(outfile)"
   ]
  },
  {
   "cell_type": "code",
   "execution_count": 25,
   "id": "7d8baa3d",
   "metadata": {},
   "outputs": [],
   "source": [
    "def next_move(current_node, predictions, full_grid_world, visited_list, maze_size, trajectory, flag):\n",
    "    message = ''\n",
    "#     if flag == 'blocked':\n",
    "#         if trajectory:\n",
    "#             return trajectory[-1], message\n",
    "#         else:\n",
    "#             return trajectory[-1], \"Can't reach goal\"\n",
    "\n",
    "    print('current_node -- (next_move)', current_node)\n",
    "    indices = zip(np.where(predictions[0] == predictions[0].max()))\n",
    "\n",
    "#     print(predictions[0])\n",
    "    for row in indices:\n",
    "        print(row)\n",
    "        if row[0][0] == 0:\n",
    "            message = 'up'\n",
    "            print(message)\n",
    "            next_node = (current_node[0] - 1, current_node[1])\n",
    "        elif row[0][0] == 1:\n",
    "            message = 'down'\n",
    "            print(message)\n",
    "            next_node = (current_node[0] + 1, current_node[1])\n",
    "        elif row[0][0] == 2:\n",
    "            message = 'left'\n",
    "            print(message)\n",
    "            next_node = (current_node[0], current_node[1] - 1)\n",
    "        elif row[0][0] == 3:\n",
    "            message = 'right'\n",
    "            print(message)\n",
    "            next_node = (current_node[0], current_node[1] + 1)\n",
    "            \n",
    "    return next_node, message\n",
    "#     try:\n",
    "#         print(full_grid_world.item(next_node))\n",
    "# #         print('##########')\n",
    "# #         print('next_node -- (next_move 2)', next_node)\n",
    "#         if next_node not in visited_list:\n",
    "#             return next_node, message\n",
    "#         else:\n",
    "#             children = get_children(current_node[0], current_node[1], maze_size, visited_list)\n",
    "#             for i in children:\n",
    "#                 if i not in visited_list:\n",
    "#                     return i, message\n",
    "#                 else:\n",
    "#                     returni, \"Can't reach goal\"\n",
    "#     except Exception as err:\n",
    "#         print(err)\n",
    "#         children = get_children(current_node[0], current_node[1], maze_size, visited_list)\n",
    "#         for i in children:\n",
    "#             if i not in visited_list:\n",
    "#                 return i, message\n",
    "#             else:\n",
    "#                 return i , \"Can't reach goal\"\n",
    "#         return children[-1], message"
   ]
  },
  {
   "cell_type": "code",
   "execution_count": 26,
   "id": "16949248",
   "metadata": {},
   "outputs": [],
   "source": [
    "def get_neighbors(row, col, n):\n",
    "    dir = [[-1, -1], [-1, 0],[-1, 1], [0, -1], [0, 0],  [0, 1], [1, -1], [1, 0], [1, 1]]\n",
    "    friend = []\n",
    "    count = 0\n",
    "    for x, y in dir:\n",
    "        row_new = row + x\n",
    "        col_new = col + y\n",
    "        if (row_new>=0 and row_new<=(n-1)) and (col_new>=0 and col_new<=(n-1)):\n",
    "            count += 1\n",
    "            friend.append((row_new, col_new))\n",
    "    return count, friend"
   ]
  },
  {
   "cell_type": "code",
   "execution_count": 27,
   "id": "ef68d3f6",
   "metadata": {},
   "outputs": [],
   "source": [
    "def get_window(current_node, agent_grid_world, full_grid_world):\n",
    "    a = []\n",
    "    b = []\n",
    "    count, neighbors = get_neighbors(current_node[0],current_node[1], maze_size)\n",
    "\n",
    "    if len(neighbors) == 4:\n",
    "        if current_node == (0,0):\n",
    "            count, neighbors = get_neighbors(1,1, maze_size)\n",
    "        elif current_node == (0,maze_size-1):\n",
    "            count, neighbors = get_neighbors(1,maze_size-2, maze_size)\n",
    "        elif current_node == (maze_size-1,0):\n",
    "            count, neighbors = get_neighbors(maze_size-2, 1, maze_size)\n",
    "        elif current_node == (maze_size-1,maze_size-1):\n",
    "            count, neighbors = get_neighbors(maze_size-2,maze_size-2, maze_size)\n",
    "    elif len(neighbors) == 6:\n",
    "        if current_node[0] == 0:\n",
    "            count, neighbors = get_neighbors(current_node[0] + 1,current_node[1], maze_size)\n",
    "        elif current_node[0] == maze_size-1:\n",
    "            count, neighbors = get_neighbors(current_node[0] - 1,current_node[1], maze_size)\n",
    "        elif current_node[1] == 0:\n",
    "            count, neighbors = get_neighbors(current_node[0],current_node[1] + 1, maze_size)\n",
    "        elif current_node[1] == maze_size-1:\n",
    "            count, neighbors = get_neighbors(current_node[0],current_node[1] - 1, maze_size)\n",
    "    for i in neighbors:\n",
    "        a.append(agent_grid_world[i])\n",
    "        b.append(full_grid_world[i])\n",
    "    window = np.asarray(a).reshape(3,3)\n",
    "    print('neighbors', neighbors)\n",
    "    print(\"full grid:\", np.asarray(b).reshape(3,3))\n",
    "\n",
    "    return window"
   ]
  },
  {
   "cell_type": "code",
   "execution_count": 28,
   "id": "559aca53",
   "metadata": {
    "scrolled": true
   },
   "outputs": [
    {
     "name": "stdout",
     "output_type": "stream",
     "text": [
      "neighbors [(0, 0), (0, 1), (0, 2), (1, 0), (1, 1), (1, 2), (2, 0), (2, 1), (2, 2)]\n",
      "full grid: [[0 0 0]\n",
      " [0 0 0]\n",
      " [0 0 0]]\n",
      "[[4 3 3]\n",
      " [3 3 3]\n",
      " [3 3 3]]\n",
      "free\n",
      "current_node -- (next_move) (0, 0)\n",
      "(array([1], dtype=int64),)\n",
      "down\n",
      "next_node out (1, 0)\n",
      "message down\n"
     ]
    },
    {
     "data": {
      "image/png": "[encoded data removed]",
      "text/plain": [
       "<Figure size 432x288 with 1 Axes>"
      ]
     },
     "metadata": {
      "needs_background": "light"
     },
     "output_type": "display_data"
    },
    {
     "name": "stdout",
     "output_type": "stream",
     "text": [
      "[(0, 0)]\n",
      "neighbors [(0, 0), (0, 1), (0, 2), (1, 0), (1, 1), (1, 2), (2, 0), (2, 1), (2, 2)]\n",
      "full grid: [[0 0 0]\n",
      " [0 0 0]\n",
      " [0 0 0]]\n",
      "[[1 3 3]\n",
      " [4 3 3]\n",
      " [3 3 3]]\n",
      "free\n",
      "current_node -- (next_move) (1, 0)\n",
      "(array([1], dtype=int64),)\n",
      "down\n",
      "next_node out (2, 0)\n",
      "message down\n"
     ]
    },
    {
     "data": {
      "image/png": "[encoded data removed]",
      "text/plain": [
       "<Figure size 432x288 with 1 Axes>"
      ]
     },
     "metadata": {
      "needs_background": "light"
     },
     "output_type": "display_data"
    },
    {
     "name": "stdout",
     "output_type": "stream",
     "text": [
      "[(0, 0), (1, 0)]\n",
      "neighbors [(1, 0), (1, 1), (1, 2), (2, 0), (2, 1), (2, 2), (3, 0), (3, 1), (3, 2)]\n",
      "full grid: [[0 0 0]\n",
      " [0 0 0]\n",
      " [0 0 0]]\n",
      "[[1 3 3]\n",
      " [4 3 3]\n",
      " [3 3 3]]\n",
      "free\n",
      "current_node -- (next_move) (2, 0)\n",
      "(array([1], dtype=int64),)\n",
      "down\n",
      "next_node out (3, 0)\n",
      "message down\n"
     ]
    },
    {
     "data": {
      "image/png": "[encoded data removed]",
      "text/plain": [
       "<Figure size 432x288 with 1 Axes>"
      ]
     },
     "metadata": {
      "needs_background": "light"
     },
     "output_type": "display_data"
    },
    {
     "name": "stdout",
     "output_type": "stream",
     "text": [
      "[(0, 0), (1, 0), (2, 0)]\n",
      "neighbors [(2, 0), (2, 1), (2, 2), (3, 0), (3, 1), (3, 2), (4, 0), (4, 1), (4, 2)]\n",
      "full grid: [[0 0 0]\n",
      " [0 0 0]\n",
      " [0 0 0]]\n",
      "[[1 3 3]\n",
      " [4 3 3]\n",
      " [3 3 3]]\n",
      "free\n",
      "current_node -- (next_move) (3, 0)\n",
      "(array([1], dtype=int64),)\n",
      "down\n",
      "next_node out (4, 0)\n",
      "message down\n"
     ]
    },
    {
     "data": {
      "image/png": "[encoded data removed]",
      "text/plain": [
       "<Figure size 432x288 with 1 Axes>"
      ]
     },
     "metadata": {
      "needs_background": "light"
     },
     "output_type": "display_data"
    },
    {
     "name": "stdout",
     "output_type": "stream",
     "text": [
      "[(0, 0), (1, 0), (2, 0), (3, 0)]\n",
      "neighbors [(3, 0), (3, 1), (3, 2), (4, 0), (4, 1), (4, 2), (5, 0), (5, 1), (5, 2)]\n",
      "full grid: [[0 0 0]\n",
      " [0 0 0]\n",
      " [0 0 0]]\n",
      "[[1 3 3]\n",
      " [4 3 3]\n",
      " [3 3 3]]\n",
      "free\n",
      "current_node -- (next_move) (4, 0)\n",
      "(array([1], dtype=int64),)\n",
      "down\n",
      "next_node out (5, 0)\n",
      "message down\n"
     ]
    },
    {
     "data": {
      "image/png": "[encoded data removed]",
      "text/plain": [
       "<Figure size 432x288 with 1 Axes>"
      ]
     },
     "metadata": {
      "needs_background": "light"
     },
     "output_type": "display_data"
    },
    {
     "name": "stdout",
     "output_type": "stream",
     "text": [
      "[(0, 0), (1, 0), (2, 0), (3, 0), (4, 0)]\n",
      "neighbors [(4, 0), (4, 1), (4, 2), (5, 0), (5, 1), (5, 2), (6, 0), (6, 1), (6, 2)]\n",
      "full grid: [[0 0 0]\n",
      " [0 0 0]\n",
      " [0 0 0]]\n",
      "[[1 3 3]\n",
      " [4 3 3]\n",
      " [3 3 3]]\n",
      "free\n",
      "current_node -- (next_move) (5, 0)\n",
      "(array([1], dtype=int64),)\n",
      "down\n",
      "next_node out (6, 0)\n",
      "message down\n"
     ]
    },
    {
     "data": {
      "image/png": "[encoded data removed]",
      "text/plain": [
       "<Figure size 432x288 with 1 Axes>"
      ]
     },
     "metadata": {
      "needs_background": "light"
     },
     "output_type": "display_data"
    },
    {
     "name": "stdout",
     "output_type": "stream",
     "text": [
      "[(0, 0), (1, 0), (2, 0), (3, 0), (4, 0), (5, 0)]\n",
      "neighbors [(5, 0), (5, 1), (5, 2), (6, 0), (6, 1), (6, 2), (7, 0), (7, 1), (7, 2)]\n",
      "full grid: [[0 0 0]\n",
      " [0 0 0]\n",
      " [0 0 1]]\n",
      "[[1 3 3]\n",
      " [4 3 3]\n",
      " [3 3 3]]\n",
      "free\n",
      "current_node -- (next_move) (6, 0)\n",
      "(array([1], dtype=int64),)\n",
      "down\n",
      "next_node out (7, 0)\n",
      "message down\n"
     ]
    },
    {
     "data": {
      "image/png": "[encoded data removed]",
      "text/plain": [
       "<Figure size 432x288 with 1 Axes>"
      ]
     },
     "metadata": {
      "needs_background": "light"
     },
     "output_type": "display_data"
    },
    {
     "name": "stdout",
     "output_type": "stream",
     "text": [
      "[(0, 0), (1, 0), (2, 0), (3, 0), (4, 0), (5, 0), (6, 0)]\n",
      "neighbors [(6, 0), (6, 1), (6, 2), (7, 0), (7, 1), (7, 2), (8, 0), (8, 1), (8, 2)]\n",
      "full grid: [[0 0 0]\n",
      " [0 0 1]\n",
      " [0 1 1]]\n",
      "[[1 3 3]\n",
      " [4 3 3]\n",
      " [3 3 3]]\n",
      "free\n",
      "current_node -- (next_move) (7, 0)\n",
      "(array([1], dtype=int64),)\n",
      "down\n",
      "next_node out (8, 0)\n",
      "message down\n"
     ]
    },
    {
     "data": {
      "image/png": "[encoded data removed]",
      "text/plain": [
       "<Figure size 432x288 with 1 Axes>"
      ]
     },
     "metadata": {
      "needs_background": "light"
     },
     "output_type": "display_data"
    },
    {
     "name": "stdout",
     "output_type": "stream",
     "text": [
      "[(0, 0), (1, 0), (2, 0), (3, 0), (4, 0), (5, 0), (6, 0), (7, 0)]\n",
      "neighbors [(7, 0), (7, 1), (7, 2), (8, 0), (8, 1), (8, 2), (9, 0), (9, 1), (9, 2)]\n",
      "full grid: [[0 0 1]\n",
      " [0 1 1]\n",
      " [0 1 0]]\n",
      "[[1 3 3]\n",
      " [4 3 3]\n",
      " [3 3 3]]\n",
      "free\n",
      "current_node -- (next_move) (8, 0)\n",
      "(array([1], dtype=int64),)\n",
      "down\n",
      "next_node out (9, 0)\n",
      "message down\n"
     ]
    },
    {
     "data": {
      "image/png": "[encoded data removed]",
      "text/plain": [
       "<Figure size 432x288 with 1 Axes>"
      ]
     },
     "metadata": {
      "needs_background": "light"
     },
     "output_type": "display_data"
    },
    {
     "name": "stdout",
     "output_type": "stream",
     "text": [
      "[(0, 0), (1, 0), (2, 0), (3, 0), (4, 0), (5, 0), (6, 0), (7, 0), (8, 0)]\n",
      "neighbors [(8, 0), (8, 1), (8, 2), (9, 0), (9, 1), (9, 2), (10, 0), (10, 1), (10, 2)]\n",
      "full grid: [[0 1 1]\n",
      " [0 1 0]\n",
      " [0 1 0]]\n",
      "[[1 3 3]\n",
      " [4 3 3]\n",
      " [3 3 3]]\n",
      "free\n",
      "current_node -- (next_move) (9, 0)\n",
      "(array([1], dtype=int64),)\n",
      "down\n",
      "next_node out (10, 0)\n",
      "message down\n"
     ]
    },
    {
     "data": {
      "image/png": "[encoded data removed]",
      "text/plain": [
       "<Figure size 432x288 with 1 Axes>"
      ]
     },
     "metadata": {
      "needs_background": "light"
     },
     "output_type": "display_data"
    },
    {
     "name": "stdout",
     "output_type": "stream",
     "text": [
      "[(0, 0), (1, 0), (2, 0), (3, 0), (4, 0), (5, 0), (6, 0), (7, 0), (8, 0), (9, 0)]\n",
      "neighbors [(9, 0), (9, 1), (9, 2), (10, 0), (10, 1), (10, 2), (11, 0), (11, 1), (11, 2)]\n",
      "full grid: [[0 1 0]\n",
      " [0 1 0]\n",
      " [0 0 1]]\n",
      "[[1 3 3]\n",
      " [4 3 3]\n",
      " [3 3 3]]\n",
      "free\n",
      "current_node -- (next_move) (10, 0)\n",
      "(array([1], dtype=int64),)\n",
      "down\n",
      "next_node out (11, 0)\n",
      "message down\n"
     ]
    },
    {
     "data": {
      "image/png": "[encoded data removed]",
      "text/plain": [
       "<Figure size 432x288 with 1 Axes>"
      ]
     },
     "metadata": {
      "needs_background": "light"
     },
     "output_type": "display_data"
    },
    {
     "name": "stdout",
     "output_type": "stream",
     "text": [
      "[(0, 0), (1, 0), (2, 0), (3, 0), (4, 0), (5, 0), (6, 0), (7, 0), (8, 0), (9, 0), (10, 0)]\n",
      "neighbors [(10, 0), (10, 1), (10, 2), (11, 0), (11, 1), (11, 2), (12, 0), (12, 1), (12, 2)]\n",
      "full grid: [[0 1 0]\n",
      " [0 0 1]\n",
      " [0 0 0]]\n",
      "[[1 3 3]\n",
      " [4 3 3]\n",
      " [3 3 3]]\n",
      "free\n",
      "current_node -- (next_move) (11, 0)\n",
      "(array([1], dtype=int64),)\n",
      "down\n",
      "next_node out (12, 0)\n",
      "message down\n"
     ]
    },
    {
     "data": {
      "image/png": "[encoded data removed]",
      "text/plain": [
       "<Figure size 432x288 with 1 Axes>"
      ]
     },
     "metadata": {
      "needs_background": "light"
     },
     "output_type": "display_data"
    },
    {
     "name": "stdout",
     "output_type": "stream",
     "text": [
      "[(0, 0), (1, 0), (2, 0), (3, 0), (4, 0), (5, 0), (6, 0), (7, 0), (8, 0), (9, 0), (10, 0), (11, 0)]\n",
      "neighbors [(11, 0), (11, 1), (11, 2), (12, 0), (12, 1), (12, 2), (13, 0), (13, 1), (13, 2)]\n",
      "full grid: [[0 0 1]\n",
      " [0 0 0]\n",
      " [0 0 0]]\n",
      "[[1 3 3]\n",
      " [4 3 3]\n",
      " [3 3 3]]\n",
      "free\n",
      "current_node -- (next_move) (12, 0)\n",
      "(array([1], dtype=int64),)\n",
      "down\n",
      "next_node out (13, 0)\n",
      "message down\n"
     ]
    },
    {
     "data": {
      "image/png": "[encoded data removed]",
      "text/plain": [
       "<Figure size 432x288 with 1 Axes>"
      ]
     },
     "metadata": {
      "needs_background": "light"
     },
     "output_type": "display_data"
    },
    {
     "name": "stdout",
     "output_type": "stream",
     "text": [
      "[(0, 0), (1, 0), (2, 0), (3, 0), (4, 0), (5, 0), (6, 0), (7, 0), (8, 0), (9, 0), (10, 0), (11, 0), (12, 0)]\n",
      "neighbors [(12, 0), (12, 1), (12, 2), (13, 0), (13, 1), (13, 2), (14, 0), (14, 1), (14, 2)]\n",
      "full grid: [[0 0 0]\n",
      " [0 0 0]\n",
      " [0 0 0]]\n",
      "[[1 3 3]\n",
      " [4 3 3]\n",
      " [3 3 3]]\n",
      "free\n",
      "current_node -- (next_move) (13, 0)\n",
      "(array([1], dtype=int64),)\n",
      "down\n",
      "next_node out (14, 0)\n",
      "message down\n"
     ]
    },
    {
     "data": {
      "image/png": "[encoded data removed]",
      "text/plain": [
       "<Figure size 432x288 with 1 Axes>"
      ]
     },
     "metadata": {
      "needs_background": "light"
     },
     "output_type": "display_data"
    },
    {
     "name": "stdout",
     "output_type": "stream",
     "text": [
      "[(0, 0), (1, 0), (2, 0), (3, 0), (4, 0), (5, 0), (6, 0), (7, 0), (8, 0), (9, 0), (10, 0), (11, 0), (12, 0), (13, 0)]\n",
      "neighbors [(13, 0), (13, 1), (13, 2), (14, 0), (14, 1), (14, 2), (15, 0), (15, 1), (15, 2)]\n",
      "full grid: [[0 0 0]\n",
      " [0 0 0]\n",
      " [0 0 0]]\n",
      "[[1 3 3]\n",
      " [4 3 3]\n",
      " [3 3 3]]\n",
      "free\n",
      "current_node -- (next_move) (14, 0)\n",
      "(array([1], dtype=int64),)\n",
      "down\n",
      "next_node out (15, 0)\n",
      "message down\n"
     ]
    },
    {
     "data": {
      "image/png": "[encoded data removed]",
      "text/plain": [
       "<Figure size 432x288 with 1 Axes>"
      ]
     },
     "metadata": {
      "needs_background": "light"
     },
     "output_type": "display_data"
    },
    {
     "name": "stdout",
     "output_type": "stream",
     "text": [
      "[(0, 0), (1, 0), (2, 0), (3, 0), (4, 0), (5, 0), (6, 0), (7, 0), (8, 0), (9, 0), (10, 0), (11, 0), (12, 0), (13, 0), (14, 0)]\n",
      "neighbors [(14, 0), (14, 1), (14, 2), (15, 0), (15, 1), (15, 2), (16, 0), (16, 1), (16, 2)]\n",
      "full grid: [[0 0 0]\n",
      " [0 0 0]\n",
      " [0 0 0]]\n",
      "[[1 3 3]\n",
      " [4 3 3]\n",
      " [3 3 3]]\n",
      "free\n",
      "current_node -- (next_move) (15, 0)\n",
      "(array([1], dtype=int64),)\n",
      "down\n",
      "next_node out (16, 0)\n",
      "message down\n"
     ]
    },
    {
     "data": {
      "image/png": "[encoded data removed]",
      "text/plain": [
       "<Figure size 432x288 with 1 Axes>"
      ]
     },
     "metadata": {
      "needs_background": "light"
     },
     "output_type": "display_data"
    },
    {
     "name": "stdout",
     "output_type": "stream",
     "text": [
      "[(0, 0), (1, 0), (2, 0), (3, 0), (4, 0), (5, 0), (6, 0), (7, 0), (8, 0), (9, 0), (10, 0), (11, 0), (12, 0), (13, 0), (14, 0), (15, 0)]\n",
      "neighbors [(15, 0), (15, 1), (15, 2), (16, 0), (16, 1), (16, 2), (17, 0), (17, 1), (17, 2)]\n",
      "full grid: [[0 0 0]\n",
      " [0 0 0]\n",
      " [0 0 0]]\n",
      "[[1 3 3]\n",
      " [4 3 3]\n",
      " [3 3 3]]\n",
      "free\n",
      "current_node -- (next_move) (16, 0)\n",
      "(array([1], dtype=int64),)\n",
      "down\n",
      "next_node out (17, 0)\n",
      "message down\n"
     ]
    },
    {
     "data": {
      "image/png": "[encoded data removed]",
      "text/plain": [
       "<Figure size 432x288 with 1 Axes>"
      ]
     },
     "metadata": {
      "needs_background": "light"
     },
     "output_type": "display_data"
    },
    {
     "name": "stdout",
     "output_type": "stream",
     "text": [
      "[(0, 0), (1, 0), (2, 0), (3, 0), (4, 0), (5, 0), (6, 0), (7, 0), (8, 0), (9, 0), (10, 0), (11, 0), (12, 0), (13, 0), (14, 0), (15, 0), (16, 0)]\n",
      "neighbors [(16, 0), (16, 1), (16, 2), (17, 0), (17, 1), (17, 2), (18, 0), (18, 1), (18, 2)]\n",
      "full grid: [[0 0 0]\n",
      " [0 0 0]\n",
      " [1 0 0]]\n",
      "[[1 3 3]\n",
      " [4 3 3]\n",
      " [3 3 3]]\n",
      "free\n",
      "current_node -- (next_move) (17, 0)\n",
      "(array([1], dtype=int64),)\n",
      "down\n",
      "next_node out (18, 0)\n",
      "message down\n"
     ]
    },
    {
     "data": {
      "image/png": "[encoded data removed]",
      "text/plain": [
       "<Figure size 432x288 with 1 Axes>"
      ]
     },
     "metadata": {
      "needs_background": "light"
     },
     "output_type": "display_data"
    },
    {
     "name": "stdout",
     "output_type": "stream",
     "text": [
      "[(0, 0), (1, 0), (2, 0), (3, 0), (4, 0), (5, 0), (6, 0), (7, 0), (8, 0), (9, 0), (10, 0), (11, 0), (12, 0), (13, 0), (14, 0), (15, 0), (16, 0), (17, 0)]\n",
      "neighbors [(17, 0), (17, 1), (17, 2), (18, 0), (18, 1), (18, 2), (19, 0), (19, 1), (19, 2)]\n",
      "full grid: [[0 0 0]\n",
      " [1 0 0]\n",
      " [0 1 0]]\n",
      "[[1 3 3]\n",
      " [4 3 3]\n",
      " [3 3 3]]\n",
      "blocked\n",
      "next node::::  (17, 0)\n"
     ]
    },
    {
     "data": {
      "image/png": "[encoded data removed]",
      "text/plain": [
       "<Figure size 432x288 with 1 Axes>"
      ]
     },
     "metadata": {
      "needs_background": "light"
     },
     "output_type": "display_data"
    },
    {
     "name": "stdout",
     "output_type": "stream",
     "text": [
      "[(0, 0), (1, 0), (2, 0), (3, 0), (4, 0), (5, 0), (6, 0), (7, 0), (8, 0), (9, 0), (10, 0), (11, 0), (12, 0), (13, 0), (14, 0), (15, 0), (16, 0), (17, 0), (18, 0)]\n",
      "neighbors [(16, 0), (16, 1), (16, 2), (17, 0), (17, 1), (17, 2), (18, 0), (18, 1), (18, 2)]\n",
      "full grid: [[0 0 0]\n",
      " [0 0 0]\n",
      " [1 0 0]]\n",
      "[[1 3 3]\n",
      " [4 3 3]\n",
      " [2 3 3]]\n",
      "free\n",
      "current_node -- (next_move) (17, 0)\n",
      "(array([3], dtype=int64),)\n",
      "right\n",
      "next_node out (17, 1)\n",
      "message right\n"
     ]
    },
    {
     "data": {
      "image/png": "[encoded data removed]",
      "text/plain": [
       "<Figure size 432x288 with 1 Axes>"
      ]
     },
     "metadata": {
      "needs_background": "light"
     },
     "output_type": "display_data"
    },
    {
     "name": "stdout",
     "output_type": "stream",
     "text": [
      "[(0, 0), (1, 0), (2, 0), (3, 0), (4, 0), (5, 0), (6, 0), (7, 0), (8, 0), (9, 0), (10, 0), (11, 0), (12, 0), (13, 0), (14, 0), (15, 0), (16, 0), (17, 0), (18, 0)]\n",
      "neighbors [(16, 0), (16, 1), (16, 2), (17, 0), (17, 1), (17, 2), (18, 0), (18, 1), (18, 2)]\n",
      "full grid: [[0 0 0]\n",
      " [0 0 0]\n",
      " [1 0 0]]\n",
      "[[1 3 3]\n",
      " [1 4 3]\n",
      " [2 3 3]]\n",
      "free\n",
      "current_node -- (next_move) (17, 1)\n",
      "(array([1], dtype=int64),)\n",
      "down\n",
      "next_node out (18, 1)\n",
      "message down\n"
     ]
    },
    {
     "data": {
      "image/png": "[encoded data removed]",
      "text/plain": [
       "<Figure size 432x288 with 1 Axes>"
      ]
     },
     "metadata": {
      "needs_background": "light"
     },
     "output_type": "display_data"
    },
    {
     "name": "stdout",
     "output_type": "stream",
     "text": [
      "[(0, 0), (1, 0), (2, 0), (3, 0), (4, 0), (5, 0), (6, 0), (7, 0), (8, 0), (9, 0), (10, 0), (11, 0), (12, 0), (13, 0), (14, 0), (15, 0), (16, 0), (17, 0), (18, 0), (17, 1)]\n",
      "neighbors [(17, 0), (17, 1), (17, 2), (18, 0), (18, 1), (18, 2), (19, 0), (19, 1), (19, 2)]\n",
      "full grid: [[0 0 0]\n",
      " [1 0 0]\n",
      " [0 1 0]]\n",
      "[[1 1 3]\n",
      " [2 4 3]\n",
      " [3 3 3]]\n",
      "free\n",
      "current_node -- (next_move) (18, 1)\n",
      "(array([1], dtype=int64),)\n",
      "down\n",
      "next_node out (19, 1)\n",
      "message down\n"
     ]
    },
    {
     "data": {
      "image/png": "[encoded data removed]",
      "text/plain": [
       "<Figure size 432x288 with 1 Axes>"
      ]
     },
     "metadata": {
      "needs_background": "light"
     },
     "output_type": "display_data"
    },
    {
     "name": "stdout",
     "output_type": "stream",
     "text": [
      "[(0, 0), (1, 0), (2, 0), (3, 0), (4, 0), (5, 0), (6, 0), (7, 0), (8, 0), (9, 0), (10, 0), (11, 0), (12, 0), (13, 0), (14, 0), (15, 0), (16, 0), (17, 0), (18, 0), (17, 1), (18, 1)]\n",
      "neighbors [(18, 0), (18, 1), (18, 2), (19, 0), (19, 1), (19, 2), (20, 0), (20, 1), (20, 2)]\n",
      "full grid: [[1 0 0]\n",
      " [0 1 0]\n",
      " [0 0 0]]\n",
      "[[2 1 3]\n",
      " [3 4 3]\n",
      " [3 3 3]]\n",
      "blocked\n",
      "next node::::  (18, 1)\n"
     ]
    },
    {
     "data": {
      "image/png": "[encoded data removed]",
      "text/plain": [
       "<Figure size 432x288 with 1 Axes>"
      ]
     },
     "metadata": {
      "needs_background": "light"
     },
     "output_type": "display_data"
    },
    {
     "name": "stdout",
     "output_type": "stream",
     "text": [
      "[(0, 0), (1, 0), (2, 0), (3, 0), (4, 0), (5, 0), (6, 0), (7, 0), (8, 0), (9, 0), (10, 0), (11, 0), (12, 0), (13, 0), (14, 0), (15, 0), (16, 0), (17, 0), (18, 0), (17, 1), (18, 1), (19, 1)]\n",
      "neighbors [(17, 0), (17, 1), (17, 2), (18, 0), (18, 1), (18, 2), (19, 0), (19, 1), (19, 2)]\n",
      "full grid: [[0 0 0]\n",
      " [1 0 0]\n",
      " [0 1 0]]\n",
      "[[1 1 3]\n",
      " [2 4 3]\n",
      " [3 2 3]]\n",
      "free\n",
      "current_node -- (next_move) (18, 1)\n",
      "(array([3], dtype=int64),)\n",
      "right\n",
      "next_node out (18, 2)\n",
      "message right\n"
     ]
    },
    {
     "data": {
      "image/png": "[encoded data removed]",
      "text/plain": [
       "<Figure size 432x288 with 1 Axes>"
      ]
     },
     "metadata": {
      "needs_background": "light"
     },
     "output_type": "display_data"
    },
    {
     "name": "stdout",
     "output_type": "stream",
     "text": [
      "[(0, 0), (1, 0), (2, 0), (3, 0), (4, 0), (5, 0), (6, 0), (7, 0), (8, 0), (9, 0), (10, 0), (11, 0), (12, 0), (13, 0), (14, 0), (15, 0), (16, 0), (17, 0), (18, 0), (17, 1), (18, 1), (19, 1)]\n",
      "neighbors [(17, 1), (17, 2), (17, 3), (18, 1), (18, 2), (18, 3), (19, 1), (19, 2), (19, 3)]\n",
      "full grid: [[0 0 0]\n",
      " [0 0 0]\n",
      " [1 0 1]]\n",
      "[[1 3 3]\n",
      " [1 4 3]\n",
      " [2 3 3]]\n",
      "free\n",
      "current_node -- (next_move) (18, 2)\n",
      "(array([1], dtype=int64),)\n",
      "down\n",
      "next_node out (19, 2)\n",
      "message down\n"
     ]
    },
    {
     "data": {
      "image/png": "[encoded data removed]",
      "text/plain": [
       "<Figure size 432x288 with 1 Axes>"
      ]
     },
     "metadata": {
      "needs_background": "light"
     },
     "output_type": "display_data"
    },
    {
     "name": "stdout",
     "output_type": "stream",
     "text": [
      "[(0, 0), (1, 0), (2, 0), (3, 0), (4, 0), (5, 0), (6, 0), (7, 0), (8, 0), (9, 0), (10, 0), (11, 0), (12, 0), (13, 0), (14, 0), (15, 0), (16, 0), (17, 0), (18, 0), (17, 1), (18, 1), (19, 1), (18, 2)]\n",
      "neighbors [(18, 1), (18, 2), (18, 3), (19, 1), (19, 2), (19, 3), (20, 1), (20, 2), (20, 3)]\n",
      "full grid: [[0 0 0]\n",
      " [1 0 1]\n",
      " [0 0 0]]\n",
      "[[1 1 3]\n",
      " [2 4 3]\n",
      " [3 3 3]]\n",
      "free\n",
      "current_node -- (next_move) (19, 2)\n",
      "(array([1], dtype=int64),)\n",
      "down\n",
      "next_node out (20, 2)\n",
      "message down\n"
     ]
    },
    {
     "data": {
      "image/png": "[encoded data removed]",
      "text/plain": [
       "<Figure size 432x288 with 1 Axes>"
      ]
     },
     "metadata": {
      "needs_background": "light"
     },
     "output_type": "display_data"
    },
    {
     "name": "stdout",
     "output_type": "stream",
     "text": [
      "[(0, 0), (1, 0), (2, 0), (3, 0), (4, 0), (5, 0), (6, 0), (7, 0), (8, 0), (9, 0), (10, 0), (11, 0), (12, 0), (13, 0), (14, 0), (15, 0), (16, 0), (17, 0), (18, 0), (17, 1), (18, 1), (19, 1), (18, 2), (19, 2)]\n",
      "neighbors [(19, 1), (19, 2), (19, 3), (20, 1), (20, 2), (20, 3), (21, 1), (21, 2), (21, 3)]\n",
      "full grid: [[1 0 1]\n",
      " [0 0 0]\n",
      " [0 0 0]]\n",
      "[[2 1 3]\n",
      " [3 4 3]\n",
      " [3 3 3]]\n",
      "free\n",
      "current_node -- (next_move) (20, 2)\n",
      "(array([1], dtype=int64),)\n",
      "down\n",
      "next_node out (21, 2)\n",
      "message down\n"
     ]
    },
    {
     "data": {
      "image/png": "[encoded data removed]",
      "text/plain": [
       "<Figure size 432x288 with 1 Axes>"
      ]
     },
     "metadata": {
      "needs_background": "light"
     },
     "output_type": "display_data"
    },
    {
     "name": "stdout",
     "output_type": "stream",
     "text": [
      "[(0, 0), (1, 0), (2, 0), (3, 0), (4, 0), (5, 0), (6, 0), (7, 0), (8, 0), (9, 0), (10, 0), (11, 0), (12, 0), (13, 0), (14, 0), (15, 0), (16, 0), (17, 0), (18, 0), (17, 1), (18, 1), (19, 1), (18, 2), (19, 2), (20, 2)]\n",
      "neighbors [(20, 1), (20, 2), (20, 3), (21, 1), (21, 2), (21, 3), (22, 1), (22, 2), (22, 3)]\n",
      "full grid: [[0 0 0]\n",
      " [0 0 0]\n",
      " [0 0 0]]\n",
      "[[3 1 3]\n",
      " [3 4 3]\n",
      " [3 3 3]]\n",
      "free\n",
      "current_node -- (next_move) (21, 2)\n",
      "(array([1], dtype=int64),)\n",
      "down\n",
      "next_node out (22, 2)\n",
      "message down\n"
     ]
    },
    {
     "data": {
      "image/png": "[encoded data removed]",
      "text/plain": [
       "<Figure size 432x288 with 1 Axes>"
      ]
     },
     "metadata": {
      "needs_background": "light"
     },
     "output_type": "display_data"
    },
    {
     "name": "stdout",
     "output_type": "stream",
     "text": [
      "[(0, 0), (1, 0), (2, 0), (3, 0), (4, 0), (5, 0), (6, 0), (7, 0), (8, 0), (9, 0), (10, 0), (11, 0), (12, 0), (13, 0), (14, 0), (15, 0), (16, 0), (17, 0), (18, 0), (17, 1), (18, 1), (19, 1), (18, 2), (19, 2), (20, 2), (21, 2)]\n",
      "neighbors [(21, 1), (21, 2), (21, 3), (22, 1), (22, 2), (22, 3), (23, 1), (23, 2), (23, 3)]\n",
      "full grid: [[0 0 0]\n",
      " [0 0 0]\n",
      " [0 0 0]]\n",
      "[[3 1 3]\n",
      " [3 4 3]\n",
      " [3 3 3]]\n",
      "free\n",
      "current_node -- (next_move) (22, 2)\n",
      "(array([1], dtype=int64),)\n",
      "down\n",
      "next_node out (23, 2)\n",
      "message down\n"
     ]
    },
    {
     "data": {
      "image/png": "[encoded data removed]",
      "text/plain": [
       "<Figure size 432x288 with 1 Axes>"
      ]
     },
     "metadata": {
      "needs_background": "light"
     },
     "output_type": "display_data"
    },
    {
     "name": "stdout",
     "output_type": "stream",
     "text": [
      "[(0, 0), (1, 0), (2, 0), (3, 0), (4, 0), (5, 0), (6, 0), (7, 0), (8, 0), (9, 0), (10, 0), (11, 0), (12, 0), (13, 0), (14, 0), (15, 0), (16, 0), (17, 0), (18, 0), (17, 1), (18, 1), (19, 1), (18, 2), (19, 2), (20, 2), (21, 2), (22, 2)]\n",
      "neighbors [(22, 1), (22, 2), (22, 3), (23, 1), (23, 2), (23, 3), (24, 1), (24, 2), (24, 3)]\n",
      "full grid: [[0 0 0]\n",
      " [0 0 0]\n",
      " [0 0 1]]\n",
      "[[3 1 3]\n",
      " [3 4 3]\n",
      " [3 3 3]]\n",
      "free\n",
      "current_node -- (next_move) (23, 2)\n",
      "(array([1], dtype=int64),)\n",
      "down\n",
      "next_node out (24, 2)\n",
      "message down\n"
     ]
    },
    {
     "data": {
      "image/png": "[encoded data removed]",
      "text/plain": [
       "<Figure size 432x288 with 1 Axes>"
      ]
     },
     "metadata": {
      "needs_background": "light"
     },
     "output_type": "display_data"
    },
    {
     "name": "stdout",
     "output_type": "stream",
     "text": [
      "[(0, 0), (1, 0), (2, 0), (3, 0), (4, 0), (5, 0), (6, 0), (7, 0), (8, 0), (9, 0), (10, 0), (11, 0), (12, 0), (13, 0), (14, 0), (15, 0), (16, 0), (17, 0), (18, 0), (17, 1), (18, 1), (19, 1), (18, 2), (19, 2), (20, 2), (21, 2), (22, 2), (23, 2)]\n",
      "neighbors [(23, 1), (23, 2), (23, 3), (24, 1), (24, 2), (24, 3), (25, 1), (25, 2), (25, 3)]\n",
      "full grid: [[0 0 0]\n",
      " [0 0 1]\n",
      " [0 0 0]]\n",
      "[[3 1 3]\n",
      " [3 4 3]\n",
      " [3 3 3]]\n",
      "free\n",
      "current_node -- (next_move) (24, 2)\n",
      "(array([1], dtype=int64),)\n",
      "down\n",
      "next_node out (25, 2)\n",
      "message down\n"
     ]
    },
    {
     "data": {
      "image/png": "[encoded data removed]",
      "text/plain": [
       "<Figure size 432x288 with 1 Axes>"
      ]
     },
     "metadata": {
      "needs_background": "light"
     },
     "output_type": "display_data"
    },
    {
     "name": "stdout",
     "output_type": "stream",
     "text": [
      "[(0, 0), (1, 0), (2, 0), (3, 0), (4, 0), (5, 0), (6, 0), (7, 0), (8, 0), (9, 0), (10, 0), (11, 0), (12, 0), (13, 0), (14, 0), (15, 0), (16, 0), (17, 0), (18, 0), (17, 1), (18, 1), (19, 1), (18, 2), (19, 2), (20, 2), (21, 2), (22, 2), (23, 2), (24, 2)]\n",
      "neighbors [(24, 1), (24, 2), (24, 3), (25, 1), (25, 2), (25, 3), (26, 1), (26, 2), (26, 3)]\n",
      "full grid: [[0 0 1]\n",
      " [0 0 0]\n",
      " [0 0 0]]\n",
      "[[3 1 3]\n",
      " [3 4 3]\n",
      " [3 3 3]]\n",
      "free\n",
      "current_node -- (next_move) (25, 2)\n",
      "(array([1], dtype=int64),)\n",
      "down\n",
      "next_node out (26, 2)\n",
      "message down\n"
     ]
    },
    {
     "data": {
      "image/png": "[encoded data removed]",
      "text/plain": [
       "<Figure size 432x288 with 1 Axes>"
      ]
     },
     "metadata": {
      "needs_background": "light"
     },
     "output_type": "display_data"
    },
    {
     "name": "stdout",
     "output_type": "stream",
     "text": [
      "[(0, 0), (1, 0), (2, 0), (3, 0), (4, 0), (5, 0), (6, 0), (7, 0), (8, 0), (9, 0), (10, 0), (11, 0), (12, 0), (13, 0), (14, 0), (15, 0), (16, 0), (17, 0), (18, 0), (17, 1), (18, 1), (19, 1), (18, 2), (19, 2), (20, 2), (21, 2), (22, 2), (23, 2), (24, 2), (25, 2)]\n",
      "neighbors [(25, 1), (25, 2), (25, 3), (26, 1), (26, 2), (26, 3), (27, 1), (27, 2), (27, 3)]\n",
      "full grid: [[0 0 0]\n",
      " [0 0 0]\n",
      " [0 0 0]]\n",
      "[[3 1 3]\n",
      " [3 4 3]\n",
      " [3 3 3]]\n",
      "free\n",
      "current_node -- (next_move) (26, 2)\n",
      "(array([1], dtype=int64),)\n",
      "down\n",
      "next_node out (27, 2)\n",
      "message down\n"
     ]
    },
    {
     "data": {
      "image/png": "[encoded data removed]",
      "text/plain": [
       "<Figure size 432x288 with 1 Axes>"
      ]
     },
     "metadata": {
      "needs_background": "light"
     },
     "output_type": "display_data"
    },
    {
     "name": "stdout",
     "output_type": "stream",
     "text": [
      "[(0, 0), (1, 0), (2, 0), (3, 0), (4, 0), (5, 0), (6, 0), (7, 0), (8, 0), (9, 0), (10, 0), (11, 0), (12, 0), (13, 0), (14, 0), (15, 0), (16, 0), (17, 0), (18, 0), (17, 1), (18, 1), (19, 1), (18, 2), (19, 2), (20, 2), (21, 2), (22, 2), (23, 2), (24, 2), (25, 2), (26, 2)]\n",
      "neighbors [(26, 1), (26, 2), (26, 3), (27, 1), (27, 2), (27, 3), (28, 1), (28, 2), (28, 3)]\n",
      "full grid: [[0 0 0]\n",
      " [0 0 0]\n",
      " [0 0 1]]\n",
      "[[3 1 3]\n",
      " [3 4 3]\n",
      " [3 3 3]]\n",
      "free\n",
      "current_node -- (next_move) (27, 2)\n",
      "(array([1], dtype=int64),)\n",
      "down\n",
      "next_node out (28, 2)\n",
      "message down\n"
     ]
    },
    {
     "data": {
      "image/png": "[encoded data removed]",
      "text/plain": [
       "<Figure size 432x288 with 1 Axes>"
      ]
     },
     "metadata": {
      "needs_background": "light"
     },
     "output_type": "display_data"
    },
    {
     "name": "stdout",
     "output_type": "stream",
     "text": [
      "[(0, 0), (1, 0), (2, 0), (3, 0), (4, 0), (5, 0), (6, 0), (7, 0), (8, 0), (9, 0), (10, 0), (11, 0), (12, 0), (13, 0), (14, 0), (15, 0), (16, 0), (17, 0), (18, 0), (17, 1), (18, 1), (19, 1), (18, 2), (19, 2), (20, 2), (21, 2), (22, 2), (23, 2), (24, 2), (25, 2), (26, 2), (27, 2)]\n",
      "neighbors [(27, 1), (27, 2), (27, 3), (28, 1), (28, 2), (28, 3), (29, 1), (29, 2), (29, 3)]\n",
      "full grid: [[0 0 0]\n",
      " [0 0 1]\n",
      " [0 0 0]]\n",
      "[[3 1 3]\n",
      " [3 4 3]\n",
      " [3 3 3]]\n",
      "free\n",
      "current_node -- (next_move) (28, 2)\n",
      "(array([1], dtype=int64),)\n",
      "down\n",
      "next_node out (29, 2)\n",
      "message down\n"
     ]
    },
    {
     "data": {
      "image/png": "[encoded data removed]",
      "text/plain": [
       "<Figure size 432x288 with 1 Axes>"
      ]
     },
     "metadata": {
      "needs_background": "light"
     },
     "output_type": "display_data"
    },
    {
     "name": "stdout",
     "output_type": "stream",
     "text": [
      "[(0, 0), (1, 0), (2, 0), (3, 0), (4, 0), (5, 0), (6, 0), (7, 0), (8, 0), (9, 0), (10, 0), (11, 0), (12, 0), (13, 0), (14, 0), (15, 0), (16, 0), (17, 0), (18, 0), (17, 1), (18, 1), (19, 1), (18, 2), (19, 2), (20, 2), (21, 2), (22, 2), (23, 2), (24, 2), (25, 2), (26, 2), (27, 2), (28, 2)]\n",
      "neighbors [(27, 1), (27, 2), (27, 3), (28, 1), (28, 2), (28, 3), (29, 1), (29, 2), (29, 3)]\n",
      "full grid: [[0 0 0]\n",
      " [0 0 1]\n",
      " [0 0 0]]\n",
      "[[3 1 3]\n",
      " [3 1 3]\n",
      " [3 4 3]]\n",
      "free\n",
      "current_node -- (next_move) (29, 2)\n",
      "(array([3], dtype=int64),)\n",
      "right\n",
      "next_node out (29, 3)\n",
      "message right\n"
     ]
    },
    {
     "data": {
      "image/png": "[encoded data removed]",
      "text/plain": [
       "<Figure size 432x288 with 1 Axes>"
      ]
     },
     "metadata": {
      "needs_background": "light"
     },
     "output_type": "display_data"
    },
    {
     "name": "stdout",
     "output_type": "stream",
     "text": [
      "[(0, 0), (1, 0), (2, 0), (3, 0), (4, 0), (5, 0), (6, 0), (7, 0), (8, 0), (9, 0), (10, 0), (11, 0), (12, 0), (13, 0), (14, 0), (15, 0), (16, 0), (17, 0), (18, 0), (17, 1), (18, 1), (19, 1), (18, 2), (19, 2), (20, 2), (21, 2), (22, 2), (23, 2), (24, 2), (25, 2), (26, 2), (27, 2), (28, 2), (29, 2)]\n",
      "neighbors [(27, 2), (27, 3), (27, 4), (28, 2), (28, 3), (28, 4), (29, 2), (29, 3), (29, 4)]\n",
      "full grid: [[0 0 0]\n",
      " [0 1 0]\n",
      " [0 0 0]]\n",
      "[[1 3 3]\n",
      " [1 3 3]\n",
      " [1 4 3]]\n",
      "free\n",
      "current_node -- (next_move) (29, 3)\n",
      "(array([3], dtype=int64),)\n",
      "right\n",
      "next_node out (29, 4)\n",
      "message right\n"
     ]
    },
    {
     "data": {
      "image/png": "[encoded data removed]",
      "text/plain": [
       "<Figure size 432x288 with 1 Axes>"
      ]
     },
     "metadata": {
      "needs_background": "light"
     },
     "output_type": "display_data"
    },
    {
     "name": "stdout",
     "output_type": "stream",
     "text": [
      "[(0, 0), (1, 0), (2, 0), (3, 0), (4, 0), (5, 0), (6, 0), (7, 0), (8, 0), (9, 0), (10, 0), (11, 0), (12, 0), (13, 0), (14, 0), (15, 0), (16, 0), (17, 0), (18, 0), (17, 1), (18, 1), (19, 1), (18, 2), (19, 2), (20, 2), (21, 2), (22, 2), (23, 2), (24, 2), (25, 2), (26, 2), (27, 2), (28, 2), (29, 2), (29, 3)]\n",
      "neighbors [(27, 3), (27, 4), (27, 5), (28, 3), (28, 4), (28, 5), (29, 3), (29, 4), (29, 5)]\n",
      "full grid: [[0 0 0]\n",
      " [1 0 0]\n",
      " [0 0 0]]\n",
      "[[3 3 3]\n",
      " [3 3 3]\n",
      " [1 4 3]]\n",
      "free\n",
      "current_node -- (next_move) (29, 4)\n",
      "(array([3], dtype=int64),)\n",
      "right\n",
      "next_node out (29, 5)\n",
      "message right\n"
     ]
    },
    {
     "data": {
      "image/png": "[encoded data removed]",
      "text/plain": [
       "<Figure size 432x288 with 1 Axes>"
      ]
     },
     "metadata": {
      "needs_background": "light"
     },
     "output_type": "display_data"
    },
    {
     "name": "stdout",
     "output_type": "stream",
     "text": [
      "[(0, 0), (1, 0), (2, 0), (3, 0), (4, 0), (5, 0), (6, 0), (7, 0), (8, 0), (9, 0), (10, 0), (11, 0), (12, 0), (13, 0), (14, 0), (15, 0), (16, 0), (17, 0), (18, 0), (17, 1), (18, 1), (19, 1), (18, 2), (19, 2), (20, 2), (21, 2), (22, 2), (23, 2), (24, 2), (25, 2), (26, 2), (27, 2), (28, 2), (29, 2), (29, 3), (29, 4)]\n",
      "neighbors [(27, 4), (27, 5), (27, 6), (28, 4), (28, 5), (28, 6), (29, 4), (29, 5), (29, 6)]\n",
      "full grid: [[0 0 0]\n",
      " [0 0 0]\n",
      " [0 0 0]]\n",
      "[[3 3 3]\n",
      " [3 3 3]\n",
      " [1 4 3]]\n",
      "free\n",
      "current_node -- (next_move) (29, 5)\n",
      "(array([3], dtype=int64),)\n",
      "right\n",
      "next_node out (29, 6)\n",
      "message right\n"
     ]
    },
    {
     "data": {
      "image/png": "[encoded data removed]",
      "text/plain": [
       "<Figure size 432x288 with 1 Axes>"
      ]
     },
     "metadata": {
      "needs_background": "light"
     },
     "output_type": "display_data"
    },
    {
     "name": "stdout",
     "output_type": "stream",
     "text": [
      "[(0, 0), (1, 0), (2, 0), (3, 0), (4, 0), (5, 0), (6, 0), (7, 0), (8, 0), (9, 0), (10, 0), (11, 0), (12, 0), (13, 0), (14, 0), (15, 0), (16, 0), (17, 0), (18, 0), (17, 1), (18, 1), (19, 1), (18, 2), (19, 2), (20, 2), (21, 2), (22, 2), (23, 2), (24, 2), (25, 2), (26, 2), (27, 2), (28, 2), (29, 2), (29, 3), (29, 4), (29, 5)]\n",
      "neighbors [(27, 5), (27, 6), (27, 7), (28, 5), (28, 6), (28, 7), (29, 5), (29, 6), (29, 7)]\n",
      "full grid: [[0 0 0]\n",
      " [0 0 0]\n",
      " [0 0 0]]\n",
      "[[3 3 3]\n",
      " [3 3 3]\n",
      " [1 4 3]]\n",
      "free\n",
      "current_node -- (next_move) (29, 6)\n",
      "(array([3], dtype=int64),)\n",
      "right\n",
      "next_node out (29, 7)\n",
      "message right\n"
     ]
    },
    {
     "data": {
      "image/png": "[encoded data removed]",
      "text/plain": [
       "<Figure size 432x288 with 1 Axes>"
      ]
     },
     "metadata": {
      "needs_background": "light"
     },
     "output_type": "display_data"
    },
    {
     "name": "stdout",
     "output_type": "stream",
     "text": [
      "[(0, 0), (1, 0), (2, 0), (3, 0), (4, 0), (5, 0), (6, 0), (7, 0), (8, 0), (9, 0), (10, 0), (11, 0), (12, 0), (13, 0), (14, 0), (15, 0), (16, 0), (17, 0), (18, 0), (17, 1), (18, 1), (19, 1), (18, 2), (19, 2), (20, 2), (21, 2), (22, 2), (23, 2), (24, 2), (25, 2), (26, 2), (27, 2), (28, 2), (29, 2), (29, 3), (29, 4), (29, 5), (29, 6)]\n",
      "neighbors [(27, 6), (27, 7), (27, 8), (28, 6), (28, 7), (28, 8), (29, 6), (29, 7), (29, 8)]\n",
      "full grid: [[0 0 0]\n",
      " [0 0 0]\n",
      " [0 0 0]]\n",
      "[[3 3 3]\n",
      " [3 3 3]\n",
      " [1 4 3]]\n",
      "free\n",
      "current_node -- (next_move) (29, 7)\n",
      "(array([3], dtype=int64),)\n",
      "right\n",
      "next_node out (29, 8)\n",
      "message right\n"
     ]
    },
    {
     "data": {
      "image/png": "[encoded data removed]",
      "text/plain": [
       "<Figure size 432x288 with 1 Axes>"
      ]
     },
     "metadata": {
      "needs_background": "light"
     },
     "output_type": "display_data"
    },
    {
     "name": "stdout",
     "output_type": "stream",
     "text": [
      "[(0, 0), (1, 0), (2, 0), (3, 0), (4, 0), (5, 0), (6, 0), (7, 0), (8, 0), (9, 0), (10, 0), (11, 0), (12, 0), (13, 0), (14, 0), (15, 0), (16, 0), (17, 0), (18, 0), (17, 1), (18, 1), (19, 1), (18, 2), (19, 2), (20, 2), (21, 2), (22, 2), (23, 2), (24, 2), (25, 2), (26, 2), (27, 2), (28, 2), (29, 2), (29, 3), (29, 4), (29, 5), (29, 6), (29, 7)]\n",
      "neighbors [(27, 7), (27, 8), (27, 9), (28, 7), (28, 8), (28, 9), (29, 7), (29, 8), (29, 9)]\n",
      "full grid: [[0 0 0]\n",
      " [0 0 0]\n",
      " [0 0 1]]\n",
      "[[3 3 3]\n",
      " [3 3 3]\n",
      " [1 4 3]]\n",
      "free\n",
      "current_node -- (next_move) (29, 8)\n",
      "(array([3], dtype=int64),)\n",
      "right\n",
      "next_node out (29, 9)\n",
      "message right\n"
     ]
    },
    {
     "data": {
      "image/png": "[encoded data removed]",
      "text/plain": [
       "<Figure size 432x288 with 1 Axes>"
      ]
     },
     "metadata": {
      "needs_background": "light"
     },
     "output_type": "display_data"
    },
    {
     "name": "stdout",
     "output_type": "stream",
     "text": [
      "[(0, 0), (1, 0), (2, 0), (3, 0), (4, 0), (5, 0), (6, 0), (7, 0), (8, 0), (9, 0), (10, 0), (11, 0), (12, 0), (13, 0), (14, 0), (15, 0), (16, 0), (17, 0), (18, 0), (17, 1), (18, 1), (19, 1), (18, 2), (19, 2), (20, 2), (21, 2), (22, 2), (23, 2), (24, 2), (25, 2), (26, 2), (27, 2), (28, 2), (29, 2), (29, 3), (29, 4), (29, 5), (29, 6), (29, 7), (29, 8)]\n",
      "neighbors [(27, 8), (27, 9), (27, 10), (28, 8), (28, 9), (28, 10), (29, 8), (29, 9), (29, 10)]\n",
      "full grid: [[0 0 0]\n",
      " [0 0 0]\n",
      " [0 1 0]]\n",
      "[[3 3 3]\n",
      " [3 3 3]\n",
      " [1 4 3]]\n",
      "blocked\n",
      "next node::::  (29, 8)\n"
     ]
    },
    {
     "data": {
      "image/png": "[encoded data removed]",
      "text/plain": [
       "<Figure size 432x288 with 1 Axes>"
      ]
     },
     "metadata": {
      "needs_background": "light"
     },
     "output_type": "display_data"
    },
    {
     "name": "stdout",
     "output_type": "stream",
     "text": [
      "[(0, 0), (1, 0), (2, 0), (3, 0), (4, 0), (5, 0), (6, 0), (7, 0), (8, 0), (9, 0), (10, 0), (11, 0), (12, 0), (13, 0), (14, 0), (15, 0), (16, 0), (17, 0), (18, 0), (17, 1), (18, 1), (19, 1), (18, 2), (19, 2), (20, 2), (21, 2), (22, 2), (23, 2), (24, 2), (25, 2), (26, 2), (27, 2), (28, 2), (29, 2), (29, 3), (29, 4), (29, 5), (29, 6), (29, 7), (29, 8), (29, 9)]\n",
      "neighbors [(27, 7), (27, 8), (27, 9), (28, 7), (28, 8), (28, 9), (29, 7), (29, 8), (29, 9)]\n",
      "full grid: [[0 0 0]\n",
      " [0 0 0]\n",
      " [0 0 1]]\n",
      "[[3 3 3]\n",
      " [3 3 3]\n",
      " [1 4 2]]\n",
      "free\n",
      "current_node -- (next_move) (29, 8)\n",
      "(array([0], dtype=int64),)\n",
      "up\n",
      "next_node out (28, 8)\n",
      "message up\n"
     ]
    },
    {
     "data": {
      "image/png": "[encoded data removed]",
      "text/plain": [
       "<Figure size 432x288 with 1 Axes>"
      ]
     },
     "metadata": {
      "needs_background": "light"
     },
     "output_type": "display_data"
    },
    {
     "name": "stdout",
     "output_type": "stream",
     "text": [
      "[(0, 0), (1, 0), (2, 0), (3, 0), (4, 0), (5, 0), (6, 0), (7, 0), (8, 0), (9, 0), (10, 0), (11, 0), (12, 0), (13, 0), (14, 0), (15, 0), (16, 0), (17, 0), (18, 0), (17, 1), (18, 1), (19, 1), (18, 2), (19, 2), (20, 2), (21, 2), (22, 2), (23, 2), (24, 2), (25, 2), (26, 2), (27, 2), (28, 2), (29, 2), (29, 3), (29, 4), (29, 5), (29, 6), (29, 7), (29, 8), (29, 9)]\n",
      "neighbors [(27, 7), (27, 8), (27, 9), (28, 7), (28, 8), (28, 9), (29, 7), (29, 8), (29, 9)]\n",
      "full grid: [[0 0 0]\n",
      " [0 0 0]\n",
      " [0 0 1]]\n",
      "[[3 3 3]\n",
      " [3 4 3]\n",
      " [1 1 2]]\n",
      "free\n",
      "current_node -- (next_move) (28, 8)\n",
      "(array([3], dtype=int64),)\n",
      "right\n",
      "next_node out (28, 9)\n",
      "message right\n"
     ]
    },
    {
     "data": {
      "image/png": "[encoded data removed]",
      "text/plain": [
       "<Figure size 432x288 with 1 Axes>"
      ]
     },
     "metadata": {
      "needs_background": "light"
     },
     "output_type": "display_data"
    },
    {
     "name": "stdout",
     "output_type": "stream",
     "text": [
      "[(0, 0), (1, 0), (2, 0), (3, 0), (4, 0), (5, 0), (6, 0), (7, 0), (8, 0), (9, 0), (10, 0), (11, 0), (12, 0), (13, 0), (14, 0), (15, 0), (16, 0), (17, 0), (18, 0), (17, 1), (18, 1), (19, 1), (18, 2), (19, 2), (20, 2), (21, 2), (22, 2), (23, 2), (24, 2), (25, 2), (26, 2), (27, 2), (28, 2), (29, 2), (29, 3), (29, 4), (29, 5), (29, 6), (29, 7), (29, 8), (29, 9), (28, 8)]\n",
      "neighbors [(27, 8), (27, 9), (27, 10), (28, 8), (28, 9), (28, 10), (29, 8), (29, 9), (29, 10)]\n",
      "full grid: [[0 0 0]\n",
      " [0 0 0]\n",
      " [0 1 0]]\n",
      "[[3 3 3]\n",
      " [1 4 3]\n",
      " [1 2 3]]\n",
      "free\n",
      "current_node -- (next_move) (28, 9)\n",
      "(array([3], dtype=int64),)\n",
      "right\n",
      "next_node out (28, 10)\n",
      "message right\n"
     ]
    },
    {
     "data": {
      "image/png": "[encoded data removed]",
      "text/plain": [
       "<Figure size 432x288 with 1 Axes>"
      ]
     },
     "metadata": {
      "needs_background": "light"
     },
     "output_type": "display_data"
    },
    {
     "name": "stdout",
     "output_type": "stream",
     "text": [
      "[(0, 0), (1, 0), (2, 0), (3, 0), (4, 0), (5, 0), (6, 0), (7, 0), (8, 0), (9, 0), (10, 0), (11, 0), (12, 0), (13, 0), (14, 0), (15, 0), (16, 0), (17, 0), (18, 0), (17, 1), (18, 1), (19, 1), (18, 2), (19, 2), (20, 2), (21, 2), (22, 2), (23, 2), (24, 2), (25, 2), (26, 2), (27, 2), (28, 2), (29, 2), (29, 3), (29, 4), (29, 5), (29, 6), (29, 7), (29, 8), (29, 9), (28, 8), (28, 9)]\n",
      "neighbors [(27, 9), (27, 10), (27, 11), (28, 9), (28, 10), (28, 11), (29, 9), (29, 10), (29, 11)]\n",
      "full grid: [[0 0 0]\n",
      " [0 0 0]\n",
      " [1 0 0]]\n",
      "[[3 3 3]\n",
      " [1 4 3]\n",
      " [2 3 3]]\n",
      "free\n",
      "current_node -- (next_move) (28, 10)\n",
      "(array([3], dtype=int64),)\n",
      "right\n",
      "next_node out (28, 11)\n",
      "message right\n"
     ]
    },
    {
     "data": {
      "image/png": "[encoded data removed]",
      "text/plain": [
       "<Figure size 432x288 with 1 Axes>"
      ]
     },
     "metadata": {
      "needs_background": "light"
     },
     "output_type": "display_data"
    },
    {
     "name": "stdout",
     "output_type": "stream",
     "text": [
      "[(0, 0), (1, 0), (2, 0), (3, 0), (4, 0), (5, 0), (6, 0), (7, 0), (8, 0), (9, 0), (10, 0), (11, 0), (12, 0), (13, 0), (14, 0), (15, 0), (16, 0), (17, 0), (18, 0), (17, 1), (18, 1), (19, 1), (18, 2), (19, 2), (20, 2), (21, 2), (22, 2), (23, 2), (24, 2), (25, 2), (26, 2), (27, 2), (28, 2), (29, 2), (29, 3), (29, 4), (29, 5), (29, 6), (29, 7), (29, 8), (29, 9), (28, 8), (28, 9), (28, 10)]\n",
      "neighbors [(27, 10), (27, 11), (27, 12), (28, 10), (28, 11), (28, 12), (29, 10), (29, 11), (29, 12)]\n",
      "full grid: [[0 0 0]\n",
      " [0 0 0]\n",
      " [0 0 0]]\n",
      "[[3 3 3]\n",
      " [1 4 3]\n",
      " [3 3 3]]\n",
      "free\n",
      "current_node -- (next_move) (28, 11)\n",
      "(array([3], dtype=int64),)\n",
      "right\n",
      "next_node out (28, 12)\n",
      "message right\n"
     ]
    },
    {
     "data": {
      "image/png": "[encoded data removed]",
      "text/plain": [
       "<Figure size 432x288 with 1 Axes>"
      ]
     },
     "metadata": {
      "needs_background": "light"
     },
     "output_type": "display_data"
    },
    {
     "name": "stdout",
     "output_type": "stream",
     "text": [
      "[(0, 0), (1, 0), (2, 0), (3, 0), (4, 0), (5, 0), (6, 0), (7, 0), (8, 0), (9, 0), (10, 0), (11, 0), (12, 0), (13, 0), (14, 0), (15, 0), (16, 0), (17, 0), (18, 0), (17, 1), (18, 1), (19, 1), (18, 2), (19, 2), (20, 2), (21, 2), (22, 2), (23, 2), (24, 2), (25, 2), (26, 2), (27, 2), (28, 2), (29, 2), (29, 3), (29, 4), (29, 5), (29, 6), (29, 7), (29, 8), (29, 9), (28, 8), (28, 9), (28, 10), (28, 11)]\n",
      "neighbors [(27, 11), (27, 12), (27, 13), (28, 11), (28, 12), (28, 13), (29, 11), (29, 12), (29, 13)]\n",
      "full grid: [[0 0 0]\n",
      " [0 0 0]\n",
      " [0 0 0]]\n",
      "[[3 3 3]\n",
      " [1 4 3]\n",
      " [3 3 3]]\n",
      "free\n",
      "current_node -- (next_move) (28, 12)\n",
      "(array([3], dtype=int64),)\n",
      "right\n",
      "next_node out (28, 13)\n",
      "message right\n"
     ]
    },
    {
     "data": {
      "image/png": "[encoded data removed]",
      "text/plain": [
       "<Figure size 432x288 with 1 Axes>"
      ]
     },
     "metadata": {
      "needs_background": "light"
     },
     "output_type": "display_data"
    },
    {
     "name": "stdout",
     "output_type": "stream",
     "text": [
      "[(0, 0), (1, 0), (2, 0), (3, 0), (4, 0), (5, 0), (6, 0), (7, 0), (8, 0), (9, 0), (10, 0), (11, 0), (12, 0), (13, 0), (14, 0), (15, 0), (16, 0), (17, 0), (18, 0), (17, 1), (18, 1), (19, 1), (18, 2), (19, 2), (20, 2), (21, 2), (22, 2), (23, 2), (24, 2), (25, 2), (26, 2), (27, 2), (28, 2), (29, 2), (29, 3), (29, 4), (29, 5), (29, 6), (29, 7), (29, 8), (29, 9), (28, 8), (28, 9), (28, 10), (28, 11), (28, 12)]\n",
      "neighbors [(27, 12), (27, 13), (27, 14), (28, 12), (28, 13), (28, 14), (29, 12), (29, 13), (29, 14)]\n",
      "full grid: [[0 0 0]\n",
      " [0 0 0]\n",
      " [0 0 0]]\n",
      "[[3 3 3]\n",
      " [1 4 3]\n",
      " [3 3 3]]\n",
      "free\n",
      "current_node -- (next_move) (28, 13)\n",
      "(array([3], dtype=int64),)\n",
      "right\n",
      "next_node out (28, 14)\n",
      "message right\n"
     ]
    },
    {
     "data": {
      "image/png": "[encoded data removed]",
      "text/plain": [
       "<Figure size 432x288 with 1 Axes>"
      ]
     },
     "metadata": {
      "needs_background": "light"
     },
     "output_type": "display_data"
    },
    {
     "name": "stdout",
     "output_type": "stream",
     "text": [
      "[(0, 0), (1, 0), (2, 0), (3, 0), (4, 0), (5, 0), (6, 0), (7, 0), (8, 0), (9, 0), (10, 0), (11, 0), (12, 0), (13, 0), (14, 0), (15, 0), (16, 0), (17, 0), (18, 0), (17, 1), (18, 1), (19, 1), (18, 2), (19, 2), (20, 2), (21, 2), (22, 2), (23, 2), (24, 2), (25, 2), (26, 2), (27, 2), (28, 2), (29, 2), (29, 3), (29, 4), (29, 5), (29, 6), (29, 7), (29, 8), (29, 9), (28, 8), (28, 9), (28, 10), (28, 11), (28, 12), (28, 13)]\n",
      "neighbors [(27, 13), (27, 14), (27, 15), (28, 13), (28, 14), (28, 15), (29, 13), (29, 14), (29, 15)]\n",
      "full grid: [[0 0 0]\n",
      " [0 0 0]\n",
      " [0 0 0]]\n",
      "[[3 3 3]\n",
      " [1 4 3]\n",
      " [3 3 3]]\n",
      "free\n",
      "current_node -- (next_move) (28, 14)\n",
      "(array([3], dtype=int64),)\n",
      "right\n",
      "next_node out (28, 15)\n",
      "message right\n"
     ]
    },
    {
     "data": {
      "image/png": "[encoded data removed]",
      "text/plain": [
       "<Figure size 432x288 with 1 Axes>"
      ]
     },
     "metadata": {
      "needs_background": "light"
     },
     "output_type": "display_data"
    },
    {
     "name": "stdout",
     "output_type": "stream",
     "text": [
      "[(0, 0), (1, 0), (2, 0), (3, 0), (4, 0), (5, 0), (6, 0), (7, 0), (8, 0), (9, 0), (10, 0), (11, 0), (12, 0), (13, 0), (14, 0), (15, 0), (16, 0), (17, 0), (18, 0), (17, 1), (18, 1), (19, 1), (18, 2), (19, 2), (20, 2), (21, 2), (22, 2), (23, 2), (24, 2), (25, 2), (26, 2), (27, 2), (28, 2), (29, 2), (29, 3), (29, 4), (29, 5), (29, 6), (29, 7), (29, 8), (29, 9), (28, 8), (28, 9), (28, 10), (28, 11), (28, 12), (28, 13), (28, 14)]\n",
      "neighbors [(27, 14), (27, 15), (27, 16), (28, 14), (28, 15), (28, 16), (29, 14), (29, 15), (29, 16)]\n",
      "full grid: [[0 0 1]\n",
      " [0 0 0]\n",
      " [0 0 0]]\n",
      "[[3 3 3]\n",
      " [1 4 3]\n",
      " [3 3 3]]\n",
      "free\n",
      "current_node -- (next_move) (28, 15)\n",
      "(array([3], dtype=int64),)\n",
      "right\n",
      "next_node out (28, 16)\n",
      "message right\n"
     ]
    },
    {
     "data": {
      "image/png": "[encoded data removed]",
      "text/plain": [
       "<Figure size 432x288 with 1 Axes>"
      ]
     },
     "metadata": {
      "needs_background": "light"
     },
     "output_type": "display_data"
    },
    {
     "name": "stdout",
     "output_type": "stream",
     "text": [
      "[(0, 0), (1, 0), (2, 0), (3, 0), (4, 0), (5, 0), (6, 0), (7, 0), (8, 0), (9, 0), (10, 0), (11, 0), (12, 0), (13, 0), (14, 0), (15, 0), (16, 0), (17, 0), (18, 0), (17, 1), (18, 1), (19, 1), (18, 2), (19, 2), (20, 2), (21, 2), (22, 2), (23, 2), (24, 2), (25, 2), (26, 2), (27, 2), (28, 2), (29, 2), (29, 3), (29, 4), (29, 5), (29, 6), (29, 7), (29, 8), (29, 9), (28, 8), (28, 9), (28, 10), (28, 11), (28, 12), (28, 13), (28, 14), (28, 15)]\n",
      "neighbors [(27, 15), (27, 16), (27, 17), (28, 15), (28, 16), (28, 17), (29, 15), (29, 16), (29, 17)]\n",
      "full grid: [[0 1 0]\n",
      " [0 0 0]\n",
      " [0 0 1]]\n",
      "[[3 3 3]\n",
      " [1 4 3]\n",
      " [3 3 3]]\n",
      "free\n",
      "current_node -- (next_move) (28, 16)\n",
      "(array([3], dtype=int64),)\n",
      "right\n",
      "next_node out (28, 17)\n",
      "message right\n"
     ]
    },
    {
     "data": {
      "image/png": "[encoded data removed]",
      "text/plain": [
       "<Figure size 432x288 with 1 Axes>"
      ]
     },
     "metadata": {
      "needs_background": "light"
     },
     "output_type": "display_data"
    },
    {
     "name": "stdout",
     "output_type": "stream",
     "text": [
      "[(0, 0), (1, 0), (2, 0), (3, 0), (4, 0), (5, 0), (6, 0), (7, 0), (8, 0), (9, 0), (10, 0), (11, 0), (12, 0), (13, 0), (14, 0), (15, 0), (16, 0), (17, 0), (18, 0), (17, 1), (18, 1), (19, 1), (18, 2), (19, 2), (20, 2), (21, 2), (22, 2), (23, 2), (24, 2), (25, 2), (26, 2), (27, 2), (28, 2), (29, 2), (29, 3), (29, 4), (29, 5), (29, 6), (29, 7), (29, 8), (29, 9), (28, 8), (28, 9), (28, 10), (28, 11), (28, 12), (28, 13), (28, 14), (28, 15), (28, 16)]\n",
      "neighbors [(27, 16), (27, 17), (27, 18), (28, 16), (28, 17), (28, 18), (29, 16), (29, 17), (29, 18)]\n",
      "full grid: [[1 0 0]\n",
      " [0 0 0]\n",
      " [0 1 0]]\n",
      "[[3 3 3]\n",
      " [1 4 3]\n",
      " [3 3 3]]\n",
      "free\n",
      "current_node -- (next_move) (28, 17)\n",
      "(array([3], dtype=int64),)\n",
      "right\n",
      "next_node out (28, 18)\n",
      "message right\n"
     ]
    },
    {
     "data": {
      "image/png": "[encoded data removed]",
      "text/plain": [
       "<Figure size 432x288 with 1 Axes>"
      ]
     },
     "metadata": {
      "needs_background": "light"
     },
     "output_type": "display_data"
    },
    {
     "name": "stdout",
     "output_type": "stream",
     "text": [
      "[(0, 0), (1, 0), (2, 0), (3, 0), (4, 0), (5, 0), (6, 0), (7, 0), (8, 0), (9, 0), (10, 0), (11, 0), (12, 0), (13, 0), (14, 0), (15, 0), (16, 0), (17, 0), (18, 0), (17, 1), (18, 1), (19, 1), (18, 2), (19, 2), (20, 2), (21, 2), (22, 2), (23, 2), (24, 2), (25, 2), (26, 2), (27, 2), (28, 2), (29, 2), (29, 3), (29, 4), (29, 5), (29, 6), (29, 7), (29, 8), (29, 9), (28, 8), (28, 9), (28, 10), (28, 11), (28, 12), (28, 13), (28, 14), (28, 15), (28, 16), (28, 17)]\n",
      "neighbors [(27, 17), (27, 18), (27, 19), (28, 17), (28, 18), (28, 19), (29, 17), (29, 18), (29, 19)]\n",
      "full grid: [[0 0 0]\n",
      " [0 0 1]\n",
      " [1 0 0]]\n",
      "[[3 3 3]\n",
      " [1 4 3]\n",
      " [3 3 3]]\n",
      "free\n",
      "current_node -- (next_move) (28, 18)\n",
      "(array([3], dtype=int64),)\n",
      "right\n",
      "next_node out (28, 19)\n",
      "message right\n"
     ]
    },
    {
     "data": {
      "image/png": "[encoded data removed]",
      "text/plain": [
       "<Figure size 432x288 with 1 Axes>"
      ]
     },
     "metadata": {
      "needs_background": "light"
     },
     "output_type": "display_data"
    },
    {
     "name": "stdout",
     "output_type": "stream",
     "text": [
      "[(0, 0), (1, 0), (2, 0), (3, 0), (4, 0), (5, 0), (6, 0), (7, 0), (8, 0), (9, 0), (10, 0), (11, 0), (12, 0), (13, 0), (14, 0), (15, 0), (16, 0), (17, 0), (18, 0), (17, 1), (18, 1), (19, 1), (18, 2), (19, 2), (20, 2), (21, 2), (22, 2), (23, 2), (24, 2), (25, 2), (26, 2), (27, 2), (28, 2), (29, 2), (29, 3), (29, 4), (29, 5), (29, 6), (29, 7), (29, 8), (29, 9), (28, 8), (28, 9), (28, 10), (28, 11), (28, 12), (28, 13), (28, 14), (28, 15), (28, 16), (28, 17), (28, 18)]\n",
      "neighbors [(27, 18), (27, 19), (27, 20), (28, 18), (28, 19), (28, 20), (29, 18), (29, 19), (29, 20)]\n",
      "full grid: [[0 0 0]\n",
      " [0 1 1]\n",
      " [0 0 0]]\n",
      "[[3 3 3]\n",
      " [1 4 3]\n",
      " [3 3 3]]\n",
      "blocked\n",
      "next node::::  (28, 18)\n"
     ]
    },
    {
     "data": {
      "image/png": "[encoded data removed]",
      "text/plain": [
       "<Figure size 432x288 with 1 Axes>"
      ]
     },
     "metadata": {
      "needs_background": "light"
     },
     "output_type": "display_data"
    },
    {
     "name": "stdout",
     "output_type": "stream",
     "text": [
      "[(0, 0), (1, 0), (2, 0), (3, 0), (4, 0), (5, 0), (6, 0), (7, 0), (8, 0), (9, 0), (10, 0), (11, 0), (12, 0), (13, 0), (14, 0), (15, 0), (16, 0), (17, 0), (18, 0), (17, 1), (18, 1), (19, 1), (18, 2), (19, 2), (20, 2), (21, 2), (22, 2), (23, 2), (24, 2), (25, 2), (26, 2), (27, 2), (28, 2), (29, 2), (29, 3), (29, 4), (29, 5), (29, 6), (29, 7), (29, 8), (29, 9), (28, 8), (28, 9), (28, 10), (28, 11), (28, 12), (28, 13), (28, 14), (28, 15), (28, 16), (28, 17), (28, 18), (28, 19)]\n",
      "neighbors [(27, 17), (27, 18), (27, 19), (28, 17), (28, 18), (28, 19), (29, 17), (29, 18), (29, 19)]\n",
      "full grid: [[0 0 0]\n",
      " [0 0 1]\n",
      " [1 0 0]]\n",
      "[[3 3 3]\n",
      " [1 4 2]\n",
      " [3 3 3]]\n",
      "free\n",
      "current_node -- (next_move) (28, 18)\n",
      "(array([1], dtype=int64),)\n",
      "down\n",
      "next_node out (29, 18)\n",
      "message down\n"
     ]
    },
    {
     "data": {
      "image/png": "[encoded data removed]",
      "text/plain": [
       "<Figure size 432x288 with 1 Axes>"
      ]
     },
     "metadata": {
      "needs_background": "light"
     },
     "output_type": "display_data"
    },
    {
     "name": "stdout",
     "output_type": "stream",
     "text": [
      "[(0, 0), (1, 0), (2, 0), (3, 0), (4, 0), (5, 0), (6, 0), (7, 0), (8, 0), (9, 0), (10, 0), (11, 0), (12, 0), (13, 0), (14, 0), (15, 0), (16, 0), (17, 0), (18, 0), (17, 1), (18, 1), (19, 1), (18, 2), (19, 2), (20, 2), (21, 2), (22, 2), (23, 2), (24, 2), (25, 2), (26, 2), (27, 2), (28, 2), (29, 2), (29, 3), (29, 4), (29, 5), (29, 6), (29, 7), (29, 8), (29, 9), (28, 8), (28, 9), (28, 10), (28, 11), (28, 12), (28, 13), (28, 14), (28, 15), (28, 16), (28, 17), (28, 18), (28, 19)]\n",
      "neighbors [(27, 17), (27, 18), (27, 19), (28, 17), (28, 18), (28, 19), (29, 17), (29, 18), (29, 19)]\n",
      "full grid: [[0 0 0]\n",
      " [0 0 1]\n",
      " [1 0 0]]\n",
      "[[3 3 3]\n",
      " [1 1 2]\n",
      " [3 4 3]]\n",
      "free\n",
      "current_node -- (next_move) (29, 18)\n",
      "(array([3], dtype=int64),)\n",
      "right\n",
      "next_node out (29, 19)\n",
      "message right\n"
     ]
    },
    {
     "data": {
      "image/png": "[encoded data removed]",
      "text/plain": [
       "<Figure size 432x288 with 1 Axes>"
      ]
     },
     "metadata": {
      "needs_background": "light"
     },
     "output_type": "display_data"
    },
    {
     "name": "stdout",
     "output_type": "stream",
     "text": [
      "[(0, 0), (1, 0), (2, 0), (3, 0), (4, 0), (5, 0), (6, 0), (7, 0), (8, 0), (9, 0), (10, 0), (11, 0), (12, 0), (13, 0), (14, 0), (15, 0), (16, 0), (17, 0), (18, 0), (17, 1), (18, 1), (19, 1), (18, 2), (19, 2), (20, 2), (21, 2), (22, 2), (23, 2), (24, 2), (25, 2), (26, 2), (27, 2), (28, 2), (29, 2), (29, 3), (29, 4), (29, 5), (29, 6), (29, 7), (29, 8), (29, 9), (28, 8), (28, 9), (28, 10), (28, 11), (28, 12), (28, 13), (28, 14), (28, 15), (28, 16), (28, 17), (28, 18), (28, 19), (29, 18)]\n",
      "neighbors [(27, 18), (27, 19), (27, 20), (28, 18), (28, 19), (28, 20), (29, 18), (29, 19), (29, 20)]\n",
      "full grid: [[0 0 0]\n",
      " [0 1 1]\n",
      " [0 0 0]]\n",
      "[[3 3 3]\n",
      " [1 2 3]\n",
      " [1 4 3]]\n",
      "free\n",
      "current_node -- (next_move) (29, 19)\n",
      "(array([3], dtype=int64),)\n",
      "right\n",
      "next_node out (29, 20)\n",
      "message right\n"
     ]
    },
    {
     "data": {
      "image/png": "[encoded data removed]",
      "text/plain": [
       "<Figure size 432x288 with 1 Axes>"
      ]
     },
     "metadata": {
      "needs_background": "light"
     },
     "output_type": "display_data"
    },
    {
     "name": "stdout",
     "output_type": "stream",
     "text": [
      "[(0, 0), (1, 0), (2, 0), (3, 0), (4, 0), (5, 0), (6, 0), (7, 0), (8, 0), (9, 0), (10, 0), (11, 0), (12, 0), (13, 0), (14, 0), (15, 0), (16, 0), (17, 0), (18, 0), (17, 1), (18, 1), (19, 1), (18, 2), (19, 2), (20, 2), (21, 2), (22, 2), (23, 2), (24, 2), (25, 2), (26, 2), (27, 2), (28, 2), (29, 2), (29, 3), (29, 4), (29, 5), (29, 6), (29, 7), (29, 8), (29, 9), (28, 8), (28, 9), (28, 10), (28, 11), (28, 12), (28, 13), (28, 14), (28, 15), (28, 16), (28, 17), (28, 18), (28, 19), (29, 18), (29, 19)]\n",
      "neighbors [(27, 19), (27, 20), (27, 21), (28, 19), (28, 20), (28, 21), (29, 19), (29, 20), (29, 21)]\n",
      "full grid: [[0 0 0]\n",
      " [1 1 1]\n",
      " [0 0 0]]\n",
      "[[3 3 3]\n",
      " [2 3 3]\n",
      " [1 4 3]]\n",
      "free\n",
      "current_node -- (next_move) (29, 20)\n",
      "(array([3], dtype=int64),)\n",
      "right\n",
      "next_node out (29, 21)\n",
      "message right\n"
     ]
    },
    {
     "data": {
      "image/png": "[encoded data removed]",
      "text/plain": [
       "<Figure size 432x288 with 1 Axes>"
      ]
     },
     "metadata": {
      "needs_background": "light"
     },
     "output_type": "display_data"
    },
    {
     "name": "stdout",
     "output_type": "stream",
     "text": [
      "[(0, 0), (1, 0), (2, 0), (3, 0), (4, 0), (5, 0), (6, 0), (7, 0), (8, 0), (9, 0), (10, 0), (11, 0), (12, 0), (13, 0), (14, 0), (15, 0), (16, 0), (17, 0), (18, 0), (17, 1), (18, 1), (19, 1), (18, 2), (19, 2), (20, 2), (21, 2), (22, 2), (23, 2), (24, 2), (25, 2), (26, 2), (27, 2), (28, 2), (29, 2), (29, 3), (29, 4), (29, 5), (29, 6), (29, 7), (29, 8), (29, 9), (28, 8), (28, 9), (28, 10), (28, 11), (28, 12), (28, 13), (28, 14), (28, 15), (28, 16), (28, 17), (28, 18), (28, 19), (29, 18), (29, 19), (29, 20)]\n",
      "neighbors [(27, 20), (27, 21), (27, 22), (28, 20), (28, 21), (28, 22), (29, 20), (29, 21), (29, 22)]\n",
      "full grid: [[0 0 0]\n",
      " [1 1 0]\n",
      " [0 0 0]]\n",
      "[[3 3 3]\n",
      " [3 3 3]\n",
      " [1 4 3]]\n",
      "free\n",
      "current_node -- (next_move) (29, 21)\n",
      "(array([3], dtype=int64),)\n",
      "right\n",
      "next_node out (29, 22)\n",
      "message right\n"
     ]
    },
    {
     "data": {
      "image/png": "[encoded data removed]",
      "text/plain": [
       "<Figure size 432x288 with 1 Axes>"
      ]
     },
     "metadata": {
      "needs_background": "light"
     },
     "output_type": "display_data"
    },
    {
     "name": "stdout",
     "output_type": "stream",
     "text": [
      "[(0, 0), (1, 0), (2, 0), (3, 0), (4, 0), (5, 0), (6, 0), (7, 0), (8, 0), (9, 0), (10, 0), (11, 0), (12, 0), (13, 0), (14, 0), (15, 0), (16, 0), (17, 0), (18, 0), (17, 1), (18, 1), (19, 1), (18, 2), (19, 2), (20, 2), (21, 2), (22, 2), (23, 2), (24, 2), (25, 2), (26, 2), (27, 2), (28, 2), (29, 2), (29, 3), (29, 4), (29, 5), (29, 6), (29, 7), (29, 8), (29, 9), (28, 8), (28, 9), (28, 10), (28, 11), (28, 12), (28, 13), (28, 14), (28, 15), (28, 16), (28, 17), (28, 18), (28, 19), (29, 18), (29, 19), (29, 20), (29, 21)]\n",
      "neighbors [(27, 21), (27, 22), (27, 23), (28, 21), (28, 22), (28, 23), (29, 21), (29, 22), (29, 23)]\n",
      "full grid: [[0 0 0]\n",
      " [1 0 0]\n",
      " [0 0 1]]\n",
      "[[3 3 3]\n",
      " [3 3 3]\n",
      " [1 4 3]]\n",
      "free\n",
      "current_node -- (next_move) (29, 22)\n",
      "(array([3], dtype=int64),)\n",
      "right\n",
      "next_node out (29, 23)\n",
      "message right\n"
     ]
    },
    {
     "data": {
      "image/png": "[encoded data removed]",
      "text/plain": [
       "<Figure size 432x288 with 1 Axes>"
      ]
     },
     "metadata": {
      "needs_background": "light"
     },
     "output_type": "display_data"
    },
    {
     "name": "stdout",
     "output_type": "stream",
     "text": [
      "[(0, 0), (1, 0), (2, 0), (3, 0), (4, 0), (5, 0), (6, 0), (7, 0), (8, 0), (9, 0), (10, 0), (11, 0), (12, 0), (13, 0), (14, 0), (15, 0), (16, 0), (17, 0), (18, 0), (17, 1), (18, 1), (19, 1), (18, 2), (19, 2), (20, 2), (21, 2), (22, 2), (23, 2), (24, 2), (25, 2), (26, 2), (27, 2), (28, 2), (29, 2), (29, 3), (29, 4), (29, 5), (29, 6), (29, 7), (29, 8), (29, 9), (28, 8), (28, 9), (28, 10), (28, 11), (28, 12), (28, 13), (28, 14), (28, 15), (28, 16), (28, 17), (28, 18), (28, 19), (29, 18), (29, 19), (29, 20), (29, 21), (29, 22)]\n",
      "neighbors [(27, 22), (27, 23), (27, 24), (28, 22), (28, 23), (28, 24), (29, 22), (29, 23), (29, 24)]\n",
      "full grid: [[0 0 0]\n",
      " [0 0 0]\n",
      " [0 1 0]]\n",
      "[[3 3 3]\n",
      " [3 3 3]\n",
      " [1 4 3]]\n",
      "blocked\n",
      "next node::::  (29, 22)\n"
     ]
    },
    {
     "data": {
      "image/png": "[encoded data removed]",
      "text/plain": [
       "<Figure size 432x288 with 1 Axes>"
      ]
     },
     "metadata": {
      "needs_background": "light"
     },
     "output_type": "display_data"
    },
    {
     "name": "stdout",
     "output_type": "stream",
     "text": [
      "[(0, 0), (1, 0), (2, 0), (3, 0), (4, 0), (5, 0), (6, 0), (7, 0), (8, 0), (9, 0), (10, 0), (11, 0), (12, 0), (13, 0), (14, 0), (15, 0), (16, 0), (17, 0), (18, 0), (17, 1), (18, 1), (19, 1), (18, 2), (19, 2), (20, 2), (21, 2), (22, 2), (23, 2), (24, 2), (25, 2), (26, 2), (27, 2), (28, 2), (29, 2), (29, 3), (29, 4), (29, 5), (29, 6), (29, 7), (29, 8), (29, 9), (28, 8), (28, 9), (28, 10), (28, 11), (28, 12), (28, 13), (28, 14), (28, 15), (28, 16), (28, 17), (28, 18), (28, 19), (29, 18), (29, 19), (29, 20), (29, 21), (29, 22), (29, 23)]\n",
      "neighbors [(27, 21), (27, 22), (27, 23), (28, 21), (28, 22), (28, 23), (29, 21), (29, 22), (29, 23)]\n",
      "full grid: [[0 0 0]\n",
      " [1 0 0]\n",
      " [0 0 1]]\n",
      "[[3 3 3]\n",
      " [3 3 3]\n",
      " [1 4 2]]\n",
      "free\n",
      "current_node -- (next_move) (29, 22)\n",
      "(array([0], dtype=int64),)\n",
      "up\n",
      "next_node out (28, 22)\n",
      "message up\n"
     ]
    },
    {
     "data": {
      "image/png": "[encoded data removed]",
      "text/plain": [
       "<Figure size 432x288 with 1 Axes>"
      ]
     },
     "metadata": {
      "needs_background": "light"
     },
     "output_type": "display_data"
    },
    {
     "name": "stdout",
     "output_type": "stream",
     "text": [
      "[(0, 0), (1, 0), (2, 0), (3, 0), (4, 0), (5, 0), (6, 0), (7, 0), (8, 0), (9, 0), (10, 0), (11, 0), (12, 0), (13, 0), (14, 0), (15, 0), (16, 0), (17, 0), (18, 0), (17, 1), (18, 1), (19, 1), (18, 2), (19, 2), (20, 2), (21, 2), (22, 2), (23, 2), (24, 2), (25, 2), (26, 2), (27, 2), (28, 2), (29, 2), (29, 3), (29, 4), (29, 5), (29, 6), (29, 7), (29, 8), (29, 9), (28, 8), (28, 9), (28, 10), (28, 11), (28, 12), (28, 13), (28, 14), (28, 15), (28, 16), (28, 17), (28, 18), (28, 19), (29, 18), (29, 19), (29, 20), (29, 21), (29, 22), (29, 23)]\n",
      "neighbors [(27, 21), (27, 22), (27, 23), (28, 21), (28, 22), (28, 23), (29, 21), (29, 22), (29, 23)]\n",
      "full grid: [[0 0 0]\n",
      " [1 0 0]\n",
      " [0 0 1]]\n",
      "[[3 3 3]\n",
      " [3 4 3]\n",
      " [1 1 2]]\n",
      "free\n",
      "current_node -- (next_move) (28, 22)\n",
      "(array([3], dtype=int64),)\n",
      "right\n",
      "next_node out (28, 23)\n",
      "message right\n"
     ]
    },
    {
     "data": {
      "image/png": "[encoded data removed]",
      "text/plain": [
       "<Figure size 432x288 with 1 Axes>"
      ]
     },
     "metadata": {
      "needs_background": "light"
     },
     "output_type": "display_data"
    },
    {
     "name": "stdout",
     "output_type": "stream",
     "text": [
      "[(0, 0), (1, 0), (2, 0), (3, 0), (4, 0), (5, 0), (6, 0), (7, 0), (8, 0), (9, 0), (10, 0), (11, 0), (12, 0), (13, 0), (14, 0), (15, 0), (16, 0), (17, 0), (18, 0), (17, 1), (18, 1), (19, 1), (18, 2), (19, 2), (20, 2), (21, 2), (22, 2), (23, 2), (24, 2), (25, 2), (26, 2), (27, 2), (28, 2), (29, 2), (29, 3), (29, 4), (29, 5), (29, 6), (29, 7), (29, 8), (29, 9), (28, 8), (28, 9), (28, 10), (28, 11), (28, 12), (28, 13), (28, 14), (28, 15), (28, 16), (28, 17), (28, 18), (28, 19), (29, 18), (29, 19), (29, 20), (29, 21), (29, 22), (29, 23), (28, 22)]\n",
      "neighbors [(27, 22), (27, 23), (27, 24), (28, 22), (28, 23), (28, 24), (29, 22), (29, 23), (29, 24)]\n",
      "full grid: [[0 0 0]\n",
      " [0 0 0]\n",
      " [0 1 0]]\n",
      "[[3 3 3]\n",
      " [1 4 3]\n",
      " [1 2 3]]\n",
      "free\n",
      "current_node -- (next_move) (28, 23)\n",
      "(array([3], dtype=int64),)\n",
      "right\n",
      "next_node out (28, 24)\n",
      "message right\n"
     ]
    },
    {
     "data": {
      "image/png": "[encoded data removed]",
      "text/plain": [
       "<Figure size 432x288 with 1 Axes>"
      ]
     },
     "metadata": {
      "needs_background": "light"
     },
     "output_type": "display_data"
    },
    {
     "name": "stdout",
     "output_type": "stream",
     "text": [
      "[(0, 0), (1, 0), (2, 0), (3, 0), (4, 0), (5, 0), (6, 0), (7, 0), (8, 0), (9, 0), (10, 0), (11, 0), (12, 0), (13, 0), (14, 0), (15, 0), (16, 0), (17, 0), (18, 0), (17, 1), (18, 1), (19, 1), (18, 2), (19, 2), (20, 2), (21, 2), (22, 2), (23, 2), (24, 2), (25, 2), (26, 2), (27, 2), (28, 2), (29, 2), (29, 3), (29, 4), (29, 5), (29, 6), (29, 7), (29, 8), (29, 9), (28, 8), (28, 9), (28, 10), (28, 11), (28, 12), (28, 13), (28, 14), (28, 15), (28, 16), (28, 17), (28, 18), (28, 19), (29, 18), (29, 19), (29, 20), (29, 21), (29, 22), (29, 23), (28, 22), (28, 23)]\n",
      "neighbors [(27, 23), (27, 24), (27, 25), (28, 23), (28, 24), (28, 25), (29, 23), (29, 24), (29, 25)]\n",
      "full grid: [[0 0 0]\n",
      " [0 0 0]\n",
      " [1 0 0]]\n",
      "[[3 3 3]\n",
      " [1 4 3]\n",
      " [2 3 3]]\n",
      "free\n",
      "current_node -- (next_move) (28, 24)\n",
      "(array([3], dtype=int64),)\n",
      "right\n",
      "next_node out (28, 25)\n",
      "message right\n"
     ]
    },
    {
     "data": {
      "image/png": "[encoded data removed]",
      "text/plain": [
       "<Figure size 432x288 with 1 Axes>"
      ]
     },
     "metadata": {
      "needs_background": "light"
     },
     "output_type": "display_data"
    },
    {
     "name": "stdout",
     "output_type": "stream",
     "text": [
      "[(0, 0), (1, 0), (2, 0), (3, 0), (4, 0), (5, 0), (6, 0), (7, 0), (8, 0), (9, 0), (10, 0), (11, 0), (12, 0), (13, 0), (14, 0), (15, 0), (16, 0), (17, 0), (18, 0), (17, 1), (18, 1), (19, 1), (18, 2), (19, 2), (20, 2), (21, 2), (22, 2), (23, 2), (24, 2), (25, 2), (26, 2), (27, 2), (28, 2), (29, 2), (29, 3), (29, 4), (29, 5), (29, 6), (29, 7), (29, 8), (29, 9), (28, 8), (28, 9), (28, 10), (28, 11), (28, 12), (28, 13), (28, 14), (28, 15), (28, 16), (28, 17), (28, 18), (28, 19), (29, 18), (29, 19), (29, 20), (29, 21), (29, 22), (29, 23), (28, 22), (28, 23), (28, 24)]\n",
      "neighbors [(27, 24), (27, 25), (27, 26), (28, 24), (28, 25), (28, 26), (29, 24), (29, 25), (29, 26)]\n",
      "full grid: [[0 0 0]\n",
      " [0 0 0]\n",
      " [0 0 0]]\n",
      "[[3 3 3]\n",
      " [1 4 3]\n",
      " [3 3 3]]\n",
      "free\n",
      "current_node -- (next_move) (28, 25)\n",
      "(array([3], dtype=int64),)\n",
      "right\n",
      "next_node out (28, 26)\n",
      "message right\n"
     ]
    },
    {
     "data": {
      "image/png": "[encoded data removed]",
      "text/plain": [
       "<Figure size 432x288 with 1 Axes>"
      ]
     },
     "metadata": {
      "needs_background": "light"
     },
     "output_type": "display_data"
    },
    {
     "name": "stdout",
     "output_type": "stream",
     "text": [
      "[(0, 0), (1, 0), (2, 0), (3, 0), (4, 0), (5, 0), (6, 0), (7, 0), (8, 0), (9, 0), (10, 0), (11, 0), (12, 0), (13, 0), (14, 0), (15, 0), (16, 0), (17, 0), (18, 0), (17, 1), (18, 1), (19, 1), (18, 2), (19, 2), (20, 2), (21, 2), (22, 2), (23, 2), (24, 2), (25, 2), (26, 2), (27, 2), (28, 2), (29, 2), (29, 3), (29, 4), (29, 5), (29, 6), (29, 7), (29, 8), (29, 9), (28, 8), (28, 9), (28, 10), (28, 11), (28, 12), (28, 13), (28, 14), (28, 15), (28, 16), (28, 17), (28, 18), (28, 19), (29, 18), (29, 19), (29, 20), (29, 21), (29, 22), (29, 23), (28, 22), (28, 23), (28, 24), (28, 25)]\n",
      "neighbors [(27, 25), (27, 26), (27, 27), (28, 25), (28, 26), (28, 27), (29, 25), (29, 26), (29, 27)]\n",
      "full grid: [[0 0 0]\n",
      " [0 0 0]\n",
      " [0 0 0]]\n",
      "[[3 3 3]\n",
      " [1 4 3]\n",
      " [3 3 3]]\n",
      "free\n",
      "current_node -- (next_move) (28, 26)\n",
      "(array([3], dtype=int64),)\n",
      "right\n",
      "next_node out (28, 27)\n",
      "message right\n"
     ]
    },
    {
     "data": {
      "image/png": "[encoded data removed]",
      "text/plain": [
       "<Figure size 432x288 with 1 Axes>"
      ]
     },
     "metadata": {
      "needs_background": "light"
     },
     "output_type": "display_data"
    },
    {
     "name": "stdout",
     "output_type": "stream",
     "text": [
      "[(0, 0), (1, 0), (2, 0), (3, 0), (4, 0), (5, 0), (6, 0), (7, 0), (8, 0), (9, 0), (10, 0), (11, 0), (12, 0), (13, 0), (14, 0), (15, 0), (16, 0), (17, 0), (18, 0), (17, 1), (18, 1), (19, 1), (18, 2), (19, 2), (20, 2), (21, 2), (22, 2), (23, 2), (24, 2), (25, 2), (26, 2), (27, 2), (28, 2), (29, 2), (29, 3), (29, 4), (29, 5), (29, 6), (29, 7), (29, 8), (29, 9), (28, 8), (28, 9), (28, 10), (28, 11), (28, 12), (28, 13), (28, 14), (28, 15), (28, 16), (28, 17), (28, 18), (28, 19), (29, 18), (29, 19), (29, 20), (29, 21), (29, 22), (29, 23), (28, 22), (28, 23), (28, 24), (28, 25), (28, 26)]\n",
      "neighbors [(27, 26), (27, 27), (27, 28), (28, 26), (28, 27), (28, 28), (29, 26), (29, 27), (29, 28)]\n",
      "full grid: [[0 0 0]\n",
      " [0 0 0]\n",
      " [0 0 0]]\n",
      "[[3 3 3]\n",
      " [1 4 3]\n",
      " [3 3 3]]\n",
      "free\n",
      "current_node -- (next_move) (28, 27)\n",
      "(array([3], dtype=int64),)\n",
      "right\n",
      "next_node out (28, 28)\n",
      "message right\n"
     ]
    },
    {
     "data": {
      "image/png": "[encoded data removed]",
      "text/plain": [
       "<Figure size 432x288 with 1 Axes>"
      ]
     },
     "metadata": {
      "needs_background": "light"
     },
     "output_type": "display_data"
    },
    {
     "name": "stdout",
     "output_type": "stream",
     "text": [
      "[(0, 0), (1, 0), (2, 0), (3, 0), (4, 0), (5, 0), (6, 0), (7, 0), (8, 0), (9, 0), (10, 0), (11, 0), (12, 0), (13, 0), (14, 0), (15, 0), (16, 0), (17, 0), (18, 0), (17, 1), (18, 1), (19, 1), (18, 2), (19, 2), (20, 2), (21, 2), (22, 2), (23, 2), (24, 2), (25, 2), (26, 2), (27, 2), (28, 2), (29, 2), (29, 3), (29, 4), (29, 5), (29, 6), (29, 7), (29, 8), (29, 9), (28, 8), (28, 9), (28, 10), (28, 11), (28, 12), (28, 13), (28, 14), (28, 15), (28, 16), (28, 17), (28, 18), (28, 19), (29, 18), (29, 19), (29, 20), (29, 21), (29, 22), (29, 23), (28, 22), (28, 23), (28, 24), (28, 25), (28, 26), (28, 27)]\n",
      "neighbors [(27, 27), (27, 28), (27, 29), (28, 27), (28, 28), (28, 29), (29, 27), (29, 28), (29, 29)]\n",
      "full grid: [[0 0 0]\n",
      " [0 0 0]\n",
      " [0 0 0]]\n",
      "[[3 3 3]\n",
      " [1 4 3]\n",
      " [3 3 3]]\n",
      "free\n",
      "current_node -- (next_move) (28, 28)\n",
      "(array([3], dtype=int64),)\n",
      "right\n",
      "next_node out (28, 29)\n",
      "message right\n"
     ]
    },
    {
     "data": {
      "image/png": "[encoded data removed]",
      "text/plain": [
       "<Figure size 432x288 with 1 Axes>"
      ]
     },
     "metadata": {
      "needs_background": "light"
     },
     "output_type": "display_data"
    },
    {
     "name": "stdout",
     "output_type": "stream",
     "text": [
      "[(0, 0), (1, 0), (2, 0), (3, 0), (4, 0), (5, 0), (6, 0), (7, 0), (8, 0), (9, 0), (10, 0), (11, 0), (12, 0), (13, 0), (14, 0), (15, 0), (16, 0), (17, 0), (18, 0), (17, 1), (18, 1), (19, 1), (18, 2), (19, 2), (20, 2), (21, 2), (22, 2), (23, 2), (24, 2), (25, 2), (26, 2), (27, 2), (28, 2), (29, 2), (29, 3), (29, 4), (29, 5), (29, 6), (29, 7), (29, 8), (29, 9), (28, 8), (28, 9), (28, 10), (28, 11), (28, 12), (28, 13), (28, 14), (28, 15), (28, 16), (28, 17), (28, 18), (28, 19), (29, 18), (29, 19), (29, 20), (29, 21), (29, 22), (29, 23), (28, 22), (28, 23), (28, 24), (28, 25), (28, 26), (28, 27), (28, 28)]\n",
      "neighbors [(27, 27), (27, 28), (27, 29), (28, 27), (28, 28), (28, 29), (29, 27), (29, 28), (29, 29)]\n",
      "full grid: [[0 0 0]\n",
      " [0 0 0]\n",
      " [0 0 0]]\n",
      "[[3 3 3]\n",
      " [1 1 4]\n",
      " [3 3 3]]\n",
      "free\n",
      "current_node -- (next_move) (28, 29)\n",
      "(array([1], dtype=int64),)\n",
      "down\n",
      "next_node out (29, 29)\n",
      "message down\n"
     ]
    },
    {
     "data": {
      "image/png": "[encoded data removed]",
      "text/plain": [
       "<Figure size 432x288 with 1 Axes>"
      ]
     },
     "metadata": {
      "needs_background": "light"
     },
     "output_type": "display_data"
    },
    {
     "name": "stdout",
     "output_type": "stream",
     "text": [
      "[(0, 0), (1, 0), (2, 0), (3, 0), (4, 0), (5, 0), (6, 0), (7, 0), (8, 0), (9, 0), (10, 0), (11, 0), (12, 0), (13, 0), (14, 0), (15, 0), (16, 0), (17, 0), (18, 0), (17, 1), (18, 1), (19, 1), (18, 2), (19, 2), (20, 2), (21, 2), (22, 2), (23, 2), (24, 2), (25, 2), (26, 2), (27, 2), (28, 2), (29, 2), (29, 3), (29, 4), (29, 5), (29, 6), (29, 7), (29, 8), (29, 9), (28, 8), (28, 9), (28, 10), (28, 11), (28, 12), (28, 13), (28, 14), (28, 15), (28, 16), (28, 17), (28, 18), (28, 19), (29, 18), (29, 19), (29, 20), (29, 21), (29, 22), (29, 23), (28, 22), (28, 23), (28, 24), (28, 25), (28, 26), (28, 27), (28, 28), (28, 29)]\n",
      "Goal reached!!!\n"
     ]
    }
   ],
   "source": [
    "goal_reached = False\n",
    "new_model = tf.keras.models.load_model('epic_num_reader.model')\n",
    "\n",
    "start = (0,0)\n",
    "goal = (maze_size-1, maze_size-1)\n",
    "agent_grid_world.itemset(start, 4)\n",
    "current_node = start\n",
    "visited_list = []\n",
    "trajectory = []\n",
    "\n",
    "while goal_reached == False:\n",
    "    trajectory.append(current_node)\n",
    "    if current_node == goal:\n",
    "        print('Goal reached!!!')\n",
    "        goal_reached = True\n",
    "        break\n",
    "\n",
    "    if current_node not in visited_list:\n",
    "        visited_list.append(current_node)\n",
    "\n",
    "    x_test = get_window(current_node, agent_grid_world, full_grid_world)\n",
    "    print(x_test)\n",
    "    x_test = np.asarray(x_test)\n",
    "\n",
    "    predictions = new_model.predict(np.asarray([x_test]))\n",
    "\n",
    "    if full_grid_world.item(current_node) == 1:\n",
    "#         trajectory.pop(-1)\n",
    "        agent_grid_world.itemset(current_node, 2)\n",
    "        flag = 'blocked'\n",
    "        print(flag)\n",
    "    else:\n",
    "        agent_grid_world.itemset(current_node, 1)\n",
    "        flag = 'free'\n",
    "        print(flag)\n",
    "    \n",
    "    if flag == 'free':\n",
    "        try:\n",
    "\n",
    "            next_node, message = next_move(current_node, predictions, full_grid_world, visited_list, maze_size, trajectory, flag)\n",
    "            current_node = next_node\n",
    "        except Exception as err:\n",
    "            print(err)\n",
    "            print('No path to goal')\n",
    "            break\n",
    "        print('next_node out',next_node)\n",
    "        print('message', message)\n",
    "        if message == \"Can't reach goal\":\n",
    "            print('Cannot reach goal')\n",
    "            break\n",
    "\n",
    "#     agent_grid_world.itemset(current_node, 1)\n",
    "\n",
    "    if flag == 'blocked':\n",
    "        current_node = trajectory[-2]\n",
    "        print('next node:::: ', current_node)\n",
    " \n",
    "    agent_grid_world.itemset(current_node, 4)\n",
    "\n",
    "    colormap = colors.ListedColormap([\"green\",\"white\"])\n",
    "    plt.imshow(agent_grid_world, cmap=colormap)\n",
    "    plt.show()\n",
    "#     print('agent_grid', agent_grid_world)\n",
    "    print(visited_list)"
   ]
  },
  {
   "cell_type": "code",
   "execution_count": 29,
   "id": "cc47c99c",
   "metadata": {},
   "outputs": [
    {
     "data": {
      "text/plain": [
       "<matplotlib.image.AxesImage at 0x1d5a8dd59a0>"
      ]
     },
     "execution_count": 29,
     "metadata": {},
     "output_type": "execute_result"
    },
    {
     "data": {
      "image/png": "[encoded data removed]",
      "text/plain": [
       "<Figure size 432x288 with 1 Axes>"
      ]
     },
     "metadata": {
      "needs_background": "light"
     },
     "output_type": "display_data"
    }
   ],
   "source": [
    "plt.spy(full_grid_world)"
   ]
  },
  {
   "cell_type": "code",
   "execution_count": null,
   "id": "06bf6c1b",
   "metadata": {},
   "outputs": [],
   "source": []
  }
 ],
 "metadata": {
  "kernelspec": {
   "display_name": "Python 3",
   "language": "python",
   "name": "python3"
  },
  "language_info": {
   "codemirror_mode": {
    "name": "ipython",
    "version": 3
   },
   "file_extension": ".py",
   "mimetype": "text/x-python",
   "name": "python",
   "nbconvert_exporter": "python",
   "pygments_lexer": "ipython3",
   "version": "3.8.8"
  }
 },
 "nbformat": 4,
 "nbformat_minor": 5
}
