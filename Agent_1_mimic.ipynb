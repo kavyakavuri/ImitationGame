{
 "cells": [
  {
   "cell_type": "code",
   "execution_count": 1,
   "id": "a3f94482",
   "metadata": {},
   "outputs": [],
   "source": [
    "import tensorflow as tf\n",
    "import matplotlib.pyplot as plt\n",
    "import pandas as pd\n",
    "import numpy as np"
   ]
  },
  {
   "cell_type": "code",
   "execution_count": 2,
   "id": "8ec16b81",
   "metadata": {},
   "outputs": [],
   "source": [
    "df = pd.read_csv('agent_1_data.csv')"
   ]
  },
  {
   "cell_type": "code",
   "execution_count": 3,
   "id": "78c7d69a",
   "metadata": {},
   "outputs": [
    {
     "name": "stdout",
     "output_type": "stream",
     "text": [
      "[1.   0.75 0.75 0.75 0.75 0.75 0.75 0.75 0.75 0.75 0.75 0.75 0.75 0.75\n",
      " 0.75 0.75 0.75 0.75 0.75 0.75 0.75 0.75 0.75 0.75 0.75]\n",
      "[1.   0.75 0.75 0.75 0.75 0.75 0.75 0.75 0.75 0.75 0.75 0.75 0.75 0.75\n",
      " 0.75 0.75 0.75 0.75 0.75 0.75 0.75 0.75 0.75 0.75 0.75]\n",
      "[0.25 0.75 0.75 0.75 0.75 1.   0.75 0.75 0.75 0.75 0.75 0.75 0.75 0.75\n",
      " 0.75 0.75 0.75 0.75 0.75 0.75 0.75 0.75 0.75 0.75 0.75]\n",
      "[1.   0.75 0.75 0.75 0.75 0.25 0.75 0.75 0.75 0.75 0.5  0.75 0.75 0.75\n",
      " 0.75 0.75 0.75 0.75 0.75 0.75 0.75 0.75 0.75 0.75 0.75]\n",
      "[1.   0.75 0.75 0.75 0.75 0.25 0.5  0.75 0.75 0.75 0.5  0.75 0.75 0.75\n",
      " 0.75 0.75 0.75 0.75 0.75 0.75 0.75 0.75 0.75 0.75 0.75]\n",
      "[0.25 1.   0.75 0.75 0.75 0.25 0.5  0.75 0.75 0.75 0.5  0.75 0.75 0.75\n",
      " 0.75 0.75 0.75 0.75 0.75 0.75 0.75 0.75 0.75 0.75 0.75]\n"
     ]
    }
   ],
   "source": [
    "c = []\n",
    "for i in range(len(df)):\n",
    "    arr = []\n",
    "    for arr in df['x'][i].split('\\n'):\n",
    "        arr = arr.replace('[', '').replace(']', '').split()\n",
    "        arr = [int(m) for m in arr]\n",
    "    arr = np.asarray(arr)\n",
    "    arr = arr/arr.max()\n",
    "    c.append(np.asarray(arr))\n",
    "x_train = np.asarray(c)"
   ]
  },
  {
   "cell_type": "code",
   "execution_count": 4,
   "id": "121b1692",
   "metadata": {},
   "outputs": [],
   "source": [
    "out = []\n",
    "for i in range(len(df)):\n",
    "    a = df['y'][i].replace('[', '').replace(']', '').replace(',','').split()\n",
    "    a = [int(m) for m in a]\n",
    "    out.append(np.asarray(a))\n",
    "y_train = np.asarray(out)"
   ]
  },
  {
   "cell_type": "code",
   "execution_count": 5,
   "id": "33985d66",
   "metadata": {},
   "outputs": [],
   "source": [
    "y_test = y_train[0]\n",
    "x_test = x_train[0]"
   ]
  },
  {
   "cell_type": "code",
   "execution_count": 6,
   "id": "b1b56774",
   "metadata": {},
   "outputs": [
    {
     "data": {
      "text/plain": [
       "(6, 25)"
      ]
     },
     "execution_count": 6,
     "metadata": {},
     "output_type": "execute_result"
    }
   ],
   "source": [
    "x_train.shape"
   ]
  },
  {
   "cell_type": "code",
   "execution_count": 7,
   "id": "5ba5d773",
   "metadata": {},
   "outputs": [],
   "source": [
    "a = []\n",
    "for i in range(len(y_train)):\n",
    "    indices = zip(*np.where(y_train[i] == 1))\n",
    "    for row in indices:\n",
    "        a.append(row)\n",
    "y_train = np.asarray(a)\n",
    "\n",
    "    # y_train[0]"
   ]
  },
  {
   "cell_type": "code",
   "execution_count": 8,
   "id": "8cdee203",
   "metadata": {
    "scrolled": false
   },
   "outputs": [
    {
     "name": "stdout",
     "output_type": "stream",
     "text": [
      "x_train (6, 25)\n",
      "\n",
      "y_train (6, 1)\n",
      "Epoch 1/3\n",
      "1/1 [==============================] - 0s 418ms/step - loss: 1.6278 - accuracy: 0.0000e+00\n",
      "Epoch 2/3\n",
      "1/1 [==============================] - 0s 4ms/step - loss: 1.4682 - accuracy: 0.0000e+00\n",
      "Epoch 3/3\n",
      "1/1 [==============================] - 0s 4ms/step - loss: 1.3281 - accuracy: 0.0000e+00\n"
     ]
    },
    {
     "data": {
      "text/plain": [
       "<keras.callbacks.History at 0x15d97085a00>"
      ]
     },
     "execution_count": 8,
     "metadata": {},
     "output_type": "execute_result"
    }
   ],
   "source": [
    "#sequential is the basic model\n",
    "model = tf.keras.models.Sequential()\n",
    "\n",
    "# we add hidden layers into our network. 128 is the number of neurons that we use\n",
    "# relu is a basic activation sigmoid function\n",
    "# softmax is used for probability distribution (used in final/output layer with 10 neurons)\n",
    "# we reduce 28x28 array to a flatten layer as it is multidimensional and hard to compute\n",
    "# model.add(tf.keras.layers.Flatten())\n",
    "model.add(tf.keras.layers.Dense(128, activation = tf.nn.relu))\n",
    "model.add(tf.keras.layers.Dense(128, activation = tf.nn.relu))\n",
    "model.add(tf.keras.layers.Dense(4, activation = tf.nn.softmax))\n",
    "\n",
    "#parameters for training for the model\n",
    "\n",
    "model.compile(optimizer = 'adam',\n",
    "              loss = 'sparse_categorical_crossentropy',\n",
    "              metrics = ['accuracy'])\n",
    "\n",
    "print('x_train', x_train.shape)\n",
    "print('\\ny_train', y_train.shape)\n",
    "model.fit(x_train,y_train, epochs = 3)"
   ]
  },
  {
   "cell_type": "code",
   "execution_count": 9,
   "id": "15a44879",
   "metadata": {},
   "outputs": [],
   "source": [
    "x_test = np.asarray([x_test])"
   ]
  },
  {
   "cell_type": "code",
   "execution_count": 10,
   "id": "4859dcc6",
   "metadata": {
    "scrolled": false
   },
   "outputs": [
    {
     "name": "stdout",
     "output_type": "stream",
     "text": [
      "1/1 [==============================] - 0s 159ms/step - loss: 1.2103 - accuracy: 0.8333\n",
      "1.2103146314620972 0.8333333134651184\n"
     ]
    }
   ],
   "source": [
    "# calculate the validation loss\n",
    "val_loss, val_accuracy = model.evaluate(x_train, np.asarray(y_train))\n",
    "print(val_loss, val_accuracy)"
   ]
  },
  {
   "cell_type": "code",
   "execution_count": 11,
   "id": "47dae0f7",
   "metadata": {
    "scrolled": true
   },
   "outputs": [
    {
     "name": "stdout",
     "output_type": "stream",
     "text": [
      "INFO:tensorflow:Assets written to: epic_num_reader.model\\assets\n"
     ]
    }
   ],
   "source": [
    "model.save('epic_num_reader.model')"
   ]
  },
  {
   "cell_type": "code",
   "execution_count": 12,
   "id": "5460299a",
   "metadata": {},
   "outputs": [],
   "source": [
    "new_model = tf.keras.models.load_model('epic_num_reader.model')"
   ]
  },
  {
   "cell_type": "code",
   "execution_count": 13,
   "id": "aae4e18f",
   "metadata": {
    "scrolled": false
   },
   "outputs": [],
   "source": [
    "predictions = new_model.predict(x_test)"
   ]
  },
  {
   "cell_type": "code",
   "execution_count": 14,
   "id": "3c0ad424",
   "metadata": {
    "scrolled": true
   },
   "outputs": [
    {
     "name": "stdout",
     "output_type": "stream",
     "text": [
      "[0.1947099  0.3240646  0.27810824 0.20311731]\n",
      "0.3240646\n"
     ]
    }
   ],
   "source": [
    "print(predictions[0])\n",
    "print(predictions[0].max())"
   ]
  },
  {
   "cell_type": "code",
   "execution_count": 15,
   "id": "7d8baa3d",
   "metadata": {},
   "outputs": [
    {
     "name": "stdout",
     "output_type": "stream",
     "text": [
      "down\n"
     ]
    }
   ],
   "source": [
    "indices = zip(np.where(predictions[0] == predictions[0].max()))\n",
    "\n",
    "for row in indices:\n",
    "    if row[0][0] == 0:\n",
    "        print('up')\n",
    "    elif row[0][0] == 1:\n",
    "        print('down')\n",
    "    elif row[0][0] == 2:\n",
    "        print('left')\n",
    "    elif row[0][0] == 3:\n",
    "        print('right')"
   ]
  },
  {
   "cell_type": "code",
   "execution_count": 16,
   "id": "24ec6002",
   "metadata": {
    "scrolled": false
   },
   "outputs": [
    {
     "data": {
      "text/plain": [
       "<matplotlib.image.AxesImage at 0x15d986a7af0>"
      ]
     },
     "execution_count": 16,
     "metadata": {},
     "output_type": "execute_result"
    },
    {
     "data": {
      "image/png": "[encoded data removed]",
      "text/plain": [
       "<Figure size 432x288 with 1 Axes>"
      ]
     },
     "metadata": {
      "needs_background": "light"
     },
     "output_type": "display_data"
    }
   ],
   "source": [
    "plt.imshow(x_test)"
   ]
  },
  {
   "cell_type": "markdown",
   "id": "5aa5b25d",
   "metadata": {},
   "source": [
    "Math"
   ]
  }
 ],
 "metadata": {
  "kernelspec": {
   "display_name": "Python 3",
   "language": "python",
   "name": "python3"
  },
  "language_info": {
   "codemirror_mode": {
    "name": "ipython",
    "version": 3
   },
   "file_extension": ".py",
   "mimetype": "text/x-python",
   "name": "python",
   "nbconvert_exporter": "python",
   "pygments_lexer": "ipython3",
   "version": "3.8.8"
  }
 },
 "nbformat": 4,
 "nbformat_minor": 5
}
