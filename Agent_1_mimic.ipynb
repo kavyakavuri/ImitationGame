{
 "cells": [
  {
   "cell_type": "code",
   "execution_count": 1,
   "id": "a3f94482",
   "metadata": {},
   "outputs": [],
   "source": [
    "import tensorflow as tf\n",
    "import matplotlib.pyplot as plt\n",
    "import pandas as pd\n",
    "import numpy as np"
   ]
  },
  {
   "cell_type": "code",
   "execution_count": 2,
   "id": "8ec16b81",
   "metadata": {},
   "outputs": [],
   "source": [
    "df = pd.read_csv('agent_1_data.csv')"
   ]
  },
  {
   "cell_type": "code",
   "execution_count": 3,
   "id": "62c47d2e",
   "metadata": {},
   "outputs": [
    {
     "data": {
      "text/plain": [
       "(1113, 3, 3)"
      ]
     },
     "execution_count": 3,
     "metadata": {},
     "output_type": "execute_result"
    }
   ],
   "source": [
    "c = []\n",
    "x_train = []\n",
    "for i in range(len(df)):\n",
    "    arr = np.fromstring(df['x'][i].replace('[', '').replace(']', ''), dtype=int, sep='\\n').reshape(3,3)\n",
    "    arr = arr/arr.max()\n",
    "    c.append(np.asarray(arr))\n",
    "x_train = np.asarray(c)\n",
    "x_train = np.asarray(x_train)\n",
    "x_train.shape\n",
    "#     print(arr.shape)\n",
    "#     print(arr)"
   ]
  },
  {
   "cell_type": "code",
   "execution_count": 4,
   "id": "78c7d69a",
   "metadata": {},
   "outputs": [],
   "source": [
    "# c = []\n",
    "# x_train = []\n",
    "# for i in range(len(df)):\n",
    "#     arr = []\n",
    "# #     print(df['x'][i].replace('[', '').replace(']', '').split('\\n'))\n",
    "# #     print(len(df['x'][i].replace('[', '').replace(']', '').split('\\n')))\n",
    "    \n",
    "#     for arr in df['x'][i].split('\\n'):\n",
    "#         arr = arr.replace('[', '').replace(']', '').split()\n",
    "#         print(arr)\n",
    "#         arr = [int(m) for m in arr]\n",
    "#         arr = np.asarray(arr)\n",
    "#         arr = arr/arr.max()\n",
    "#         c.append(np.asarray(arr))\n",
    "    \n",
    "#     x_train.append(np.asarray(c))\n",
    "# x_train = np.asarray(x_train)\n",
    "# x_train.shape"
   ]
  },
  {
   "cell_type": "code",
   "execution_count": 5,
   "id": "121b1692",
   "metadata": {},
   "outputs": [
    {
     "data": {
      "text/plain": [
       "array([[1, 0, 0, 0],\n",
       "       [1, 0, 0, 0],\n",
       "       [1, 0, 0, 0],\n",
       "       ...,\n",
       "       [0, 0, 0, 1],\n",
       "       [0, 1, 0, 0],\n",
       "       [0, 0, 0, 1]])"
      ]
     },
     "execution_count": 5,
     "metadata": {},
     "output_type": "execute_result"
    }
   ],
   "source": [
    "out = []\n",
    "for i in range(len(df)):\n",
    "    a = df['y'][i].replace('[', '').replace(']', '').replace(',','').split()\n",
    "    a = [int(m) for m in a]\n",
    "    out.append(np.asarray(a))\n",
    "y_train = out\n",
    "y_train = np.asarray(out)\n",
    "y_train"
   ]
  },
  {
   "cell_type": "code",
   "execution_count": 6,
   "id": "faf78c44",
   "metadata": {},
   "outputs": [
    {
     "data": {
      "text/plain": [
       "(1113, 4)"
      ]
     },
     "execution_count": 6,
     "metadata": {},
     "output_type": "execute_result"
    }
   ],
   "source": [
    "y_train.shape"
   ]
  },
  {
   "cell_type": "code",
   "execution_count": 7,
   "id": "33985d66",
   "metadata": {},
   "outputs": [],
   "source": [
    "y_test = y_train[0]\n",
    "x_test = x_train[0]"
   ]
  },
  {
   "cell_type": "code",
   "execution_count": 8,
   "id": "5ba5d773",
   "metadata": {},
   "outputs": [],
   "source": [
    "a = []\n",
    "for i in (y_train):\n",
    "    row = list(i).index(1)\n",
    "    a.append(row)\n",
    "y_train = np.asarray(a)\n",
    "\n",
    "    # y_train[0]"
   ]
  },
  {
   "cell_type": "code",
   "execution_count": 9,
   "id": "49cb946c",
   "metadata": {},
   "outputs": [
    {
     "data": {
      "text/plain": [
       "(1113,)"
      ]
     },
     "execution_count": 9,
     "metadata": {},
     "output_type": "execute_result"
    }
   ],
   "source": [
    "y_train.shape"
   ]
  },
  {
   "cell_type": "code",
   "execution_count": 10,
   "id": "8cdee203",
   "metadata": {
    "scrolled": false
   },
   "outputs": [
    {
     "name": "stdout",
     "output_type": "stream",
     "text": [
      "x_train (1113, 3, 3)\n",
      "\n",
      "y_train (1113,)\n",
      "Epoch 1/20\n",
      "35/35 [==============================] - 0s 1ms/step - loss: 1.0237 - accuracy: 0.5418 \n",
      "Epoch 2/20\n",
      "35/35 [==============================] - 0s 1ms/step - loss: 0.8017 - accuracy: 0.6056\n",
      "Epoch 3/20\n",
      "35/35 [==============================] - 0s 1ms/step - loss: 0.7094 - accuracy: 0.7179\n",
      "Epoch 4/20\n",
      "35/35 [==============================] - 0s 1ms/step - loss: 0.6195 - accuracy: 0.7565\n",
      "Epoch 5/20\n",
      "35/35 [==============================] - 0s 1ms/step - loss: 0.5719 - accuracy: 0.7691\n",
      "Epoch 6/20\n",
      "35/35 [==============================] - 0s 1ms/step - loss: 0.5270 - accuracy: 0.7880\n",
      "Epoch 7/20\n",
      "35/35 [==============================] - 0s 1ms/step - loss: 0.4982 - accuracy: 0.7969\n",
      "Epoch 8/20\n",
      "35/35 [==============================] - 0s 1ms/step - loss: 0.4636 - accuracy: 0.7996\n",
      "Epoch 9/20\n",
      "35/35 [==============================] - 0s 1ms/step - loss: 0.4438 - accuracy: 0.8338\n",
      "Epoch 10/20\n",
      "35/35 [==============================] - 0s 1ms/step - loss: 0.4144 - accuracy: 0.8544\n",
      "Epoch 11/20\n",
      "35/35 [==============================] - 0s 1ms/step - loss: 0.3925 - accuracy: 0.8509\n",
      "Epoch 12/20\n",
      "35/35 [==============================] - 0s 1ms/step - loss: 0.3683 - accuracy: 0.8688\n",
      "Epoch 13/20\n",
      "35/35 [==============================] - 0s 1ms/step - loss: 0.3423 - accuracy: 0.8796\n",
      "Epoch 14/20\n",
      "35/35 [==============================] - 0s 1ms/step - loss: 0.3119 - accuracy: 0.8814\n",
      "Epoch 15/20\n",
      "35/35 [==============================] - 0s 1ms/step - loss: 0.2912 - accuracy: 0.8976\n",
      "Epoch 16/20\n",
      "35/35 [==============================] - 0s 1ms/step - loss: 0.2601 - accuracy: 0.9119\n",
      "Epoch 17/20\n",
      "35/35 [==============================] - 0s 1ms/step - loss: 0.2452 - accuracy: 0.9218\n",
      "Epoch 18/20\n",
      "35/35 [==============================] - 0s 1ms/step - loss: 0.2166 - accuracy: 0.9533\n",
      "Epoch 19/20\n",
      "35/35 [==============================] - 0s 1ms/step - loss: 0.1957 - accuracy: 0.9668\n",
      "Epoch 20/20\n",
      "35/35 [==============================] - 0s 1ms/step - loss: 0.1795 - accuracy: 0.9650\n"
     ]
    },
    {
     "data": {
      "text/plain": [
       "<keras.callbacks.History at 0x1f24aaf1ac0>"
      ]
     },
     "execution_count": 10,
     "metadata": {},
     "output_type": "execute_result"
    }
   ],
   "source": [
    "#sequential is the basic model\n",
    "model = tf.keras.models.Sequential()\n",
    "\n",
    "# we add hidden layers into our network. 128 is the number of neurons that we use\n",
    "# relu is a basic activation sigmoid function\n",
    "# softmax is used for probability distribution (used in final/output layer with 10 neurons)\n",
    "# we reduce 28x28 array to a flatten layer as it is multidimensional and hard to compute\n",
    "model.add(tf.keras.layers.Flatten())\n",
    "model.add(tf.keras.layers.Dense(128, activation = tf.nn.relu))\n",
    "model.add(tf.keras.layers.Dense(128, activation = tf.nn.relu))\n",
    "model.add(tf.keras.layers.Dense(4, activation = tf.nn.softmax))\n",
    "\n",
    "#parameters for training for the model\n",
    "\n",
    "model.compile(optimizer = 'adam',\n",
    "              loss = 'sparse_categorical_crossentropy',\n",
    "              metrics = ['accuracy'])\n",
    "\n",
    "print('x_train', x_train.shape)\n",
    "print('\\ny_train', y_train.shape)\n",
    "model.fit(x_train,y_train, epochs = 20)"
   ]
  },
  {
   "cell_type": "code",
   "execution_count": 11,
   "id": "15a44879",
   "metadata": {},
   "outputs": [],
   "source": [
    "x_test = np.asarray([x_test])"
   ]
  },
  {
   "cell_type": "code",
   "execution_count": 12,
   "id": "4859dcc6",
   "metadata": {
    "scrolled": false
   },
   "outputs": [
    {
     "name": "stdout",
     "output_type": "stream",
     "text": [
      "35/35 [==============================] - 0s 869us/step - loss: 0.1749 - accuracy: 0.9704\n",
      "0.17491477727890015 0.9703503847122192\n"
     ]
    }
   ],
   "source": [
    "# calculate the validation loss\n",
    "val_loss, val_accuracy = model.evaluate(x_train, np.asarray(y_train))\n",
    "print(val_loss, val_accuracy)"
   ]
  },
  {
   "cell_type": "code",
   "execution_count": 13,
   "id": "47dae0f7",
   "metadata": {
    "scrolled": true
   },
   "outputs": [
    {
     "name": "stdout",
     "output_type": "stream",
     "text": [
      "INFO:tensorflow:Assets written to: epic_num_reader.model\\assets\n"
     ]
    }
   ],
   "source": [
    "model.save('epic_num_reader.model')"
   ]
  },
  {
   "cell_type": "code",
   "execution_count": 14,
   "id": "5460299a",
   "metadata": {},
   "outputs": [],
   "source": [
    "new_model = tf.keras.models.load_model('epic_num_reader.model')"
   ]
  },
  {
   "cell_type": "code",
   "execution_count": 15,
   "id": "6b4e78a9",
   "metadata": {},
   "outputs": [
    {
     "data": {
      "text/plain": [
       "(1, 3, 3)"
      ]
     },
     "execution_count": 15,
     "metadata": {},
     "output_type": "execute_result"
    }
   ],
   "source": [
    "x_test.shape"
   ]
  },
  {
   "cell_type": "code",
   "execution_count": 16,
   "id": "a8620445",
   "metadata": {},
   "outputs": [
    {
     "data": {
      "text/plain": [
       "array([[[0.25, 0.75, 0.75],\n",
       "        [0.25, 0.75, 0.75],\n",
       "        [1.  , 0.5 , 0.75]]])"
      ]
     },
     "execution_count": 16,
     "metadata": {},
     "output_type": "execute_result"
    }
   ],
   "source": [
    "x_test"
   ]
  },
  {
   "cell_type": "code",
   "execution_count": 17,
   "id": "aae4e18f",
   "metadata": {
    "scrolled": false
   },
   "outputs": [],
   "source": [
    "predictions = new_model.predict(x_test)"
   ]
  },
  {
   "cell_type": "code",
   "execution_count": 18,
   "id": "3c0ad424",
   "metadata": {
    "scrolled": true
   },
   "outputs": [
    {
     "name": "stdout",
     "output_type": "stream",
     "text": [
      "[7.5400237e-04 1.1250562e-01 9.8992197e-05 8.8664138e-01]\n",
      "0.8866414\n"
     ]
    }
   ],
   "source": [
    "print(predictions[0])\n",
    "print(predictions[0].max())"
   ]
  },
  {
   "cell_type": "code",
   "execution_count": 19,
   "id": "f78809d9",
   "metadata": {},
   "outputs": [],
   "source": [
    "def get_children(x, y, n, visited_list):\n",
    "    \"\"\"\n",
    "    This function is used to return children of a particular node\n",
    "    x: row value of current node\n",
    "    y: column value of current node\n",
    "    n: size of maze\n",
    "    gofn: g(n) value of current node\n",
    "    visited_list: list of nodes that are already visited\n",
    "    matrix: maze\n",
    "    agent_matrix: matrix of the agent that holds the information of updated environment\n",
    "    \"\"\"\n",
    "    allChildren = [(x+1,y),#down\n",
    "                   (x-1,y),#up\n",
    "                   (x,y+1),#right\n",
    "                   (x,y-1)]#left\n",
    "    if x+1 > n-1:\n",
    "        allChildren.remove((x+1,y))\n",
    "    if x-1 < 0:\n",
    "        allChildren.remove((x-1,y))\n",
    "    if y+1 > n-1:\n",
    "        allChildren.remove((x,y+1))\n",
    "    if y-1 < 0:\n",
    "        allChildren.remove((x,y-1))\n",
    "    allChildren = [node for node in allChildren if node[:2] not in visited_list]\n",
    "\n",
    "    return allChildren"
   ]
  },
  {
   "cell_type": "code",
   "execution_count": 20,
   "id": "0fcff69c",
   "metadata": {},
   "outputs": [],
   "source": [
    "# next_move((0,0), np.asarray([[0.1947099 , 0.3240646,  0.27810824, 0.20311731]]))"
   ]
  },
  {
   "cell_type": "code",
   "execution_count": 21,
   "id": "45fe7bd4",
   "metadata": {},
   "outputs": [],
   "source": [
    "def populateMatrix(n,p):\n",
    "    \"\"\"\n",
    "    This function returns randomly populated maze\n",
    "    p: probabillity density of each cell\n",
    "    n: size of the maze\n",
    "    \"\"\"\n",
    "    global block_unblock_matrix\n",
    "    np_array = np.random.rand(n*n)\n",
    "    block = lambda x: 0 if x>=p else 1\n",
    "    vectorized_block = np.vectorize(block)\n",
    "    np_array = vectorized_block(np_array).reshape(n,n)\n",
    "    np_array[0,0]=0\n",
    "    np_array[n-1,n-1] =0\n",
    "    block_unblock_matrix = np.asmatrix(np_array)\n",
    "\n",
    "    ############testing on hard coded matrix ###########\n",
    "#     block_unblock_matrix = [[0, 0, 0, 0, 0],\n",
    "#             [0, 0, 0, 0, 0],\n",
    "#             [0, 0, 0, 0, 0],\n",
    "#             [0, 1, 0, 0, 0],\n",
    "#             [1, 0, 0, 1, 0]]\n",
    "#     ######################################\n",
    "#     populateMatrix(n,p)\n",
    "    block_unblock_matrix = np.matrix(block_unblock_matrix)\n",
    "    plt.spy(block_unblock_matrix)\n",
    "    return block_unblock_matrix\n"
   ]
  },
  {
   "cell_type": "code",
   "execution_count": 22,
   "id": "5a817cea",
   "metadata": {},
   "outputs": [
    {
     "data": {
      "text/plain": [
       "<matplotlib.image.AxesImage at 0x1f24d30a1c0>"
      ]
     },
     "execution_count": 22,
     "metadata": {},
     "output_type": "execute_result"
    },
    {
     "data": {
      "image/png": "[encoded data removed]",
      "text/plain": [
       "<Figure size 432x288 with 1 Axes>"
      ]
     },
     "metadata": {
      "needs_background": "light"
     },
     "output_type": "display_data"
    }
   ],
   "source": [
    "maze_size = 3\n",
    "agent_grid_world = np.full((maze_size, maze_size),3)\n",
    "agent_grid_world = np.asmatrix(agent_grid_world)\n",
    "full_grid_world = populateMatrix(maze_size, 0.3)\n",
    "plt.spy(full_grid_world)"
   ]
  },
  {
   "cell_type": "code",
   "execution_count": 23,
   "id": "7d8baa3d",
   "metadata": {},
   "outputs": [],
   "source": [
    "def next_move(current_node, predictions, full_grid_world, visited_list, maze_size, trajectory, flag):\n",
    "    message = ''\n",
    "    if flag == 'blocked':\n",
    "        if trajectory:\n",
    "            return trajectory[-1], message\n",
    "        else:\n",
    "            return trajectory[-1], \"Can't reach goal\"\n",
    "\n",
    "    print('current_node -- (next_move)', current_node)\n",
    "    indices = zip(np.where(predictions[0] == predictions[0].max()))\n",
    "\n",
    "#     print(predictions[0])\n",
    "    for row in indices:\n",
    "        print(row)\n",
    "        if row[0][0] == 0:\n",
    "            message = 'up'\n",
    "            print(message)\n",
    "            next_node = (current_node[0] - 1, current_node[1])\n",
    "        elif row[0][0] == 1:\n",
    "            message = 'down'\n",
    "            print(message)\n",
    "            next_node = (current_node[0] + 1, current_node[1])\n",
    "        elif row[0][0] == 2:\n",
    "            message = 'left'\n",
    "            print(message)\n",
    "            next_node = (current_node[0], current_node[1] - 1)\n",
    "        elif row[0][0] == 3:\n",
    "            message = 'right'\n",
    "            print(message)\n",
    "            next_node = (current_node[0], current_node[1] + 1)\n",
    "#     print(\"#####\")\n",
    "#     print('next_node -- (next_move)', next_node)\n",
    "\n",
    "#     if agent_grid_world[next_node] == 2:\n",
    "#         print('current_node:::: ', current_node)\n",
    "#         if message == 'down':\n",
    "#             next_node = (current_node[0], current_node[1] + 1)\n",
    "#             message = 'right'\n",
    "#             print(' The direction changed to ', message)\n",
    "#         elif message == 'right':\n",
    "#             next_node = (current_node[0] + 1, current_node[1])\n",
    "#             message = 'down'\n",
    "#             print(' The direction changed to ', message)\n",
    "#         print('next_node',next_node)\n",
    "\n",
    "    try:\n",
    "        print(full_grid_world.item(next_node))\n",
    "#         print('##########')\n",
    "#         print('next_node -- (next_move 2)', next_node)\n",
    "        if next_node not in visited_list:\n",
    "            return next_node, message\n",
    "        else:\n",
    "            children = get_children(current_node[0], current_node[1], maze_size, visited_list)\n",
    "            for i in children:\n",
    "                if i not in visited_list:\n",
    "                    return i, message\n",
    "                else:\n",
    "                    returni, \"Can't reach goal\"\n",
    "    except Exception as err:\n",
    "        print(err)\n",
    "        children = get_children(current_node[0], current_node[1], maze_size, visited_list)\n",
    "        for i in children:\n",
    "            if i not in visited_list:\n",
    "                return i, message\n",
    "            else:\n",
    "                return i , \"Can't reach goal\"\n",
    "        return children[-1], message"
   ]
  },
  {
   "cell_type": "code",
   "execution_count": 24,
   "id": "cdf06eee",
   "metadata": {},
   "outputs": [],
   "source": [
    "def get_neighbors(row, col, n):\n",
    "    dir = [[-1, -1], [-1, 0],[-1, 1], [0, -1], [0, 0],  [0, 1], [1, -1], [1, 0], [1, 1]]\n",
    "    friend = []\n",
    "    count = 0\n",
    "    for x, y in dir:\n",
    "        row_new = row + x\n",
    "        col_new = col + y\n",
    "        if (row_new>=0 and row_new<=(n-1)) and (col_new>=0 and col_new<=(n-1)):\n",
    "            count += 1\n",
    "            friend.append((row_new, col_new))\n",
    "    return count, friend"
   ]
  },
  {
   "cell_type": "code",
   "execution_count": 25,
   "id": "af075b25",
   "metadata": {},
   "outputs": [],
   "source": [
    "def get_window(current_node, agent_grid_world):\n",
    "    a = []\n",
    "    count, neighbors = get_neighbors(current_node[0],current_node[1], maze_size)\n",
    "\n",
    "    if len(neighbors) == 4:\n",
    "        if current_node == (0,0):\n",
    "            count, neighbors = get_neighbors(1,1, maze_size)\n",
    "        elif current_node == (0,maze_size-1):\n",
    "            count, neighbors = get_neighbors(1,maze_size-2, maze_size)\n",
    "        elif current_node == (maze_size-1,0):\n",
    "            count, neighbors = get_neighbors(maze_size-2, 1, maze_size)\n",
    "        elif current_node == (maze_size-1,maze_size-1):\n",
    "            count, neighbors = get_neighbors(maze_size-2,maze_size-2, maze_size)\n",
    "    elif len(neighbors) == 6:\n",
    "        if current_node[0] == 0:\n",
    "            count, neighbors = get_neighbors(current_node[0] + 1,current_node[1], maze_size)\n",
    "        elif current_node[0] == maze_size-1:\n",
    "            count, neighbors = get_neighbors(current_node[0] - 1,current_node[1], maze_size)\n",
    "        elif current_node[1] == 0:\n",
    "            count, neighbors = get_neighbors(current_node[0],current_node[1] + 1, maze_size)\n",
    "        elif current_node[1] == maze_size-1:\n",
    "            count, neighbors = get_neighbors(current_node[0],current_node[1] - 1, maze_size)\n",
    "    for i in neighbors:\n",
    "        print(i)\n",
    "        a.append(agent_grid_world[i])\n",
    "    window = np.asarray(a).reshape(3,3)\n",
    "\n",
    "    return window"
   ]
  },
  {
   "cell_type": "code",
   "execution_count": 26,
   "id": "559aca53",
   "metadata": {
    "scrolled": true
   },
   "outputs": [
    {
     "name": "stdout",
     "output_type": "stream",
     "text": [
      "(0, 0)\n",
      "(0, 1)\n",
      "(0, 2)\n",
      "(1, 0)\n",
      "(1, 1)\n",
      "(1, 2)\n",
      "(2, 0)\n",
      "(2, 1)\n",
      "(2, 2)\n",
      "[[4 3 3]\n",
      " [3 3 3]\n",
      " [3 3 3]]\n",
      "free\n",
      "current_node -- (next_move) (0, 0)\n",
      "(array([1], dtype=int64),)\n",
      "down\n",
      "0\n",
      "next_node out (1, 0)\n",
      "message down\n",
      "[(0, 0)]\n",
      "(0, 0)\n",
      "(0, 1)\n",
      "(0, 2)\n",
      "(1, 0)\n",
      "(1, 1)\n",
      "(1, 2)\n",
      "(2, 0)\n",
      "(2, 1)\n",
      "(2, 2)\n",
      "[[1 3 3]\n",
      " [4 3 3]\n",
      " [3 3 3]]\n",
      "free\n",
      "current_node -- (next_move) (1, 0)\n",
      "(array([1], dtype=int64),)\n",
      "down\n",
      "1\n",
      "next_node out (2, 0)\n",
      "message down\n",
      "[(0, 0), (1, 0)]\n",
      "(0, 0)\n",
      "(0, 1)\n",
      "(0, 2)\n",
      "(1, 0)\n",
      "(1, 1)\n",
      "(1, 2)\n",
      "(2, 0)\n",
      "(2, 1)\n",
      "(2, 2)\n",
      "[[1 3 3]\n",
      " [1 3 3]\n",
      " [4 3 3]]\n",
      "blocked\n",
      "next_node out (1, 0)\n",
      "message \n",
      "current_node::::  (2, 0)\n",
      "next_node (1, 0)\n",
      "[(0, 0), (1, 0), (2, 0)]\n",
      "(0, 0)\n",
      "(0, 1)\n",
      "(0, 2)\n",
      "(1, 0)\n",
      "(1, 1)\n",
      "(1, 2)\n",
      "(2, 0)\n",
      "(2, 1)\n",
      "(2, 2)\n",
      "[[1 3 3]\n",
      " [4 3 3]\n",
      " [2 3 3]]\n",
      "free\n",
      "current_node -- (next_move) (1, 0)\n",
      "(array([1], dtype=int64),)\n",
      "down\n",
      "1\n",
      "next_node out (1, 1)\n",
      "message down\n",
      "[(0, 0), (1, 0), (2, 0)]\n",
      "(0, 0)\n",
      "(0, 1)\n",
      "(0, 2)\n",
      "(1, 0)\n",
      "(1, 1)\n",
      "(1, 2)\n",
      "(2, 0)\n",
      "(2, 1)\n",
      "(2, 2)\n",
      "[[1 3 3]\n",
      " [1 4 3]\n",
      " [2 3 3]]\n",
      "free\n",
      "current_node -- (next_move) (1, 1)\n",
      "(array([1], dtype=int64),)\n",
      "down\n",
      "0\n",
      "next_node out (2, 1)\n",
      "message down\n",
      "[(0, 0), (1, 0), (2, 0), (1, 1)]\n",
      "(0, 0)\n",
      "(0, 1)\n",
      "(0, 2)\n",
      "(1, 0)\n",
      "(1, 1)\n",
      "(1, 2)\n",
      "(2, 0)\n",
      "(2, 1)\n",
      "(2, 2)\n",
      "[[1 3 3]\n",
      " [1 1 3]\n",
      " [2 4 3]]\n",
      "free\n",
      "current_node -- (next_move) (2, 1)\n",
      "(array([3], dtype=int64),)\n",
      "right\n",
      "0\n",
      "next_node out (2, 2)\n",
      "message right\n",
      "[(0, 0), (1, 0), (2, 0), (1, 1), (2, 1)]\n",
      "Goal reached!!!\n",
      "(0, 0)\n",
      "(0, 1)\n",
      "(0, 2)\n",
      "(1, 0)\n",
      "(1, 1)\n",
      "(1, 2)\n",
      "(2, 0)\n",
      "(2, 1)\n",
      "(2, 2)\n",
      "[[1 3 3]\n",
      " [1 1 3]\n",
      " [2 1 4]]\n",
      "free\n",
      "current_node -- (next_move) (2, 2)\n",
      "(array([1], dtype=int64),)\n",
      "down\n",
      "index 3 is out of bounds for axis 0 with size 3\n",
      "next_node out (1, 2)\n",
      "message down\n",
      "[(0, 0), (1, 0), (2, 0), (1, 1), (2, 1), (2, 2)]\n"
     ]
    }
   ],
   "source": [
    "goal_reached = False\n",
    "new_model = tf.keras.models.load_model('epic_num_reader.model')\n",
    "\n",
    "start = (0,0)\n",
    "goal = (maze_size-1, maze_size-1)\n",
    "agent_grid_world.itemset(start, 4)\n",
    "current_node = start\n",
    "visited_list = []\n",
    "trajectory = []\n",
    "\n",
    "while goal_reached == False:\n",
    "    trajectory.append(current_node)\n",
    "    if current_node == goal:\n",
    "        print('Goal reached!!!')\n",
    "        goal_reached = True\n",
    "\n",
    "    if current_node not in visited_list:\n",
    "        visited_list.append(current_node)\n",
    "\n",
    "    x_test = get_window(current_node, agent_grid_world)\n",
    "    print(x_test)\n",
    "    x_test = np.asarray(x_test)\n",
    "\n",
    "    predictions = new_model.predict(np.asarray([x_test]))\n",
    "\n",
    "    if full_grid_world.item(current_node) == 1:\n",
    "        trajectory.pop(-1)\n",
    "        agent_grid_world.itemset(current_node, 2)\n",
    "        flag = 'blocked'\n",
    "        print(flag)\n",
    "    else:\n",
    "        agent_grid_world.itemset(current_node, 1)\n",
    "        flag = 'free'\n",
    "        print(flag)\n",
    "    \n",
    "    try:\n",
    "        next_node, message = next_move(current_node, predictions, full_grid_world, visited_list, maze_size, trajectory, flag)\n",
    "    except Exception as err:\n",
    "        print('No path to goal')\n",
    "        break\n",
    "    print('next_node out',next_node)\n",
    "    print('message', message)\n",
    "    if message == \"Can't reach goal\":\n",
    "        print('Cannot reach goal')\n",
    "        break\n",
    "\n",
    "    if flag == 'blocked':\n",
    "        print('current_node:::: ', current_node)\n",
    "        if message == 'down':\n",
    "            next_node = (current_node[0], current_node[1] + 1)\n",
    "            message = 'right'\n",
    "            print(' The direction changed to ', message)\n",
    "        elif message == 'right':\n",
    "            next_node = (current_node[0] + 1, current_node[1])\n",
    "            message = 'down'\n",
    "            print(' The direction changed to ', message)\n",
    "        print('next_node',next_node)\n",
    "        agent_grid_world.itemset(current_node, 2)\n",
    "        current_node = trajectory[-1]\n",
    "\n",
    "#     agent_grid_world.itemset(current_node, 1)\n",
    "    current_node = next_node\n",
    "    agent_grid_world.itemset(current_node, 4)\n",
    "\n",
    "#     print('agent_grid', agent_grid_world)\n",
    "    print(visited_list)"
   ]
  },
  {
   "cell_type": "code",
   "execution_count": 27,
   "id": "cc47c99c",
   "metadata": {},
   "outputs": [
    {
     "data": {
      "text/plain": [
       "<matplotlib.image.AxesImage at 0x1f24ec1f760>"
      ]
     },
     "execution_count": 27,
     "metadata": {},
     "output_type": "execute_result"
    },
    {
     "data": {
      "image/png": "[encoded data removed]",
      "text/plain": [
       "<Figure size 432x288 with 1 Axes>"
      ]
     },
     "metadata": {
      "needs_background": "light"
     },
     "output_type": "display_data"
    }
   ],
   "source": [
    "plt.spy(full_grid_world)"
   ]
  },
  {
   "cell_type": "code",
   "execution_count": null,
   "id": "697c9c0b",
   "metadata": {},
   "outputs": [],
   "source": []
  }
 ],
 "metadata": {
  "kernelspec": {
   "display_name": "Python 3",
   "language": "python",
   "name": "python3"
  },
  "language_info": {
   "codemirror_mode": {
    "name": "ipython",
    "version": 3
   },
   "file_extension": ".py",
   "mimetype": "text/x-python",
   "name": "python",
   "nbconvert_exporter": "python",
   "pygments_lexer": "ipython3",
   "version": "3.8.8"
  }
 },
 "nbformat": 4,
 "nbformat_minor": 5
}
