{
 "cells": [
  {
   "cell_type": "code",
   "execution_count": 1,
   "metadata": {},
   "outputs": [
    {
     "name": "stderr",
     "output_type": "stream",
     "text": [
      "2021-12-06 12:20:39.056549: W tensorflow/stream_executor/platform/default/dso_loader.cc:64] Could not load dynamic library 'libcudart.so.11.0'; dlerror: libcudart.so.11.0: cannot open shared object file: No such file or directory\n",
      "2021-12-06 12:20:39.056603: I tensorflow/stream_executor/cuda/cudart_stub.cc:29] Ignore above cudart dlerror if you do not have a GPU set up on your machine.\n"
     ]
    }
   ],
   "source": [
    "import tensorflow as tf\n",
    "from tensorflow import keras\n",
    "import numpy as np"
   ]
  },
  {
   "cell_type": "code",
   "execution_count": 38,
   "metadata": {},
   "outputs": [],
   "source": [
    "from sklearn.model_selection import train_test_split"
   ]
  },
  {
   "cell_type": "markdown",
   "metadata": {},
   "source": [
    "## Read Input Data"
   ]
  },
  {
   "cell_type": "code",
   "execution_count": 81,
   "metadata": {},
   "outputs": [],
   "source": [
    "X = np.random.rand(160000).reshape((10000, 16))\n",
    "avg = lambda t: np.average(t)\n",
    "y = list((map(avg, X)))\n",
    "y = np.array(y)\n",
    "\n",
    "## Split data\n",
    "X_train, X_test, y_train, y_test = train_test_split(X, y, test_size=0.33, random_state=42)"
   ]
  },
  {
   "cell_type": "code",
   "execution_count": 82,
   "metadata": {},
   "outputs": [
    {
     "name": "stdout",
     "output_type": "stream",
     "text": [
      "(6700, 16) (3300, 16) (6700,) (3300,)\n"
     ]
    }
   ],
   "source": [
    "print(X_train.shape,X_test.shape,y_train.shape,y_test.shape)"
   ]
  },
  {
   "cell_type": "markdown",
   "metadata": {},
   "source": [
    "## Build Model"
   ]
  },
  {
   "cell_type": "code",
   "execution_count": 83,
   "metadata": {},
   "outputs": [],
   "source": [
    "model = keras.models.Sequential([\n",
    "    keras.Input(shape = (16, )),\n",
    "    keras.layers.Dense(16, activation = 'relu'),\n",
    "    keras.layers.Dense(8, activation = 'relu'),\n",
    "    keras.layers.Dense(4, activation = 'relu'),\n",
    "    keras.layers.Dense(1)\n",
    "])"
   ]
  },
  {
   "cell_type": "code",
   "execution_count": 84,
   "metadata": {},
   "outputs": [
    {
     "name": "stdout",
     "output_type": "stream",
     "text": [
      "Model: \"sequential_3\"\n",
      "_________________________________________________________________\n",
      " Layer (type)                Output Shape              Param #   \n",
      "=================================================================\n",
      " dense_13 (Dense)            (None, 16)                272       \n",
      "                                                                 \n",
      " dense_14 (Dense)            (None, 8)                 136       \n",
      "                                                                 \n",
      " dense_15 (Dense)            (None, 4)                 36        \n",
      "                                                                 \n",
      " dense_16 (Dense)            (None, 1)                 5         \n",
      "                                                                 \n",
      "=================================================================\n",
      "Total params: 449\n",
      "Trainable params: 449\n",
      "Non-trainable params: 0\n",
      "_________________________________________________________________\n"
     ]
    }
   ],
   "source": [
    "model.summary()"
   ]
  },
  {
   "cell_type": "code",
   "execution_count": 85,
   "metadata": {},
   "outputs": [],
   "source": [
    "model.compile(loss = tf.losses.MeanSquaredError(), optimizer = tf.optimizers.Adam(),metrics=['mae','mse'])"
   ]
  },
  {
   "cell_type": "code",
   "execution_count": 86,
   "metadata": {},
   "outputs": [
    {
     "name": "stdout",
     "output_type": "stream",
     "text": [
      "Epoch 1/25\n",
      "108/108 [==============================] - 0s 2ms/step - loss: 0.0507 - mae: 0.1672 - mse: 0.0507 - val_loss: 0.0110 - val_mae: 0.0843 - val_mse: 0.0110\n",
      "Epoch 2/25\n",
      "108/108 [==============================] - 0s 942us/step - loss: 0.0071 - mae: 0.0668 - mse: 0.0071 - val_loss: 0.0040 - val_mae: 0.0504 - val_mse: 0.0040\n",
      "Epoch 3/25\n",
      "108/108 [==============================] - 0s 943us/step - loss: 0.0027 - mae: 0.0414 - mse: 0.0027 - val_loss: 0.0017 - val_mae: 0.0330 - val_mse: 0.0017\n",
      "Epoch 4/25\n",
      "108/108 [==============================] - 0s 945us/step - loss: 0.0013 - mae: 0.0290 - mse: 0.0013 - val_loss: 9.8090e-04 - val_mae: 0.0244 - val_mse: 9.8090e-04\n",
      "Epoch 5/25\n",
      "108/108 [==============================] - 0s 948us/step - loss: 8.3497e-04 - mae: 0.0227 - mse: 8.3497e-04 - val_loss: 6.8978e-04 - val_mae: 0.0205 - val_mse: 6.8978e-04\n",
      "Epoch 6/25\n",
      "108/108 [==============================] - 0s 971us/step - loss: 5.9657e-04 - mae: 0.0191 - mse: 5.9657e-04 - val_loss: 5.1736e-04 - val_mae: 0.0176 - val_mse: 5.1736e-04\n",
      "Epoch 7/25\n",
      "108/108 [==============================] - 0s 946us/step - loss: 4.4633e-04 - mae: 0.0164 - mse: 4.4633e-04 - val_loss: 3.9675e-04 - val_mae: 0.0153 - val_mse: 3.9675e-04\n",
      "Epoch 8/25\n",
      "108/108 [==============================] - 0s 964us/step - loss: 3.4053e-04 - mae: 0.0142 - mse: 3.4053e-04 - val_loss: 3.1471e-04 - val_mae: 0.0138 - val_mse: 3.1471e-04\n",
      "Epoch 9/25\n",
      "108/108 [==============================] - 0s 974us/step - loss: 2.6923e-04 - mae: 0.0126 - mse: 2.6923e-04 - val_loss: 2.4078e-04 - val_mae: 0.0118 - val_mse: 2.4078e-04\n",
      "Epoch 10/25\n",
      "108/108 [==============================] - 0s 1ms/step - loss: 2.0787e-04 - mae: 0.0110 - mse: 2.0787e-04 - val_loss: 1.9368e-04 - val_mae: 0.0105 - val_mse: 1.9368e-04\n",
      "Epoch 11/25\n",
      "108/108 [==============================] - 0s 1ms/step - loss: 1.6918e-04 - mae: 0.0099 - mse: 1.6918e-04 - val_loss: 1.5776e-04 - val_mae: 0.0094 - val_mse: 1.5776e-04\n",
      "Epoch 12/25\n",
      "108/108 [==============================] - 0s 1ms/step - loss: 1.3596e-04 - mae: 0.0088 - mse: 1.3596e-04 - val_loss: 1.3050e-04 - val_mae: 0.0084 - val_mse: 1.3050e-04\n",
      "Epoch 13/25\n",
      "108/108 [==============================] - 0s 1ms/step - loss: 1.1286e-04 - mae: 0.0079 - mse: 1.1286e-04 - val_loss: 1.0596e-04 - val_mae: 0.0075 - val_mse: 1.0596e-04\n",
      "Epoch 14/25\n",
      "108/108 [==============================] - 0s 985us/step - loss: 9.2719e-05 - mae: 0.0071 - mse: 9.2719e-05 - val_loss: 8.7591e-05 - val_mae: 0.0069 - val_mse: 8.7591e-05\n",
      "Epoch 15/25\n",
      "108/108 [==============================] - 0s 977us/step - loss: 7.6780e-05 - mae: 0.0064 - mse: 7.6780e-05 - val_loss: 7.2622e-05 - val_mae: 0.0061 - val_mse: 7.2622e-05\n",
      "Epoch 16/25\n",
      "108/108 [==============================] - 0s 988us/step - loss: 6.4824e-05 - mae: 0.0058 - mse: 6.4824e-05 - val_loss: 6.4253e-05 - val_mae: 0.0059 - val_mse: 6.4253e-05\n",
      "Epoch 17/25\n",
      "108/108 [==============================] - 0s 1ms/step - loss: 5.4110e-05 - mae: 0.0052 - mse: 5.4110e-05 - val_loss: 5.2569e-05 - val_mae: 0.0052 - val_mse: 5.2569e-05\n",
      "Epoch 18/25\n",
      "108/108 [==============================] - 0s 945us/step - loss: 4.6734e-05 - mae: 0.0048 - mse: 4.6734e-05 - val_loss: 4.3817e-05 - val_mae: 0.0045 - val_mse: 4.3817e-05\n",
      "Epoch 19/25\n",
      "108/108 [==============================] - 0s 953us/step - loss: 3.8514e-05 - mae: 0.0043 - mse: 3.8514e-05 - val_loss: 3.8220e-05 - val_mae: 0.0042 - val_mse: 3.8220e-05\n",
      "Epoch 20/25\n",
      "108/108 [==============================] - 0s 932us/step - loss: 3.3491e-05 - mae: 0.0039 - mse: 3.3491e-05 - val_loss: 3.5013e-05 - val_mae: 0.0042 - val_mse: 3.5013e-05\n",
      "Epoch 21/25\n",
      "108/108 [==============================] - 0s 986us/step - loss: 2.8841e-05 - mae: 0.0037 - mse: 2.8841e-05 - val_loss: 2.7825e-05 - val_mae: 0.0035 - val_mse: 2.7825e-05\n",
      "Epoch 22/25\n",
      "108/108 [==============================] - 0s 966us/step - loss: 2.4788e-05 - mae: 0.0033 - mse: 2.4788e-05 - val_loss: 2.7443e-05 - val_mae: 0.0037 - val_mse: 2.7443e-05\n",
      "Epoch 23/25\n",
      "108/108 [==============================] - 0s 965us/step - loss: 2.1301e-05 - mae: 0.0030 - mse: 2.1301e-05 - val_loss: 2.0925e-05 - val_mae: 0.0029 - val_mse: 2.0925e-05\n",
      "Epoch 24/25\n",
      "108/108 [==============================] - 0s 982us/step - loss: 1.9090e-05 - mae: 0.0028 - mse: 1.9090e-05 - val_loss: 1.8662e-05 - val_mae: 0.0027 - val_mse: 1.8662e-05\n",
      "Epoch 25/25\n",
      "108/108 [==============================] - 0s 978us/step - loss: 1.5896e-05 - mae: 0.0025 - mse: 1.5896e-05 - val_loss: 1.5944e-05 - val_mae: 0.0023 - val_mse: 1.5944e-05\n"
     ]
    }
   ],
   "source": [
    "history = model.fit(X_train, y_train, epochs=25, batch_size=50,verbose=1,validation_split=0.2)"
   ]
  },
  {
   "cell_type": "code",
   "execution_count": 88,
   "metadata": {},
   "outputs": [],
   "source": [
    "# history.history"
   ]
  },
  {
   "cell_type": "code",
   "execution_count": 89,
   "metadata": {},
   "outputs": [
    {
     "name": "stdout",
     "output_type": "stream",
     "text": [
      "104/104 - 0s - loss: 1.4854e-05 - mae: 0.0023 - mse: 1.4854e-05 - 66ms/epoch - 635us/step\n"
     ]
    }
   ],
   "source": [
    "testing_model = model.evaluate(X_test,y_test,verbose=2)"
   ]
  },
  {
   "cell_type": "code",
   "execution_count": 90,
   "metadata": {},
   "outputs": [
    {
     "name": "stdout",
     "output_type": "stream",
     "text": [
      "Test Accuracy -  0.23157945834100246 %\n"
     ]
    }
   ],
   "source": [
    "testing_acc = testing_model[1]*100\n",
    "# Printing the accuracy\n",
    "print('Test Accuracy - ', testing_acc,'%')"
   ]
  },
  {
   "cell_type": "code",
   "execution_count": 91,
   "metadata": {},
   "outputs": [
    {
     "data": {
      "text/plain": [
       "[1.4853831089567393e-05, 0.0023157945834100246, 1.4853831089567393e-05]"
      ]
     },
     "execution_count": 91,
     "metadata": {},
     "output_type": "execute_result"
    }
   ],
   "source": [
    "testing_model"
   ]
  },
  {
   "cell_type": "code",
   "execution_count": 92,
   "metadata": {},
   "outputs": [
    {
     "data": {
      "text/plain": [
       "['loss', 'mae', 'mse']"
      ]
     },
     "execution_count": 92,
     "metadata": {},
     "output_type": "execute_result"
    }
   ],
   "source": [
    "model.metrics_names"
   ]
  },
  {
   "cell_type": "code",
   "execution_count": 93,
   "metadata": {},
   "outputs": [],
   "source": [
    "predictions = model.predict(X_test[:3])"
   ]
  },
  {
   "cell_type": "code",
   "execution_count": 94,
   "metadata": {},
   "outputs": [
    {
     "name": "stdout",
     "output_type": "stream",
     "text": [
      "[0.53344095 0.44406114 0.58739138] \n",
      " [[0.5316032]\n",
      " [0.4427695]\n",
      " [0.5880724]]\n"
     ]
    }
   ],
   "source": [
    "print(y_test[:3],\"\\n\",predictions)"
   ]
  },
  {
   "cell_type": "code",
   "execution_count": 95,
   "metadata": {},
   "outputs": [
    {
     "data": {
      "text/plain": [
       "array([[0.5316032],\n",
       "       [0.4427695],\n",
       "       [0.5880724]], dtype=float32)"
      ]
     },
     "execution_count": 95,
     "metadata": {},
     "output_type": "execute_result"
    }
   ],
   "source": [
    "predictions"
   ]
  },
  {
   "cell_type": "code",
   "execution_count": 106,
   "metadata": {},
   "outputs": [],
   "source": [
    "import matplotlib.pyplot as plt\n",
    "plot_x = history.history['loss']\n",
    "plot_y = list(np.arange(len(x)))"
   ]
  },
  {
   "cell_type": "code",
   "execution_count": 107,
   "metadata": {},
   "outputs": [
    {
     "data": {
      "text/plain": [
       "[<matplotlib.lines.Line2D at 0x7fab2fa96040>]"
      ]
     },
     "execution_count": 107,
     "metadata": {},
     "output_type": "execute_result"
    },
    {
     "data": {
      "image/png": "[encoded data removed]",
      "text/plain": [
       "<Figure size 432x288 with 1 Axes>"
      ]
     },
     "metadata": {
      "needs_background": "light"
     },
     "output_type": "display_data"
    }
   ],
   "source": [
    "plt.plot(x,y)"
   ]
  },
  {
   "cell_type": "code",
   "execution_count": null,
   "metadata": {},
   "outputs": [],
   "source": []
  }
 ],
 "metadata": {
  "kernelspec": {
   "display_name": "venv",
   "language": "python",
   "name": "venv"
  },
  "language_info": {
   "codemirror_mode": {
    "name": "ipython",
    "version": 3
   },
   "file_extension": ".py",
   "mimetype": "text/x-python",
   "name": "python",
   "nbconvert_exporter": "python",
   "pygments_lexer": "ipython3",
   "version": "3.8.10"
  }
 },
 "nbformat": 4,
 "nbformat_minor": 4
}
