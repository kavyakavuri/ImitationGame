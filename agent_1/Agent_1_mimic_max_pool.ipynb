{
 "cells": [
  {
   "cell_type": "code",
   "execution_count": 1,
   "id": "a3f94482",
   "metadata": {
    "id": "a3f94482"
   },
   "outputs": [],
   "source": [
    "import tensorflow as tf\n",
    "import matplotlib.pyplot as plt\n",
    "import pandas as pd\n",
    "import numpy as np\n",
    "from matplotlib import colors\n",
    "import random"
   ]
  },
  {
   "cell_type": "code",
   "execution_count": 2,
   "id": "8ec16b81",
   "metadata": {
    "colab": {
     "base_uri": "https://localhost:8080/"
    },
    "id": "8ec16b81",
    "outputId": "e7649847-f0f8-4517-8398-89fe26e3931b"
   },
   "outputs": [],
   "source": [
    "df = pd.read_csv('agent_1_data.csv')"
   ]
  },
  {
   "cell_type": "code",
   "execution_count": 3,
   "id": "54579a5e",
   "metadata": {
    "colab": {
     "base_uri": "https://localhost:8080/"
    },
    "id": "54579a5e",
    "outputId": "c21b4a66-aaac-4ba8-b223-e3bd08037107"
   },
   "outputs": [
    {
     "data": {
      "text/plain": [
       "(29162, 3, 3)"
      ]
     },
     "execution_count": 3,
     "metadata": {},
     "output_type": "execute_result"
    }
   ],
   "source": [
    "c = []\n",
    "x_train = []\n",
    "for i in range(len(df)):\n",
    "    arr = np.fromstring(df['x'][i].replace('[', '').replace(']', ''), dtype=int, sep='\\n').reshape(3,3)\n",
    "    arr = arr/arr.max()\n",
    "    c.append(np.asarray(arr))\n",
    "x_train = np.asarray(c)\n",
    "x_train = np.asarray(x_train)\n",
    "x_train.shape"
   ]
  },
  {
   "cell_type": "code",
   "execution_count": 4,
   "id": "121b1692",
   "metadata": {
    "colab": {
     "base_uri": "https://localhost:8080/"
    },
    "id": "121b1692",
    "outputId": "e9fa0d72-27a0-4b93-cfd5-ce357b40490f"
   },
   "outputs": [
    {
     "data": {
      "text/plain": [
       "array([[1, 0, 0, 0],\n",
       "       [1, 0, 0, 0],\n",
       "       [1, 0, 0, 0],\n",
       "       ...,\n",
       "       [1, 0, 0, 0],\n",
       "       [1, 0, 0, 0],\n",
       "       [1, 0, 0, 0]])"
      ]
     },
     "execution_count": 4,
     "metadata": {},
     "output_type": "execute_result"
    }
   ],
   "source": [
    "out = []\n",
    "for i in range(len(df)):\n",
    "    a = df['y'][i].replace('[', '').replace(']', '').replace(',','').split()\n",
    "    a = [int(m) for m in a]\n",
    "    out.append(np.asarray(a))\n",
    "y_train = out\n",
    "y_train = np.asarray(out)\n",
    "y_train"
   ]
  },
  {
   "cell_type": "code",
   "execution_count": 5,
   "id": "1b8ce44c",
   "metadata": {
    "colab": {
     "base_uri": "https://localhost:8080/"
    },
    "id": "1b8ce44c",
    "outputId": "9dcb6d8a-381a-4600-fbc3-59a5989546e2"
   },
   "outputs": [
    {
     "data": {
      "text/plain": [
       "(29162, 4)"
      ]
     },
     "execution_count": 5,
     "metadata": {},
     "output_type": "execute_result"
    }
   ],
   "source": [
    "y_train.shape"
   ]
  },
  {
   "cell_type": "code",
   "execution_count": 7,
   "id": "f2fd0c62",
   "metadata": {
    "colab": {
     "base_uri": "https://localhost:8080/"
    },
    "id": "f2fd0c62",
    "outputId": "1229a47f-f465-480f-bccf-21309c1e1532"
   },
   "outputs": [
    {
     "data": {
      "text/plain": [
       "(29162, 4)"
      ]
     },
     "execution_count": 7,
     "metadata": {},
     "output_type": "execute_result"
    }
   ],
   "source": [
    "y_train.shape"
   ]
  },
  {
   "cell_type": "code",
   "execution_count": 8,
   "id": "c5c75f08-fe48-447e-8b14-78c3061cb817",
   "metadata": {
    "id": "c5c75f08-fe48-447e-8b14-78c3061cb817"
   },
   "outputs": [],
   "source": [
    "digit_input = tf.keras.layers.Input( shape = (3,3,1) )\n",
    "max_pool_2d = tf.keras.layers.MaxPooling2D(pool_size=(3, 3), strides=(1, 1), padding='valid')(digit_input)\n",
    "flatten_image = tf.keras.layers.Flatten()( max_pool_2d )\n",
    "\n",
    "dense_1 = tf.keras.layers.Dense( units = 128, activation = tf.nn.relu )( flatten_image )\n",
    "dense_2 = tf.keras.layers.Dense( units = 128, activation = None )( dense_1 )\n",
    "probabilities = tf.keras.layers.Dense( units = 4, activation =  tf.nn.softmax)( dense_2 )"
   ]
  },
  {
   "cell_type": "code",
   "execution_count": 9,
   "id": "fa3aaa73-a431-4be5-a0d4-879422981611",
   "metadata": {
    "id": "fa3aaa73-a431-4be5-a0d4-879422981611"
   },
   "outputs": [],
   "source": [
    "model = tf.keras.Model( inputs = digit_input, outputs = probabilities )\n",
    "model.compile( optimizer = 'adam', loss = 'categorical_crossentropy', metrics = ['accuracy'] )"
   ]
  },
  {
   "cell_type": "code",
   "execution_count": 10,
   "id": "20ea8718-d61e-4601-a043-185b1c26ddc3",
   "metadata": {
    "colab": {
     "base_uri": "https://localhost:8080/"
    },
    "id": "20ea8718-d61e-4601-a043-185b1c26ddc3",
    "outputId": "b3a898de-67fc-4fd0-dc59-b48ef1454073"
   },
   "outputs": [
    {
     "name": "stdout",
     "output_type": "stream",
     "text": [
      "Epoch 1/20\n",
      "912/912 [==============================] - 2s 1ms/step - loss: 1.3328 - accuracy: 0.4026\n",
      "Epoch 2/20\n",
      "912/912 [==============================] - 1s 1ms/step - loss: 1.3311 - accuracy: 0.4033\n",
      "Epoch 3/20\n",
      "912/912 [==============================] - 1s 1ms/step - loss: 1.3308 - accuracy: 0.4033\n",
      "Epoch 4/20\n",
      "912/912 [==============================] - 1s 1ms/step - loss: 1.3304 - accuracy: 0.4033\n",
      "Epoch 5/20\n",
      "912/912 [==============================] - 1s 1ms/step - loss: 1.3303 - accuracy: 0.4033\n",
      "Epoch 6/20\n",
      "912/912 [==============================] - 1s 1ms/step - loss: 1.3302 - accuracy: 0.4033\n",
      "Epoch 7/20\n",
      "912/912 [==============================] - 1s 1ms/step - loss: 1.3303 - accuracy: 0.4033\n",
      "Epoch 8/20\n",
      "912/912 [==============================] - 1s 1ms/step - loss: 1.3300 - accuracy: 0.4033\n",
      "Epoch 9/20\n",
      "912/912 [==============================] - 1s 1ms/step - loss: 1.3301 - accuracy: 0.4033\n",
      "Epoch 10/20\n",
      "912/912 [==============================] - 1s 1ms/step - loss: 1.3301 - accuracy: 0.4033\n",
      "Epoch 11/20\n",
      "912/912 [==============================] - 1s 2ms/step - loss: 1.3301 - accuracy: 0.4033\n",
      "Epoch 12/20\n",
      "912/912 [==============================] - 1s 2ms/step - loss: 1.3300 - accuracy: 0.4033\n",
      "Epoch 13/20\n",
      "912/912 [==============================] - 2s 2ms/step - loss: 1.3300 - accuracy: 0.4033\n",
      "Epoch 14/20\n",
      "912/912 [==============================] - 1s 2ms/step - loss: 1.3298 - accuracy: 0.4033\n",
      "Epoch 15/20\n",
      "912/912 [==============================] - 1s 2ms/step - loss: 1.3298 - accuracy: 0.4033\n",
      "Epoch 16/20\n",
      "912/912 [==============================] - 1s 2ms/step - loss: 1.3300 - accuracy: 0.4033\n",
      "Epoch 17/20\n",
      "912/912 [==============================] - 1s 2ms/step - loss: 1.3299 - accuracy: 0.4033\n",
      "Epoch 18/20\n",
      "912/912 [==============================] - 1s 2ms/step - loss: 1.3298 - accuracy: 0.4033\n",
      "Epoch 19/20\n",
      "912/912 [==============================] - 2s 2ms/step - loss: 1.3298 - accuracy: 0.4033\n",
      "Epoch 20/20\n",
      "912/912 [==============================] - 1s 2ms/step - loss: 1.3300 - accuracy: 0.4033\n"
     ]
    }
   ],
   "source": [
    "x_train = np.reshape( x_train, (-1, 3, 3, 1) )\n",
    "x_test = np.reshape( x_test, (-1, 3, 3, 1) )\n",
    "history = model.fit( x_train, y_train, epochs = 20 )"
   ]
  },
  {
   "cell_type": "markdown",
   "id": "hj83hni32IPX",
   "metadata": {
    "id": "hj83hni32IPX"
   },
   "source": []
  },
  {
   "cell_type": "code",
   "execution_count": null,
   "id": "15a44879",
   "metadata": {
    "id": "15a44879"
   },
   "outputs": [],
   "source": [
    "x_test = [[3, 3, 3],\n",
    "       [3, 3, 3],\n",
    "       [1, 4, 3]]\n",
    "x_test = np.asarray(x_test)\n",
    "\n",
    "y_test = np.asarray([0, 0, 0, 1])"
   ]
  },
  {
   "cell_type": "code",
   "execution_count": null,
   "id": "4859dcc6",
   "metadata": {
    "colab": {
     "base_uri": "https://localhost:8080/"
    },
    "id": "4859dcc6",
    "outputId": "1b103dbf-b572-4911-f359-905a19f4a132"
   },
   "outputs": [],
   "source": [
    "# calculate the validation loss\n",
    "val_loss, val_accuracy = model.evaluate(x_test, np.asarray(y_test))\n",
    "print(val_loss, val_accuracy)"
   ]
  },
  {
   "cell_type": "code",
   "execution_count": null,
   "id": "47dae0f7",
   "metadata": {
    "colab": {
     "base_uri": "https://localhost:8080/"
    },
    "id": "47dae0f7",
    "outputId": "fa318e82-0a37-47bc-c78e-04dcc8b51630",
    "scrolled": true
   },
   "outputs": [],
   "source": [
    "model.save('epic_num_reader2.model')"
   ]
  },
  {
   "cell_type": "code",
   "execution_count": null,
   "id": "5460299a",
   "metadata": {
    "id": "5460299a"
   },
   "outputs": [],
   "source": [
    "new_model = tf.keras.models.load_model('epic_num_reader2.model')"
   ]
  },
  {
   "cell_type": "code",
   "execution_count": null,
   "id": "f78809d9",
   "metadata": {
    "id": "f78809d9"
   },
   "outputs": [],
   "source": [
    "def get_children(x, y, n, visited_list):\n",
    "    \"\"\"\n",
    "    This function is used to return children of a particular node\n",
    "    x: row value of current node\n",
    "    y: column value of current node\n",
    "    n: size of maze\n",
    "    gofn: g(n) value of current node\n",
    "    visited_list: list of nodes that are already visited\n",
    "    matrix: maze\n",
    "    agent_matrix: matrix of the agent that holds the information of updated environment\n",
    "    \"\"\"\n",
    "    allChildren = [(x+1,y),#down\n",
    "                   (x-1,y),#up\n",
    "                   (x,y+1),#right\n",
    "                   (x,y-1)]#left\n",
    "    if x+1 > n-1:\n",
    "        allChildren.remove((x+1,y))\n",
    "    if x-1 < 0:\n",
    "        allChildren.remove((x-1,y))\n",
    "    if y+1 > n-1:\n",
    "        allChildren.remove((x,y+1))\n",
    "    if y-1 < 0:\n",
    "        allChildren.remove((x,y-1))\n",
    "#     allChildren = [node for node in allChildren if node[:2] not in visited_list]\n",
    "\n",
    "    return allChildren"
   ]
  },
  {
   "cell_type": "code",
   "execution_count": null,
   "id": "45fe7bd4",
   "metadata": {
    "id": "45fe7bd4"
   },
   "outputs": [],
   "source": [
    "def populateMatrix(n,p):\n",
    "    \"\"\"\n",
    "    This function returns randomly populated maze\n",
    "    p: probabillity density of each cell\n",
    "    n: size of the maze\n",
    "    \"\"\"\n",
    "    global block_unblock_matrix\n",
    "    np_array = np.random.rand(n*n)\n",
    "    block = lambda x: 0 if x>=p else 1\n",
    "    vectorized_block = np.vectorize(block)\n",
    "    np_array = vectorized_block(np_array).reshape(n,n)\n",
    "    np_array[0,0]=0\n",
    "    np_array[n-1,n-1] =0\n",
    "    block_unblock_matrix = np.asmatrix(np_array)\n",
    "\n",
    "    ############testing on hard coded matrix ###########\n",
    "#     block_unblock_matrix = [[0, 0, 0, 0, 0],\n",
    "#             [0, 0, 0, 0, 0],\n",
    "#             [0, 0, 0, 0, 0],\n",
    "#             [0, 1, 0, 0, 0],\n",
    "#             [1, 0, 0, 1, 0]]\n",
    "#     ######################################\n",
    "#     populateMatrix(n,p)\n",
    "    block_unblock_matrix = np.matrix(block_unblock_matrix)\n",
    "    plt.spy(block_unblock_matrix)\n",
    "    return block_unblock_matrix\n"
   ]
  },
  {
   "cell_type": "code",
   "execution_count": null,
   "id": "5a817cea",
   "metadata": {
    "colab": {
     "base_uri": "https://localhost:8080/",
     "height": 286
    },
    "id": "5a817cea",
    "outputId": "f5017337-8438-420a-d3d1-7bcc3c924cb6"
   },
   "outputs": [],
   "source": [
    "maze_size = 30\n",
    "agent_grid_world = np.full((maze_size, maze_size),3)\n",
    "agent_grid_world = np.asmatrix(agent_grid_world)\n",
    "full_grid_world = populateMatrix(maze_size, 0.2)\n",
    "plt.spy(full_grid_world)"
   ]
  },
  {
   "cell_type": "code",
   "execution_count": null,
   "id": "9f26e6bb",
   "metadata": {},
   "outputs": [],
   "source": [
    "def next_move(current_node, predictions, full_grid_world, visited_list, maze_size, trajectory, flag, agent_grid_world):\n",
    "    \"\"\"\n",
    "    Based on prediction made by the Neural Network, this function decides the next move of the agent\n",
    "    current_node: The node that the agent is currently present in\n",
    "    predictions: The output given by Neural Network\n",
    "    full_grid_world: The actual maze/gridworld\n",
    "    visited_list: list of nodes that have been visited by the agent\n",
    "    maze_size: Size of the gridworld\n",
    "    trajectory: The path that agent took to reach the goal\n",
    "    flag: status to check if the current node is blocked or not\n",
    "    agent_grid_world: The agent-discovered portion of the full grid world\n",
    "    \"\"\"\n",
    "    message = ''\n",
    "    indices = zip(np.where(predictions[0] == predictions[0].max()))\n",
    "\n",
    "    for row in indices:\n",
    "        print(row)\n",
    "        if row[0][0] == 0:\n",
    "            message = 'up'\n",
    "            next_node = (current_node[0] - 1, current_node[1])\n",
    "        elif row[0][0] == 1:\n",
    "            message = 'down'\n",
    "            next_node = (current_node[0] + 1, current_node[1])\n",
    "        elif row[0][0] == 2:\n",
    "            message = 'left'\n",
    "            next_node = (current_node[0], current_node[1] - 1)\n",
    "        elif row[0][0] == 3:\n",
    "            message = 'right'\n",
    "            next_node = (current_node[0], current_node[1] + 1)\n",
    "    \n",
    "    try:\n",
    "        if agent_grid_world[next_node] == 2 or next_node[0] > maze_size-1 or next_node[1] > maze_size-1 or next_node in visited_list:\n",
    "            children = get_children(current_node[0], current_node[1], maze_size, visited_list)\n",
    "            i = random.randint(0,len(children)-1)\n",
    "            if (next_node[0], next_node[1]) == (current_node[0] - 1, current_node[1]):\n",
    "                message = 'up'\n",
    "            elif (next_node[0], next_node[1]) == (current_node[0] + 1, current_node[1]):\n",
    "                message = 'down'\n",
    "            elif (next_node[0], next_node[1]) == (current_node[0] - 1, current_node[1]):\n",
    "                message = 'left'\n",
    "            elif (next_node[0], next_node[1]) == (current_node[0] + 1, current_node[1]):\n",
    "                message = 'right'\n",
    "\n",
    "            return children[i], message\n",
    "    except Exception as err:\n",
    "        children = get_children(current_node[0], current_node[1], maze_size, visited_list)\n",
    "        i = random.randint(0,len(children)-1)\n",
    "    \n",
    "        if (children[0], children[1]) == (current_node[0] - 1, current_node[1]):\n",
    "                message = 'up'\n",
    "        elif (children[0], children[1]) == (current_node[0] + 1, current_node[1]):\n",
    "            message = 'down'\n",
    "        elif (children[0], children[1]) == (current_node[0] - 1, current_node[1]):\n",
    "            message = 'left'\n",
    "        elif (children[0], children[1]) == (current_node[0] + 1, current_node[1]):\n",
    "            message = 'right'\n",
    "\n",
    "        return children[i], message\n",
    "    \n",
    "    return next_node, message"
   ]
  },
  {
   "cell_type": "code",
   "execution_count": null,
   "id": "2f14bb9d",
   "metadata": {
    "id": "2f14bb9d"
   },
   "outputs": [],
   "source": [
    "def get_neighbors(row, col, n):\n",
    "    \"\"\"\n",
    "    Returns the immediate neighbors of the node (row, col)\n",
    "    n: Maze size\n",
    "    \"\"\"\n",
    "    dir = [[-1, -1], [-1, 0],[-1, 1], [0, -1], [0, 0],  [0, 1], [1, -1], [1, 0], [1, 1]]\n",
    "    friend = []\n",
    "    count = 0\n",
    "    for x, y in dir:\n",
    "        row_new = row + x\n",
    "        col_new = col + y\n",
    "        if (row_new>=0 and row_new<=(n-1)) and (col_new>=0 and col_new<=(n-1)):\n",
    "            count += 1\n",
    "            friend.append((row_new, col_new))\n",
    "    return count, friend"
   ]
  },
  {
   "cell_type": "code",
   "execution_count": null,
   "id": "8c65f2c5",
   "metadata": {
    "id": "8c65f2c5"
   },
   "outputs": [],
   "source": [
    "def get_window(current_node, agent_grid_world, full_grid_world):\n",
    "    \"\"\"\n",
    "    Since we use the local information, this function returns the local 3x3 grid surrounding the agent.\n",
    "    current_node: The node that the agent is currently present in\n",
    "    agent_grid_world: The agent-discovered portion of the full grid world\n",
    "    full_grid_world: The actual maze/gridworld\n",
    "    \"\"\"\n",
    "    a = []\n",
    "    b = []\n",
    "    count, neighbors = get_neighbors(current_node[0],current_node[1], maze_size)\n",
    "    if len(neighbors) == 4:\n",
    "        if current_node == (0,0):\n",
    "            count, neighbors = get_neighbors(1,1, maze_size)\n",
    "        elif current_node == (0,maze_size-1):\n",
    "            count, neighbors = get_neighbors(1,maze_size-2, maze_size)\n",
    "        elif current_node == (maze_size-1,0):\n",
    "            count, neighbors = get_neighbors(maze_size-2, 1, maze_size)\n",
    "        elif current_node == (maze_size-1,maze_size-1):\n",
    "            count, neighbors = get_neighbors(maze_size-2,maze_size-2, maze_size)\n",
    "    elif len(neighbors) == 6:\n",
    "        if current_node[0] == 0:\n",
    "            count, neighbors = get_neighbors(current_node[0] + 1,current_node[1], maze_size)\n",
    "        elif current_node[0] == maze_size-1:\n",
    "            count, neighbors = get_neighbors(current_node[0] - 1,current_node[1], maze_size)\n",
    "        elif current_node[1] == 0:\n",
    "            count, neighbors = get_neighbors(current_node[0],current_node[1] + 1, maze_size)\n",
    "        elif current_node[1] == maze_size-1:\n",
    "            count, neighbors = get_neighbors(current_node[0],current_node[1] - 1, maze_size)\n",
    "    for i in neighbors:\n",
    "        a.append(agent_grid_world[i])\n",
    "        b.append(full_grid_world[i])\n",
    "\n",
    "    window = np.asarray(a).reshape(3,3)\n",
    "\n",
    "    return window"
   ]
  },
  {
   "cell_type": "code",
   "execution_count": null,
   "id": "559aca53",
   "metadata": {
    "colab": {
     "base_uri": "https://localhost:8080/",
     "height": 1000
    },
    "id": "559aca53",
    "outputId": "d54b2050-529d-4a31-8de5-71f20b1b1f0b",
    "scrolled": true
   },
   "outputs": [],
   "source": [
    "goal_reached = False\n",
    "new_model = tf.keras.models.load_model('epic_num_reader2.model')\n",
    "\n",
    "start = (0,0)\n",
    "goal = (maze_size-1, maze_size-1)\n",
    "agent_grid_world.itemset(start, 4)\n",
    "current_node = start\n",
    "visited_list = []\n",
    "trajectory = []\n",
    "\n",
    "while goal_reached == False:\n",
    "    trajectory.append(current_node)\n",
    "    if current_node == goal:\n",
    "        agent_grid_world.itemset(goal, 1)\n",
    "        print('Goal reached!!!')\n",
    "        goal_reached = True\n",
    "        break\n",
    "\n",
    "    if current_node not in visited_list:\n",
    "        visited_list.append(current_node)\n",
    "\n",
    "    x_test = get_window(current_node, agent_grid_world, full_grid_world)\n",
    "    x_test = np.asarray(x_test)\n",
    "\n",
    "    predictions = new_model.predict(np.asarray([x_test]))\n",
    "\n",
    "    if full_grid_world.item(current_node) == 1:\n",
    "        \n",
    "        agent_grid_world.itemset(current_node, 2)\n",
    "        flag = 'blocked'\n",
    "    else:\n",
    "        agent_grid_world.itemset(current_node, 1)\n",
    "        flag = 'free'\n",
    "    \n",
    "    if flag == 'free':\n",
    "        try:\n",
    "            next_node, message = next_move(current_node, predictions, full_grid_world, visited_list, maze_size, trajectory, flag, agent_grid_world)\n",
    "            current_node = next_node\n",
    "        except Exception as err:\n",
    "            print(err)\n",
    "            print('No path to goal')\n",
    "            break\n",
    "        if message == \"Can't reach goal\":\n",
    "            print('Cannot reach goal')\n",
    "            break\n",
    "\n",
    "    if flag == 'blocked':\n",
    "        current_node = trajectory[-2]\n",
    "\n",
    "    agent_grid_world.itemset(current_node, 4)\n",
    "\n",
    "    colormap = colors.ListedColormap([\"green\",\"white\"])\n",
    "    plt.imshow(agent_grid_world, cmap=colormap)\n",
    "    plt.show()\n",
    "print(\"The length of trajectory is:\", len(trajectory))\n"
   ]
  },
  {
   "cell_type": "code",
   "execution_count": null,
   "id": "cc47c99c",
   "metadata": {
    "id": "cc47c99c",
    "outputId": "9419982d-4bd0-4fc6-a107-37c65f1df07d"
   },
   "outputs": [],
   "source": [
    "plt.spy(full_grid_world)"
   ]
  },
  {
   "cell_type": "code",
   "execution_count": null,
   "id": "283888a3",
   "metadata": {
    "id": "283888a3",
    "outputId": "18665ca1-c286-4452-b256-9dc940a34a9d"
   },
   "outputs": [],
   "source": [
    "colormap = colors.ListedColormap([\"green\",\"white\"])\n",
    "plt.imshow(agent_grid_world, cmap=colormap)\n",
    "plt.show()"
   ]
  },
  {
   "cell_type": "code",
   "execution_count": null,
   "id": "c583d37f",
   "metadata": {},
   "outputs": [],
   "source": []
  }
 ],
 "metadata": {
  "accelerator": "GPU",
  "colab": {
   "collapsed_sections": [],
   "name": "Agent_1_mimic-arch2.ipynb",
   "provenance": []
  },
  "kernelspec": {
   "display_name": "Python 3",
   "language": "python",
   "name": "python3"
  },
  "language_info": {
   "codemirror_mode": {
    "name": "ipython",
    "version": 3
   },
   "file_extension": ".py",
   "mimetype": "text/x-python",
   "name": "python",
   "nbconvert_exporter": "python",
   "pygments_lexer": "ipython3",
   "version": "3.8.8"
  }
 },
 "nbformat": 4,
 "nbformat_minor": 5
}
