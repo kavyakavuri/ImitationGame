{
 "cells": [
  {
   "cell_type": "code",
   "execution_count": 1,
   "metadata": {},
   "outputs": [
    {
     "name": "stderr",
     "output_type": "stream",
     "text": [
      "2021-12-13 00:47:23.275076: W tensorflow/stream_executor/platform/default/dso_loader.cc:64] Could not load dynamic library 'libcudart.so.11.0'; dlerror: libcudart.so.11.0: cannot open shared object file: No such file or directory\n",
      "2021-12-13 00:47:23.275111: I tensorflow/stream_executor/cuda/cudart_stub.cc:29] Ignore above cudart dlerror if you do not have a GPU set up on your machine.\n"
     ]
    }
   ],
   "source": [
    "import tensorflow as tf\n",
    "from tensorflow import keras\n",
    "import numpy as np\n",
    "import fnmatch\n",
    "import os\n",
    "from matplotlib import colors\n",
    "import matplotlib.pyplot as plt"
   ]
  },
  {
   "cell_type": "code",
   "execution_count": 2,
   "metadata": {},
   "outputs": [],
   "source": [
    "%run data_collection.ipynb"
   ]
  },
  {
   "cell_type": "code",
   "execution_count": 3,
   "metadata": {},
   "outputs": [
    {
     "name": "stderr",
     "output_type": "stream",
     "text": [
      "2021-12-13 00:47:32.444289: E tensorflow/stream_executor/cuda/cuda_driver.cc:271] failed call to cuInit: CUDA_ERROR_NO_DEVICE: no CUDA-capable device is detected\n",
      "2021-12-13 00:47:32.444332: I tensorflow/stream_executor/cuda/cuda_diagnostics.cc:156] kernel driver does not appear to be running on this host (coco): /proc/driver/nvidia/version does not exist\n",
      "2021-12-13 00:47:32.444853: I tensorflow/core/platform/cpu_feature_guard.cc:151] This TensorFlow binary is optimized with oneAPI Deep Neural Network Library (oneDNN) to use the following CPU instructions in performance-critical operations:  AVX2 FMA\n",
      "To enable them in other operations, rebuild TensorFlow with the appropriate compiler flags.\n"
     ]
    }
   ],
   "source": [
    "model = keras.models.load_model('model_weights/model_1_accuracy_100.model')"
   ]
  },
  {
   "cell_type": "code",
   "execution_count": 4,
   "metadata": {},
   "outputs": [],
   "source": [
    "initialize(4,0.3)\n",
    "final_grid = encode_grid(grid,[])\n",
    "final_grid[0,0] = 4"
   ]
  },
  {
   "cell_type": "code",
   "execution_count": 5,
   "metadata": {},
   "outputs": [
    {
     "data": {
      "text/plain": [
       "array([[6.0505552e-21, 9.8645246e-01, 1.3547548e-02, 6.2458529e-23]],\n",
       "      dtype=float32)"
      ]
     },
     "execution_count": 5,
     "metadata": {},
     "output_type": "execute_result"
    }
   ],
   "source": [
    "model.predict(np.asarray([final_grid.tolist()]))"
   ]
  },
  {
   "cell_type": "code",
   "execution_count": 6,
   "metadata": {},
   "outputs": [],
   "source": [
    "initialize(10,0.3)"
   ]
  },
  {
   "cell_type": "code",
   "execution_count": 7,
   "metadata": {},
   "outputs": [],
   "source": [
    "def patch_of_grid(grid,current_position):\n",
    "    global maze_size\n",
    "    mat =  grid.copy()\n",
    "    row = current_position[0]\n",
    "    col = current_position[1]\n",
    "    \n",
    "    col_left = col- 1\n",
    "    col_right = col + 2\n",
    "    \n",
    "    row_high = row - 1\n",
    "    row_low = row + 2\n",
    "    \n",
    "    # print(\"initial cols:\",col_left,col_right,\"rows: \",row_high,row_low)\n",
    "    if(col_left<0): # workng\n",
    "        difference = 0-col_left\n",
    "        col_left = 0 \n",
    "        col_right += difference\n",
    "        \n",
    "    if(col_right>maze_size-1):\n",
    "        difference = col_right - maze_size + 1\n",
    "        col_left -= difference\n",
    "        col_right = maze_size - 1\n",
    "        \n",
    "    if(row_low>maze_size-1):\n",
    "        difference = row_low - maze_size + 1\n",
    "        print(difference)\n",
    "        row_low = maze_size - 1 \n",
    "        row_high -= difference\n",
    "    if(row_high<0):\n",
    "        difference = 0-row_high\n",
    "        row_high = 0\n",
    "        row_low += difference\n",
    "    \n",
    "    return mat[row_high:row_low+1,col_left:col_right+1]"
   ]
  },
  {
   "cell_type": "code",
   "execution_count": 8,
   "metadata": {},
   "outputs": [],
   "source": [
    "mat = patch_of_grid(grid,(0,5))"
   ]
  },
  {
   "cell_type": "code",
   "execution_count": 27,
   "metadata": {},
   "outputs": [
    {
     "data": {
      "text/plain": [
       "matrix([[0, 0, 1, 0, 1, 0, 0, 0, 0, 0],\n",
       "        [1, 0, 0, 0, 0, 0, 0, 1, 0, 0],\n",
       "        [0, 0, 0, 0, 0, 0, 0, 1, 0, 1],\n",
       "        [0, 0, 0, 1, 1, 0, 0, 0, 1, 0],\n",
       "        [0, 0, 0, 0, 0, 0, 0, 0, 0, 1],\n",
       "        [0, 1, 1, 0, 0, 0, 1, 0, 0, 1],\n",
       "        [1, 0, 1, 0, 1, 0, 0, 0, 0, 0],\n",
       "        [0, 0, 0, 1, 0, 0, 0, 0, 1, 0],\n",
       "        [0, 0, 0, 0, 1, 0, 0, 0, 0, 0],\n",
       "        [0, 0, 0, 0, 0, 0, 1, 1, 0, 0]])"
      ]
     },
     "execution_count": 27,
     "metadata": {},
     "output_type": "execute_result"
    }
   ],
   "source": [
    "grid"
   ]
  },
  {
   "cell_type": "code",
   "execution_count": 10,
   "metadata": {},
   "outputs": [
    {
     "data": {
      "text/plain": [
       "matrix([[1, 0, 0, 0],\n",
       "        [0, 0, 0, 1],\n",
       "        [0, 0, 0, 1],\n",
       "        [1, 0, 0, 0]])"
      ]
     },
     "execution_count": 10,
     "metadata": {},
     "output_type": "execute_result"
    }
   ],
   "source": [
    "mat"
   ]
  },
  {
   "cell_type": "code",
   "execution_count": 34,
   "metadata": {},
   "outputs": [],
   "source": [
    "def run_ml_1_agent_2(model,grid):\n",
    "    global maze_size\n",
    "    \n",
    "    \n",
    "    visited = []\n",
    "    goal_reached = False\n",
    "    goal = (maze_size-1,maze_size-1)\n",
    "    counter = 0\n",
    "    agent_grid = np.asmatrix(np.zeros(maze_size*maze_size, dtype=int).reshape(maze_size,maze_size))\n",
    "    \n",
    "    current_position = (0,0)\n",
    "    while not goal_reached and counter!=10:\n",
    "        print(\"initial current position: \",current_position)\n",
    "        \n",
    "        if current_position not in visited:\n",
    "            visited.append(current_position)\n",
    "            \n",
    "        # check if current_position ia the goal\n",
    "        if(current_position==goal):\n",
    "            print(\"goal reached\")\n",
    "            return True\n",
    "         \n",
    "        #else get direction\n",
    "        patch = patch_of_grid(agent_grid,current_position)\n",
    "        print(\"predicting for: \\n\",patch)\n",
    "        patch = encode_grid(patch,visited)\n",
    "        direction = model.predict(np.asarray([patch.tolist()]))[0]\n",
    "#         print(direction)\n",
    "        direction = np.argmax(direction)\n",
    "        print(direction)\n",
    "        \n",
    "        #update coordinates according to direction\n",
    "        row = current_position[0]\n",
    "        col = current_position[1]\n",
    "        if(direction == 0 and row-1>=0): #Up\n",
    "            row -= 1\n",
    "        elif(direction == 1 and row+1<maze_size): #down\n",
    "            row += 1\n",
    "        elif(direction == 2 and col-1>=0): #left\n",
    "            col -=1\n",
    "        elif(col+1<maze_size): #right\n",
    "            col +=1\n",
    "            \n",
    "        # check if new current position. if yes, update agent_grid\n",
    "        # and don't update current position\n",
    "        if(grid[row,col]==1):\n",
    "#             print(row,col)\n",
    "            agent_grid[row,col]=1\n",
    "#             print(\"hit block, agent_grid now:\",agent_grid)\n",
    "            counter += 1\n",
    "            continue\n",
    "        #else update current position\n",
    "        current_position = (row,col)\n",
    "        \n",
    "        print(\"final current_position: \",current_position)\n",
    "        counter += 1\n",
    "    return False\n",
    "    "
   ]
  },
  {
   "cell_type": "code",
   "execution_count": 35,
   "metadata": {},
   "outputs": [
    {
     "name": "stdout",
     "output_type": "stream",
     "text": [
      "initial current position:  (0, 0)\n",
      "predicting for: \n",
      " [[0 0 0 0]\n",
      " [0 0 0 0]\n",
      " [0 0 0 0]\n",
      " [0 0 0 0]]\n",
      "3\n",
      "final current_position:  (0, 1)\n",
      "initial current position:  (0, 1)\n",
      "predicting for: \n",
      " [[0 0 0 0]\n",
      " [0 0 0 0]\n",
      " [0 0 0 0]\n",
      " [0 0 0 0]]\n",
      "3\n",
      "initial current position:  (0, 1)\n",
      "predicting for: \n",
      " [[0 0 1 0]\n",
      " [0 0 0 0]\n",
      " [0 0 0 0]\n",
      " [0 0 0 0]]\n",
      "3\n",
      "initial current position:  (0, 1)\n",
      "predicting for: \n",
      " [[0 0 1 0]\n",
      " [0 0 0 0]\n",
      " [0 0 0 0]\n",
      " [0 0 0 0]]\n",
      "3\n",
      "initial current position:  (0, 1)\n",
      "predicting for: \n",
      " [[0 0 1 0]\n",
      " [0 0 0 0]\n",
      " [0 0 0 0]\n",
      " [0 0 0 0]]\n",
      "3\n",
      "initial current position:  (0, 1)\n",
      "predicting for: \n",
      " [[0 0 1 0]\n",
      " [0 0 0 0]\n",
      " [0 0 0 0]\n",
      " [0 0 0 0]]\n",
      "3\n",
      "initial current position:  (0, 1)\n",
      "predicting for: \n",
      " [[0 0 1 0]\n",
      " [0 0 0 0]\n",
      " [0 0 0 0]\n",
      " [0 0 0 0]]\n",
      "3\n",
      "initial current position:  (0, 1)\n",
      "predicting for: \n",
      " [[0 0 1 0]\n",
      " [0 0 0 0]\n",
      " [0 0 0 0]\n",
      " [0 0 0 0]]\n",
      "3\n",
      "initial current position:  (0, 1)\n",
      "predicting for: \n",
      " [[0 0 1 0]\n",
      " [0 0 0 0]\n",
      " [0 0 0 0]\n",
      " [0 0 0 0]]\n",
      "3\n",
      "initial current position:  (0, 1)\n",
      "predicting for: \n",
      " [[0 0 1 0]\n",
      " [0 0 0 0]\n",
      " [0 0 0 0]\n",
      " [0 0 0 0]]\n",
      "3\n"
     ]
    },
    {
     "data": {
      "text/plain": [
       "False"
      ]
     },
     "execution_count": 35,
     "metadata": {},
     "output_type": "execute_result"
    }
   ],
   "source": [
    "run_ml_1_agent_2(model,grid)"
   ]
  },
  {
   "cell_type": "code",
   "execution_count": null,
   "metadata": {},
   "outputs": [],
   "source": []
  }
 ],
 "metadata": {
  "kernelspec": {
   "display_name": ".venv",
   "language": "python",
   "name": ".venv"
  },
  "language_info": {
   "codemirror_mode": {
    "name": "ipython",
    "version": 3
   },
   "file_extension": ".py",
   "mimetype": "text/x-python",
   "name": "python",
   "nbconvert_exporter": "python",
   "pygments_lexer": "ipython3",
   "version": "3.8.10"
  }
 },
 "nbformat": 4,
 "nbformat_minor": 5
}
